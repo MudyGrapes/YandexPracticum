{
 "cells": [
  {
   "cell_type": "markdown",
   "metadata": {},
   "source": [
    "<div style=\"border:solid green 2px; padding: 20px\">\n",
    "<b>Привет, Дмитрий!</b>\n",
    "\n",
    "Меня зовут Алан, и я буду проверять твой проект. Предлагаю общаться на «ты» :) Но если это не удобно - дай знать, и мы перейдем на \"вы\". \n",
    "\n",
    "Моя основная цель — не указать на совершенные тобою ошибки, а поделиться своим опытом и помочь тебе стать аналитиком данных. Тобой уже проделана большая работа над проектом, но давай сделаем его еще лучше. Ниже ты найдешь мои комментарии - пожалуйста, не перемещай, не изменяй и не удаляй их. Я буду использовать цветовую разметку:\n",
    "\n",
    "<div class=\"alert alert-danger\">\n",
    "<b>Комментарий ревьюера:</b> Так выделены самые важные замечания. Без их отработки проект не будет прният. </div>\n",
    "\n",
    "<div class=\"alert alert-warning\">\n",
    "<b>Комментарий ревьюера:</b> Так выделены небольшие замечания, либо рекоммендации к улучшению. Одна-два таких замечания в проекте допустимы, но если их будет больше - тебе будет необходимо внести исправления. Это как тестовое задание при приеме на работу: очень много мелких ошибок могут стать причиной отказа кандидату. \n",
    "\n",
    "</div>\n",
    "\n",
    "<div class=\"alert alert-success\">\n",
    "<b>Комментарий ревьюера:</b> Так я выделяю все остальные комментарии.</div>\n",
    "\n",
    "Давай работать над проектом в диалоге: если ты что-то меняешь в проекте или отвечаешь на мои комменатри — пиши об этом. Мне будет легче отследить изменения, если ты выделишь свои комментарии:\n",
    "<div class=\"alert alert-info\"> <b>Комментарий студента:</b> Например, вот так.</div>\n",
    "\n",
    "Всё это поможет выполнить повторную проверку твоего проекта оперативнее. "
   ]
  },
  {
   "cell_type": "markdown",
   "metadata": {},
   "source": [
    "## Исследование надёжности заёмщиков\n",
    "\n",
    "Заказчик — кредитный отдел банка. Нужно разобраться, влияет ли семейное положение и количество детей клиента на факт погашения кредита в срок. Входные данные от банка — статистика о платёжеспособности клиентов.\n",
    "\n",
    "Результаты исследования будут учтены при построении модели **кредитного скоринга** — специальной системы, которая оценивает способность потенциального заёмщика вернуть кредит банку."
   ]
  },
  {
   "cell_type": "markdown",
   "metadata": {},
   "source": [
    "<div class=\"alert alert-danger\">\n",
    "\n",
    "**Комментарий ревьюера:** \n",
    "Немного про оформление:) Ты просто скопировал задание себе в тетрадку. В некоторых случаях это тоже выход:) Но я бы порекомендовал тебе составлять план, похожий больше на книжное содержание.\n",
    "Например:\n",
    "\n",
    "### Определение чегототам\n",
    "_____\n",
    "##### В данном исследовании представлены несколько таблиц с блаблабла\n",
    "______\n",
    "\n",
    "###### Данное исследование разделим на несколько частей.\n",
    "\n",
    "##### Часть 1. Изучение общей информации:\n",
    "* [1. Изученеие файлов с данными, получение общей информации, загрузка библиотек.](#1-bullet)\n",
    "* [2. Нахождение и ликвидация пропусков.](#2-bullet)\n",
    "\n",
    "##### Часть 2. Подготовка данных:\n",
    "* [1. Приведение данных к нужным типам.](#3-bullet)\n",
    "* [2. Нахождение и исправление аномалий и ошибок.](#4-bullet)\n",
    "\n",
    "и т.д\n",
    "\n",
    "Старайся выполнять свой проект в порядке, прописанном в твоем плане. Да, такое оформление займет больше времени, но позволит тебе не путаться в будущем:)\n",
    "_________________\n",
    "\n",
    "Обрати внимание, что пункты в частях у меня в виде ссылок. Это очень удобно, когда нужно переходить по разным частям проекта.\n",
    "Вот тут почитай, как сделать <a href=\"https://sebastianraschka.com/Articles/2014_ipython_internal_links.html\">кликабельные разделы</a>\n",
    "\n",
    "**Почему это важно?** Когда ты будешь в будущем выполнять тестовые задания, просто скопировав присланную тебе задачу и не составив плана, ты можешь смутить будущего работодателя. А грамотно сконфигурированный план покажет тебя как ответсвенного и усидчивого специалиста. И, просто поверь мне, с расписанием легче:)"
   ]
  },
  {
   "cell_type": "markdown",
   "metadata": {},
   "source": [
    "<div class=\"alert alert-info\"> \n",
    "\n",
    "*Привет, Алан!*\n",
    "\n",
    "Честно говоря даже не копировал тетрадку, а просто открыл проект по ссылке в тренажере.\n",
    "К сожалению нигде не увидел, что нам необходимо изучить Markdown. Посмотрел информацию в интеренете, плюс как пример возьму твои заметки. Надеюсь этого будет достаточно.\n",
    "\n",
    "</div>"
   ]
  },
  {
   "cell_type": "markdown",
   "metadata": {},
   "source": [
    "<div class=\"alert alert-success\">\n",
    "\n",
    "**Комментарий ревьюера v2:** Да так гораздо лучше 👍 \n",
    "</div>"
   ]
  },
  {
   "cell_type": "markdown",
   "metadata": {},
   "source": [
    "<div class=\"alert alert-info\">\n",
    "    \n",
    "### Исследование надежности заемщиков\n",
    "_____\n",
    "##### В данном исследовании представлена таблица платежеспособности клиентов банка\n",
    "\n",
    "______\n",
    "\n",
    "###### Данное исследование разделим на несколько частей.\n",
    "\n",
    "##### Часть 1. Изучение общей информации:\n",
    "* [1. Изученеие файлов с данными, получение общей информации, загрузка библиотек.](#1-bullet)\n",
    "\n",
    "\n",
    "##### Часть 2. Подготовка данных:\n",
    "* [1. Нахождение и ликвидация пропусков.](#2-bullet)\n",
    "* [2. Приведение данных к нужным типам.](#3-bullet)\n",
    "* [3. Нахождение и исправление аномалий и ошибок.](#4-bullet)\n",
    "* [4. Стемминг и лемматизация.](#5-bullet)\n",
    "* [5. Категоризация данных.](#6-bullet)\n",
    "\n",
    "##### Часть 3. Ответы на вопросы:\n",
    "* [1. Зависимость между наличием детей и возвратом кредита в срок.](#7-bullet)\n",
    "* [2. Зависимость между семейным положением и возвратом кредита в срок.](#8-bullet)\n",
    "* [3. Зависимость между уровнем дохода и возвратом кредита в срок.](#9-bullet)\n",
    "* [4. Зависимость между целью кредита и возвратом кредита в срок.](#10-bullet)\n",
    "\n",
    "##### Часть 4. Общий вывод:\n",
    "* [Ответ на целевой вопрос](#11-bullet)\n",
    "</div>"
   ]
  },
  {
   "cell_type": "markdown",
   "metadata": {},
   "source": [
    "<a id='1-bullet'></a>"
   ]
  },
  {
   "cell_type": "markdown",
   "metadata": {},
   "source": [
    "### Шаг 1. Откройте файл с данными и изучите общую информацию. "
   ]
  },
  {
   "cell_type": "code",
   "execution_count": 23,
   "metadata": {},
   "outputs": [],
   "source": [
    "import pandas as pd\n",
    "from nltk.stem import SnowballStemmer \n",
    "russian_stemmer = SnowballStemmer('russian')\n",
    "\n",
    "df = pd.read_csv('/datasets/data.csv')"
   ]
  },
  {
   "cell_type": "code",
   "execution_count": 24,
   "metadata": {
    "scrolled": false
   },
   "outputs": [
    {
     "name": "stdout",
     "output_type": "stream",
     "text": [
      "<class 'pandas.core.frame.DataFrame'>\n",
      "RangeIndex: 21525 entries, 0 to 21524\n",
      "Data columns (total 12 columns):\n",
      "children            21525 non-null int64\n",
      "days_employed       19351 non-null float64\n",
      "dob_years           21525 non-null int64\n",
      "education           21525 non-null object\n",
      "education_id        21525 non-null int64\n",
      "family_status       21525 non-null object\n",
      "family_status_id    21525 non-null int64\n",
      "gender              21525 non-null object\n",
      "income_type         21525 non-null object\n",
      "debt                21525 non-null int64\n",
      "total_income        19351 non-null float64\n",
      "purpose             21525 non-null object\n",
      "dtypes: float64(2), int64(5), object(5)\n",
      "memory usage: 2.0+ MB\n",
      "None\n"
     ]
    },
    {
     "data": {
      "text/html": [
       "<div>\n",
       "<style scoped>\n",
       "    .dataframe tbody tr th:only-of-type {\n",
       "        vertical-align: middle;\n",
       "    }\n",
       "\n",
       "    .dataframe tbody tr th {\n",
       "        vertical-align: top;\n",
       "    }\n",
       "\n",
       "    .dataframe thead th {\n",
       "        text-align: right;\n",
       "    }\n",
       "</style>\n",
       "<table border=\"1\" class=\"dataframe\">\n",
       "  <thead>\n",
       "    <tr style=\"text-align: right;\">\n",
       "      <th></th>\n",
       "      <th>children</th>\n",
       "      <th>days_employed</th>\n",
       "      <th>dob_years</th>\n",
       "      <th>education</th>\n",
       "      <th>education_id</th>\n",
       "      <th>family_status</th>\n",
       "      <th>family_status_id</th>\n",
       "      <th>gender</th>\n",
       "      <th>income_type</th>\n",
       "      <th>debt</th>\n",
       "      <th>total_income</th>\n",
       "      <th>purpose</th>\n",
       "    </tr>\n",
       "  </thead>\n",
       "  <tbody>\n",
       "    <tr>\n",
       "      <td>0</td>\n",
       "      <td>1</td>\n",
       "      <td>-8437.673028</td>\n",
       "      <td>42</td>\n",
       "      <td>высшее</td>\n",
       "      <td>0</td>\n",
       "      <td>женат / замужем</td>\n",
       "      <td>0</td>\n",
       "      <td>F</td>\n",
       "      <td>сотрудник</td>\n",
       "      <td>0</td>\n",
       "      <td>253875.639453</td>\n",
       "      <td>покупка жилья</td>\n",
       "    </tr>\n",
       "    <tr>\n",
       "      <td>1</td>\n",
       "      <td>1</td>\n",
       "      <td>-4024.803754</td>\n",
       "      <td>36</td>\n",
       "      <td>среднее</td>\n",
       "      <td>1</td>\n",
       "      <td>женат / замужем</td>\n",
       "      <td>0</td>\n",
       "      <td>F</td>\n",
       "      <td>сотрудник</td>\n",
       "      <td>0</td>\n",
       "      <td>112080.014102</td>\n",
       "      <td>приобретение автомобиля</td>\n",
       "    </tr>\n",
       "    <tr>\n",
       "      <td>2</td>\n",
       "      <td>0</td>\n",
       "      <td>-5623.422610</td>\n",
       "      <td>33</td>\n",
       "      <td>Среднее</td>\n",
       "      <td>1</td>\n",
       "      <td>женат / замужем</td>\n",
       "      <td>0</td>\n",
       "      <td>M</td>\n",
       "      <td>сотрудник</td>\n",
       "      <td>0</td>\n",
       "      <td>145885.952297</td>\n",
       "      <td>покупка жилья</td>\n",
       "    </tr>\n",
       "    <tr>\n",
       "      <td>3</td>\n",
       "      <td>3</td>\n",
       "      <td>-4124.747207</td>\n",
       "      <td>32</td>\n",
       "      <td>среднее</td>\n",
       "      <td>1</td>\n",
       "      <td>женат / замужем</td>\n",
       "      <td>0</td>\n",
       "      <td>M</td>\n",
       "      <td>сотрудник</td>\n",
       "      <td>0</td>\n",
       "      <td>267628.550329</td>\n",
       "      <td>дополнительное образование</td>\n",
       "    </tr>\n",
       "    <tr>\n",
       "      <td>4</td>\n",
       "      <td>0</td>\n",
       "      <td>340266.072047</td>\n",
       "      <td>53</td>\n",
       "      <td>среднее</td>\n",
       "      <td>1</td>\n",
       "      <td>гражданский брак</td>\n",
       "      <td>1</td>\n",
       "      <td>F</td>\n",
       "      <td>пенсионер</td>\n",
       "      <td>0</td>\n",
       "      <td>158616.077870</td>\n",
       "      <td>сыграть свадьбу</td>\n",
       "    </tr>\n",
       "    <tr>\n",
       "      <td>5</td>\n",
       "      <td>0</td>\n",
       "      <td>-926.185831</td>\n",
       "      <td>27</td>\n",
       "      <td>высшее</td>\n",
       "      <td>0</td>\n",
       "      <td>гражданский брак</td>\n",
       "      <td>1</td>\n",
       "      <td>M</td>\n",
       "      <td>компаньон</td>\n",
       "      <td>0</td>\n",
       "      <td>255763.565419</td>\n",
       "      <td>покупка жилья</td>\n",
       "    </tr>\n",
       "    <tr>\n",
       "      <td>6</td>\n",
       "      <td>0</td>\n",
       "      <td>-2879.202052</td>\n",
       "      <td>43</td>\n",
       "      <td>высшее</td>\n",
       "      <td>0</td>\n",
       "      <td>женат / замужем</td>\n",
       "      <td>0</td>\n",
       "      <td>F</td>\n",
       "      <td>компаньон</td>\n",
       "      <td>0</td>\n",
       "      <td>240525.971920</td>\n",
       "      <td>операции с жильем</td>\n",
       "    </tr>\n",
       "    <tr>\n",
       "      <td>7</td>\n",
       "      <td>0</td>\n",
       "      <td>-152.779569</td>\n",
       "      <td>50</td>\n",
       "      <td>СРЕДНЕЕ</td>\n",
       "      <td>1</td>\n",
       "      <td>женат / замужем</td>\n",
       "      <td>0</td>\n",
       "      <td>M</td>\n",
       "      <td>сотрудник</td>\n",
       "      <td>0</td>\n",
       "      <td>135823.934197</td>\n",
       "      <td>образование</td>\n",
       "    </tr>\n",
       "    <tr>\n",
       "      <td>8</td>\n",
       "      <td>2</td>\n",
       "      <td>-6929.865299</td>\n",
       "      <td>35</td>\n",
       "      <td>ВЫСШЕЕ</td>\n",
       "      <td>0</td>\n",
       "      <td>гражданский брак</td>\n",
       "      <td>1</td>\n",
       "      <td>F</td>\n",
       "      <td>сотрудник</td>\n",
       "      <td>0</td>\n",
       "      <td>95856.832424</td>\n",
       "      <td>на проведение свадьбы</td>\n",
       "    </tr>\n",
       "    <tr>\n",
       "      <td>9</td>\n",
       "      <td>0</td>\n",
       "      <td>-2188.756445</td>\n",
       "      <td>41</td>\n",
       "      <td>среднее</td>\n",
       "      <td>1</td>\n",
       "      <td>женат / замужем</td>\n",
       "      <td>0</td>\n",
       "      <td>M</td>\n",
       "      <td>сотрудник</td>\n",
       "      <td>0</td>\n",
       "      <td>144425.938277</td>\n",
       "      <td>покупка жилья для семьи</td>\n",
       "    </tr>\n",
       "  </tbody>\n",
       "</table>\n",
       "</div>"
      ],
      "text/plain": [
       "   children  days_employed  dob_years education  education_id  \\\n",
       "0         1   -8437.673028         42    высшее             0   \n",
       "1         1   -4024.803754         36   среднее             1   \n",
       "2         0   -5623.422610         33   Среднее             1   \n",
       "3         3   -4124.747207         32   среднее             1   \n",
       "4         0  340266.072047         53   среднее             1   \n",
       "5         0    -926.185831         27    высшее             0   \n",
       "6         0   -2879.202052         43    высшее             0   \n",
       "7         0    -152.779569         50   СРЕДНЕЕ             1   \n",
       "8         2   -6929.865299         35    ВЫСШЕЕ             0   \n",
       "9         0   -2188.756445         41   среднее             1   \n",
       "\n",
       "      family_status  family_status_id gender income_type  debt   total_income  \\\n",
       "0   женат / замужем                 0      F   сотрудник     0  253875.639453   \n",
       "1   женат / замужем                 0      F   сотрудник     0  112080.014102   \n",
       "2   женат / замужем                 0      M   сотрудник     0  145885.952297   \n",
       "3   женат / замужем                 0      M   сотрудник     0  267628.550329   \n",
       "4  гражданский брак                 1      F   пенсионер     0  158616.077870   \n",
       "5  гражданский брак                 1      M   компаньон     0  255763.565419   \n",
       "6   женат / замужем                 0      F   компаньон     0  240525.971920   \n",
       "7   женат / замужем                 0      M   сотрудник     0  135823.934197   \n",
       "8  гражданский брак                 1      F   сотрудник     0   95856.832424   \n",
       "9   женат / замужем                 0      M   сотрудник     0  144425.938277   \n",
       "\n",
       "                      purpose  \n",
       "0               покупка жилья  \n",
       "1     приобретение автомобиля  \n",
       "2               покупка жилья  \n",
       "3  дополнительное образование  \n",
       "4             сыграть свадьбу  \n",
       "5               покупка жилья  \n",
       "6           операции с жильем  \n",
       "7                 образование  \n",
       "8       на проведение свадьбы  \n",
       "9     покупка жилья для семьи  "
      ]
     },
     "metadata": {},
     "output_type": "display_data"
    },
    {
     "name": "stdout",
     "output_type": "stream",
     "text": [
      " 0     14149\n",
      " 1      4818\n",
      " 2      2055\n",
      " 3       330\n",
      " 20       76\n",
      "-1        47\n",
      " 4        41\n",
      " 5         9\n",
      "Name: children, dtype: int64\n",
      "среднее                13750\n",
      "высшее                  4718\n",
      "СРЕДНЕЕ                  772\n",
      "Среднее                  711\n",
      "неоконченное высшее      668\n",
      "ВЫСШЕЕ                   274\n",
      "Высшее                   268\n",
      "начальное                250\n",
      "Неоконченное высшее       47\n",
      "НЕОКОНЧЕННОЕ ВЫСШЕЕ       29\n",
      "НАЧАЛЬНОЕ                 17\n",
      "Начальное                 15\n",
      "ученая степень             4\n",
      "УЧЕНАЯ СТЕПЕНЬ             1\n",
      "Ученая степень             1\n",
      "Name: education, dtype: int64\n",
      "женат / замужем          12380\n",
      "гражданский брак          4177\n",
      "Не женат / не замужем     2813\n",
      "в разводе                 1195\n",
      "вдовец / вдова             960\n",
      "Name: family_status, dtype: int64\n",
      "F      14236\n",
      "M       7288\n",
      "XNA        1\n",
      "Name: gender, dtype: int64\n",
      "сотрудник          11119\n",
      "компаньон           5085\n",
      "пенсионер           3856\n",
      "госслужащий         1459\n",
      "предприниматель        2\n",
      "безработный            2\n",
      "в декрете              1\n",
      "студент                1\n",
      "Name: income_type, dtype: int64\n",
      "0    19784\n",
      "1     1741\n",
      "Name: debt, dtype: int64\n",
      "свадьба                                   797\n",
      "на проведение свадьбы                     777\n",
      "сыграть свадьбу                           774\n",
      "операции с недвижимостью                  676\n",
      "покупка коммерческой недвижимости         664\n",
      "покупка жилья для сдачи                   653\n",
      "операции с жильем                         653\n",
      "операции с коммерческой недвижимостью     651\n",
      "покупка жилья                             647\n",
      "жилье                                     647\n",
      "покупка жилья для семьи                   641\n",
      "строительство собственной недвижимости    635\n",
      "недвижимость                              634\n",
      "операции со своей недвижимостью           630\n",
      "строительство жилой недвижимости          626\n",
      "покупка недвижимости                      624\n",
      "покупка своего жилья                      620\n",
      "строительство недвижимости                620\n",
      "ремонт жилью                              612\n",
      "покупка жилой недвижимости                607\n",
      "на покупку своего автомобиля              505\n",
      "заняться высшим образованием              496\n",
      "автомобиль                                495\n",
      "сделка с подержанным автомобилем          489\n",
      "свой автомобиль                           480\n",
      "на покупку подержанного автомобиля        479\n",
      "автомобили                                478\n",
      "на покупку автомобиля                     472\n",
      "приобретение автомобиля                   462\n",
      "дополнительное образование                462\n",
      "сделка с автомобилем                      455\n",
      "высшее образование                        453\n",
      "получение дополнительного образования     447\n",
      "образование                               447\n",
      "получение образования                     443\n",
      "профильное образование                    436\n",
      "получение высшего образования             426\n",
      "заняться образованием                     412\n",
      "Name: purpose, dtype: int64\n"
     ]
    }
   ],
   "source": [
    "\n",
    "print(df.info())\n",
    "display(df.head(10))\n",
    "\n",
    "#Проверим уникальные значения в столбцах с категорийными переменными\n",
    "print(df['children'].value_counts())\n",
    "print(df['education'].value_counts())\n",
    "print(df['family_status'].value_counts())\n",
    "print(df['gender'].value_counts())\n",
    "print(df['income_type'].value_counts())\n",
    "print(df['debt'].value_counts())\n",
    "print(df['purpose'].value_counts())\n"
   ]
  },
  {
   "cell_type": "markdown",
   "metadata": {},
   "source": [
    "### Вывод"
   ]
  },
  {
   "cell_type": "markdown",
   "metadata": {},
   "source": [
    "Данные представляют собой таблицу из 21525 строк и 12 столбцов\n",
    "1. Типы данных в столбцах на первый взляд соответвуют содержимому, кроме столбца debt. Его можно заменить на boolean\n",
    "2. Отрицательные значения в столбце days_employed. Разный регистр в столбце education\n",
    "3. Пустые значения в столбцах days_employed и total_income. На первый взгляд логичное совпадение количества пустых значений в этих столбцах. Гипотеза: те у кого нет работы, не имеют общего стажа и дохода, т.е. NaN будет в одинаковых строках по этим двум столбцам.\n",
    "4. Гипотезу из п.3 можно проверить по статусам слобца income_type. Методом value_counts() посчитаны количество различных статусов столбца income_type. К сожалению гипотеза п.3 тут не подтверждается. Необходим детальный анализ (произведем ниже).\n",
    "5. Странные данные в столбце children. 76 человек имеют 20 детей и 47 человек по -1 ребенку. Данных немного, поэтому можно попробовать исключить их из расчета либо заменить на средние значения.\n",
    "6. В столбце purpose похожие цели описаны разными фразами. Можно применить лемматизацию для унификации списка."
   ]
  },
  {
   "cell_type": "markdown",
   "metadata": {},
   "source": [
    "<div class=\"alert alert-warning\">\n",
    "\n",
    "**Комментарий ревьюера:** \n",
    "* Библиотеки, лучше стараться импортировать в отдельной ячейке для ясности и удобства. Например, если они у тебя были в одной ячейке с загрузкой файла, то тебе при добавлении новой библиотеки в ходе работы больше не придется по новой загружать файл.\n",
    "* Иногда лучше использовать `display()` вместо `print()`, чтобы таблицы выводились в читабельном виде.\n",
    "</div>"
   ]
  },
  {
   "cell_type": "markdown",
   "metadata": {},
   "source": [
    "### Шаг 2. Предобработка данных"
   ]
  },
  {
   "cell_type": "markdown",
   "metadata": {},
   "source": [
    "<a id='2-bullet'></a>"
   ]
  },
  {
   "cell_type": "markdown",
   "metadata": {},
   "source": [
    "### Обработка пропусков"
   ]
  },
  {
   "cell_type": "code",
   "execution_count": 35,
   "metadata": {},
   "outputs": [
    {
     "data": {
      "text/html": [
       "<div>\n",
       "<style scoped>\n",
       "    .dataframe tbody tr th:only-of-type {\n",
       "        vertical-align: middle;\n",
       "    }\n",
       "\n",
       "    .dataframe tbody tr th {\n",
       "        vertical-align: top;\n",
       "    }\n",
       "\n",
       "    .dataframe thead th {\n",
       "        text-align: right;\n",
       "    }\n",
       "</style>\n",
       "<table border=\"1\" class=\"dataframe\">\n",
       "  <thead>\n",
       "    <tr style=\"text-align: right;\">\n",
       "      <th></th>\n",
       "      <th>children</th>\n",
       "      <th>days_employed</th>\n",
       "      <th>dob_years</th>\n",
       "      <th>education</th>\n",
       "      <th>education_id</th>\n",
       "      <th>family_status</th>\n",
       "      <th>family_status_id</th>\n",
       "      <th>gender</th>\n",
       "      <th>income_type</th>\n",
       "      <th>debt</th>\n",
       "      <th>total_income</th>\n",
       "      <th>purpose</th>\n",
       "      <th>purp_category</th>\n",
       "      <th>age_group</th>\n",
       "      <th>income_group</th>\n",
       "    </tr>\n",
       "  </thead>\n",
       "  <tbody>\n",
       "  </tbody>\n",
       "</table>\n",
       "</div>"
      ],
      "text/plain": [
       "Empty DataFrame\n",
       "Columns: [children, days_employed, dob_years, education, education_id, family_status, family_status_id, gender, income_type, debt, total_income, purpose, purp_category, age_group, income_group]\n",
       "Index: []"
      ]
     },
     "metadata": {},
     "output_type": "display_data"
    },
    {
     "name": "stdout",
     "output_type": "stream",
     "text": [
      "children            0\n",
      "days_employed       0\n",
      "dob_years           0\n",
      "education           0\n",
      "education_id        0\n",
      "family_status       0\n",
      "family_status_id    0\n",
      "gender              0\n",
      "income_type         0\n",
      "debt                0\n",
      "total_income        0\n",
      "purpose             0\n",
      "purp_category       0\n",
      "age_group           0\n",
      "income_group        0\n",
      "dtype: int64\n",
      "Series([], Name: income_type, dtype: int64)\n",
      "Series([], Name: children, dtype: int64)\n"
     ]
    }
   ],
   "source": [
    "#Проверяем гипотезу п.3. Создадим таблицу, где значения days_employed будут пустые\n",
    "df_de_nan = df[df['days_employed'].isnull()]\n",
    "display(df_de_nan)\n",
    "#На первый взгляд пропуски в обоих столбцах совпадают. Проверим количество строк NaN в столбце total_income при выставленном фильтре NaN в столбце days_employed\n",
    "print(df_de_nan.count())\n",
    "#Ни одного заполненного значения, значит строки пустые строки в стоблцах 'days_employed','total_income' совпадают\n",
    "#Проверим тип занятости людей с пустыми значениями стажа и зарплаты\n",
    "print(df_de_nan['income_type'].value_counts())\n",
    "#Корреляции в отсутствии дохода с типом занятости нет. Проверка по другим категориям также не дает понимания\n",
    "print(df_de_nan['children'].value_counts())\n",
    "\n",
    "#Т.к. нет явных причин отсутствия данных в столбцах доход и стаж можно попробовать заполнить пропуски по виду занятости\n",
    "#Возьмем медианное значение по столбцу \"total_income\" для каждой категории столбца \"income_type\"\n",
    "#Для \"days_employed\" среднее для каждой категории столбца \"dob_years\"\n",
    "#Чтобы не переписывать датафрейм создадим новый, т.к. далее не планируется использовать данные из ячеек с пустыми \"total_income\"\n",
    "# и \"days_employed\"\n",
    "df_no_emplties = df\n",
    "df_no_emplties['total_income'] = df['total_income'].fillna(df.groupby('income_type')['total_income'].transform('median'))\n",
    "#Предварительно заменим отрицательные значения в столбце \"days_employed\"\n",
    "df_no_emplties['days_employed'] = df['days_employed'].abs()\n",
    "df_no_emplties['days_employed'] = df['days_employed'].fillna(df.groupby('dob_years')['days_employed'].transform('mean'))\n"
   ]
  },
  {
   "cell_type": "markdown",
   "metadata": {},
   "source": [
    "### Вывод"
   ]
  },
  {
   "cell_type": "markdown",
   "metadata": {},
   "source": [
    "Причина отсутствия данных не ясна. Больше похоже на случайные пропуски"
   ]
  },
  {
   "cell_type": "markdown",
   "metadata": {},
   "source": [
    "<div class=\"alert alert-danger\">\n",
    "\n",
    "**Комментарий ревьюера:** \n",
    "* Ты корректно заменил значения в столбце с доходом, прошу тебя также обратить внимание на столбец `days_employed` и заменить пропуски в нем. Также можно разобраться с выбивающимися значениями в столбцах `days_employed` и `children`.\n",
    "* Я заметил ты почти в каждой ячейке подгружаешь данные по новой. Во-первых, в этом нет необходимости, если ты подгрузил данные в начале они тебе потом доступны и дальше по проекту в рамках текущей сессии. Во-вторых, так ты перезаписываешь свою переменную `df` и тем самым отменяешь все операции, которые ты производил ранее. Это сказывается негативно на самом проекте и его целостности, поэтому попрошу тебя не подгружать тебя данные повторно. Тоже самое можно сказать о библиотеках, достаточно подгрузить их один раз в начале проекта.\n",
    "</div>"
   ]
  },
  {
   "cell_type": "markdown",
   "metadata": {},
   "source": [
    "<div class=\"alert alert-info\">\n",
    "\n",
    "* Очевидно, что причина в отсутвии данных в \"days_employed\" схожа с причиной отсуствия в столбце с доходом. В качестве практики заменил значения на средние по возрасту клиента. В принципе этот слобец не используется в дальшейшем, поэтому не рассматривал его. \n",
    "* По поводу \"children\" уже написал свое видение (шаг 1 - вывод п.5; шаг 3 - п.1)\n",
    "* По поводу подгрузки данных по новой в каждой ячейке: тут невозможно с тобой не согласиться, поэтому поправил. Но, опираясь на свой небольшой опыт работы с JupiterNotebook, в некоторых случаях не совсем удобно разбивать код на несколько ячеек, т.к. при перезапуске ядра приходится воспроизводить отдельные ячейки, выполнение которых может потребовать время. Вижу здесь направление для своего развития.\n",
    "    \n",
    "</div>"
   ]
  },
  {
   "cell_type": "markdown",
   "metadata": {},
   "source": [
    "<div class=\"alert alert-success\">\n",
    "\n",
    "**Комментарий ревьюера v2:** Да иногда перезагрузка ядра бывает не очень кстати, но зато можно комфортно работать в рамках одной сессии не перегружаясь. Со временем привыкнешь ко всем особенностям :)\n",
    "</div>"
   ]
  },
  {
   "cell_type": "markdown",
   "metadata": {},
   "source": [
    "<a id='3-bullet'></a>"
   ]
  },
  {
   "cell_type": "markdown",
   "metadata": {},
   "source": [
    "### Замена типа данных"
   ]
  },
  {
   "cell_type": "code",
   "execution_count": 27,
   "metadata": {},
   "outputs": [
    {
     "name": "stdout",
     "output_type": "stream",
     "text": [
      "False    19784\n",
      "True      1741\n",
      "Name: debt, dtype: int64\n"
     ]
    }
   ],
   "source": [
    "#Переведем столбец debt в тип boolean\n",
    "df_debt_bool = df\n",
    "df_debt_bool['debt'] = df_debt_bool['debt'].astype(bool)\n",
    "\n",
    "print (df_debt_bool['debt'].value_counts())\n"
   ]
  },
  {
   "cell_type": "markdown",
   "metadata": {},
   "source": [
    "### Вывод"
   ]
  },
  {
   "cell_type": "markdown",
   "metadata": {},
   "source": [
    "1741 человек имеют долг по кредиту. Около 8%"
   ]
  },
  {
   "cell_type": "markdown",
   "metadata": {},
   "source": [
    "<a id='4-bullet'></a>"
   ]
  },
  {
   "cell_type": "markdown",
   "metadata": {},
   "source": [
    "### Обработка дубликатов"
   ]
  },
  {
   "cell_type": "code",
   "execution_count": 28,
   "metadata": {},
   "outputs": [
    {
     "name": "stdout",
     "output_type": "stream",
     "text": [
      "education\n",
      "среднее                15233\n",
      "высшее                  5260\n",
      "неоконченное высшее      744\n",
      "начальное                282\n",
      "ученая степень             6\n",
      "Name: children, dtype: int64\n"
     ]
    }
   ],
   "source": [
    "#Приведем значения в столбце education к одному регистру и подсчитаем количество по каждому типу образования\n",
    "df['education'] = df['education'].str.lower()\n",
    "print(df.groupby('education').count().sort_values(by='children', ascending=False)['children'])\n"
   ]
  },
  {
   "cell_type": "markdown",
   "metadata": {},
   "source": [
    "### Вывод"
   ]
  },
  {
   "cell_type": "markdown",
   "metadata": {},
   "source": [
    "Больше всего берут кредиты люди со средним образованием и с высшим"
   ]
  },
  {
   "cell_type": "markdown",
   "metadata": {},
   "source": [
    "<a id='5-bullet'></a>"
   ]
  },
  {
   "cell_type": "markdown",
   "metadata": {},
   "source": [
    "### Лемматизация\n"
   ]
  },
  {
   "cell_type": "code",
   "execution_count": 29,
   "metadata": {},
   "outputs": [
    {
     "name": "stdout",
     "output_type": "stream",
     "text": [
      "недвижимость    10228\n",
      "автомобиль       4315\n",
      "образование      4022\n",
      "свадьба          2348\n",
      "ремонт            612\n",
      "Name: purp_category, dtype: int64\n"
     ]
    }
   ],
   "source": [
    "#Приведем цели кредита к общим категориям: \"ремонт\", \"недвижимость\", \"автомобиль\", \"образование\", \"свадьба\"\n",
    "#Для этого определим функцию создающую новый столбец\n",
    "\n",
    "def purp_category(row):\n",
    "    for word in row['purpose'].split(' '):\n",
    "        stemmed_word = russian_stemmer.stem(word)\n",
    "        if 'рем' in stemmed_word: return \"ремонт\"\n",
    "        elif 'недв' in stemmed_word or 'жил' in stemmed_word: return \"недвижимость\"\n",
    "        elif 'авто' in stemmed_word: return \"автомобиль\"\n",
    "        elif 'образ' in stemmed_word: return \"образование\"\n",
    "        elif 'свад' in stemmed_word: return \"свадьба\"\n",
    "\n",
    "        \n",
    "df['purp_category'] = df.apply(purp_category, axis=1)\n",
    "print(df['purp_category'].value_counts())\n",
    "\n"
   ]
  },
  {
   "cell_type": "markdown",
   "metadata": {},
   "source": [
    "### Вывод"
   ]
  },
  {
   "cell_type": "markdown",
   "metadata": {},
   "source": [
    "Больше всего кредитов люди берут на приобритение недвижимости. \n",
    "На удивление 3е место с небольшим отрывом от 2го - это образование"
   ]
  },
  {
   "cell_type": "markdown",
   "metadata": {},
   "source": [
    "<div class=\"alert alert-warning\">\n",
    "\n",
    "**Комментарий ревьюера:** Данная ячейка была оформлена как код и поэтому возникала ошибка. По правилам я должен был вернуть такой проект, но я решил переделать ее в markdown ячейку, чтобы не получилось так, что ты все это время ждал зря. Будь, пожалуйста, внимательнее следующий раз :)\n",
    "</div>"
   ]
  },
  {
   "cell_type": "markdown",
   "metadata": {},
   "source": [
    "<div class=\"alert alert-info\"> \n",
    "\n",
    "***Благодарю!***\n",
    "\n",
    "</div>"
   ]
  },
  {
   "cell_type": "markdown",
   "metadata": {},
   "source": [
    "<a id='6-bullet'></a>"
   ]
  },
  {
   "cell_type": "markdown",
   "metadata": {},
   "source": [
    "### Категоризация данных"
   ]
  },
  {
   "cell_type": "code",
   "execution_count": 30,
   "metadata": {},
   "outputs": [
    {
     "name": "stdout",
     "output_type": "stream",
     "text": [
      "Series([], Name: age_group, dtype: int64)\n",
      "взрослые      20525\n",
      "пенсионеры      899\n",
      "дети            101\n",
      "Name: age_group, dtype: int64\n",
      "<class 'pandas.core.frame.DataFrame'>\n",
      "Int64Index: 21525 entries, 0 to 21524\n",
      "Data columns (total 14 columns):\n",
      "children            21525 non-null int64\n",
      "days_employed       21525 non-null float64\n",
      "dob_years           21525 non-null int64\n",
      "education           21525 non-null object\n",
      "education_id        21525 non-null int64\n",
      "family_status       21525 non-null object\n",
      "family_status_id    21525 non-null int64\n",
      "gender              21525 non-null object\n",
      "income_type         21525 non-null object\n",
      "debt                21525 non-null bool\n",
      "total_income        21525 non-null float64\n",
      "purpose             21525 non-null object\n",
      "purp_category       21525 non-null object\n",
      "age_group           21525 non-null object\n",
      "dtypes: bool(1), float64(2), int64(4), object(7)\n",
      "memory usage: 2.3+ MB\n",
      "None\n",
      "высокого достатка      11995\n",
      "богатые                 5067\n",
      "среднего достатка       4091\n",
      "невысокого достатка      372\n",
      "Name: income_group, dtype: int64\n"
     ]
    }
   ],
   "source": [
    "#Попробуем сгруппировать данные столбца dob_years\n",
    "def age_group(age):\n",
    "    if age <= 18:\n",
    "        return 'дети'\n",
    "    elif age < 65:\n",
    "        return 'взрослые'\n",
    "    return 'пенсионеры'\n",
    "\n",
    "df['age_group'] = df['dob_years'].apply(age_group)\n",
    "print(df[df['days_employed'].isnull()]['age_group'].value_counts())\n",
    "print(df['age_group'].value_counts())\n",
    "\n",
    "#Разобьем людей на категории по уровню дохода предварительно переведем столбец total_income в integer type\n",
    "#Т.к. выше не обнаружено убедительной причины пропуска данных в столбце с уровнем дохода, \n",
    "#для дальнейшего анализа придется исключить пропущенные данные\n",
    "df = df.dropna(how='any')\n",
    "print(df.info())\n",
    "\n",
    "df['total_income'] = df['total_income'].astype(int)\n",
    "\n",
    "def income_group(income):\n",
    "    if income <= 50000:\n",
    "        return 'невысокого достатка'\n",
    "    elif income < 100000:\n",
    "        return 'среднего достатка'\n",
    "    elif income < 200000:\n",
    "        return 'высокого достатка'\n",
    "    return 'богатые'\n",
    "\n",
    "df['income_group'] = df['total_income'].apply(income_group)\n",
    "print(df['income_group'].value_counts())\n"
   ]
  },
  {
   "cell_type": "markdown",
   "metadata": {},
   "source": [
    "### Вывод"
   ]
  },
  {
   "cell_type": "markdown",
   "metadata": {},
   "source": [
    "И тут никакой корреляции с отсутвующими данными в столбцах \"days_employed\" и \"total_income\"\n",
    "Самая большая группа кредитуемых - это люди от 18 до 65 лет. "
   ]
  },
  {
   "cell_type": "markdown",
   "metadata": {},
   "source": [
    "<div class=\"alert alert-warning\">\n",
    "\n",
    "**Комментарий ревьюера:** Хорошо бы произвести категоризацию по доходу также в данном разделе для целостности проекта и структуры.\n",
    "</div>"
   ]
  },
  {
   "cell_type": "markdown",
   "metadata": {},
   "source": [
    "### Шаг 3. Ответьте на вопросы"
   ]
  },
  {
   "cell_type": "markdown",
   "metadata": {},
   "source": [
    "<a id='7-bullet'></a>"
   ]
  },
  {
   "cell_type": "markdown",
   "metadata": {},
   "source": [
    "- Есть ли зависимость между наличием детей и возвратом кредита в срок?"
   ]
  },
  {
   "cell_type": "code",
   "execution_count": 31,
   "metadata": {},
   "outputs": [
    {
     "name": "stdout",
     "output_type": "stream",
     "text": [
      "0    14149\n",
      "1     4818\n",
      "2     2055\n",
      "3      330\n",
      "4       41\n",
      "5        9\n",
      "Name: children, dtype: int64\n",
      "            debt       \n",
      "             sum  count\n",
      "children               \n",
      "0         1063.0  14149\n",
      "1          444.0   4818\n",
      "2          194.0   2055\n",
      "3           27.0    330\n",
      "4            4.0     41\n",
      "5            0.0      9\n",
      "            debt        debt_perc\n",
      "             sum  count          \n",
      "children                         \n",
      "4            4.0     41  9.756098\n",
      "2          194.0   2055  9.440389\n",
      "1          444.0   4818  9.215442\n",
      "3           27.0    330  8.181818\n",
      "0         1063.0  14149  7.512898\n",
      "5            0.0      9  0.000000\n"
     ]
    }
   ],
   "source": [
    "#Проведем предобработку по столбцу \"children\". Как описано выше 76 человек имеют 20 детей и 47 человек по -1 ребенку\n",
    "#Т.к. данных немного позволим себе убрать эти строки из таблицы для дальнейшего анализа\n",
    "\n",
    "df = df[(df['children']!=-1) & (df['children']!=20)]\n",
    "print(df['children'].value_counts())\n",
    "\n",
    "#Агрегируем данные группировки по количеству детей со столбцом \"debt\"\n",
    "children_debt = df.groupby('children').agg({'debt': ['sum', 'count']})\n",
    "print(children_debt)\n",
    "\n",
    "#Найдем процент должников в каждой группе по количеству детей\n",
    "children_debt['debt_perc'] = children_debt['debt']['sum'] / children_debt['debt']['count'] * 100\n",
    "print(children_debt.sort_values(by='debt_perc', ascending=False))\n"
   ]
  },
  {
   "cell_type": "markdown",
   "metadata": {},
   "source": [
    "### Вывод"
   ]
  },
  {
   "cell_type": "markdown",
   "metadata": {},
   "source": [
    "Бездетные явно в лидерах по возврату кредита. На 100 бездетных приходится 7.5 невозвратов. Стопроцентный возрат по категории \"5 детей\" скорее всего связан с небольшим количеством таких людей в выборке."
   ]
  },
  {
   "cell_type": "markdown",
   "metadata": {},
   "source": [
    "<a id='8-bullet'></a>"
   ]
  },
  {
   "cell_type": "markdown",
   "metadata": {},
   "source": [
    "- Есть ли зависимость между семейным положением и возвратом кредита в срок?"
   ]
  },
  {
   "cell_type": "code",
   "execution_count": 32,
   "metadata": {},
   "outputs": [
    {
     "name": "stdout",
     "output_type": "stream",
     "text": [
      "                        debt       \n",
      "                         sum  count\n",
      "family_status                      \n",
      "Не женат / не замужем  273.0   2799\n",
      "в разводе               84.0   1189\n",
      "вдовец / вдова          63.0    952\n",
      "гражданский брак       385.0   4160\n",
      "женат / замужем        927.0  12302\n",
      "                        debt        debt_perc\n",
      "                         sum  count          \n",
      "family_status                                \n",
      "Не женат / не замужем  273.0   2799  9.753483\n",
      "гражданский брак       385.0   4160  9.254808\n",
      "женат / замужем        927.0  12302  7.535360\n",
      "в разводе               84.0   1189  7.064760\n",
      "вдовец / вдова          63.0    952  6.617647\n"
     ]
    }
   ],
   "source": [
    "#Произведем группировку и аггрегацию по аналогии с предыдущим заданием\n",
    "family_debt = df.groupby('family_status').agg({'debt': ['sum', 'count']})\n",
    "print(family_debt)\n",
    "\n",
    "#Найдем процент должников в каждой группе по семейному положению\n",
    "family_debt['debt_perc'] = family_debt['debt']['sum'] / family_debt['debt']['count'] * 100\n",
    "print(family_debt.sort_values(by='debt_perc', ascending=False))"
   ]
  },
  {
   "cell_type": "markdown",
   "metadata": {},
   "source": [
    "### Вывод"
   ]
  },
  {
   "cell_type": "markdown",
   "metadata": {},
   "source": [
    "В антилидерах те, кто никогда не заключал официального брака: больше 9 случаев невозврата из 100. \n",
    "Надежнее всего кредитовать овдовевших и разведенных людей."
   ]
  },
  {
   "cell_type": "markdown",
   "metadata": {},
   "source": [
    "<a id='9-bullet'></a>"
   ]
  },
  {
   "cell_type": "markdown",
   "metadata": {},
   "source": [
    "- Есть ли зависимость между уровнем дохода и возвратом кредита в срок?"
   ]
  },
  {
   "cell_type": "code",
   "execution_count": 33,
   "metadata": {},
   "outputs": [
    {
     "name": "stdout",
     "output_type": "stream",
     "text": [
      "                       debt       \n",
      "                        sum  count\n",
      "income_group                      \n",
      "богатые               356.0   5039\n",
      "высокого достатка    1022.0  11919\n",
      "невысокого достатка    23.0    371\n",
      "среднего достатка     331.0   4073\n"
     ]
    },
    {
     "data": {
      "text/html": [
       "<div>\n",
       "<style scoped>\n",
       "    .dataframe tbody tr th:only-of-type {\n",
       "        vertical-align: middle;\n",
       "    }\n",
       "\n",
       "    .dataframe tbody tr th {\n",
       "        vertical-align: top;\n",
       "    }\n",
       "\n",
       "    .dataframe thead tr th {\n",
       "        text-align: left;\n",
       "    }\n",
       "\n",
       "    .dataframe thead tr:last-of-type th {\n",
       "        text-align: right;\n",
       "    }\n",
       "</style>\n",
       "<table border=\"1\" class=\"dataframe\">\n",
       "  <thead>\n",
       "    <tr>\n",
       "      <th></th>\n",
       "      <th colspan=\"2\" halign=\"left\">debt</th>\n",
       "      <th>debt_perc</th>\n",
       "    </tr>\n",
       "    <tr>\n",
       "      <th></th>\n",
       "      <th>sum</th>\n",
       "      <th>count</th>\n",
       "      <th></th>\n",
       "    </tr>\n",
       "    <tr>\n",
       "      <th>income_group</th>\n",
       "      <th></th>\n",
       "      <th></th>\n",
       "      <th></th>\n",
       "    </tr>\n",
       "  </thead>\n",
       "  <tbody>\n",
       "    <tr>\n",
       "      <td>высокого достатка</td>\n",
       "      <td>1022.0</td>\n",
       "      <td>11919</td>\n",
       "      <td>8.574545</td>\n",
       "    </tr>\n",
       "    <tr>\n",
       "      <td>среднего достатка</td>\n",
       "      <td>331.0</td>\n",
       "      <td>4073</td>\n",
       "      <td>8.126688</td>\n",
       "    </tr>\n",
       "    <tr>\n",
       "      <td>богатые</td>\n",
       "      <td>356.0</td>\n",
       "      <td>5039</td>\n",
       "      <td>7.064894</td>\n",
       "    </tr>\n",
       "    <tr>\n",
       "      <td>невысокого достатка</td>\n",
       "      <td>23.0</td>\n",
       "      <td>371</td>\n",
       "      <td>6.199461</td>\n",
       "    </tr>\n",
       "  </tbody>\n",
       "</table>\n",
       "</div>"
      ],
      "text/plain": [
       "                       debt        debt_perc\n",
       "                        sum  count          \n",
       "income_group                                \n",
       "высокого достатка    1022.0  11919  8.574545\n",
       "среднего достатка     331.0   4073  8.126688\n",
       "богатые               356.0   5039  7.064894\n",
       "невысокого достатка    23.0    371  6.199461"
      ]
     },
     "metadata": {},
     "output_type": "display_data"
    }
   ],
   "source": [
    "#Произведем группировку и аггрегацию по аналогии с предыдущим заданием\n",
    "income_debt = df.groupby('income_group').agg({'debt': ['sum', 'count']})\n",
    "print(income_debt)\n",
    "\n",
    "#Найдем процент должников в каждой группе по уровню дохода\n",
    "income_debt['debt_perc'] = income_debt['debt']['sum'] / income_debt['debt']['count'] * 100\n",
    "display(income_debt.sort_values(by='debt_perc', ascending=False))"
   ]
  },
  {
   "cell_type": "markdown",
   "metadata": {},
   "source": [
    "### Вывод"
   ]
  },
  {
   "cell_type": "markdown",
   "metadata": {},
   "source": [
    "Люди высокого достатка (100-200 т.р. в мес.) самые злостные неплательщики. \n",
    "Самые ответственные оказались люди невысокого достатка"
   ]
  },
  {
   "cell_type": "markdown",
   "metadata": {},
   "source": [
    "<a id='10-bullet'></a>"
   ]
  },
  {
   "cell_type": "markdown",
   "metadata": {},
   "source": [
    "- Как разные цели кредита влияют на его возврат в срок?"
   ]
  },
  {
   "cell_type": "code",
   "execution_count": 34,
   "metadata": {},
   "outputs": [
    {
     "name": "stdout",
     "output_type": "stream",
     "text": [
      "                debt       \n",
      "                 sum  count\n",
      "purp_category              \n",
      "автомобиль     400.0   4288\n",
      "недвижимость   745.0  10171\n",
      "образование    369.0   3997\n",
      "ремонт          35.0    609\n",
      "свадьба        183.0   2337\n"
     ]
    },
    {
     "data": {
      "text/html": [
       "<div>\n",
       "<style scoped>\n",
       "    .dataframe tbody tr th:only-of-type {\n",
       "        vertical-align: middle;\n",
       "    }\n",
       "\n",
       "    .dataframe tbody tr th {\n",
       "        vertical-align: top;\n",
       "    }\n",
       "\n",
       "    .dataframe thead tr th {\n",
       "        text-align: left;\n",
       "    }\n",
       "\n",
       "    .dataframe thead tr:last-of-type th {\n",
       "        text-align: right;\n",
       "    }\n",
       "</style>\n",
       "<table border=\"1\" class=\"dataframe\">\n",
       "  <thead>\n",
       "    <tr>\n",
       "      <th></th>\n",
       "      <th colspan=\"2\" halign=\"left\">debt</th>\n",
       "      <th>debt_perc</th>\n",
       "    </tr>\n",
       "    <tr>\n",
       "      <th></th>\n",
       "      <th>sum</th>\n",
       "      <th>count</th>\n",
       "      <th></th>\n",
       "    </tr>\n",
       "    <tr>\n",
       "      <th>purp_category</th>\n",
       "      <th></th>\n",
       "      <th></th>\n",
       "      <th></th>\n",
       "    </tr>\n",
       "  </thead>\n",
       "  <tbody>\n",
       "    <tr>\n",
       "      <td>автомобиль</td>\n",
       "      <td>400.0</td>\n",
       "      <td>4288</td>\n",
       "      <td>9.328358</td>\n",
       "    </tr>\n",
       "    <tr>\n",
       "      <td>образование</td>\n",
       "      <td>369.0</td>\n",
       "      <td>3997</td>\n",
       "      <td>9.231924</td>\n",
       "    </tr>\n",
       "    <tr>\n",
       "      <td>свадьба</td>\n",
       "      <td>183.0</td>\n",
       "      <td>2337</td>\n",
       "      <td>7.830552</td>\n",
       "    </tr>\n",
       "    <tr>\n",
       "      <td>недвижимость</td>\n",
       "      <td>745.0</td>\n",
       "      <td>10171</td>\n",
       "      <td>7.324747</td>\n",
       "    </tr>\n",
       "    <tr>\n",
       "      <td>ремонт</td>\n",
       "      <td>35.0</td>\n",
       "      <td>609</td>\n",
       "      <td>5.747126</td>\n",
       "    </tr>\n",
       "  </tbody>\n",
       "</table>\n",
       "</div>"
      ],
      "text/plain": [
       "                debt        debt_perc\n",
       "                 sum  count          \n",
       "purp_category                        \n",
       "автомобиль     400.0   4288  9.328358\n",
       "образование    369.0   3997  9.231924\n",
       "свадьба        183.0   2337  7.830552\n",
       "недвижимость   745.0  10171  7.324747\n",
       "ремонт          35.0    609  5.747126"
      ]
     },
     "metadata": {},
     "output_type": "display_data"
    }
   ],
   "source": [
    "#У нас уже есть обобщенные категории целей кредитования. Осталось проделать действия из предыдущих заданий\n",
    "#Произведем группировку и аггрегацию\n",
    "purpose_debt = df.groupby('purp_category').agg({'debt': ['sum', 'count']})\n",
    "print(purpose_debt)\n",
    "\n",
    "#Найдем процент должников в каждой группе по цели кредитования\n",
    "purpose_debt['debt_perc'] = purpose_debt['debt']['sum'] / purpose_debt['debt']['count'] * 100\n",
    "display(purpose_debt.sort_values(by='debt_perc', ascending=False))\n"
   ]
  },
  {
   "cell_type": "markdown",
   "metadata": {},
   "source": [
    "### Вывод"
   ]
  },
  {
   "cell_type": "markdown",
   "metadata": {},
   "source": [
    "Автомобили и образование заставляют людей чаще не платить во время по кредитам"
   ]
  },
  {
   "cell_type": "markdown",
   "metadata": {},
   "source": [
    "<div class=\"alert alert-warning\">\n",
    "\n",
    "**Комментарий ревьюера:** В целом по данному разделу все ок, но можно немного его подправить, если учесть комментарии, которые я делал выше. Например, таблицы можно выводить с помощью `display()`.\n",
    "</div>"
   ]
  },
  {
   "cell_type": "markdown",
   "metadata": {},
   "source": [
    "<a id='11-bullet'></a>"
   ]
  },
  {
   "cell_type": "markdown",
   "metadata": {},
   "source": [
    "### Шаг 4. Общий вывод"
   ]
  },
  {
   "cell_type": "markdown",
   "metadata": {},
   "source": [
    "Бездетные люди чаще в срок возвращают кредит. При этом люди в официальном браке (или хотя бы побывавшие в нем) также более желаемые клиенты кредитной организации.\n",
    "Таким образом можно предположить, что наиболее надежными заемщиками можно считать бездетных и овдовевших людей\n",
    "\n",
    "<div class=\"alert alert-info\">\n",
    "    \n",
    "1. Отсутствующие данные в столбцах \"days_employed\" и \"total_income\" можно объяснить случайным отсутствием. В качестве практики заменил стаж на среднее в зависимости от возраста, а доход на медиану в зависимости от типа занятости.\n",
    "2. Отрицательные значения в столбце \"days_employed\" можно объяснить заменой знака дефиса на знак минус.\n",
    "3. В столбце с количеством детей встречаются аномальные значения. Но ввиду того, их количество ничтожно мало по сравнению с количеством строк всей таблицы, то их можно просто исключить\n",
    "4. Кредиты берут в основном люди со средним и высшим образованием. Основыние цели - недвижимость, авто и на удивление образование\n",
    "5. Наиболее надежными заемщиками стали группы: без детей, состоящие или состоявшие в официалном браке, с невысоким доходом (менее 50т.р.). Наименее рискованная цель кредита - ремонт\n",
    "    \n",
    "</div>"
   ]
  },
  {
   "cell_type": "markdown",
   "metadata": {},
   "source": [
    "<div class=\"alert alert-danger\">\n",
    "\n",
    "**Комментарий ревьюера:** Предлагаю немного расширить вывод и добавить в него краткий перечень выполненных шагов и находок.\n",
    "</div>"
   ]
  },
  {
   "cell_type": "markdown",
   "metadata": {},
   "source": [
    "<div class=\"alert alert-info\">\n",
    "\n",
    "Алан, благодарю за твою помошь!\n",
    "\n",
    "</div>"
   ]
  },
  {
   "cell_type": "markdown",
   "metadata": {},
   "source": [
    "<div class=\"alert alert-danger\">\n",
    "\n",
    "**Вывод:** Ты проделал большую работу и у тебя получился достойный проект, но мы можем его улучшить для этого нам осталось:\n",
    "* Оформить вводную часть проекта\n",
    "* Обработать все пропуски и выбивающиеся значения\n",
    "* Не подгружать данные повторно \n",
    "* Расширить вывод\n",
    "</div>"
   ]
  },
  {
   "cell_type": "markdown",
   "metadata": {},
   "source": [
    "<div class=\"alert alert-success\">\n",
    "\n",
    "**Вывод v2:** Спасибо, что учел все мои комментарии, было приятно с тобой поработать и я рад, что нам удалось улучшить твой проект :) Поздравляю с завершением первого проекта и желаю тебе дальнейших успехов! :)\n",
    "</div>"
   ]
  },
  {
   "cell_type": "markdown",
   "metadata": {},
   "source": [
    "### Чек-лист готовности проекта\n",
    "\n",
    "Поставьте 'x' в выполненных пунктах. Далее нажмите Shift+Enter."
   ]
  },
  {
   "cell_type": "markdown",
   "metadata": {},
   "source": [
    "- [x]  открыт файл;\n",
    "- [x]  файл изучен;\n",
    "- [x]  определены пропущенные значения;\n",
    "- [x]  заполнены пропущенные значения;\n",
    "- [x]  есть пояснение, какие пропущенные значения обнаружены;\n",
    "- [x]  описаны возможные причины появления пропусков в данных;\n",
    "- [x]  объяснено, по какому принципу заполнены пропуски;\n",
    "- [x]  заменен вещественный тип данных на целочисленный;\n",
    "- [x]  есть пояснение, какой метод используется для изменения типа данных и почему;\n",
    "- [x]  удалены дубликаты;\n",
    "- [x]  есть пояснение, какой метод используется для поиска и удаления дубликатов;\n",
    "- [x]  описаны возможные причины появления дубликатов в данных;\n",
    "- [x]  выделены леммы в значениях столбца с целями получения кредита;\n",
    "- [x]  описан процесс лемматизации;\n",
    "- [x]  данные категоризированы;\n",
    "- [x]  есть объяснение принципа категоризации данных;\n",
    "- [x]  есть ответ на вопрос: \"Есть ли зависимость между наличием детей и возвратом кредита в срок?\";\n",
    "- [x]  есть ответ на вопрос: \"Есть ли зависимость между семейным положением и возвратом кредита в срок?\";\n",
    "- [x]  есть ответ на вопрос: \"Есть ли зависимость между уровнем дохода и возвратом кредита в срок?\";\n",
    "- [x]  есть ответ на вопрос: \"Как разные цели кредита влияют на его возврат в срок?\";\n",
    "- [x]  в каждом этапе есть выводы;\n",
    "- [x]  есть общий вывод."
   ]
  },
  {
   "cell_type": "code",
   "execution_count": null,
   "metadata": {},
   "outputs": [],
   "source": []
  }
 ],
 "metadata": {
  "kernelspec": {
   "display_name": "Python 3 (ipykernel)",
   "language": "python",
   "name": "python3"
  },
  "language_info": {
   "codemirror_mode": {
    "name": "ipython",
    "version": 3
   },
   "file_extension": ".py",
   "mimetype": "text/x-python",
   "name": "python",
   "nbconvert_exporter": "python",
   "pygments_lexer": "ipython3",
   "version": "3.9.5"
  },
  "toc": {
   "base_numbering": 1,
   "nav_menu": {},
   "number_sections": true,
   "sideBar": true,
   "skip_h1_title": false,
   "title_cell": "Table of Contents",
   "title_sidebar": "Contents",
   "toc_cell": false,
   "toc_position": {},
   "toc_section_display": true,
   "toc_window_display": false
  }
 },
 "nbformat": 4,
 "nbformat_minor": 2
}
