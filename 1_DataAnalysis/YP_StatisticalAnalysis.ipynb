{
 "cells": [
  {
   "cell_type": "markdown",
   "metadata": {},
   "source": [
    "Привет, меня зовут Гребенюк Артём. Сегодня я буду делать ревью твоего проекта!\\\n",
    "В Практикуме принято общаться на \"ты\", однако если это неудобно - дай знать, и можем перейти на более официальное общение.\n",
    "\n",
    "Ниже ты найдешь мои комментарии - пожалуйста, не перемещай, не изменяй и не удаляй их. Я буду использовать цветовую разметку: \n",
    "\n",
    "<div class=\"alert alert-block alert-success\">\n",
    "<b>Success:</b> Если все сделано хорошо. </div>\n",
    "\n",
    "<div class=\"alert alert-block alert-warning\">\n",
    "<b>Remarks:</b> Некритичное замечание; если таких замечаний меньше трех — проект может быть принят без их отработки.</div>\n",
    "\n",
    "<div class=\"alert alert-block alert-danger\">\n",
    "<b>Needs fixing:</b> Грубая ошибка, необходимо исправить, иначе проект не будет принят.\n",
    "</div>\n",
    "\n",
    "Давай работать над проектом в диалоге: если ты что-то меняешь в проекте или отвечаешь на мои комменатри — пиши об этом. Мне будет легче отследить изменения, если ты выделишь свои комментарии:\n",
    "Например так:\n",
    "<div class=\"alert alert-block alert-info\">\n",
    "<b>Fixed:</b> \n",
    "Hello World!\n",
    "</div>\n",
    "\n",
    "Или можешь использовать эту галочку ✔ в моих комментариях, если писать особо нечего.\n",
    "\n",
    "<div class=\"alert alert-block alert-warning\">\n",
    "<b>Общее впечатление:</b> \n",
    "    \n",
    "- Спасибо за работу :)\n",
    "- У меня есть пара ремарок, которые помогут тебе сделать проект еще лучше.\n",
    "- Пробегись по моим комментариям, исправь недочёты и всё будет отлично :)\n",
    "    \n",
    "</div>\n",
    "\n"
   ]
  },
  {
   "cell_type": "markdown",
   "metadata": {},
   "source": [
    "<div class=\"alert alert-block alert-info\">\n",
    "    \n",
    "### Приветствую, Артём!\n",
    "</div>"
   ]
  },
  {
   "cell_type": "markdown",
   "metadata": {},
   "source": [
    "<div class=\"alert alert-block alert-success\">\n",
    "<b>Общее впечатление v.2:</b> \n",
    "    \n",
    "- Отличная работа над ремарками!\n",
    "- Проект выглядит отлично и проходит ревью, поздравляю!\n",
    "- Удачи в дальнейшем обучении :)"
   ]
  },
  {
   "cell_type": "markdown",
   "metadata": {},
   "source": [
    "# Определение перспективного тарифа для телеком компании\n",
    "\n",
    "Компания «Мегалайн» — федеральный оператор сотовой связи. Клиентам предлагают два тарифных плана: «Смарт» и «Ультра». Чтобы скорректировать рекламный бюджет, коммерческий департамент хочет понять, какой тариф приносит больше денег.\n",
    "Необходимо провести предварительный анализ тарифов на небольшой выборке клиентов. В распоряжении имеются данные 500 пользователей «Мегалайна»: кто они, откуда, каким тарифом пользуются, сколько звонков и сообщений каждый отправил за 2018 год. Нужно проанализировать поведение клиентов и сделать вывод — какой тариф лучше."
   ]
  },
  {
   "cell_type": "markdown",
   "metadata": {},
   "source": [
    "<div style=\"border:solid darkblue 1px; padding: 20px\">\n",
    "    \n",
    "##### Для данного исследования представлены 5 таблиц от \"Мегалайн\":\n",
    "* 1. Таблица *users* (информация о пользователях). 8 столбцов 500 строк\n",
    "* 2. Таблица *calls* (информация о звонках). 4 столбца 202607 строк\n",
    "* 3. Таблица *messages* (информация о сообщениях). 3 столбца 123036 строк\n",
    "* 4. Таблица *internet* (информация об интернет-сессиях). 5 столбцов 149396 строк\n",
    "* 5. Таблица *tariffs* (информация о тарифах). 8 столбцов 2 строки\n",
    "______\n",
    "\n",
    "###### Данное исследование разделим на несколько частей.\n",
    "    \n",
    "##### Часть 1. Изучение общей информации:\n",
    "* [1. Изученеие файла с данными, получение общей информации, загрузка библиотек.](#1-bullet)\n",
    "    \n",
    "##### Часть 2. Предобработка данных:\n",
    "* [1. Приведение данных к нужным типам.](#2-bullet)\n",
    "* [2. Ошибки в данных.](#3-bullet)\n",
    "* [3. Количество сделанных звонков и израсходованных минут разговора по месяцам.](#4-bullet)\n",
    "* [4. Количество отправленных сообщений по месяцам.](#5-bullet)\n",
    "* [5. Объем израсходованного интернет-трафика по месяцам.](#6-bullet)\n",
    "* [6. Помесячная выручка с каждого пользователя.](#7-bullet)\n",
    "\n",
    "##### Часть 3. Анализ данных:\n",
    "* [1. Поведение клиентов оператора.](#8-bullet)\n",
    "\n",
    "    \n",
    "##### Часть 4. Проверка гипотез:\n",
    "* [1. Средняя выручка пользователей тарифов «Ультра» и «Смарт» различается.](#9-bullet)\n",
    "* [2. Средняя выручка пользователей из Москвы отличается от выручки пользователей из других регионов.](#10-bullet)\n",
    "\n",
    "    \n",
    "##### Часть 5. Общий вывод:\n",
    "* [Особенности данных + Ответ на целевой вопрос](#11-bullet)\n",
    "    \n",
    "</div>"
   ]
  },
  {
   "cell_type": "markdown",
   "metadata": {},
   "source": [
    "<div class=\"alert alert-block alert-success\">\n",
    "<b>Success:</b> Очень хорошее начало"
   ]
  },
  {
   "cell_type": "markdown",
   "metadata": {},
   "source": [
    "<a id='1-bullet'></a>"
   ]
  },
  {
   "cell_type": "markdown",
   "metadata": {},
   "source": [
    "## Шаг 1. Изученеие файла с данными, получение общей информации, загрузка библиотек"
   ]
  },
  {
   "cell_type": "code",
   "execution_count": 1,
   "metadata": {},
   "outputs": [
    {
     "data": {
      "text/html": [
       "<div>\n",
       "<style scoped>\n",
       "    .dataframe tbody tr th:only-of-type {\n",
       "        vertical-align: middle;\n",
       "    }\n",
       "\n",
       "    .dataframe tbody tr th {\n",
       "        vertical-align: top;\n",
       "    }\n",
       "\n",
       "    .dataframe thead th {\n",
       "        text-align: right;\n",
       "    }\n",
       "</style>\n",
       "<table border=\"1\" class=\"dataframe\">\n",
       "  <thead>\n",
       "    <tr style=\"text-align: right;\">\n",
       "      <th></th>\n",
       "      <th>user_id</th>\n",
       "      <th>age</th>\n",
       "      <th>churn_date</th>\n",
       "      <th>city</th>\n",
       "      <th>first_name</th>\n",
       "      <th>last_name</th>\n",
       "      <th>reg_date</th>\n",
       "      <th>tariff</th>\n",
       "    </tr>\n",
       "  </thead>\n",
       "  <tbody>\n",
       "    <tr>\n",
       "      <td>0</td>\n",
       "      <td>1000</td>\n",
       "      <td>52</td>\n",
       "      <td>NaN</td>\n",
       "      <td>Краснодар</td>\n",
       "      <td>Рафаил</td>\n",
       "      <td>Верещагин</td>\n",
       "      <td>2018-05-25</td>\n",
       "      <td>ultra</td>\n",
       "    </tr>\n",
       "    <tr>\n",
       "      <td>1</td>\n",
       "      <td>1001</td>\n",
       "      <td>41</td>\n",
       "      <td>NaN</td>\n",
       "      <td>Москва</td>\n",
       "      <td>Иван</td>\n",
       "      <td>Ежов</td>\n",
       "      <td>2018-11-01</td>\n",
       "      <td>smart</td>\n",
       "    </tr>\n",
       "    <tr>\n",
       "      <td>2</td>\n",
       "      <td>1002</td>\n",
       "      <td>59</td>\n",
       "      <td>NaN</td>\n",
       "      <td>Стерлитамак</td>\n",
       "      <td>Евгений</td>\n",
       "      <td>Абрамович</td>\n",
       "      <td>2018-06-17</td>\n",
       "      <td>smart</td>\n",
       "    </tr>\n",
       "    <tr>\n",
       "      <td>3</td>\n",
       "      <td>1003</td>\n",
       "      <td>23</td>\n",
       "      <td>NaN</td>\n",
       "      <td>Москва</td>\n",
       "      <td>Белла</td>\n",
       "      <td>Белякова</td>\n",
       "      <td>2018-08-17</td>\n",
       "      <td>ultra</td>\n",
       "    </tr>\n",
       "    <tr>\n",
       "      <td>4</td>\n",
       "      <td>1004</td>\n",
       "      <td>68</td>\n",
       "      <td>NaN</td>\n",
       "      <td>Новокузнецк</td>\n",
       "      <td>Татьяна</td>\n",
       "      <td>Авдеенко</td>\n",
       "      <td>2018-05-14</td>\n",
       "      <td>ultra</td>\n",
       "    </tr>\n",
       "    <tr>\n",
       "      <td>...</td>\n",
       "      <td>...</td>\n",
       "      <td>...</td>\n",
       "      <td>...</td>\n",
       "      <td>...</td>\n",
       "      <td>...</td>\n",
       "      <td>...</td>\n",
       "      <td>...</td>\n",
       "      <td>...</td>\n",
       "    </tr>\n",
       "    <tr>\n",
       "      <td>495</td>\n",
       "      <td>1495</td>\n",
       "      <td>65</td>\n",
       "      <td>NaN</td>\n",
       "      <td>Иркутск</td>\n",
       "      <td>Авксентий</td>\n",
       "      <td>Фокин</td>\n",
       "      <td>2018-08-28</td>\n",
       "      <td>ultra</td>\n",
       "    </tr>\n",
       "    <tr>\n",
       "      <td>496</td>\n",
       "      <td>1496</td>\n",
       "      <td>36</td>\n",
       "      <td>NaN</td>\n",
       "      <td>Вологда</td>\n",
       "      <td>Трифон</td>\n",
       "      <td>Блохин</td>\n",
       "      <td>2018-01-27</td>\n",
       "      <td>smart</td>\n",
       "    </tr>\n",
       "    <tr>\n",
       "      <td>497</td>\n",
       "      <td>1497</td>\n",
       "      <td>32</td>\n",
       "      <td>NaN</td>\n",
       "      <td>Челябинск</td>\n",
       "      <td>Каролина</td>\n",
       "      <td>Агеева</td>\n",
       "      <td>2018-10-09</td>\n",
       "      <td>smart</td>\n",
       "    </tr>\n",
       "    <tr>\n",
       "      <td>498</td>\n",
       "      <td>1498</td>\n",
       "      <td>68</td>\n",
       "      <td>2018-10-25</td>\n",
       "      <td>Владикавказ</td>\n",
       "      <td>Всеволод</td>\n",
       "      <td>Акимчин</td>\n",
       "      <td>2018-07-19</td>\n",
       "      <td>smart</td>\n",
       "    </tr>\n",
       "    <tr>\n",
       "      <td>499</td>\n",
       "      <td>1499</td>\n",
       "      <td>35</td>\n",
       "      <td>NaN</td>\n",
       "      <td>Пермь</td>\n",
       "      <td>Гектор</td>\n",
       "      <td>Корнилов</td>\n",
       "      <td>2018-09-27</td>\n",
       "      <td>smart</td>\n",
       "    </tr>\n",
       "  </tbody>\n",
       "</table>\n",
       "<p>500 rows × 8 columns</p>\n",
       "</div>"
      ],
      "text/plain": [
       "     user_id  age  churn_date         city first_name  last_name    reg_date  \\\n",
       "0       1000   52         NaN    Краснодар     Рафаил  Верещагин  2018-05-25   \n",
       "1       1001   41         NaN       Москва       Иван       Ежов  2018-11-01   \n",
       "2       1002   59         NaN  Стерлитамак    Евгений  Абрамович  2018-06-17   \n",
       "3       1003   23         NaN       Москва      Белла   Белякова  2018-08-17   \n",
       "4       1004   68         NaN  Новокузнецк    Татьяна   Авдеенко  2018-05-14   \n",
       "..       ...  ...         ...          ...        ...        ...         ...   \n",
       "495     1495   65         NaN      Иркутск  Авксентий      Фокин  2018-08-28   \n",
       "496     1496   36         NaN      Вологда     Трифон     Блохин  2018-01-27   \n",
       "497     1497   32         NaN    Челябинск   Каролина     Агеева  2018-10-09   \n",
       "498     1498   68  2018-10-25  Владикавказ   Всеволод    Акимчин  2018-07-19   \n",
       "499     1499   35         NaN        Пермь     Гектор   Корнилов  2018-09-27   \n",
       "\n",
       "    tariff  \n",
       "0    ultra  \n",
       "1    smart  \n",
       "2    smart  \n",
       "3    ultra  \n",
       "4    ultra  \n",
       "..     ...  \n",
       "495  ultra  \n",
       "496  smart  \n",
       "497  smart  \n",
       "498  smart  \n",
       "499  smart  \n",
       "\n",
       "[500 rows x 8 columns]"
      ]
     },
     "metadata": {},
     "output_type": "display_data"
    },
    {
     "name": "stdout",
     "output_type": "stream",
     "text": [
      "<class 'pandas.core.frame.DataFrame'>\n",
      "RangeIndex: 500 entries, 0 to 499\n",
      "Data columns (total 8 columns):\n",
      "user_id       500 non-null int64\n",
      "age           500 non-null int64\n",
      "churn_date    38 non-null object\n",
      "city          500 non-null object\n",
      "first_name    500 non-null object\n",
      "last_name     500 non-null object\n",
      "reg_date      500 non-null object\n",
      "tariff        500 non-null object\n",
      "dtypes: int64(2), object(6)\n",
      "memory usage: 31.4+ KB\n",
      "None\n"
     ]
    },
    {
     "data": {
      "text/html": [
       "<div>\n",
       "<style scoped>\n",
       "    .dataframe tbody tr th:only-of-type {\n",
       "        vertical-align: middle;\n",
       "    }\n",
       "\n",
       "    .dataframe tbody tr th {\n",
       "        vertical-align: top;\n",
       "    }\n",
       "\n",
       "    .dataframe thead th {\n",
       "        text-align: right;\n",
       "    }\n",
       "</style>\n",
       "<table border=\"1\" class=\"dataframe\">\n",
       "  <thead>\n",
       "    <tr style=\"text-align: right;\">\n",
       "      <th></th>\n",
       "      <th>id</th>\n",
       "      <th>call_date</th>\n",
       "      <th>duration</th>\n",
       "      <th>user_id</th>\n",
       "    </tr>\n",
       "  </thead>\n",
       "  <tbody>\n",
       "    <tr>\n",
       "      <td>0</td>\n",
       "      <td>1000_0</td>\n",
       "      <td>2018-07-25</td>\n",
       "      <td>0.00</td>\n",
       "      <td>1000</td>\n",
       "    </tr>\n",
       "    <tr>\n",
       "      <td>1</td>\n",
       "      <td>1000_1</td>\n",
       "      <td>2018-08-17</td>\n",
       "      <td>0.00</td>\n",
       "      <td>1000</td>\n",
       "    </tr>\n",
       "    <tr>\n",
       "      <td>2</td>\n",
       "      <td>1000_2</td>\n",
       "      <td>2018-06-11</td>\n",
       "      <td>2.85</td>\n",
       "      <td>1000</td>\n",
       "    </tr>\n",
       "    <tr>\n",
       "      <td>3</td>\n",
       "      <td>1000_3</td>\n",
       "      <td>2018-09-21</td>\n",
       "      <td>13.80</td>\n",
       "      <td>1000</td>\n",
       "    </tr>\n",
       "    <tr>\n",
       "      <td>4</td>\n",
       "      <td>1000_4</td>\n",
       "      <td>2018-12-15</td>\n",
       "      <td>5.18</td>\n",
       "      <td>1000</td>\n",
       "    </tr>\n",
       "    <tr>\n",
       "      <td>...</td>\n",
       "      <td>...</td>\n",
       "      <td>...</td>\n",
       "      <td>...</td>\n",
       "      <td>...</td>\n",
       "    </tr>\n",
       "    <tr>\n",
       "      <td>202602</td>\n",
       "      <td>1499_215</td>\n",
       "      <td>2018-12-26</td>\n",
       "      <td>0.76</td>\n",
       "      <td>1499</td>\n",
       "    </tr>\n",
       "    <tr>\n",
       "      <td>202603</td>\n",
       "      <td>1499_216</td>\n",
       "      <td>2018-10-18</td>\n",
       "      <td>18.83</td>\n",
       "      <td>1499</td>\n",
       "    </tr>\n",
       "    <tr>\n",
       "      <td>202604</td>\n",
       "      <td>1499_217</td>\n",
       "      <td>2018-11-10</td>\n",
       "      <td>10.81</td>\n",
       "      <td>1499</td>\n",
       "    </tr>\n",
       "    <tr>\n",
       "      <td>202605</td>\n",
       "      <td>1499_218</td>\n",
       "      <td>2018-10-06</td>\n",
       "      <td>4.27</td>\n",
       "      <td>1499</td>\n",
       "    </tr>\n",
       "    <tr>\n",
       "      <td>202606</td>\n",
       "      <td>1499_219</td>\n",
       "      <td>2018-12-14</td>\n",
       "      <td>19.62</td>\n",
       "      <td>1499</td>\n",
       "    </tr>\n",
       "  </tbody>\n",
       "</table>\n",
       "<p>202607 rows × 4 columns</p>\n",
       "</div>"
      ],
      "text/plain": [
       "              id   call_date  duration  user_id\n",
       "0         1000_0  2018-07-25      0.00     1000\n",
       "1         1000_1  2018-08-17      0.00     1000\n",
       "2         1000_2  2018-06-11      2.85     1000\n",
       "3         1000_3  2018-09-21     13.80     1000\n",
       "4         1000_4  2018-12-15      5.18     1000\n",
       "...          ...         ...       ...      ...\n",
       "202602  1499_215  2018-12-26      0.76     1499\n",
       "202603  1499_216  2018-10-18     18.83     1499\n",
       "202604  1499_217  2018-11-10     10.81     1499\n",
       "202605  1499_218  2018-10-06      4.27     1499\n",
       "202606  1499_219  2018-12-14     19.62     1499\n",
       "\n",
       "[202607 rows x 4 columns]"
      ]
     },
     "metadata": {},
     "output_type": "display_data"
    },
    {
     "name": "stdout",
     "output_type": "stream",
     "text": [
      "<class 'pandas.core.frame.DataFrame'>\n",
      "RangeIndex: 202607 entries, 0 to 202606\n",
      "Data columns (total 4 columns):\n",
      "id           202607 non-null object\n",
      "call_date    202607 non-null object\n",
      "duration     202607 non-null float64\n",
      "user_id      202607 non-null int64\n",
      "dtypes: float64(1), int64(1), object(2)\n",
      "memory usage: 6.2+ MB\n",
      "None\n"
     ]
    },
    {
     "data": {
      "text/html": [
       "<div>\n",
       "<style scoped>\n",
       "    .dataframe tbody tr th:only-of-type {\n",
       "        vertical-align: middle;\n",
       "    }\n",
       "\n",
       "    .dataframe tbody tr th {\n",
       "        vertical-align: top;\n",
       "    }\n",
       "\n",
       "    .dataframe thead th {\n",
       "        text-align: right;\n",
       "    }\n",
       "</style>\n",
       "<table border=\"1\" class=\"dataframe\">\n",
       "  <thead>\n",
       "    <tr style=\"text-align: right;\">\n",
       "      <th></th>\n",
       "      <th>id</th>\n",
       "      <th>message_date</th>\n",
       "      <th>user_id</th>\n",
       "    </tr>\n",
       "  </thead>\n",
       "  <tbody>\n",
       "    <tr>\n",
       "      <td>0</td>\n",
       "      <td>1000_0</td>\n",
       "      <td>2018-06-27</td>\n",
       "      <td>1000</td>\n",
       "    </tr>\n",
       "    <tr>\n",
       "      <td>1</td>\n",
       "      <td>1000_1</td>\n",
       "      <td>2018-10-08</td>\n",
       "      <td>1000</td>\n",
       "    </tr>\n",
       "    <tr>\n",
       "      <td>2</td>\n",
       "      <td>1000_2</td>\n",
       "      <td>2018-08-04</td>\n",
       "      <td>1000</td>\n",
       "    </tr>\n",
       "    <tr>\n",
       "      <td>3</td>\n",
       "      <td>1000_3</td>\n",
       "      <td>2018-06-16</td>\n",
       "      <td>1000</td>\n",
       "    </tr>\n",
       "    <tr>\n",
       "      <td>4</td>\n",
       "      <td>1000_4</td>\n",
       "      <td>2018-12-05</td>\n",
       "      <td>1000</td>\n",
       "    </tr>\n",
       "    <tr>\n",
       "      <td>...</td>\n",
       "      <td>...</td>\n",
       "      <td>...</td>\n",
       "      <td>...</td>\n",
       "    </tr>\n",
       "    <tr>\n",
       "      <td>123031</td>\n",
       "      <td>1499_179</td>\n",
       "      <td>2018-12-12</td>\n",
       "      <td>1499</td>\n",
       "    </tr>\n",
       "    <tr>\n",
       "      <td>123032</td>\n",
       "      <td>1499_180</td>\n",
       "      <td>2018-09-28</td>\n",
       "      <td>1499</td>\n",
       "    </tr>\n",
       "    <tr>\n",
       "      <td>123033</td>\n",
       "      <td>1499_181</td>\n",
       "      <td>2018-09-27</td>\n",
       "      <td>1499</td>\n",
       "    </tr>\n",
       "    <tr>\n",
       "      <td>123034</td>\n",
       "      <td>1499_182</td>\n",
       "      <td>2018-11-15</td>\n",
       "      <td>1499</td>\n",
       "    </tr>\n",
       "    <tr>\n",
       "      <td>123035</td>\n",
       "      <td>1499_183</td>\n",
       "      <td>2018-11-16</td>\n",
       "      <td>1499</td>\n",
       "    </tr>\n",
       "  </tbody>\n",
       "</table>\n",
       "<p>123036 rows × 3 columns</p>\n",
       "</div>"
      ],
      "text/plain": [
       "              id message_date  user_id\n",
       "0         1000_0   2018-06-27     1000\n",
       "1         1000_1   2018-10-08     1000\n",
       "2         1000_2   2018-08-04     1000\n",
       "3         1000_3   2018-06-16     1000\n",
       "4         1000_4   2018-12-05     1000\n",
       "...          ...          ...      ...\n",
       "123031  1499_179   2018-12-12     1499\n",
       "123032  1499_180   2018-09-28     1499\n",
       "123033  1499_181   2018-09-27     1499\n",
       "123034  1499_182   2018-11-15     1499\n",
       "123035  1499_183   2018-11-16     1499\n",
       "\n",
       "[123036 rows x 3 columns]"
      ]
     },
     "metadata": {},
     "output_type": "display_data"
    },
    {
     "name": "stdout",
     "output_type": "stream",
     "text": [
      "<class 'pandas.core.frame.DataFrame'>\n",
      "RangeIndex: 123036 entries, 0 to 123035\n",
      "Data columns (total 3 columns):\n",
      "id              123036 non-null object\n",
      "message_date    123036 non-null object\n",
      "user_id         123036 non-null int64\n",
      "dtypes: int64(1), object(2)\n",
      "memory usage: 2.8+ MB\n",
      "None\n"
     ]
    },
    {
     "data": {
      "text/html": [
       "<div>\n",
       "<style scoped>\n",
       "    .dataframe tbody tr th:only-of-type {\n",
       "        vertical-align: middle;\n",
       "    }\n",
       "\n",
       "    .dataframe tbody tr th {\n",
       "        vertical-align: top;\n",
       "    }\n",
       "\n",
       "    .dataframe thead th {\n",
       "        text-align: right;\n",
       "    }\n",
       "</style>\n",
       "<table border=\"1\" class=\"dataframe\">\n",
       "  <thead>\n",
       "    <tr style=\"text-align: right;\">\n",
       "      <th></th>\n",
       "      <th>Unnamed: 0</th>\n",
       "      <th>id</th>\n",
       "      <th>mb_used</th>\n",
       "      <th>session_date</th>\n",
       "      <th>user_id</th>\n",
       "    </tr>\n",
       "  </thead>\n",
       "  <tbody>\n",
       "    <tr>\n",
       "      <td>0</td>\n",
       "      <td>0</td>\n",
       "      <td>1000_0</td>\n",
       "      <td>112.95</td>\n",
       "      <td>2018-11-25</td>\n",
       "      <td>1000</td>\n",
       "    </tr>\n",
       "    <tr>\n",
       "      <td>1</td>\n",
       "      <td>1</td>\n",
       "      <td>1000_1</td>\n",
       "      <td>1052.81</td>\n",
       "      <td>2018-09-07</td>\n",
       "      <td>1000</td>\n",
       "    </tr>\n",
       "    <tr>\n",
       "      <td>2</td>\n",
       "      <td>2</td>\n",
       "      <td>1000_2</td>\n",
       "      <td>1197.26</td>\n",
       "      <td>2018-06-25</td>\n",
       "      <td>1000</td>\n",
       "    </tr>\n",
       "    <tr>\n",
       "      <td>3</td>\n",
       "      <td>3</td>\n",
       "      <td>1000_3</td>\n",
       "      <td>550.27</td>\n",
       "      <td>2018-08-22</td>\n",
       "      <td>1000</td>\n",
       "    </tr>\n",
       "    <tr>\n",
       "      <td>4</td>\n",
       "      <td>4</td>\n",
       "      <td>1000_4</td>\n",
       "      <td>302.56</td>\n",
       "      <td>2018-09-24</td>\n",
       "      <td>1000</td>\n",
       "    </tr>\n",
       "    <tr>\n",
       "      <td>...</td>\n",
       "      <td>...</td>\n",
       "      <td>...</td>\n",
       "      <td>...</td>\n",
       "      <td>...</td>\n",
       "      <td>...</td>\n",
       "    </tr>\n",
       "    <tr>\n",
       "      <td>149391</td>\n",
       "      <td>149391</td>\n",
       "      <td>1499_152</td>\n",
       "      <td>318.90</td>\n",
       "      <td>2018-10-03</td>\n",
       "      <td>1499</td>\n",
       "    </tr>\n",
       "    <tr>\n",
       "      <td>149392</td>\n",
       "      <td>149392</td>\n",
       "      <td>1499_153</td>\n",
       "      <td>490.13</td>\n",
       "      <td>2018-12-14</td>\n",
       "      <td>1499</td>\n",
       "    </tr>\n",
       "    <tr>\n",
       "      <td>149393</td>\n",
       "      <td>149393</td>\n",
       "      <td>1499_154</td>\n",
       "      <td>0.00</td>\n",
       "      <td>2018-10-27</td>\n",
       "      <td>1499</td>\n",
       "    </tr>\n",
       "    <tr>\n",
       "      <td>149394</td>\n",
       "      <td>149394</td>\n",
       "      <td>1499_155</td>\n",
       "      <td>1246.32</td>\n",
       "      <td>2018-11-26</td>\n",
       "      <td>1499</td>\n",
       "    </tr>\n",
       "    <tr>\n",
       "      <td>149395</td>\n",
       "      <td>149395</td>\n",
       "      <td>1499_156</td>\n",
       "      <td>544.37</td>\n",
       "      <td>2018-10-26</td>\n",
       "      <td>1499</td>\n",
       "    </tr>\n",
       "  </tbody>\n",
       "</table>\n",
       "<p>149396 rows × 5 columns</p>\n",
       "</div>"
      ],
      "text/plain": [
       "        Unnamed: 0        id  mb_used session_date  user_id\n",
       "0                0    1000_0   112.95   2018-11-25     1000\n",
       "1                1    1000_1  1052.81   2018-09-07     1000\n",
       "2                2    1000_2  1197.26   2018-06-25     1000\n",
       "3                3    1000_3   550.27   2018-08-22     1000\n",
       "4                4    1000_4   302.56   2018-09-24     1000\n",
       "...            ...       ...      ...          ...      ...\n",
       "149391      149391  1499_152   318.90   2018-10-03     1499\n",
       "149392      149392  1499_153   490.13   2018-12-14     1499\n",
       "149393      149393  1499_154     0.00   2018-10-27     1499\n",
       "149394      149394  1499_155  1246.32   2018-11-26     1499\n",
       "149395      149395  1499_156   544.37   2018-10-26     1499\n",
       "\n",
       "[149396 rows x 5 columns]"
      ]
     },
     "metadata": {},
     "output_type": "display_data"
    },
    {
     "name": "stdout",
     "output_type": "stream",
     "text": [
      "<class 'pandas.core.frame.DataFrame'>\n",
      "RangeIndex: 149396 entries, 0 to 149395\n",
      "Data columns (total 5 columns):\n",
      "Unnamed: 0      149396 non-null int64\n",
      "id              149396 non-null object\n",
      "mb_used         149396 non-null float64\n",
      "session_date    149396 non-null object\n",
      "user_id         149396 non-null int64\n",
      "dtypes: float64(1), int64(2), object(2)\n",
      "memory usage: 5.7+ MB\n",
      "None\n"
     ]
    },
    {
     "data": {
      "text/html": [
       "<div>\n",
       "<style scoped>\n",
       "    .dataframe tbody tr th:only-of-type {\n",
       "        vertical-align: middle;\n",
       "    }\n",
       "\n",
       "    .dataframe tbody tr th {\n",
       "        vertical-align: top;\n",
       "    }\n",
       "\n",
       "    .dataframe thead th {\n",
       "        text-align: right;\n",
       "    }\n",
       "</style>\n",
       "<table border=\"1\" class=\"dataframe\">\n",
       "  <thead>\n",
       "    <tr style=\"text-align: right;\">\n",
       "      <th></th>\n",
       "      <th>messages_included</th>\n",
       "      <th>mb_per_month_included</th>\n",
       "      <th>minutes_included</th>\n",
       "      <th>rub_monthly_fee</th>\n",
       "      <th>rub_per_gb</th>\n",
       "      <th>rub_per_message</th>\n",
       "      <th>rub_per_minute</th>\n",
       "      <th>tariff_name</th>\n",
       "    </tr>\n",
       "  </thead>\n",
       "  <tbody>\n",
       "    <tr>\n",
       "      <td>0</td>\n",
       "      <td>50</td>\n",
       "      <td>15360</td>\n",
       "      <td>500</td>\n",
       "      <td>550</td>\n",
       "      <td>200</td>\n",
       "      <td>3</td>\n",
       "      <td>3</td>\n",
       "      <td>smart</td>\n",
       "    </tr>\n",
       "    <tr>\n",
       "      <td>1</td>\n",
       "      <td>1000</td>\n",
       "      <td>30720</td>\n",
       "      <td>3000</td>\n",
       "      <td>1950</td>\n",
       "      <td>150</td>\n",
       "      <td>1</td>\n",
       "      <td>1</td>\n",
       "      <td>ultra</td>\n",
       "    </tr>\n",
       "  </tbody>\n",
       "</table>\n",
       "</div>"
      ],
      "text/plain": [
       "   messages_included  mb_per_month_included  minutes_included  \\\n",
       "0                 50                  15360               500   \n",
       "1               1000                  30720              3000   \n",
       "\n",
       "   rub_monthly_fee  rub_per_gb  rub_per_message  rub_per_minute tariff_name  \n",
       "0              550         200                3               3       smart  \n",
       "1             1950         150                1               1       ultra  "
      ]
     },
     "metadata": {},
     "output_type": "display_data"
    },
    {
     "name": "stdout",
     "output_type": "stream",
     "text": [
      "<class 'pandas.core.frame.DataFrame'>\n",
      "RangeIndex: 2 entries, 0 to 1\n",
      "Data columns (total 8 columns):\n",
      "messages_included        2 non-null int64\n",
      "mb_per_month_included    2 non-null int64\n",
      "minutes_included         2 non-null int64\n",
      "rub_monthly_fee          2 non-null int64\n",
      "rub_per_gb               2 non-null int64\n",
      "rub_per_message          2 non-null int64\n",
      "rub_per_minute           2 non-null int64\n",
      "tariff_name              2 non-null object\n",
      "dtypes: int64(7), object(1)\n",
      "memory usage: 256.0+ bytes\n",
      "None\n"
     ]
    }
   ],
   "source": [
    "import pandas as pd\n",
    "import math\n",
    "import matplotlib.pyplot as plt\n",
    "import matplotlib\n",
    "import numpy as np\n",
    "from scipy import stats as st\n",
    "matplotlib.style.use('ggplot')"
   ]
  },
  {
   "cell_type": "code",
   "execution_count": null,
   "metadata": {},
   "outputs": [],
   "source": [
    "df_names = ['users', 'calls', 'messages', 'internet', 'tariffs']\n",
    "dict_df = {}\n",
    "for df_name in df_names:\n",
    "    dict_df[df_name] = pd.read_csv('/datasets/' + df_name + '.csv')\n",
    "    display(dict_df[df_name])\n",
    "    print(dict_df[df_name].info())"
   ]
  },
  {
   "cell_type": "markdown",
   "metadata": {},
   "source": [
    "<div class=\"alert alert-block alert-success\">\n",
    "<b>Success:</b> Здорово, что просмотр датасетов автоматизирован - хорошая работа!\n",
    "</div>"
   ]
  },
  {
   "cell_type": "markdown",
   "metadata": {},
   "source": [
    "<div class=\"alert alert-block alert-warning\">\n",
    "<b>Remarks:</b> \n",
    "    \n",
    "    \n",
    "стоит отделять импорты от открытия датасета. Это делается для того, чтобы иметь возмонжность в любой момент дописать нвоые библиотеки, перезапустить ячейку с импортами и продолжить работу, не перетирая датасет.\n",
    "</div>"
   ]
  },
  {
   "cell_type": "markdown",
   "metadata": {},
   "source": [
    "<div class=\"alert alert-block alert-info\">\n",
    "    \n",
    "✔ Хороший совет. Поправил. Спасибо!\n",
    "</div>"
   ]
  },
  {
   "cell_type": "markdown",
   "metadata": {},
   "source": [
    "<div style=\"border:solid blue 1px; padding: 20px\">\n",
    "    \n",
    "##### Таблица \"users\" \n",
    "* Пропуски в данных только в таблице \"users\" столбец \"churn_date\". Заполнять не нужно, т.к. пропуск означает, что тариф еще действует.\n",
    "* \"reg_date\" можно перевести в datetime\n",
    "    \n",
    "##### Таблица \"calls\"\n",
    "* На первый взгляд \"id\" строится из \"user_id\" прибавлением цифры через знак \"_\". Для экономии места можно привести к int. Но не обязательно\n",
    "* \"duration\" можно перевести в integer, округлив до целого вверх, потому как в \"Мегалайн\" поминутная тарификация\n",
    "* \"call_date\" - в datetime\n",
    "    \n",
    "##### Таблица \"messages\"\n",
    "* \"id\" - похожая ситуация как в таблице \"calls\"\n",
    "* \"message_date\" - в datetime\n",
    "    \n",
    "##### Таблица \"internet\"\n",
    "* \"Unnamed: 0\" - столбец дублирующий индекс. Чтобы не мешал, нужно от него избавиться\n",
    "* \"id\" - похожая ситуация как в таблице \"calls\"\n",
    "* \"mb_used\" - также как и \"duration\" в таблице \"calls\"\n",
    "* \"session_date\" - в datetime\n",
    "    \n",
    "##### Таблица \"internet\"\n",
    "* Тут все на месте\n",
    "    \n",
    "</div>"
   ]
  },
  {
   "cell_type": "markdown",
   "metadata": {},
   "source": [
    "## Шаг 2. Предобработка данных"
   ]
  },
  {
   "cell_type": "markdown",
   "metadata": {},
   "source": [
    "<a id='2-bullet'></a>"
   ]
  },
  {
   "cell_type": "markdown",
   "metadata": {},
   "source": [
    "### 1. Приведение данных к нужным типам"
   ]
  },
  {
   "cell_type": "code",
   "execution_count": 2,
   "metadata": {
    "scrolled": true
   },
   "outputs": [
    {
     "name": "stdout",
     "output_type": "stream",
     "text": [
      "users reg_date \n",
      " count                     500\n",
      "unique                    270\n",
      "top       2018-05-28 00:00:00\n",
      "freq                        8\n",
      "first     2018-01-01 00:00:00\n",
      "last      2018-12-31 00:00:00\n",
      "Name: reg_date, dtype: object \n",
      "\n",
      "users churn_date \n",
      " count                      38\n",
      "unique                     33\n",
      "top       2018-10-03 00:00:00\n",
      "freq                        2\n",
      "first     2018-08-17 00:00:00\n",
      "last      2018-12-30 00:00:00\n",
      "Name: churn_date, dtype: object \n",
      "\n",
      "calls call_date \n",
      " count                  202607\n",
      "unique                    365\n",
      "top       2018-12-31 00:00:00\n",
      "freq                     1435\n",
      "first     2018-01-01 00:00:00\n",
      "last      2018-12-31 00:00:00\n",
      "Name: call_date, dtype: object \n",
      "\n",
      "messages message_date \n",
      " count                  123036\n",
      "unique                    364\n",
      "top       2018-12-31 00:00:00\n",
      "freq                      859\n",
      "first     2018-01-02 00:00:00\n",
      "last      2018-12-31 00:00:00\n",
      "Name: message_date, dtype: object \n",
      "\n",
      "internet session_date \n",
      " count                  149396\n",
      "unique                    365\n",
      "top       2018-12-31 00:00:00\n",
      "freq                     1057\n",
      "first     2018-01-01 00:00:00\n",
      "last      2018-12-31 00:00:00\n",
      "Name: session_date, dtype: object \n",
      "\n"
     ]
    }
   ],
   "source": [
    "#Для начала приведем в datetime столбцы с датами. Сделаем церез цикл. \n",
    "# Для этого создадим словарь, где укажем таблицы и столбцы с датами\n",
    "\n",
    "dict_to_datetime = {'users': ['reg_date', 'churn_date'], \n",
    "                    'calls': ['call_date'], \n",
    "                    'messages': ['message_date'],\n",
    "                    'internet': ['session_date']\n",
    "                   }\n",
    "for df_name in dict_to_datetime:\n",
    "    for column_name in dict_to_datetime[df_name]:\n",
    "        dict_df[df_name][column_name] = pd.to_datetime(dict_df[df_name][column_name], \n",
    "                                                       format='%Y-%m-%d')\n",
    "        print(df_name, column_name, '\\n', dict_df[df_name][column_name].describe(), '\\n')\n"
   ]
  },
  {
   "cell_type": "code",
   "execution_count": 3,
   "metadata": {},
   "outputs": [
    {
     "name": "stdout",
     "output_type": "stream",
     "text": [
      "count    202607.000000\n",
      "mean          7.158198\n",
      "std           5.959173\n",
      "min           0.000000\n",
      "25%           2.000000\n",
      "50%           6.000000\n",
      "75%          11.000000\n",
      "max          38.000000\n",
      "Name: duration, dtype: float64\n"
     ]
    },
    {
     "data": {
      "text/plain": [
       "count    149396.000000\n",
       "mean        370.622098\n",
       "std         278.387019\n",
       "min           0.000000\n",
       "25%         139.000000\n",
       "50%         349.000000\n",
       "75%         560.000000\n",
       "max        1725.000000\n",
       "Name: mb_used, dtype: float64"
      ]
     },
     "execution_count": 3,
     "metadata": {},
     "output_type": "execute_result"
    }
   ],
   "source": [
    "# Теперь приведем к integer \"duration\" из \"calls\" и \"mb_used\" из \"internet\"\n",
    "\n",
    "dict_df['calls']['duration'] = (dict_df['calls']['duration']\n",
    "                                .apply(lambda x: math.ceil(x))\n",
    "                                .astype('int'))\n",
    "print(dict_df['calls']['duration'].describe())\n",
    "dict_df['internet']['mb_used'] = (dict_df['internet']['mb_used']\n",
    "                                  .apply(lambda x: math.ceil(x))\n",
    "                                  .astype('int'))\n",
    "dict_df['internet']['mb_used'].describe()"
   ]
  },
  {
   "cell_type": "markdown",
   "metadata": {},
   "source": [
    "<div class=\"alert alert-block alert-success\">\n",
    "<b>Success:</b> Хорошо, что не забыли про округление\n",
    "</div>"
   ]
  },
  {
   "cell_type": "markdown",
   "metadata": {},
   "source": [
    "<div style=\"border:solid blue 1px; padding: 20px\">\n",
    "    \n",
    "* Странно, что СМСок 1 января никто не писал, хотя звонки и интернет-сессии были.\n",
    "    \n",
    "</div>"
   ]
  },
  {
   "cell_type": "markdown",
   "metadata": {},
   "source": [
    "<a id='3-bullet'></a>"
   ]
  },
  {
   "cell_type": "markdown",
   "metadata": {},
   "source": [
    "### 2. Ошибки в данных"
   ]
  },
  {
   "cell_type": "code",
   "execution_count": 33,
   "metadata": {},
   "outputs": [
    {
     "name": "stdout",
     "output_type": "stream",
     "text": [
      "count    162994.000000\n",
      "mean          8.897880\n",
      "std           5.353761\n",
      "min           1.000000\n",
      "25%           5.000000\n",
      "50%           8.000000\n",
      "75%          12.000000\n",
      "max          38.000000\n",
      "Name: duration, dtype: float64\n"
     ]
    },
    {
     "data": {
      "image/png": "[encoded data removed]",
      "text/plain": [
       "<Figure size 432x288 with 1 Axes>"
      ]
     },
     "metadata": {},
     "output_type": "display_data"
    },
    {
     "name": "stdout",
     "output_type": "stream",
     "text": [
      "count    202607.000000\n",
      "mean          7.158198\n",
      "std           5.959173\n",
      "min           0.000000\n",
      "25%           2.000000\n",
      "50%           6.000000\n",
      "75%          11.000000\n",
      "max          38.000000\n",
      "Name: duration, dtype: float64\n"
     ]
    },
    {
     "data": {
      "text/plain": [
       "array([[<matplotlib.axes._subplots.AxesSubplot object at 0x7f7f0b4b59d0>]],\n",
       "      dtype=object)"
      ]
     },
     "execution_count": 33,
     "metadata": {},
     "output_type": "execute_result"
    },
    {
     "data": {
      "image/png": "[encoded data removed]",
      "text/plain": [
       "<Figure size 432x288 with 1 Axes>"
      ]
     },
     "metadata": {},
     "output_type": "display_data"
    }
   ],
   "source": [
    "# Избавимся от \"Unnamed: 0\" в таблице \"internet\"\n",
    "dict_df['internet'] = dict_df['internet'].loc[:, ~dict_df['internet'].columns.str.contains('^Unnamed')]\n",
    "\n",
    "# Нулевые длительности звонков. Если их убрать то гистограмма - просто загляденье (распределение Пуассона)\n",
    "print(dict_df['calls'][dict_df['calls']['duration'] != 0]['duration'].describe())\n",
    "dict_df['calls'][dict_df['calls']['duration'] != 0].hist('duration', bins=37)\n",
    "plt.show()\n",
    "# Но если оставляем нули то среднее и медина смещаются влево на 2 минуты\n",
    "print(dict_df['calls']['duration'].describe())\n",
    "dict_df['internet'][dict_df['internet']['mb_used'] != 0].hist('mb_used', bins=37)"
   ]
  },
  {
   "cell_type": "markdown",
   "metadata": {},
   "source": [
    "<div class=\"alert alert-block alert-warning\">\n",
    "<b>Remarks:</b> нужен вывод по нулевым звонкам и интернет-сессиям. Обрати внимание, что и пропуски в этих столбцах есть тоже\n",
    "</div>"
   ]
  },
  {
   "cell_type": "markdown",
   "metadata": {},
   "source": [
    "<div class=\"alert alert-block alert-info\">\n",
    "\n",
    "* Гистограммы без нулей выглядят нормально. Если оставляем нули то среднее и медина смещаются влево на 2 минуты для звонков\n",
    "* Нулевые значения длительности звонков и интернет-сессий для надежности можно заменить на NaN, если мы боимся ошибок при расчете средних значений\n",
    "</div>"
   ]
  },
  {
   "cell_type": "markdown",
   "metadata": {},
   "source": [
    "<div style=\"border:solid blue 1px; padding: 20px\">\n",
    "    \n",
    "* Критичных ошибок обнаружить не удалось. Посмотрим далее при составлении сводных таблиц для расчета выручки\n",
    "    \n",
    "</div>"
   ]
  },
  {
   "cell_type": "markdown",
   "metadata": {},
   "source": [
    "<a id='4-bullet'></a>"
   ]
  },
  {
   "cell_type": "markdown",
   "metadata": {},
   "source": [
    "### 3. Количество сделанных звонков и израсходованных минут разговора по месяцам."
   ]
  },
  {
   "cell_type": "code",
   "execution_count": 5,
   "metadata": {
    "scrolled": true
   },
   "outputs": [
    {
     "name": "stdout",
     "output_type": "stream",
     "text": [
      "           user_id        month        count     duration\n",
      "count  3168.000000  3168.000000  3168.000000  3168.000000\n",
      "mean   1251.477588     8.317551    51.450126   457.797033\n",
      "std     144.574946     2.907181    26.439188   237.423514\n",
      "min    1000.000000     1.000000     1.000000     1.000000\n",
      "25%    1126.000000     6.000000    33.000000   290.750000\n",
      "50%    1254.000000     9.000000    50.000000   447.500000\n",
      "75%    1379.000000    11.000000    67.000000   592.250000\n",
      "max    1499.000000    12.000000   190.000000  1673.000000\n"
     ]
    }
   ],
   "source": [
    "dict_df['calls']['month'] = dict_df['calls']['call_date'].dt.month\n",
    "\n",
    "users_calls_per_month = (dict_df['calls'][dict_df['calls']['duration'] != 0]\n",
    "                         .pivot_table(index=['user_id', 'month'],\n",
    "                                      values='duration',\n",
    "                                      aggfunc=['count', 'sum']))\n",
    "users_calls_per_month.columns = ['count', 'duration']\n",
    "users_calls_per_month.reset_index(inplace=True)\n",
    "print(users_calls_per_month.describe())"
   ]
  },
  {
   "cell_type": "code",
   "execution_count": 6,
   "metadata": {},
   "outputs": [
    {
     "data": {
      "text/html": [
       "<div>\n",
       "<style scoped>\n",
       "    .dataframe tbody tr th:only-of-type {\n",
       "        vertical-align: middle;\n",
       "    }\n",
       "\n",
       "    .dataframe tbody tr th {\n",
       "        vertical-align: top;\n",
       "    }\n",
       "\n",
       "    .dataframe thead th {\n",
       "        text-align: right;\n",
       "    }\n",
       "</style>\n",
       "<table border=\"1\" class=\"dataframe\">\n",
       "  <thead>\n",
       "    <tr style=\"text-align: right;\">\n",
       "      <th></th>\n",
       "      <th>user_id</th>\n",
       "      <th>age</th>\n",
       "      <th>churn_date</th>\n",
       "      <th>city</th>\n",
       "      <th>first_name</th>\n",
       "      <th>last_name</th>\n",
       "      <th>reg_date</th>\n",
       "      <th>tariff</th>\n",
       "    </tr>\n",
       "  </thead>\n",
       "  <tbody>\n",
       "    <tr>\n",
       "      <td>91</td>\n",
       "      <td>1091</td>\n",
       "      <td>36</td>\n",
       "      <td>NaT</td>\n",
       "      <td>Набережные Челны</td>\n",
       "      <td>Вера</td>\n",
       "      <td>Суслова</td>\n",
       "      <td>2018-05-08</td>\n",
       "      <td>ultra</td>\n",
       "    </tr>\n",
       "    <tr>\n",
       "      <td>106</td>\n",
       "      <td>1106</td>\n",
       "      <td>67</td>\n",
       "      <td>NaT</td>\n",
       "      <td>Калуга</td>\n",
       "      <td>Исаак</td>\n",
       "      <td>Костин</td>\n",
       "      <td>2018-04-26</td>\n",
       "      <td>ultra</td>\n",
       "    </tr>\n",
       "    <tr>\n",
       "      <td>128</td>\n",
       "      <td>1128</td>\n",
       "      <td>51</td>\n",
       "      <td>2018-12-23</td>\n",
       "      <td>Волжский</td>\n",
       "      <td>Ксения</td>\n",
       "      <td>Агаева</td>\n",
       "      <td>2018-12-15</td>\n",
       "      <td>ultra</td>\n",
       "    </tr>\n",
       "    <tr>\n",
       "      <td>231</td>\n",
       "      <td>1231</td>\n",
       "      <td>63</td>\n",
       "      <td>NaT</td>\n",
       "      <td>Чебоксары</td>\n",
       "      <td>Касьян</td>\n",
       "      <td>Авдюков</td>\n",
       "      <td>2018-05-23</td>\n",
       "      <td>ultra</td>\n",
       "    </tr>\n",
       "    <tr>\n",
       "      <td>328</td>\n",
       "      <td>1328</td>\n",
       "      <td>44</td>\n",
       "      <td>NaT</td>\n",
       "      <td>Мурманск</td>\n",
       "      <td>Рауль</td>\n",
       "      <td>Аркадьев</td>\n",
       "      <td>2018-10-16</td>\n",
       "      <td>ultra</td>\n",
       "    </tr>\n",
       "    <tr>\n",
       "      <td>371</td>\n",
       "      <td>1371</td>\n",
       "      <td>50</td>\n",
       "      <td>2018-12-30</td>\n",
       "      <td>Омск</td>\n",
       "      <td>Ириней</td>\n",
       "      <td>Трофимов</td>\n",
       "      <td>2018-12-25</td>\n",
       "      <td>smart</td>\n",
       "    </tr>\n",
       "    <tr>\n",
       "      <td>473</td>\n",
       "      <td>1473</td>\n",
       "      <td>18</td>\n",
       "      <td>NaT</td>\n",
       "      <td>Красноярск</td>\n",
       "      <td>Николай</td>\n",
       "      <td>Лебедев</td>\n",
       "      <td>2018-08-05</td>\n",
       "      <td>ultra</td>\n",
       "    </tr>\n",
       "    <tr>\n",
       "      <td>489</td>\n",
       "      <td>1489</td>\n",
       "      <td>35</td>\n",
       "      <td>NaT</td>\n",
       "      <td>Санкт-Петербург</td>\n",
       "      <td>Павел</td>\n",
       "      <td>Гончаров</td>\n",
       "      <td>2018-08-15</td>\n",
       "      <td>smart</td>\n",
       "    </tr>\n",
       "  </tbody>\n",
       "</table>\n",
       "</div>"
      ],
      "text/plain": [
       "     user_id  age churn_date              city first_name last_name  \\\n",
       "91      1091   36        NaT  Набережные Челны       Вера   Суслова   \n",
       "106     1106   67        NaT            Калуга      Исаак    Костин   \n",
       "128     1128   51 2018-12-23          Волжский     Ксения    Агаева   \n",
       "231     1231   63        NaT         Чебоксары     Касьян   Авдюков   \n",
       "328     1328   44        NaT          Мурманск      Рауль  Аркадьев   \n",
       "371     1371   50 2018-12-30              Омск     Ириней  Трофимов   \n",
       "473     1473   18        NaT        Красноярск    Николай   Лебедев   \n",
       "489     1489   35        NaT   Санкт-Петербург      Павел  Гончаров   \n",
       "\n",
       "      reg_date tariff  \n",
       "91  2018-05-08  ultra  \n",
       "106 2018-04-26  ultra  \n",
       "128 2018-12-15  ultra  \n",
       "231 2018-05-23  ultra  \n",
       "328 2018-10-16  ultra  \n",
       "371 2018-12-25  smart  \n",
       "473 2018-08-05  ultra  \n",
       "489 2018-08-15  smart  "
      ]
     },
     "metadata": {},
     "output_type": "display_data"
    }
   ],
   "source": [
    "#Проверим пользователей, не совершивших звонков\n",
    "users_with_calls = users_calls_per_month['user_id'].unique()\n",
    "users_no_calls = dict_df['users'].query('user_id not in @users_with_calls')\n",
    "display(users_no_calls)"
   ]
  },
  {
   "cell_type": "markdown",
   "metadata": {},
   "source": [
    "<div style=\"border:solid blue 1px; padding: 20px\">\n",
    "    \n",
    "* Всего 492 пользователя. Значит 8 не совершили ни одного звонка за 2018\n",
    "* Двое из них не успели попользоваться тарифом и месяца. Остальные возможно пользовались другими услугами. Проверим ниже\n",
    "    \n",
    "</div>"
   ]
  },
  {
   "cell_type": "markdown",
   "metadata": {},
   "source": [
    "<div class=\"alert alert-block alert-success\">\n",
    "<b>Success:</b> Отлично\n",
    "</div>"
   ]
  },
  {
   "cell_type": "markdown",
   "metadata": {},
   "source": [
    "<a id='5-bullet'></a>"
   ]
  },
  {
   "cell_type": "markdown",
   "metadata": {},
   "source": [
    "### 4. Количество отправленных сообщений по месяцам."
   ]
  },
  {
   "cell_type": "code",
   "execution_count": 7,
   "metadata": {},
   "outputs": [
    {
     "name": "stdout",
     "output_type": "stream",
     "text": [
      "      user_id  month  count\n",
      "0        1000      5     22\n",
      "1        1000      6     60\n",
      "2        1000      7     75\n",
      "3        1000      8     81\n",
      "4        1000      9     57\n",
      "...       ...    ...    ...\n",
      "2712     1498     10     42\n",
      "2713     1499      9     11\n",
      "2714     1499     10     48\n",
      "2715     1499     11     59\n",
      "2716     1499     12     66\n",
      "\n",
      "[2717 rows x 3 columns]\n"
     ]
    }
   ],
   "source": [
    "dict_df['messages']['month'] = dict_df['messages']['message_date'].dt.month\n",
    "\n",
    "users_messages_per_month = (dict_df['messages']\n",
    "                            .pivot_table(index=['user_id', 'month'],\n",
    "                                         values='id',\n",
    "                                         aggfunc='count'))\n",
    "users_messages_per_month.columns = ['count']\n",
    "users_messages_per_month.reset_index(inplace=True)\n",
    "print(users_messages_per_month)"
   ]
  },
  {
   "cell_type": "code",
   "execution_count": 8,
   "metadata": {
    "scrolled": false
   },
   "outputs": [
    {
     "data": {
      "text/html": [
       "<div>\n",
       "<style scoped>\n",
       "    .dataframe tbody tr th:only-of-type {\n",
       "        vertical-align: middle;\n",
       "    }\n",
       "\n",
       "    .dataframe tbody tr th {\n",
       "        vertical-align: top;\n",
       "    }\n",
       "\n",
       "    .dataframe thead th {\n",
       "        text-align: right;\n",
       "    }\n",
       "</style>\n",
       "<table border=\"1\" class=\"dataframe\">\n",
       "  <thead>\n",
       "    <tr style=\"text-align: right;\">\n",
       "      <th></th>\n",
       "      <th>user_id</th>\n",
       "      <th>age</th>\n",
       "      <th>churn_date</th>\n",
       "      <th>city</th>\n",
       "      <th>first_name</th>\n",
       "      <th>last_name</th>\n",
       "      <th>reg_date</th>\n",
       "      <th>tariff</th>\n",
       "    </tr>\n",
       "  </thead>\n",
       "  <tbody>\n",
       "    <tr>\n",
       "      <td>1</td>\n",
       "      <td>1001</td>\n",
       "      <td>41</td>\n",
       "      <td>NaT</td>\n",
       "      <td>Москва</td>\n",
       "      <td>Иван</td>\n",
       "      <td>Ежов</td>\n",
       "      <td>2018-11-01</td>\n",
       "      <td>smart</td>\n",
       "    </tr>\n",
       "    <tr>\n",
       "      <td>6</td>\n",
       "      <td>1006</td>\n",
       "      <td>21</td>\n",
       "      <td>NaT</td>\n",
       "      <td>Ульяновск</td>\n",
       "      <td>Леонид</td>\n",
       "      <td>Ермолаев</td>\n",
       "      <td>2018-02-26</td>\n",
       "      <td>smart</td>\n",
       "    </tr>\n",
       "    <tr>\n",
       "      <td>10</td>\n",
       "      <td>1010</td>\n",
       "      <td>26</td>\n",
       "      <td>NaT</td>\n",
       "      <td>Тюмень</td>\n",
       "      <td>Эдуард</td>\n",
       "      <td>Кононов</td>\n",
       "      <td>2018-08-05</td>\n",
       "      <td>smart</td>\n",
       "    </tr>\n",
       "    <tr>\n",
       "      <td>17</td>\n",
       "      <td>1017</td>\n",
       "      <td>73</td>\n",
       "      <td>NaT</td>\n",
       "      <td>Краснодар</td>\n",
       "      <td>Мария</td>\n",
       "      <td>Аленникова</td>\n",
       "      <td>2018-05-22</td>\n",
       "      <td>smart</td>\n",
       "    </tr>\n",
       "    <tr>\n",
       "      <td>24</td>\n",
       "      <td>1024</td>\n",
       "      <td>73</td>\n",
       "      <td>NaT</td>\n",
       "      <td>Санкт-Петербург</td>\n",
       "      <td>Иулиан</td>\n",
       "      <td>Антипов</td>\n",
       "      <td>2018-10-31</td>\n",
       "      <td>ultra</td>\n",
       "    </tr>\n",
       "    <tr>\n",
       "      <td>...</td>\n",
       "      <td>...</td>\n",
       "      <td>...</td>\n",
       "      <td>...</td>\n",
       "      <td>...</td>\n",
       "      <td>...</td>\n",
       "      <td>...</td>\n",
       "      <td>...</td>\n",
       "      <td>...</td>\n",
       "    </tr>\n",
       "    <tr>\n",
       "      <td>462</td>\n",
       "      <td>1462</td>\n",
       "      <td>72</td>\n",
       "      <td>NaT</td>\n",
       "      <td>Тольятти</td>\n",
       "      <td>Алёна</td>\n",
       "      <td>Абрамычева</td>\n",
       "      <td>2018-10-29</td>\n",
       "      <td>smart</td>\n",
       "    </tr>\n",
       "    <tr>\n",
       "      <td>466</td>\n",
       "      <td>1466</td>\n",
       "      <td>37</td>\n",
       "      <td>NaT</td>\n",
       "      <td>Новосибирск</td>\n",
       "      <td>Рубен</td>\n",
       "      <td>Шевцов</td>\n",
       "      <td>2018-02-28</td>\n",
       "      <td>ultra</td>\n",
       "    </tr>\n",
       "    <tr>\n",
       "      <td>469</td>\n",
       "      <td>1469</td>\n",
       "      <td>41</td>\n",
       "      <td>NaT</td>\n",
       "      <td>Сочи</td>\n",
       "      <td>Аксён</td>\n",
       "      <td>Абалкин</td>\n",
       "      <td>2018-07-06</td>\n",
       "      <td>ultra</td>\n",
       "    </tr>\n",
       "    <tr>\n",
       "      <td>479</td>\n",
       "      <td>1479</td>\n",
       "      <td>40</td>\n",
       "      <td>NaT</td>\n",
       "      <td>Хабаровск</td>\n",
       "      <td>Игорь</td>\n",
       "      <td>Богданов</td>\n",
       "      <td>2018-07-03</td>\n",
       "      <td>smart</td>\n",
       "    </tr>\n",
       "    <tr>\n",
       "      <td>494</td>\n",
       "      <td>1494</td>\n",
       "      <td>62</td>\n",
       "      <td>NaT</td>\n",
       "      <td>Омск</td>\n",
       "      <td>Ренат</td>\n",
       "      <td>Андропов</td>\n",
       "      <td>2018-08-17</td>\n",
       "      <td>smart</td>\n",
       "    </tr>\n",
       "  </tbody>\n",
       "</table>\n",
       "<p>74 rows × 8 columns</p>\n",
       "</div>"
      ],
      "text/plain": [
       "     user_id  age churn_date             city first_name   last_name  \\\n",
       "1       1001   41        NaT           Москва       Иван        Ежов   \n",
       "6       1006   21        NaT        Ульяновск     Леонид    Ермолаев   \n",
       "10      1010   26        NaT           Тюмень     Эдуард     Кононов   \n",
       "17      1017   73        NaT        Краснодар      Мария  Аленникова   \n",
       "24      1024   73        NaT  Санкт-Петербург     Иулиан     Антипов   \n",
       "..       ...  ...        ...              ...        ...         ...   \n",
       "462     1462   72        NaT         Тольятти      Алёна  Абрамычева   \n",
       "466     1466   37        NaT      Новосибирск      Рубен      Шевцов   \n",
       "469     1469   41        NaT             Сочи      Аксён     Абалкин   \n",
       "479     1479   40        NaT        Хабаровск      Игорь    Богданов   \n",
       "494     1494   62        NaT             Омск      Ренат    Андропов   \n",
       "\n",
       "      reg_date tariff  \n",
       "1   2018-11-01  smart  \n",
       "6   2018-02-26  smart  \n",
       "10  2018-08-05  smart  \n",
       "17  2018-05-22  smart  \n",
       "24  2018-10-31  ultra  \n",
       "..         ...    ...  \n",
       "462 2018-10-29  smart  \n",
       "466 2018-02-28  ultra  \n",
       "469 2018-07-06  ultra  \n",
       "479 2018-07-03  smart  \n",
       "494 2018-08-17  smart  \n",
       "\n",
       "[74 rows x 8 columns]"
      ]
     },
     "metadata": {},
     "output_type": "display_data"
    }
   ],
   "source": [
    "#Проверим пользователей, не писавших СМС в 2018\n",
    "users_with_messages = users_messages_per_month['user_id'].unique()\n",
    "users_no_messages = dict_df['users'].query('user_id not in @users_with_messages')\n",
    "display(users_no_messages)"
   ]
  },
  {
   "cell_type": "markdown",
   "metadata": {},
   "source": [
    "<div style=\"border:solid blue 1px; padding: 20px\">\n",
    "    \n",
    "* Здесь уже 74 пользователя. Не пользоваться СМС в 2018 - нормальная тенденция (мессенджеры удобнее)\n",
    "    \n",
    "</div>"
   ]
  },
  {
   "cell_type": "markdown",
   "metadata": {},
   "source": [
    "<div class=\"alert alert-block alert-success\">\n",
    "<b>Success:</b> Хорошо!\n",
    "</div>"
   ]
  },
  {
   "cell_type": "markdown",
   "metadata": {},
   "source": [
    "<a id='6-bullet'></a>"
   ]
  },
  {
   "cell_type": "markdown",
   "metadata": {},
   "source": [
    "### 5. Объем израсходованного интернет-трафика по месяцам."
   ]
  },
  {
   "cell_type": "code",
   "execution_count": 30,
   "metadata": {},
   "outputs": [
    {
     "name": "stdout",
     "output_type": "stream",
     "text": [
      "           user_id        month       mb_used\n",
      "count  3203.000000  3203.000000   3203.000000\n",
      "mean   1251.393069     8.320949  17286.749610\n",
      "std     144.824407     2.903834   7523.580332\n",
      "min    1000.000000     1.000000      0.000000\n",
      "25%    1124.000000     6.000000  12543.000000\n",
      "50%    1251.000000     9.000000  16985.000000\n",
      "75%    1379.000000    11.000000  21455.500000\n",
      "max    1499.000000    12.000000  49789.000000\n"
     ]
    }
   ],
   "source": [
    "dict_df['internet']['month'] = dict_df['internet']['session_date'].dt.month\n",
    "\n",
    "users_internet_per_month = (dict_df['internet']\n",
    "                            .pivot_table(index=['user_id', 'month'],\n",
    "                                         values='mb_used',\n",
    "                                         aggfunc='sum'))\n",
    "users_internet_per_month.columns = ['mb_used']\n",
    "users_internet_per_month.reset_index(inplace=True)\n",
    "print(users_internet_per_month.describe())"
   ]
  },
  {
   "cell_type": "code",
   "execution_count": 10,
   "metadata": {
    "scrolled": false
   },
   "outputs": [
    {
     "data": {
      "text/html": [
       "<div>\n",
       "<style scoped>\n",
       "    .dataframe tbody tr th:only-of-type {\n",
       "        vertical-align: middle;\n",
       "    }\n",
       "\n",
       "    .dataframe tbody tr th {\n",
       "        vertical-align: top;\n",
       "    }\n",
       "\n",
       "    .dataframe thead th {\n",
       "        text-align: right;\n",
       "    }\n",
       "</style>\n",
       "<table border=\"1\" class=\"dataframe\">\n",
       "  <thead>\n",
       "    <tr style=\"text-align: right;\">\n",
       "      <th></th>\n",
       "      <th>user_id</th>\n",
       "      <th>age</th>\n",
       "      <th>churn_date</th>\n",
       "      <th>city</th>\n",
       "      <th>first_name</th>\n",
       "      <th>last_name</th>\n",
       "      <th>reg_date</th>\n",
       "      <th>tariff</th>\n",
       "    </tr>\n",
       "  </thead>\n",
       "  <tbody>\n",
       "    <tr>\n",
       "      <td>128</td>\n",
       "      <td>1128</td>\n",
       "      <td>51</td>\n",
       "      <td>2018-12-23</td>\n",
       "      <td>Волжский</td>\n",
       "      <td>Ксения</td>\n",
       "      <td>Агаева</td>\n",
       "      <td>2018-12-15</td>\n",
       "      <td>ultra</td>\n",
       "    </tr>\n",
       "    <tr>\n",
       "      <td>273</td>\n",
       "      <td>1273</td>\n",
       "      <td>46</td>\n",
       "      <td>NaT</td>\n",
       "      <td>Курган</td>\n",
       "      <td>Рэм</td>\n",
       "      <td>Корнилов</td>\n",
       "      <td>2018-05-15</td>\n",
       "      <td>ultra</td>\n",
       "    </tr>\n",
       "    <tr>\n",
       "      <td>371</td>\n",
       "      <td>1371</td>\n",
       "      <td>50</td>\n",
       "      <td>2018-12-30</td>\n",
       "      <td>Омск</td>\n",
       "      <td>Ириней</td>\n",
       "      <td>Трофимов</td>\n",
       "      <td>2018-12-25</td>\n",
       "      <td>smart</td>\n",
       "    </tr>\n",
       "  </tbody>\n",
       "</table>\n",
       "</div>"
      ],
      "text/plain": [
       "     user_id  age churn_date      city first_name last_name   reg_date tariff\n",
       "128     1128   51 2018-12-23  Волжский     Ксения    Агаева 2018-12-15  ultra\n",
       "273     1273   46        NaT    Курган        Рэм  Корнилов 2018-05-15  ultra\n",
       "371     1371   50 2018-12-30      Омск     Ириней  Трофимов 2018-12-25  smart"
      ]
     },
     "metadata": {},
     "output_type": "display_data"
    }
   ],
   "source": [
    "#Сколько \"староверов\" в 2018, кто не пользуется интернетом\n",
    "users_with_internet = users_internet_per_month['user_id'].unique()\n",
    "users_no_internet = dict_df['users'].query('user_id not in @users_with_internet')\n",
    "display(users_no_internet)"
   ]
  },
  {
   "cell_type": "markdown",
   "metadata": {},
   "source": [
    "<div style=\"border:solid blue 1px; padding: 20px\">\n",
    "    \n",
    "* Всего трое, двое из которых почти сразу прекратили пользоваться тарифом\n",
    "    \n",
    "</div>"
   ]
  },
  {
   "cell_type": "code",
   "execution_count": 11,
   "metadata": {},
   "outputs": [
    {
     "data": {
      "text/html": [
       "<div>\n",
       "<style scoped>\n",
       "    .dataframe tbody tr th:only-of-type {\n",
       "        vertical-align: middle;\n",
       "    }\n",
       "\n",
       "    .dataframe tbody tr th {\n",
       "        vertical-align: top;\n",
       "    }\n",
       "\n",
       "    .dataframe thead th {\n",
       "        text-align: right;\n",
       "    }\n",
       "</style>\n",
       "<table border=\"1\" class=\"dataframe\">\n",
       "  <thead>\n",
       "    <tr style=\"text-align: right;\">\n",
       "      <th></th>\n",
       "      <th>user_id</th>\n",
       "      <th>age</th>\n",
       "      <th>churn_date</th>\n",
       "      <th>city</th>\n",
       "      <th>first_name</th>\n",
       "      <th>last_name</th>\n",
       "      <th>reg_date</th>\n",
       "      <th>tariff</th>\n",
       "    </tr>\n",
       "  </thead>\n",
       "  <tbody>\n",
       "    <tr>\n",
       "      <td>128</td>\n",
       "      <td>1128</td>\n",
       "      <td>51</td>\n",
       "      <td>2018-12-23</td>\n",
       "      <td>Волжский</td>\n",
       "      <td>Ксения</td>\n",
       "      <td>Агаева</td>\n",
       "      <td>2018-12-15</td>\n",
       "      <td>ultra</td>\n",
       "    </tr>\n",
       "    <tr>\n",
       "      <td>371</td>\n",
       "      <td>1371</td>\n",
       "      <td>50</td>\n",
       "      <td>2018-12-30</td>\n",
       "      <td>Омск</td>\n",
       "      <td>Ириней</td>\n",
       "      <td>Трофимов</td>\n",
       "      <td>2018-12-25</td>\n",
       "      <td>smart</td>\n",
       "    </tr>\n",
       "  </tbody>\n",
       "</table>\n",
       "</div>"
      ],
      "text/plain": [
       "     user_id  age churn_date      city first_name last_name   reg_date tariff\n",
       "128     1128   51 2018-12-23  Волжский     Ксения    Агаева 2018-12-15  ultra\n",
       "371     1371   50 2018-12-30      Омск     Ириней  Трофимов 2018-12-25  smart"
      ]
     },
     "metadata": {},
     "output_type": "display_data"
    }
   ],
   "source": [
    "#Консолидируем пользователей, не воспользовавшихся ни одной улугой\n",
    "users_no_services = dict_df['users'].query('user_id not in @users_with_calls and '\n",
    "                                           'user_id not in @users_with_messages and '\n",
    "                                           'user_id not in @users_with_internet '\n",
    "                                           )\n",
    "display(users_no_services)"
   ]
  },
  {
   "cell_type": "markdown",
   "metadata": {},
   "source": [
    "<div style=\"border:solid blue 1px; padding: 20px\">\n",
    "    \n",
    "* В итоге те самые двое, которые в декабре открыли и закрыли тариф, не воспользовались ни одной услугой. Они не попадают ни в одну из сводных таблиц созданных выше. Следовательно при подсчете выручки и консолидации учитываться не будут, что вполне правомерно. Их всего 2 из 500\n",
    "    \n",
    "</div>"
   ]
  },
  {
   "cell_type": "markdown",
   "metadata": {},
   "source": [
    "<a id='7-bullet'></a>"
   ]
  },
  {
   "cell_type": "markdown",
   "metadata": {},
   "source": [
    "### 6. Помесячная выручка с каждого пользователя."
   ]
  },
  {
   "cell_type": "code",
   "execution_count": 12,
   "metadata": {},
   "outputs": [
    {
     "name": "stdout",
     "output_type": "stream",
     "text": [
      "           user_id        month        count     duration  revenue_calls\n",
      "count  3168.000000  3168.000000  3168.000000  3168.000000    3168.000000\n",
      "mean   1251.477588     8.317551    51.450126   457.797033      87.821023\n",
      "std     144.574946     2.907181    26.439188   237.423514     220.567755\n",
      "min    1000.000000     1.000000     1.000000     1.000000       0.000000\n",
      "25%    1126.000000     6.000000    33.000000   290.750000       0.000000\n",
      "50%    1254.000000     9.000000    50.000000   447.500000       0.000000\n",
      "75%    1379.000000    11.000000    67.000000   592.250000       0.000000\n",
      "max    1499.000000    12.000000   190.000000  1673.000000    2805.000000\n"
     ]
    }
   ],
   "source": [
    "#revenue_by_users_per_month = users_internet_per_month.join(dict_df['users'][['user_id', 'tariff']], \n",
    "#                                                           on='user_id')\n",
    "#print(revenue_by_users_per_month)\n",
    "dict_df['users'][['user_id', 'tariff']]\n",
    "\n",
    "\n",
    "def revenue_calls_overlimit(row):\n",
    "    #найти тариф по 'user_id'\n",
    "    tariff = dict_df['users'][dict_df['users']['user_id']==row['user_id']]['tariff'].array[0]\n",
    "    #найти лимит звонков по 'tariff_name', стоимость минуты сверх лимита и абонентскую плату\n",
    "    tariff_data = dict_df['tariffs'][dict_df['tariffs']['tariff_name']==tariff]\n",
    "    calls_limit = tariff_data['minutes_included'].array[0]\n",
    "    rub_per_minute = tariff_data['rub_per_minute'].array[0]\n",
    "    #rub_monthly_fee = tariff_data['rub_monthly_fee'].array[0]\n",
    "    #посчитать сколько минут вышло за лимит и вернуть выручку от звонков\n",
    "    if row['duration']-calls_limit>0:\n",
    "        row['revenue_calls'] = (row['duration'] - calls_limit) * rub_per_minute\n",
    "    else:\n",
    "        row['revenue_calls'] = 0\n",
    "    return row\n",
    "    \n",
    "users_calls_per_month = users_calls_per_month.apply(revenue_calls_overlimit, axis=1)\n",
    "print(users_calls_per_month.describe())\n"
   ]
  },
  {
   "cell_type": "markdown",
   "metadata": {},
   "source": [
    "<div class=\"alert alert-block alert-success\">\n",
    "<b>Success:</b> Хорошая функция, но если ты хочешь её документировать, то лучше оформляй пояснения правильно - в виде докстринга по pep-257\n",
    "</div>"
   ]
  },
  {
   "cell_type": "markdown",
   "metadata": {},
   "source": [
    "<div class=\"alert alert-block alert-info\">\n",
    "\n",
    "Спасибо! Буду изучать\n",
    "</div>"
   ]
  },
  {
   "cell_type": "markdown",
   "metadata": {},
   "source": [
    "<div style=\"border:solid blue 1px; padding: 20px\">\n",
    "    \n",
    "* 75% нулей в revenue_calls. Это значит, что в большинстве случаев пользователи укладываются в отведенный пакет минут на месяц.\n",
    "    \n",
    "</div>"
   ]
  },
  {
   "cell_type": "code",
   "execution_count": 13,
   "metadata": {},
   "outputs": [
    {
     "name": "stdout",
     "output_type": "stream",
     "text": [
      "           user_id        month        count  revenue_messages\n",
      "count  2717.000000  2717.000000  2717.000000       2717.000000\n",
      "mean   1255.635259     8.345234    45.283769         14.274568\n",
      "std     146.227484     2.892920    35.051363         37.131078\n",
      "min    1000.000000     1.000000     1.000000          0.000000\n",
      "25%    1126.000000     6.000000    19.000000          0.000000\n",
      "50%    1266.000000     9.000000    38.000000          0.000000\n",
      "75%    1384.000000    11.000000    63.000000          0.000000\n",
      "max    1499.000000    12.000000   224.000000        279.000000\n"
     ]
    }
   ],
   "source": [
    "def revenue_messages_overlimit(row):\n",
    "    #найти тариф по 'user_id'\n",
    "    tariff = dict_df['users'][dict_df['users']['user_id']==row['user_id']]['tariff'].array[0]\n",
    "    #найти лимит СМС по 'tariff_name', стоимость СМС сверх лимита и абонентскую плату\n",
    "    tariff_data= dict_df['tariffs'][dict_df['tariffs']['tariff_name']==tariff]\n",
    "    messages_limit = tariff_data['messages_included'].array[0]\n",
    "    rub_per_message = tariff_data['rub_per_message'].array[0]\n",
    "    #rub_monthly_fee = tariff_data['rub_monthly_fee'].array[0]\n",
    "    #посчитать сколько минут вышло за лимит и вернуть выручку от звонков\n",
    "    if row['count']-messages_limit>0:\n",
    "        return (row['count'] - messages_limit) * rub_per_message\n",
    "    return 0\n",
    "users_messages_per_month['revenue_messages'] = (users_messages_per_month\n",
    "                                                .apply(revenue_messages_overlimit, axis=1))\n",
    "#users_messages_per_month['revenue_messages'].hist()\n",
    "print(users_messages_per_month.describe())"
   ]
  },
  {
   "cell_type": "markdown",
   "metadata": {},
   "source": [
    "<div style=\"border:solid blue 1px; padding: 20px\">\n",
    "    \n",
    "* СМС отживают свое - максимальная выручка за месяц с пользователя 279руб\n",
    "    \n",
    "</div>"
   ]
  },
  {
   "cell_type": "code",
   "execution_count": 14,
   "metadata": {},
   "outputs": [
    {
     "name": "stdout",
     "output_type": "stream",
     "text": [
      "           user_id        month       mb_used  revenue_internet\n",
      "count  3203.000000  3203.000000   3203.000000       3203.000000\n",
      "mean   1251.393069     8.320949  17286.749610        410.570397\n",
      "std     144.824407     2.903834   7523.580332        650.254562\n",
      "min    1000.000000     1.000000      0.000000          0.000000\n",
      "25%    1124.000000     6.000000  12543.000000          0.000000\n",
      "50%    1251.000000     9.000000  16985.000000          0.000000\n",
      "75%    1379.000000    11.000000  21455.500000        688.378906\n",
      "max    1499.000000    12.000000  49789.000000       4541.015625\n"
     ]
    }
   ],
   "source": [
    "def revenue_internet_overlimit(row):\n",
    "    #найти тариф по 'user_id'\n",
    "    tariff = dict_df['users'][dict_df['users']['user_id']==row['user_id']]['tariff'].array[0]\n",
    "    #найти лимит СМС по 'tariff_name', стоимость СМС сверх лимита и абонентскую плату\n",
    "    tariff_data= dict_df['tariffs'][dict_df['tariffs']['tariff_name']==tariff]\n",
    "    mb_limit = tariff_data['mb_per_month_included'].array[0]\n",
    "    rub_per_gb = tariff_data['rub_per_gb'].array[0]\n",
    "    rub_monthly_fee = tariff_data['rub_monthly_fee'].array[0]\n",
    "    #посчитать сколько минут вышло за лимит и вернуть выручку от звонков\n",
    "    if row['mb_used']-mb_limit>0:\n",
    "        row['revenue_internet'] = (row['mb_used'] - mb_limit) / 1024 * rub_per_gb\n",
    "    else: \n",
    "        row['revenue_internet'] = 0\n",
    "    return row\n",
    "    \n",
    "users_internet_per_month = users_internet_per_month.apply(revenue_internet_overlimit, axis=1)\n",
    "print(users_internet_per_month.describe())\n",
    "#users_internet_per_month['revenue_internet'].hist()"
   ]
  },
  {
   "cell_type": "markdown",
   "metadata": {},
   "source": [
    "<div style=\"border:solid blue 1px; padding: 20px\">\n",
    "    \n",
    "* А вот интернет напротив - наибольшая средняя выручка и максимум по перерасходу. И если как минимум 75% пользователей обходились пакетом звонков, то пакета интернет-трафика на месяц хватает 50-75% пользовтелей\n",
    "    \n",
    "</div>"
   ]
  },
  {
   "cell_type": "markdown",
   "metadata": {},
   "source": [
    "<div class=\"alert alert-block alert-success\">\n",
    "<b>Success:</b> Хорошая промежуточная аналитика\n",
    "</div>"
   ]
  },
  {
   "cell_type": "code",
   "execution_count": 15,
   "metadata": {},
   "outputs": [],
   "source": [
    "#Объединим траты по статьям в одну таблицу\n",
    "monthly_revenue_per_user = (users_calls_per_month[['user_id', 'month', 'revenue_calls']]\n",
    "                            .merge(users_messages_per_month[['user_id', 'month', 'revenue_messages']],\n",
    "                                   how='outer',\n",
    "                                   on=['user_id', 'month']))\n",
    "monthly_revenue_per_user = (monthly_revenue_per_user\n",
    "                            .merge(users_internet_per_month[['user_id', 'month', 'revenue_internet']],\n",
    "                                   how='outer',\n",
    "                                   on=['user_id', 'month']))\n"
   ]
  },
  {
   "cell_type": "code",
   "execution_count": 16,
   "metadata": {
    "scrolled": false
   },
   "outputs": [
    {
     "name": "stdout",
     "output_type": "stream",
     "text": [
      "           user_id        month  revenue_calls  revenue_messages  \\\n",
      "count  3216.000000  3216.000000    3216.000000       3216.000000   \n",
      "mean   1251.588930     8.312189      86.510261         12.059701   \n",
      "std     144.645928     2.911903     219.173942         34.517318   \n",
      "min    1000.000000     0.000000       0.000000          0.000000   \n",
      "25%    1125.000000     6.000000       0.000000          0.000000   \n",
      "50%    1253.000000     9.000000       0.000000          0.000000   \n",
      "75%    1378.250000    11.000000       0.000000          0.000000   \n",
      "max    1499.000000    12.000000    2805.000000        279.000000   \n",
      "\n",
      "       revenue_internet  rub_monthly_fee  revenue_per_user  \n",
      "count       3216.000000      3216.000000       3216.000000  \n",
      "mean         408.910753       979.228856       1486.709572  \n",
      "std          649.461405       645.610249        783.935879  \n",
      "min            0.000000       550.000000        550.000000  \n",
      "25%            0.000000       550.000000        694.000000  \n",
      "50%            0.000000       550.000000       1563.175781  \n",
      "75%          683.740234      1950.000000       1950.000000  \n",
      "max         4541.015625      1950.000000       6711.015625  \n",
      "<class 'pandas.core.frame.DataFrame'>\n",
      "Int64Index: 3216 entries, 0 to 3215\n",
      "Data columns (total 9 columns):\n",
      "user_id             3216 non-null int64\n",
      "month               3216 non-null float64\n",
      "revenue_calls       3216 non-null float64\n",
      "revenue_messages    3216 non-null float64\n",
      "revenue_internet    3216 non-null float64\n",
      "tariff              3216 non-null object\n",
      "city                3216 non-null object\n",
      "rub_monthly_fee     3216 non-null int64\n",
      "revenue_per_user    3216 non-null float64\n",
      "dtypes: float64(5), int64(2), object(2)\n",
      "memory usage: 251.2+ KB\n",
      "None\n"
     ]
    }
   ],
   "source": [
    "#Посчитаем траты по каждому пользователю в столбце 'revenue_per_user'\n",
    "monthly_revenue_per_user = monthly_revenue_per_user.merge(dict_df['users'][['user_id', 'tariff', 'city']], \n",
    "                                                          on='user_id',\n",
    "                                                          how='outer')\n",
    "monthly_revenue_per_user = (pd.merge(\n",
    "                                    monthly_revenue_per_user,\n",
    "                                    dict_df['tariffs'][['tariff_name', 'rub_monthly_fee']].set_index('tariff_name'), \n",
    "                                    left_on='tariff',\n",
    "                                    right_index=True))\n",
    "#В таблице будут пустые значения, т.к. не каждый пользователь использует все три услуги (см. шаг 2 п. 5)\n",
    "#Можно заменить их нулями\n",
    "monthly_revenue_per_user.fillna(0, inplace=True)\n",
    "monthly_revenue_per_user['revenue_per_user'] = (monthly_revenue_per_user['revenue_calls'] +\n",
    "                                                monthly_revenue_per_user['revenue_messages'] +\n",
    "                                                monthly_revenue_per_user['revenue_internet'] +\n",
    "                                                monthly_revenue_per_user['rub_monthly_fee'])\n",
    "print(monthly_revenue_per_user.describe())\n",
    "print(monthly_revenue_per_user.info())"
   ]
  },
  {
   "cell_type": "markdown",
   "metadata": {},
   "source": [
    "<div style=\"border:solid blue 1px; padding: 20px\">\n",
    "    \n",
    "* Средние траты пользователей в месяц 1481 руб. Далее посмотрим на каком тарифе траты выше\n",
    "    \n",
    "</div>"
   ]
  },
  {
   "cell_type": "markdown",
   "metadata": {},
   "source": [
    "## Шаг 3. Анализ данных"
   ]
  },
  {
   "cell_type": "markdown",
   "metadata": {},
   "source": [
    "<a id='8-bullet'></a>"
   ]
  },
  {
   "cell_type": "markdown",
   "metadata": {},
   "source": [
    "### 1. Поведение клиентов оператора. Минуты, СМС и интернет трафик каждого тарифа"
   ]
  },
  {
   "cell_type": "code",
   "execution_count": 17,
   "metadata": {
    "scrolled": true
   },
   "outputs": [
    {
     "name": "stdout",
     "output_type": "stream",
     "text": [
      "              mean           var         std\n",
      "          duration      duration    duration\n",
      "tariff                                      \n",
      "smart   419.440342  35718.128534  188.992403\n",
      "ultra   547.755016  93338.428291  305.513385 \n",
      "\n",
      "smart\n",
      "           user_id        month        count     duration  revenue_calls\n",
      "count  2221.000000  2221.000000  2221.000000  2221.000000    2221.000000\n",
      "mean   1245.789734     8.349392    47.116614   419.440342     125.266547\n",
      "std     145.853596     2.917705    20.887092   188.992403     254.382306\n",
      "min    1001.000000     1.000000     1.000000     2.000000       0.000000\n",
      "25%    1121.000000     6.000000    32.000000   285.000000       0.000000\n",
      "50%    1239.000000     9.000000    48.000000   423.000000       0.000000\n",
      "75%    1376.000000    11.000000    61.000000   546.000000     138.000000\n",
      "max    1499.000000    12.000000   162.000000  1435.000000    2805.000000 \n",
      "\n",
      "ultra\n",
      "           user_id       month       count     duration  revenue_calls\n",
      "count   947.000000  947.000000  947.000000   947.000000          947.0\n",
      "mean   1264.817318    8.242872   61.613516   547.755016            0.0\n",
      "std     140.706956    2.882502   34.189197   305.513385            0.0\n",
      "min    1000.000000    1.000000    1.000000     1.000000            0.0\n",
      "25%    1148.000000    6.000000   35.000000   311.000000            0.0\n",
      "50%    1281.000000    9.000000   61.000000   529.000000            0.0\n",
      "75%    1381.000000   11.000000   84.000000   758.000000            0.0\n",
      "max    1495.000000   12.000000  190.000000  1673.000000            0.0 \n",
      "\n"
     ]
    },
    {
     "data": {
      "image/png": "[encoded data removed]",
      "text/plain": [
       "<Figure size 1440x360 with 2 Axes>"
      ]
     },
     "metadata": {},
     "output_type": "display_data"
    },
    {
     "name": "stdout",
     "output_type": "stream",
     "text": [
      "             mean          var        std\n",
      "            count        count      count\n",
      "tariff                                   \n",
      "smart   38.716441   717.594201  26.787949\n",
      "ultra   61.161006  2109.659183  45.931026 \n",
      "\n",
      "smart\n",
      "           user_id        month        count  revenue_messages\n",
      "count  1922.000000  1922.000000  1922.000000       1922.000000\n",
      "mean   1248.711759     8.322060    38.716441         20.178980\n",
      "std     147.491929     2.929116    26.787949         42.779524\n",
      "min    1002.000000     1.000000     1.000000          0.000000\n",
      "25%    1123.000000     6.000000    17.000000          0.000000\n",
      "50%    1246.000000     9.000000    34.000000          0.000000\n",
      "75%    1384.000000    11.000000    55.000000         15.000000\n",
      "max    1499.000000    12.000000   143.000000        279.000000 \n",
      "\n",
      "ultra\n",
      "           user_id       month       count  revenue_messages\n",
      "count   795.000000  795.000000  795.000000             795.0\n",
      "mean   1272.373585    8.401258   61.161006               0.0\n",
      "std     141.824909    2.804503   45.931026               0.0\n",
      "min    1000.000000    1.000000    1.000000               0.0\n",
      "25%    1149.000000    6.000000   24.000000               0.0\n",
      "50%    1303.000000    9.000000   51.000000               0.0\n",
      "75%    1385.000000   11.000000   87.500000               0.0\n",
      "max    1495.000000   12.000000  224.000000               0.0 \n",
      "\n"
     ]
    },
    {
     "data": {
      "image/png": "[encoded data removed]",
      "text/plain": [
       "<Figure size 1440x360 with 2 Axes>"
      ]
     },
     "metadata": {},
     "output_type": "display_data"
    },
    {
     "name": "stdout",
     "output_type": "stream",
     "text": [
      "                mean           var          std\n",
      "             mb_used       mb_used      mb_used\n",
      "tariff                                         \n",
      "smart   16236.472621  3.444310e+07  5868.824472\n",
      "ultra   19686.767179  9.904344e+07  9952.057054 \n",
      "\n",
      "smart\n",
      "           user_id        month       mb_used  revenue_internet\n",
      "count  2228.000000  2228.000000   2228.000000       2228.000000\n",
      "mean   1246.416966     8.346948  16236.472621        541.375656\n",
      "std     146.091122     2.920962   5868.824472        704.043580\n",
      "min    1001.000000     1.000000      0.000000          0.000000\n",
      "25%    1121.000000     6.000000  12668.500000          0.000000\n",
      "50%    1239.000000     9.000000  16532.000000        228.906250\n",
      "75%    1376.000000    11.000000  20068.000000        919.531250\n",
      "max    1499.000000    12.000000  38610.000000       4541.015625 \n",
      "\n",
      "ultra\n",
      "           user_id       month       mb_used  revenue_internet\n",
      "count   975.000000  975.000000    975.000000        975.000000\n",
      "mean   1262.764103    8.261538  19686.767179        111.663612\n",
      "std     141.304620    2.864910   9952.057054        357.952498\n",
      "min    1000.000000    1.000000      0.000000          0.000000\n",
      "25%    1143.000000    6.000000  12020.500000          0.000000\n",
      "50%    1277.000000    9.000000  19411.000000          0.000000\n",
      "75%    1381.000000   11.000000  26920.500000          0.000000\n",
      "max    1495.000000   12.000000  49789.000000       2793.310547 \n",
      "\n"
     ]
    },
    {
     "data": {
      "image/png": "[encoded data removed]",
      "text/plain": [
       "<Figure size 1440x360 with 2 Axes>"
      ]
     },
     "metadata": {},
     "output_type": "display_data"
    }
   ],
   "source": [
    "#Посчитаем численные характеристики данных минут, СМС и интернет трафика\n",
    "#по месяцам в зависимости от тарифа\n",
    "\n",
    "user_behavior_dict = {'calls': {'df': users_calls_per_month, 'column': 'duration'},\n",
    "                      'sms': {'df': users_messages_per_month, 'column': 'count'},\n",
    "                      'internet': {'df': users_internet_per_month, 'column': 'mb_used'}\n",
    "                     }\n",
    "\n",
    "for data in user_behavior_dict:\n",
    "    metrics_df = user_behavior_dict[data]['df'].merge(dict_df['users'][['user_id', 'tariff']],on='user_id')\n",
    "    metric = user_behavior_dict[data]['column']\n",
    "    print(metrics_df\n",
    "         .pivot_table(index='tariff', \n",
    "                      values=metric, \n",
    "                      aggfunc=[np.mean, np.var, np.std]), '\\n')\n",
    "# Графики покажем рядом в одинаковом масштабе по х и у\n",
    "    fig, axes = plt.subplots(ncols=2, sharey=True, sharex=True)\n",
    "    for ind, tariff in enumerate(['smart', 'ultra']):\n",
    "        metrics_df[metrics_df['tariff']==tariff][metric].plot(kind='hist', \n",
    "                                                              title=tariff+' '+data, \n",
    "                                                              density=True,\n",
    "                                                              bins=50,\n",
    "                                                              ax=axes[ind],\n",
    "                                                              figsize=(20,5), alpha=0.7)\n",
    "\n",
    "        metrics_df[metrics_df['tariff']==tariff][metric].plot(kind='kde', \n",
    "                                                              title=tariff+' '+data,\n",
    "                                                              label='KDE',\n",
    "                                                              ax=axes[ind],\n",
    "                                                              figsize=(20,5))\n",
    "        print(tariff)\n",
    "        print(metrics_df[metrics_df['tariff']==tariff].describe(), '\\n')\n",
    "        plt.xlim(min(metrics_df[metric]), max(metrics_df[metric]))\n",
    "    plt.legend(loc=\"upper right\")    \n",
    "    plt.subplots_adjust(top=1, bottom=0.08, left=0.10, right=0.6, hspace=0.05, wspace=0.0)\n",
    "    plt.show()\n"
   ]
  },
  {
   "cell_type": "markdown",
   "metadata": {},
   "source": [
    "<div style=\"border:solid blue 1px; padding: 20px\">\n",
    "    \n",
    "####  Звонки\n",
    "* На удивление при разнице пакетов минут в 6 раз, средние отличаются не более 31%\n",
    "* На тарифе *Ультра* ни разу не выбран покет минут полностью. Когда на *Смарт* более четверти пользователей перебирают с выделенными минутами\n",
    "    \n",
    "####  СМС\n",
    "* Тут наблюдается очень похожая картина как со звонками. Разница средних несравнима с разницей пакетов\n",
    "* С Пользователи *Ультра* не приносят доп выручки от СМС. А вот *Смартовцы* напротив переплачивают, хотя и не много (максимум 279)\n",
    "    \n",
    "####  Интернет\n",
    "* Здесь статистика еще более не в пользу юзеров *Смарт* - в среднем они перебирают с пакетом трафика, причем делает так более половины пользователей\n",
    "* *Ультра* напритив дает более 50% пользователей оставться в рамках отведенного пакета \n",
    "    \n",
    "</div>"
   ]
  },
  {
   "cell_type": "markdown",
   "metadata": {},
   "source": [
    "<div class=\"alert alert-block alert-success\">\n",
    "<b>Success:</b> Здорово, весьма подробно\n",
    "</div>"
   ]
  },
  {
   "cell_type": "markdown",
   "metadata": {},
   "source": [
    "## Шаг 4. Проверка гипотез"
   ]
  },
  {
   "cell_type": "markdown",
   "metadata": {},
   "source": [
    "<a id='9-bullet'></a>"
   ]
  },
  {
   "cell_type": "markdown",
   "metadata": {},
   "source": [
    "### 1. Средняя выручка пользователей тарифов «Ультра» и «Смарт» различается."
   ]
  },
  {
   "cell_type": "code",
   "execution_count": 21,
   "metadata": {
    "scrolled": true
   },
   "outputs": [
    {
     "name": "stdout",
     "output_type": "stream",
     "text": [
      "                   mean              var              std\n",
      "       revenue_per_user revenue_per_user revenue_per_user\n",
      "tariff                                                   \n",
      "smart       1233.043032    620383.654857       787.644371\n",
      "ultra       2060.417872    126836.789215       356.141530\n",
      "p-value: 3.665639404941842e-296\n",
      "Не получилось отвергнуть нулевую гипотезу\n"
     ]
    }
   ],
   "source": [
    "# Сформулируем Но: Средние показатели выручки пользователей тарифов \"Ультра\" и \"Смарт\" различаются.\n",
    "# Из нее вытекает Н1: Средние показатели выручки не различаюся\n",
    "# Посчитаем средние. \n",
    "print(monthly_revenue_per_user.pivot_table(index='tariff',\n",
    "                                           values='revenue_per_user', \n",
    "                                           aggfunc=[np.mean, np.var, np.std]))\n",
    "# 1233 и 2061 разница на первый взгляд весомая. Но она может быть случайной, и тогда придется отвергнуть Но\n",
    "# Определим на сколько случайна разница средних t-тестом и выведем p-value\n",
    "# Чем оно мень, тем больше вероятность неслучайности разницы (т.е. различности средних). \n",
    "# Пороговое значение возьмем 5%. Таким образом условием, когда Но отвергается будет p-value > 5%\n",
    "alpha = .05\n",
    "smart_revenue = monthly_revenue_per_user.query('tariff == \"smart\"')['revenue_per_user']\n",
    "ultra_revenue = monthly_revenue_per_user.query('tariff == \"ultra\"')['revenue_per_user']\n",
    "results = st.ttest_ind(smart_revenue, ultra_revenue, equal_var=False)\n",
    "print('p-value:', results.pvalue)\n",
    "if (results.pvalue > alpha):\n",
    "    print(\"Отвергаем нулевую гипотезу\")\n",
    "else:\n",
    "    print(\"Не получилось отвергнуть нулевую гипотезу\") \n"
   ]
  },
  {
   "cell_type": "markdown",
   "metadata": {},
   "source": [
    "<div class=\"alert alert-block alert-danger\">\n",
    "<b>Needs fixing:</b> \n",
    "    \n",
    "Нужно явно расписывать мотивацию при выборе параметра `equal_var`. Нужно исправить тут и далее\n",
    "Прежде чем произвести проверку гипотезы через T-критерий Стьюдента произведи проверку дисперсии выборок, чтобы понять с каким параметром использовать метод проверки.\n",
    "    \n",
    "Также лучше сначала собрать датафреймы в переменных и их передать в функцию. Декомпозируй сложные конструкции - пиши чистый код :)\n",
    "</div>"
   ]
  },
  {
   "cell_type": "markdown",
   "metadata": {},
   "source": [
    "<div class=\"alert alert-block alert-info\">\n",
    "\n",
    "Потерял `equal_var` из виду. Сейчас добавил. Опция 'equal_var = False' выполняет t-тест Уэлча, который не предполагает равную дисперсию. Как раз наш случай, если ее посчитать. Спасибо!\n",
    "</div>"
   ]
  },
  {
   "cell_type": "markdown",
   "metadata": {},
   "source": [
    "<div style=\"border:solid blue 1px; padding: 20px\">\n",
    "    \n",
    "* Крайне низкая вероятность случайности различий средней выручки по тарифам. Следовательно мы не можем отвергнуть гипотезу о различии средней выручки по тарифам\n",
    "    \n",
    "</div>"
   ]
  },
  {
   "cell_type": "markdown",
   "metadata": {},
   "source": [
    "<a id='10-bullet'></a>"
   ]
  },
  {
   "cell_type": "markdown",
   "metadata": {},
   "source": [
    "### 2. Средняя выручка пользователей из Москвы отличается от выручки пользователей из других регионов."
   ]
  },
  {
   "cell_type": "code",
   "execution_count": 35,
   "metadata": {
    "scrolled": true
   },
   "outputs": [
    {
     "name": "stdout",
     "output_type": "stream",
     "text": [
      "                   mean              var              std\n",
      "       revenue_per_user revenue_per_user revenue_per_user\n",
      "region                                                   \n",
      "Moscow      1507.276762    547242.749893       739.758575\n",
      "other       1481.885559    630437.271203       794.000801\n",
      "p-value: 0.4517561756356935\n",
      "Отвергаем нулевую гипотезу\n"
     ]
    }
   ],
   "source": [
    "#Здесь аналогично предыдущему пункту: различается - значит разница средних неслучайна (Не отвергаем)\n",
    "#Не различается - значит случайна (Отвергаем)\n",
    "#На сколько случайна покажет все тот же p-value.\n",
    "# Посчитаем среднюю выручку по Москве и регионам\n",
    "monthly_revenue_per_user['region'] = (monthly_revenue_per_user['city']\n",
    "                                      .apply(lambda row: 'Moscow' if row=='Москва' else 'other'))\n",
    "print(monthly_revenue_per_user.pivot_table(index='region',\n",
    "                                           values='revenue_per_user', \n",
    "                                           aggfunc=[np.mean, np.var, np.std]))\n",
    "moscow_revenue = monthly_revenue_per_user.query('region == \"Moscow\"')['revenue_per_user']\n",
    "region_revenue = monthly_revenue_per_user.query('region == \"other\"')['revenue_per_user']\n",
    "results = st.ttest_ind(moscow_revenue, region_revenue, equal_var=False)\n",
    "print('p-value:', results.pvalue)\n",
    "if (results.pvalue > alpha):\n",
    "    print(\"Отвергаем нулевую гипотезу\")\n",
    "else:\n",
    "    print(\"Не получилось отвергнуть нулевую гипотезу\") "
   ]
  },
  {
   "cell_type": "markdown",
   "metadata": {},
   "source": [
    "<div style=\"border:solid blue 1px; padding: 20px\">\n",
    "    \n",
    "* Вероятность, что средние выручки отличаются как (1507-1482) или более довольно высокая - 47%. Следовательно отвергаем гипотезу о том, что средние выручки Москвы и регионов отличаются\n",
    "    \n",
    "</div>"
   ]
  },
  {
   "cell_type": "markdown",
   "metadata": {},
   "source": [
    "<a id='11-bullet'></a>"
   ]
  },
  {
   "cell_type": "markdown",
   "metadata": {},
   "source": [
    "## Шаг 5. Общий вывод"
   ]
  },
  {
   "cell_type": "markdown",
   "metadata": {},
   "source": [
    "<div style=\"border:solid blue 1px; padding: 20px\">\n",
    "    \n",
    "* Минуты и мегабайты округлили до целого, т.к. тарификация поминутная и помегабайтная\n",
    "* Лишний столбец индексов в таблице с интернет-сессиями. Избавились\n",
    "* Два пользователя, не воспользовавшись ни одной из услуг, прекратили пользование тарифом в течение 7 дней. Их мы учитывать не стали\n",
    "* При подсчете выручки были использованы функции. Хотя код более наглядный, алгоритм выполняется гораздо дольше в сравнении с простым объединением таблиц.\n",
    "\n",
    "#### Поведение пользователей\n",
    "    \n",
    "* Превышение пакета звонков у *Смарт* довольно высокое. Когда *Ультра* всегда укладывается в отведенные пакетом минуты\n",
    "* СМС такая же ситуация\n",
    "* С интернетом перебор по каждому тарифу. Однако у *Смарт* по количеству пользователей в месяц он горздо выше\n",
    "    \n",
    "#### Различие средних\n",
    "    \n",
    "* При почти 4х кратной разнице в абон. плате, средние выручки по тарифам отличаются не более 70%. С точки зрения распределения средних различия не случайны\n",
    "* А вот по регионам разницы особой не наблюдается и статистически можно отнести различие к случайному\n",
    "    \n",
    "#### Кто лучше\n",
    "    \n",
    "* С точки зрения среднего клиента тариф *Смарт* все же дешевле. Но все же есть определенная доля пользователей, которым будет выгоднее совершить переход на *Ультра* для сокращения расходов, т.к. в крйних случаях переплаты превышают абон. плату *Ультра*\n",
    "* С точки зрения оператора, стоит задуматься о введении промежуточного тарифа\n",
    "* Также стоит задуматься о введении безлимитного интернета.\n",
    "    \n",
    "</div>"
   ]
  },
  {
   "cell_type": "markdown",
   "metadata": {},
   "source": [
    "<div class=\"alert alert-block alert-info\">\n",
    "\n",
    "Артём, спасибо за замечания! Постарался всё поправить\n",
    "</div>"
   ]
  },
  {
   "cell_type": "markdown",
   "metadata": {},
   "source": [
    "<div class=\"alert alert-block alert-success\">\n",
    "<b>Success:</b> Очень хороший подробный общий вывод. Отличная работа!\n",
    "</div>"
   ]
  },
  {
   "cell_type": "code",
   "execution_count": null,
   "metadata": {},
   "outputs": [],
   "source": []
  }
 ],
 "metadata": {
  "kernelspec": {
   "display_name": "Python 3 (ipykernel)",
   "language": "python",
   "name": "python3"
  },
  "language_info": {
   "codemirror_mode": {
    "name": "ipython",
    "version": 3
   },
   "file_extension": ".py",
   "mimetype": "text/x-python",
   "name": "python",
   "nbconvert_exporter": "python",
   "pygments_lexer": "ipython3",
   "version": "3.9.5"
  },
  "toc": {
   "base_numbering": 1,
   "nav_menu": {},
   "number_sections": false,
   "sideBar": true,
   "skip_h1_title": false,
   "title_cell": "Table of Contents",
   "title_sidebar": "Contents",
   "toc_cell": false,
   "toc_position": {
    "height": "calc(100% - 180px)",
    "left": "10px",
    "top": "150px",
    "width": "343px"
   },
   "toc_section_display": true,
   "toc_window_display": false
  }
 },
 "nbformat": 4,
 "nbformat_minor": 2
}
