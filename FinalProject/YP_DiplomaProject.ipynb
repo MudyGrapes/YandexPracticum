{
 "cells": [
  {
   "cell_type": "markdown",
   "metadata": {},
   "source": [
    "<div class=\"alert alert-info\">\n",
    "Приветствую, Кирилл!\n",
    "    \n",
    "Не совсем разорался как оформлять, поэтому сделал как понял: начал анализ данных, а план в самом низу накидал [(получилось 3м пунктом)](#1-bullet)\n",
    "    \n",
    "</div>"
   ]
  },
  {
   "cell_type": "markdown",
   "metadata": {},
   "source": [
    "<div style=\"background: #cceeaa; padding: 5px; border: 1px solid green; border-radius: 5px;\">\n",
    "<font color='green'> \n",
    "    <b><u>КОММЕНТАРИЙ РЕВЬЮЕРА</u></b>\n",
    "<font color='green'><br>\n",
    "<br />\n",
    "Дмитрий, доброго дня! рад приветствовать тебя в финале) <br />\n",
    "Вот и он подобрался, поздравляю. Остался последний рывок в этом марафоне)<br>\n",
    "<br />    \n",
    "Несмотря на то, что проект не такой уж и простой как с позиции кода, так и в понимании процессов - <br />тебе удалось сдать его вовремя, это большой плюс для всех нас, спасибо:)<br />\n",
    "<br />\n",
    "Меня зовут Николай. <br />И на этом этапе Вашего движения к новой профессии от меня будут комментарии по написанному коду. <br />Чтобы меньше \"мусорить эфир\" и чтобы максимально наглядно отделяться от основного кода, есть предложение условиться в некоторых обозначениях:<br /> <br />\n",
    "<u><b>ТАКОЙ ШРИФТ</b></u> - всегда начало комментария <br />\n",
    "<font color='green'>такой шрифт</font> - комментарии о том, что всё ОК <br/>\n",
    "<font color='purple'>такой шрифт</font> - комментарии о том, что всё ОК по результату,<br> однако что есть ещё что-то или в коде или есть способы сделать более короткий или быстрый код <br/>\n",
    "<font color='red'>такой шрифт</font> - комментарии о том, что есть критичный момент, влияющий на бизнес-результат проекта.<br/>\n",
    "</font><br /><br />\n",
    "<font color='green'>Как и всегда в спринтах - ставлю своей целью максимально помочь. Поэтому, все мои комментарии - это только способ передать свой опыт для помощи в твоих достижениях.\n",
    "    </div>"
   ]
  },
  {
   "cell_type": "markdown",
   "metadata": {},
   "source": [
    "<div class=\"alert alert-info\">\n",
    "Доброго дня, Николай!\n",
    "    \n",
    "Спасибо за ревью! [Доработки в конце](#2-bullet)\n",
    "    \n",
    "</div>"
   ]
  },
  {
   "cell_type": "markdown",
   "metadata": {},
   "source": [
    "# Промышленность ООО «Так закаляем сталь»"
   ]
  },
  {
   "cell_type": "markdown",
   "metadata": {},
   "source": [
    "## Вводная часть"
   ]
  },
  {
   "cell_type": "markdown",
   "metadata": {},
   "source": [
    "Чтобы оптимизировать производственные расходы, металлургический комбинат ООО «Так закаляем сталь» решил уменьшить потребление электроэнергии на этапе обработки стали. Предстоит построить модель, которая предскажет температуру стали.\n",
    "\n",
    "### Описание этапа обработки\n",
    "\n",
    "Сталь обрабатывают в металлическом ковше вместимостью около 100 тонн. Чтобы ковш выдерживал высокие температуры, изнутри его облицовывают огнеупорным кирпичом. Расплавленную сталь заливают в ковш и подогревают до нужной температуры графитовыми электродами. Они установлены в крышке ковша. \n",
    "\n",
    "Из сплава выводится сера (десульфурация), добавлением примесей корректируется химический состав и отбираются пробы. Сталь легируют — изменяют её состав — подавая куски сплава из бункера для сыпучих материалов или проволоку через специальный трайб-аппарат (англ. tribe, «масса»).\n",
    "\n",
    "Перед тем как первый раз ввести легирующие добавки, измеряют температуру стали и производят её химический анализ. Потом температуру на несколько минут повышают, добавляют легирующие материалы и продувают сплав инертным газом. Затем его перемешивают и снова проводят измерения. Такой цикл повторяется до достижения целевого химического состава и оптимальной температуры плавки.\n",
    "\n",
    "Тогда расплавленная сталь отправляется на доводку металла или поступает в машину непрерывной разливки. Оттуда готовый продукт выходит в виде заготовок-слябов (англ. *slab*, «плита»).\n",
    "\n",
    "### Описание данных\n",
    "\n",
    "Данные состоят из файлов, полученных из разных источников:\n",
    "\n",
    "- `data_arc.csv` — данные об электродах;\n",
    "- `data_bulk.csv` — данные о подаче сыпучих материалов (объём);\n",
    "- `data_bulk_time.csv` *—* данные о подаче сыпучих материалов (время);\n",
    "- `data_gas.csv` — данные о продувке сплава газом;\n",
    "- `data_temp.csv` — результаты измерения температуры;\n",
    "- `data_wire.csv` — данные о проволочных материалах (объём);\n",
    "- `data_wire_time.csv` — данные о проволочных материалах (время).\n",
    "\n",
    "Во всех файлах столбец `key` содержит номер партии. В файлах может быть несколько строк с одинаковым значением `key`: они соответствуют разным итерациям обработки."
   ]
  },
  {
   "cell_type": "markdown",
   "metadata": {},
   "source": [
    "<a id='1-bullet'></a>"
   ]
  },
  {
   "cell_type": "markdown",
   "metadata": {},
   "source": [
    "## План действий\n",
    "* Нам надо прогнозировать температуру на конец каждой партии\n",
    "* План:\n",
    "    1. Предобработка данных\n",
    "        1. Работа с пропусками (что-то на нули заменим согласно описанию выше)\n",
    "        2. Посмотреть гистограммы распределения, ящики с усами, поработать с выбивающимися значениями\n",
    "        3. Посмотреть партии, у которых пропуски конечной температуры и наверное дропнуть их\n",
    "        4. Пересчитать полную мощность в подведененую энергию (умножением на время и сложением) для каждой партии\n",
    "        5. Сагрегировать таблицу признаков: `номер партии`, `начальная Т`, `энергия`, набор столбцов с кол-вом сыпучих и проволочных материалов, `конечная Т`(целевой признак)\n",
    "        6. Поделим на трейн и тест как 3:1\n",
    "    2. Модель\n",
    "        1. Проверка на мультиколинеарность\n",
    "        2. Обучить и протестировать модели LinearRegression, RandomForestRegressor\n",
    "        3. Проверка качества в сравнении с дамми моделью\n",
    "    3. Общий вывод"
   ]
  },
  {
   "cell_type": "markdown",
   "metadata": {},
   "source": [
    "## Анализ данных"
   ]
  },
  {
   "cell_type": "markdown",
   "metadata": {},
   "source": [
    "### Подгрузим библиотеки и данные"
   ]
  },
  {
   "cell_type": "code",
   "execution_count": 1,
   "metadata": {},
   "outputs": [],
   "source": [
    "import pandas as pd\n",
    "import numpy as np\n",
    "import matplotlib.pyplot as plt\n",
    "from sklearn.linear_model import LinearRegression\n",
    "from sklearn.linear_model import LogisticRegression\n",
    "from sklearn.ensemble import RandomForestRegressor\n",
    "from sklearn.model_selection import train_test_split\n",
    "from sklearn.metrics import mean_absolute_error as MAE\n",
    "from sklearn.model_selection import cross_val_score\n",
    "import seaborn as sns\n",
    "from catboost import CatBoostRegressor\n",
    "from lightgbm import LGBMRegressor"
   ]
  },
  {
   "cell_type": "code",
   "execution_count": 2,
   "metadata": {},
   "outputs": [],
   "source": [
    "df_dict = {'data_arc': [],\n",
    "           'data_bulk': [],\n",
    "           'data_bulk_time': [],\n",
    "           'data_gas': [],\n",
    "           'data_temp': [],\n",
    "           'data_wire': [],\n",
    "           'data_wire_time': []    \n",
    "}\n",
    "\n",
    "for df in df_dict:\n",
    "    df_dict[df] = pd.read_csv('/datasets/final_steel/' + df + '.csv')"
   ]
  },
  {
   "cell_type": "code",
   "execution_count": 3,
   "metadata": {},
   "outputs": [
    {
     "name": "stdout",
     "output_type": "stream",
     "text": [
      "data_arc\n",
      "<class 'pandas.core.frame.DataFrame'>\n",
      "RangeIndex: 14876 entries, 0 to 14875\n",
      "Data columns (total 5 columns):\n",
      "key                     14876 non-null int64\n",
      "Начало нагрева дугой    14876 non-null object\n",
      "Конец нагрева дугой     14876 non-null object\n",
      "Активная мощность       14876 non-null float64\n",
      "Реактивная мощность     14876 non-null float64\n",
      "dtypes: float64(2), int64(1), object(2)\n",
      "memory usage: 581.2+ KB\n",
      "None\n"
     ]
    },
    {
     "data": {
      "text/html": [
       "<div>\n",
       "<style scoped>\n",
       "    .dataframe tbody tr th:only-of-type {\n",
       "        vertical-align: middle;\n",
       "    }\n",
       "\n",
       "    .dataframe tbody tr th {\n",
       "        vertical-align: top;\n",
       "    }\n",
       "\n",
       "    .dataframe thead th {\n",
       "        text-align: right;\n",
       "    }\n",
       "</style>\n",
       "<table border=\"1\" class=\"dataframe\">\n",
       "  <thead>\n",
       "    <tr style=\"text-align: right;\">\n",
       "      <th></th>\n",
       "      <th>key</th>\n",
       "      <th>Начало нагрева дугой</th>\n",
       "      <th>Конец нагрева дугой</th>\n",
       "      <th>Активная мощность</th>\n",
       "      <th>Реактивная мощность</th>\n",
       "    </tr>\n",
       "  </thead>\n",
       "  <tbody>\n",
       "    <tr>\n",
       "      <td>0</td>\n",
       "      <td>1</td>\n",
       "      <td>2019-05-03 11:02:14</td>\n",
       "      <td>2019-05-03 11:06:02</td>\n",
       "      <td>0.976059</td>\n",
       "      <td>0.687084</td>\n",
       "    </tr>\n",
       "    <tr>\n",
       "      <td>1</td>\n",
       "      <td>1</td>\n",
       "      <td>2019-05-03 11:07:28</td>\n",
       "      <td>2019-05-03 11:10:33</td>\n",
       "      <td>0.805607</td>\n",
       "      <td>0.520285</td>\n",
       "    </tr>\n",
       "    <tr>\n",
       "      <td>2</td>\n",
       "      <td>1</td>\n",
       "      <td>2019-05-03 11:11:44</td>\n",
       "      <td>2019-05-03 11:14:36</td>\n",
       "      <td>0.744363</td>\n",
       "      <td>0.498805</td>\n",
       "    </tr>\n",
       "    <tr>\n",
       "      <td>3</td>\n",
       "      <td>1</td>\n",
       "      <td>2019-05-03 11:18:14</td>\n",
       "      <td>2019-05-03 11:24:19</td>\n",
       "      <td>1.659363</td>\n",
       "      <td>1.062669</td>\n",
       "    </tr>\n",
       "    <tr>\n",
       "      <td>4</td>\n",
       "      <td>1</td>\n",
       "      <td>2019-05-03 11:26:09</td>\n",
       "      <td>2019-05-03 11:28:37</td>\n",
       "      <td>0.692755</td>\n",
       "      <td>0.414397</td>\n",
       "    </tr>\n",
       "    <tr>\n",
       "      <td>...</td>\n",
       "      <td>...</td>\n",
       "      <td>...</td>\n",
       "      <td>...</td>\n",
       "      <td>...</td>\n",
       "      <td>...</td>\n",
       "    </tr>\n",
       "    <tr>\n",
       "      <td>14871</td>\n",
       "      <td>3241</td>\n",
       "      <td>2019-09-01 03:58:58</td>\n",
       "      <td>2019-09-01 04:01:35</td>\n",
       "      <td>0.533670</td>\n",
       "      <td>0.354439</td>\n",
       "    </tr>\n",
       "    <tr>\n",
       "      <td>14872</td>\n",
       "      <td>3241</td>\n",
       "      <td>2019-09-01 04:05:04</td>\n",
       "      <td>2019-09-01 04:08:04</td>\n",
       "      <td>0.676604</td>\n",
       "      <td>0.523631</td>\n",
       "    </tr>\n",
       "    <tr>\n",
       "      <td>14873</td>\n",
       "      <td>3241</td>\n",
       "      <td>2019-09-01 04:16:41</td>\n",
       "      <td>2019-09-01 04:19:45</td>\n",
       "      <td>0.733899</td>\n",
       "      <td>0.475654</td>\n",
       "    </tr>\n",
       "    <tr>\n",
       "      <td>14874</td>\n",
       "      <td>3241</td>\n",
       "      <td>2019-09-01 04:31:51</td>\n",
       "      <td>2019-09-01 04:32:48</td>\n",
       "      <td>0.220694</td>\n",
       "      <td>0.145768</td>\n",
       "    </tr>\n",
       "    <tr>\n",
       "      <td>14875</td>\n",
       "      <td>3241</td>\n",
       "      <td>2019-09-01 04:34:47</td>\n",
       "      <td>2019-09-01 04:36:08</td>\n",
       "      <td>0.306580</td>\n",
       "      <td>0.196708</td>\n",
       "    </tr>\n",
       "  </tbody>\n",
       "</table>\n",
       "<p>14876 rows × 5 columns</p>\n",
       "</div>"
      ],
      "text/plain": [
       "        key Начало нагрева дугой  Конец нагрева дугой  Активная мощность  \\\n",
       "0         1  2019-05-03 11:02:14  2019-05-03 11:06:02           0.976059   \n",
       "1         1  2019-05-03 11:07:28  2019-05-03 11:10:33           0.805607   \n",
       "2         1  2019-05-03 11:11:44  2019-05-03 11:14:36           0.744363   \n",
       "3         1  2019-05-03 11:18:14  2019-05-03 11:24:19           1.659363   \n",
       "4         1  2019-05-03 11:26:09  2019-05-03 11:28:37           0.692755   \n",
       "...     ...                  ...                  ...                ...   \n",
       "14871  3241  2019-09-01 03:58:58  2019-09-01 04:01:35           0.533670   \n",
       "14872  3241  2019-09-01 04:05:04  2019-09-01 04:08:04           0.676604   \n",
       "14873  3241  2019-09-01 04:16:41  2019-09-01 04:19:45           0.733899   \n",
       "14874  3241  2019-09-01 04:31:51  2019-09-01 04:32:48           0.220694   \n",
       "14875  3241  2019-09-01 04:34:47  2019-09-01 04:36:08           0.306580   \n",
       "\n",
       "       Реактивная мощность  \n",
       "0                 0.687084  \n",
       "1                 0.520285  \n",
       "2                 0.498805  \n",
       "3                 1.062669  \n",
       "4                 0.414397  \n",
       "...                    ...  \n",
       "14871             0.354439  \n",
       "14872             0.523631  \n",
       "14873             0.475654  \n",
       "14874             0.145768  \n",
       "14875             0.196708  \n",
       "\n",
       "[14876 rows x 5 columns]"
      ]
     },
     "metadata": {},
     "output_type": "display_data"
    },
    {
     "data": {
      "text/html": [
       "<div>\n",
       "<style scoped>\n",
       "    .dataframe tbody tr th:only-of-type {\n",
       "        vertical-align: middle;\n",
       "    }\n",
       "\n",
       "    .dataframe tbody tr th {\n",
       "        vertical-align: top;\n",
       "    }\n",
       "\n",
       "    .dataframe thead th {\n",
       "        text-align: right;\n",
       "    }\n",
       "</style>\n",
       "<table border=\"1\" class=\"dataframe\">\n",
       "  <thead>\n",
       "    <tr style=\"text-align: right;\">\n",
       "      <th></th>\n",
       "      <th>key</th>\n",
       "      <th>Активная мощность</th>\n",
       "      <th>Реактивная мощность</th>\n",
       "    </tr>\n",
       "  </thead>\n",
       "  <tbody>\n",
       "    <tr>\n",
       "      <td>count</td>\n",
       "      <td>14876.000000</td>\n",
       "      <td>14876.000000</td>\n",
       "      <td>14876.000000</td>\n",
       "    </tr>\n",
       "    <tr>\n",
       "      <td>mean</td>\n",
       "      <td>1615.220422</td>\n",
       "      <td>0.670441</td>\n",
       "      <td>0.452592</td>\n",
       "    </tr>\n",
       "    <tr>\n",
       "      <td>std</td>\n",
       "      <td>934.571502</td>\n",
       "      <td>0.408159</td>\n",
       "      <td>5.878702</td>\n",
       "    </tr>\n",
       "    <tr>\n",
       "      <td>min</td>\n",
       "      <td>1.000000</td>\n",
       "      <td>0.030002</td>\n",
       "      <td>-715.504924</td>\n",
       "    </tr>\n",
       "    <tr>\n",
       "      <td>25%</td>\n",
       "      <td>806.000000</td>\n",
       "      <td>0.395297</td>\n",
       "      <td>0.290991</td>\n",
       "    </tr>\n",
       "    <tr>\n",
       "      <td>50%</td>\n",
       "      <td>1617.000000</td>\n",
       "      <td>0.555517</td>\n",
       "      <td>0.415962</td>\n",
       "    </tr>\n",
       "    <tr>\n",
       "      <td>75%</td>\n",
       "      <td>2429.000000</td>\n",
       "      <td>0.857034</td>\n",
       "      <td>0.637371</td>\n",
       "    </tr>\n",
       "    <tr>\n",
       "      <td>max</td>\n",
       "      <td>3241.000000</td>\n",
       "      <td>3.731596</td>\n",
       "      <td>2.676388</td>\n",
       "    </tr>\n",
       "  </tbody>\n",
       "</table>\n",
       "</div>"
      ],
      "text/plain": [
       "                key  Активная мощность  Реактивная мощность\n",
       "count  14876.000000       14876.000000         14876.000000\n",
       "mean    1615.220422           0.670441             0.452592\n",
       "std      934.571502           0.408159             5.878702\n",
       "min        1.000000           0.030002          -715.504924\n",
       "25%      806.000000           0.395297             0.290991\n",
       "50%     1617.000000           0.555517             0.415962\n",
       "75%     2429.000000           0.857034             0.637371\n",
       "max     3241.000000           3.731596             2.676388"
      ]
     },
     "metadata": {},
     "output_type": "display_data"
    },
    {
     "name": "stdout",
     "output_type": "stream",
     "text": [
      "data_bulk\n",
      "<class 'pandas.core.frame.DataFrame'>\n",
      "RangeIndex: 3129 entries, 0 to 3128\n",
      "Data columns (total 16 columns):\n",
      "key        3129 non-null int64\n",
      "Bulk 1     252 non-null float64\n",
      "Bulk 2     22 non-null float64\n",
      "Bulk 3     1298 non-null float64\n",
      "Bulk 4     1014 non-null float64\n",
      "Bulk 5     77 non-null float64\n",
      "Bulk 6     576 non-null float64\n",
      "Bulk 7     25 non-null float64\n",
      "Bulk 8     1 non-null float64\n",
      "Bulk 9     19 non-null float64\n",
      "Bulk 10    176 non-null float64\n",
      "Bulk 11    177 non-null float64\n",
      "Bulk 12    2450 non-null float64\n",
      "Bulk 13    18 non-null float64\n",
      "Bulk 14    2806 non-null float64\n",
      "Bulk 15    2248 non-null float64\n",
      "dtypes: float64(15), int64(1)\n",
      "memory usage: 391.2 KB\n",
      "None\n"
     ]
    },
    {
     "data": {
      "text/html": [
       "<div>\n",
       "<style scoped>\n",
       "    .dataframe tbody tr th:only-of-type {\n",
       "        vertical-align: middle;\n",
       "    }\n",
       "\n",
       "    .dataframe tbody tr th {\n",
       "        vertical-align: top;\n",
       "    }\n",
       "\n",
       "    .dataframe thead th {\n",
       "        text-align: right;\n",
       "    }\n",
       "</style>\n",
       "<table border=\"1\" class=\"dataframe\">\n",
       "  <thead>\n",
       "    <tr style=\"text-align: right;\">\n",
       "      <th></th>\n",
       "      <th>key</th>\n",
       "      <th>Bulk 1</th>\n",
       "      <th>Bulk 2</th>\n",
       "      <th>Bulk 3</th>\n",
       "      <th>Bulk 4</th>\n",
       "      <th>Bulk 5</th>\n",
       "      <th>Bulk 6</th>\n",
       "      <th>Bulk 7</th>\n",
       "      <th>Bulk 8</th>\n",
       "      <th>Bulk 9</th>\n",
       "      <th>Bulk 10</th>\n",
       "      <th>Bulk 11</th>\n",
       "      <th>Bulk 12</th>\n",
       "      <th>Bulk 13</th>\n",
       "      <th>Bulk 14</th>\n",
       "      <th>Bulk 15</th>\n",
       "    </tr>\n",
       "  </thead>\n",
       "  <tbody>\n",
       "    <tr>\n",
       "      <td>0</td>\n",
       "      <td>1</td>\n",
       "      <td>NaN</td>\n",
       "      <td>NaN</td>\n",
       "      <td>NaN</td>\n",
       "      <td>43.0</td>\n",
       "      <td>NaN</td>\n",
       "      <td>NaN</td>\n",
       "      <td>NaN</td>\n",
       "      <td>NaN</td>\n",
       "      <td>NaN</td>\n",
       "      <td>NaN</td>\n",
       "      <td>NaN</td>\n",
       "      <td>206.0</td>\n",
       "      <td>NaN</td>\n",
       "      <td>150.0</td>\n",
       "      <td>154.0</td>\n",
       "    </tr>\n",
       "    <tr>\n",
       "      <td>1</td>\n",
       "      <td>2</td>\n",
       "      <td>NaN</td>\n",
       "      <td>NaN</td>\n",
       "      <td>NaN</td>\n",
       "      <td>73.0</td>\n",
       "      <td>NaN</td>\n",
       "      <td>NaN</td>\n",
       "      <td>NaN</td>\n",
       "      <td>NaN</td>\n",
       "      <td>NaN</td>\n",
       "      <td>NaN</td>\n",
       "      <td>NaN</td>\n",
       "      <td>206.0</td>\n",
       "      <td>NaN</td>\n",
       "      <td>149.0</td>\n",
       "      <td>154.0</td>\n",
       "    </tr>\n",
       "    <tr>\n",
       "      <td>2</td>\n",
       "      <td>3</td>\n",
       "      <td>NaN</td>\n",
       "      <td>NaN</td>\n",
       "      <td>NaN</td>\n",
       "      <td>34.0</td>\n",
       "      <td>NaN</td>\n",
       "      <td>NaN</td>\n",
       "      <td>NaN</td>\n",
       "      <td>NaN</td>\n",
       "      <td>NaN</td>\n",
       "      <td>NaN</td>\n",
       "      <td>NaN</td>\n",
       "      <td>205.0</td>\n",
       "      <td>NaN</td>\n",
       "      <td>152.0</td>\n",
       "      <td>153.0</td>\n",
       "    </tr>\n",
       "    <tr>\n",
       "      <td>3</td>\n",
       "      <td>4</td>\n",
       "      <td>NaN</td>\n",
       "      <td>NaN</td>\n",
       "      <td>NaN</td>\n",
       "      <td>81.0</td>\n",
       "      <td>NaN</td>\n",
       "      <td>NaN</td>\n",
       "      <td>NaN</td>\n",
       "      <td>NaN</td>\n",
       "      <td>NaN</td>\n",
       "      <td>NaN</td>\n",
       "      <td>NaN</td>\n",
       "      <td>207.0</td>\n",
       "      <td>NaN</td>\n",
       "      <td>153.0</td>\n",
       "      <td>154.0</td>\n",
       "    </tr>\n",
       "    <tr>\n",
       "      <td>4</td>\n",
       "      <td>5</td>\n",
       "      <td>NaN</td>\n",
       "      <td>NaN</td>\n",
       "      <td>NaN</td>\n",
       "      <td>78.0</td>\n",
       "      <td>NaN</td>\n",
       "      <td>NaN</td>\n",
       "      <td>NaN</td>\n",
       "      <td>NaN</td>\n",
       "      <td>NaN</td>\n",
       "      <td>NaN</td>\n",
       "      <td>NaN</td>\n",
       "      <td>203.0</td>\n",
       "      <td>NaN</td>\n",
       "      <td>151.0</td>\n",
       "      <td>152.0</td>\n",
       "    </tr>\n",
       "    <tr>\n",
       "      <td>...</td>\n",
       "      <td>...</td>\n",
       "      <td>...</td>\n",
       "      <td>...</td>\n",
       "      <td>...</td>\n",
       "      <td>...</td>\n",
       "      <td>...</td>\n",
       "      <td>...</td>\n",
       "      <td>...</td>\n",
       "      <td>...</td>\n",
       "      <td>...</td>\n",
       "      <td>...</td>\n",
       "      <td>...</td>\n",
       "      <td>...</td>\n",
       "      <td>...</td>\n",
       "      <td>...</td>\n",
       "      <td>...</td>\n",
       "    </tr>\n",
       "    <tr>\n",
       "      <td>3124</td>\n",
       "      <td>3237</td>\n",
       "      <td>NaN</td>\n",
       "      <td>NaN</td>\n",
       "      <td>170.0</td>\n",
       "      <td>NaN</td>\n",
       "      <td>NaN</td>\n",
       "      <td>NaN</td>\n",
       "      <td>NaN</td>\n",
       "      <td>NaN</td>\n",
       "      <td>NaN</td>\n",
       "      <td>NaN</td>\n",
       "      <td>NaN</td>\n",
       "      <td>252.0</td>\n",
       "      <td>NaN</td>\n",
       "      <td>130.0</td>\n",
       "      <td>206.0</td>\n",
       "    </tr>\n",
       "    <tr>\n",
       "      <td>3125</td>\n",
       "      <td>3238</td>\n",
       "      <td>NaN</td>\n",
       "      <td>NaN</td>\n",
       "      <td>126.0</td>\n",
       "      <td>NaN</td>\n",
       "      <td>NaN</td>\n",
       "      <td>NaN</td>\n",
       "      <td>NaN</td>\n",
       "      <td>NaN</td>\n",
       "      <td>NaN</td>\n",
       "      <td>NaN</td>\n",
       "      <td>NaN</td>\n",
       "      <td>254.0</td>\n",
       "      <td>NaN</td>\n",
       "      <td>108.0</td>\n",
       "      <td>106.0</td>\n",
       "    </tr>\n",
       "    <tr>\n",
       "      <td>3126</td>\n",
       "      <td>3239</td>\n",
       "      <td>NaN</td>\n",
       "      <td>NaN</td>\n",
       "      <td>NaN</td>\n",
       "      <td>NaN</td>\n",
       "      <td>NaN</td>\n",
       "      <td>114.0</td>\n",
       "      <td>NaN</td>\n",
       "      <td>NaN</td>\n",
       "      <td>NaN</td>\n",
       "      <td>NaN</td>\n",
       "      <td>NaN</td>\n",
       "      <td>158.0</td>\n",
       "      <td>NaN</td>\n",
       "      <td>270.0</td>\n",
       "      <td>88.0</td>\n",
       "    </tr>\n",
       "    <tr>\n",
       "      <td>3127</td>\n",
       "      <td>3240</td>\n",
       "      <td>NaN</td>\n",
       "      <td>NaN</td>\n",
       "      <td>NaN</td>\n",
       "      <td>NaN</td>\n",
       "      <td>NaN</td>\n",
       "      <td>26.0</td>\n",
       "      <td>NaN</td>\n",
       "      <td>NaN</td>\n",
       "      <td>NaN</td>\n",
       "      <td>NaN</td>\n",
       "      <td>NaN</td>\n",
       "      <td>NaN</td>\n",
       "      <td>NaN</td>\n",
       "      <td>192.0</td>\n",
       "      <td>54.0</td>\n",
       "    </tr>\n",
       "    <tr>\n",
       "      <td>3128</td>\n",
       "      <td>3241</td>\n",
       "      <td>NaN</td>\n",
       "      <td>NaN</td>\n",
       "      <td>NaN</td>\n",
       "      <td>NaN</td>\n",
       "      <td>NaN</td>\n",
       "      <td>NaN</td>\n",
       "      <td>NaN</td>\n",
       "      <td>NaN</td>\n",
       "      <td>NaN</td>\n",
       "      <td>NaN</td>\n",
       "      <td>NaN</td>\n",
       "      <td>NaN</td>\n",
       "      <td>NaN</td>\n",
       "      <td>180.0</td>\n",
       "      <td>52.0</td>\n",
       "    </tr>\n",
       "  </tbody>\n",
       "</table>\n",
       "<p>3129 rows × 16 columns</p>\n",
       "</div>"
      ],
      "text/plain": [
       "       key  Bulk 1  Bulk 2  Bulk 3  Bulk 4  Bulk 5  Bulk 6  Bulk 7  Bulk 8  \\\n",
       "0        1     NaN     NaN     NaN    43.0     NaN     NaN     NaN     NaN   \n",
       "1        2     NaN     NaN     NaN    73.0     NaN     NaN     NaN     NaN   \n",
       "2        3     NaN     NaN     NaN    34.0     NaN     NaN     NaN     NaN   \n",
       "3        4     NaN     NaN     NaN    81.0     NaN     NaN     NaN     NaN   \n",
       "4        5     NaN     NaN     NaN    78.0     NaN     NaN     NaN     NaN   \n",
       "...    ...     ...     ...     ...     ...     ...     ...     ...     ...   \n",
       "3124  3237     NaN     NaN   170.0     NaN     NaN     NaN     NaN     NaN   \n",
       "3125  3238     NaN     NaN   126.0     NaN     NaN     NaN     NaN     NaN   \n",
       "3126  3239     NaN     NaN     NaN     NaN     NaN   114.0     NaN     NaN   \n",
       "3127  3240     NaN     NaN     NaN     NaN     NaN    26.0     NaN     NaN   \n",
       "3128  3241     NaN     NaN     NaN     NaN     NaN     NaN     NaN     NaN   \n",
       "\n",
       "      Bulk 9  Bulk 10  Bulk 11  Bulk 12  Bulk 13  Bulk 14  Bulk 15  \n",
       "0        NaN      NaN      NaN    206.0      NaN    150.0    154.0  \n",
       "1        NaN      NaN      NaN    206.0      NaN    149.0    154.0  \n",
       "2        NaN      NaN      NaN    205.0      NaN    152.0    153.0  \n",
       "3        NaN      NaN      NaN    207.0      NaN    153.0    154.0  \n",
       "4        NaN      NaN      NaN    203.0      NaN    151.0    152.0  \n",
       "...      ...      ...      ...      ...      ...      ...      ...  \n",
       "3124     NaN      NaN      NaN    252.0      NaN    130.0    206.0  \n",
       "3125     NaN      NaN      NaN    254.0      NaN    108.0    106.0  \n",
       "3126     NaN      NaN      NaN    158.0      NaN    270.0     88.0  \n",
       "3127     NaN      NaN      NaN      NaN      NaN    192.0     54.0  \n",
       "3128     NaN      NaN      NaN      NaN      NaN    180.0     52.0  \n",
       "\n",
       "[3129 rows x 16 columns]"
      ]
     },
     "metadata": {},
     "output_type": "display_data"
    },
    {
     "data": {
      "text/html": [
       "<div>\n",
       "<style scoped>\n",
       "    .dataframe tbody tr th:only-of-type {\n",
       "        vertical-align: middle;\n",
       "    }\n",
       "\n",
       "    .dataframe tbody tr th {\n",
       "        vertical-align: top;\n",
       "    }\n",
       "\n",
       "    .dataframe thead th {\n",
       "        text-align: right;\n",
       "    }\n",
       "</style>\n",
       "<table border=\"1\" class=\"dataframe\">\n",
       "  <thead>\n",
       "    <tr style=\"text-align: right;\">\n",
       "      <th></th>\n",
       "      <th>key</th>\n",
       "      <th>Bulk 1</th>\n",
       "      <th>Bulk 2</th>\n",
       "      <th>Bulk 3</th>\n",
       "      <th>Bulk 4</th>\n",
       "      <th>Bulk 5</th>\n",
       "      <th>Bulk 6</th>\n",
       "      <th>Bulk 7</th>\n",
       "      <th>Bulk 8</th>\n",
       "      <th>Bulk 9</th>\n",
       "      <th>Bulk 10</th>\n",
       "      <th>Bulk 11</th>\n",
       "      <th>Bulk 12</th>\n",
       "      <th>Bulk 13</th>\n",
       "      <th>Bulk 14</th>\n",
       "      <th>Bulk 15</th>\n",
       "    </tr>\n",
       "  </thead>\n",
       "  <tbody>\n",
       "    <tr>\n",
       "      <td>count</td>\n",
       "      <td>3129.000000</td>\n",
       "      <td>252.000000</td>\n",
       "      <td>22.000000</td>\n",
       "      <td>1298.000000</td>\n",
       "      <td>1014.000000</td>\n",
       "      <td>77.000000</td>\n",
       "      <td>576.000000</td>\n",
       "      <td>25.000000</td>\n",
       "      <td>1.0</td>\n",
       "      <td>19.000000</td>\n",
       "      <td>176.000000</td>\n",
       "      <td>177.000000</td>\n",
       "      <td>2450.000000</td>\n",
       "      <td>18.000000</td>\n",
       "      <td>2806.000000</td>\n",
       "      <td>2248.000000</td>\n",
       "    </tr>\n",
       "    <tr>\n",
       "      <td>mean</td>\n",
       "      <td>1624.383509</td>\n",
       "      <td>39.242063</td>\n",
       "      <td>253.045455</td>\n",
       "      <td>113.879045</td>\n",
       "      <td>104.394477</td>\n",
       "      <td>107.025974</td>\n",
       "      <td>118.925347</td>\n",
       "      <td>305.600000</td>\n",
       "      <td>49.0</td>\n",
       "      <td>76.315789</td>\n",
       "      <td>83.284091</td>\n",
       "      <td>76.819209</td>\n",
       "      <td>260.471020</td>\n",
       "      <td>181.111111</td>\n",
       "      <td>170.284747</td>\n",
       "      <td>160.513345</td>\n",
       "    </tr>\n",
       "    <tr>\n",
       "      <td>std</td>\n",
       "      <td>933.337642</td>\n",
       "      <td>18.277654</td>\n",
       "      <td>21.180578</td>\n",
       "      <td>75.483494</td>\n",
       "      <td>48.184126</td>\n",
       "      <td>81.790646</td>\n",
       "      <td>72.057776</td>\n",
       "      <td>191.022904</td>\n",
       "      <td>NaN</td>\n",
       "      <td>21.720581</td>\n",
       "      <td>26.060347</td>\n",
       "      <td>59.655365</td>\n",
       "      <td>120.649269</td>\n",
       "      <td>46.088009</td>\n",
       "      <td>65.868652</td>\n",
       "      <td>51.765319</td>\n",
       "    </tr>\n",
       "    <tr>\n",
       "      <td>min</td>\n",
       "      <td>1.000000</td>\n",
       "      <td>10.000000</td>\n",
       "      <td>228.000000</td>\n",
       "      <td>6.000000</td>\n",
       "      <td>12.000000</td>\n",
       "      <td>11.000000</td>\n",
       "      <td>17.000000</td>\n",
       "      <td>47.000000</td>\n",
       "      <td>49.0</td>\n",
       "      <td>63.000000</td>\n",
       "      <td>24.000000</td>\n",
       "      <td>8.000000</td>\n",
       "      <td>53.000000</td>\n",
       "      <td>151.000000</td>\n",
       "      <td>16.000000</td>\n",
       "      <td>1.000000</td>\n",
       "    </tr>\n",
       "    <tr>\n",
       "      <td>25%</td>\n",
       "      <td>816.000000</td>\n",
       "      <td>27.000000</td>\n",
       "      <td>242.000000</td>\n",
       "      <td>58.000000</td>\n",
       "      <td>72.000000</td>\n",
       "      <td>70.000000</td>\n",
       "      <td>69.750000</td>\n",
       "      <td>155.000000</td>\n",
       "      <td>49.0</td>\n",
       "      <td>66.000000</td>\n",
       "      <td>64.000000</td>\n",
       "      <td>25.000000</td>\n",
       "      <td>204.000000</td>\n",
       "      <td>153.250000</td>\n",
       "      <td>119.000000</td>\n",
       "      <td>105.000000</td>\n",
       "    </tr>\n",
       "    <tr>\n",
       "      <td>50%</td>\n",
       "      <td>1622.000000</td>\n",
       "      <td>31.000000</td>\n",
       "      <td>251.500000</td>\n",
       "      <td>97.500000</td>\n",
       "      <td>102.000000</td>\n",
       "      <td>86.000000</td>\n",
       "      <td>100.000000</td>\n",
       "      <td>298.000000</td>\n",
       "      <td>49.0</td>\n",
       "      <td>68.000000</td>\n",
       "      <td>86.500000</td>\n",
       "      <td>64.000000</td>\n",
       "      <td>208.000000</td>\n",
       "      <td>155.500000</td>\n",
       "      <td>151.000000</td>\n",
       "      <td>160.000000</td>\n",
       "    </tr>\n",
       "    <tr>\n",
       "      <td>75%</td>\n",
       "      <td>2431.000000</td>\n",
       "      <td>46.000000</td>\n",
       "      <td>257.750000</td>\n",
       "      <td>152.000000</td>\n",
       "      <td>133.000000</td>\n",
       "      <td>132.000000</td>\n",
       "      <td>157.000000</td>\n",
       "      <td>406.000000</td>\n",
       "      <td>49.0</td>\n",
       "      <td>70.500000</td>\n",
       "      <td>102.000000</td>\n",
       "      <td>106.000000</td>\n",
       "      <td>316.000000</td>\n",
       "      <td>203.500000</td>\n",
       "      <td>205.750000</td>\n",
       "      <td>205.000000</td>\n",
       "    </tr>\n",
       "    <tr>\n",
       "      <td>max</td>\n",
       "      <td>3241.000000</td>\n",
       "      <td>185.000000</td>\n",
       "      <td>325.000000</td>\n",
       "      <td>454.000000</td>\n",
       "      <td>281.000000</td>\n",
       "      <td>603.000000</td>\n",
       "      <td>503.000000</td>\n",
       "      <td>772.000000</td>\n",
       "      <td>49.0</td>\n",
       "      <td>147.000000</td>\n",
       "      <td>159.000000</td>\n",
       "      <td>313.000000</td>\n",
       "      <td>1849.000000</td>\n",
       "      <td>305.000000</td>\n",
       "      <td>636.000000</td>\n",
       "      <td>405.000000</td>\n",
       "    </tr>\n",
       "  </tbody>\n",
       "</table>\n",
       "</div>"
      ],
      "text/plain": [
       "               key      Bulk 1      Bulk 2       Bulk 3       Bulk 4  \\\n",
       "count  3129.000000  252.000000   22.000000  1298.000000  1014.000000   \n",
       "mean   1624.383509   39.242063  253.045455   113.879045   104.394477   \n",
       "std     933.337642   18.277654   21.180578    75.483494    48.184126   \n",
       "min       1.000000   10.000000  228.000000     6.000000    12.000000   \n",
       "25%     816.000000   27.000000  242.000000    58.000000    72.000000   \n",
       "50%    1622.000000   31.000000  251.500000    97.500000   102.000000   \n",
       "75%    2431.000000   46.000000  257.750000   152.000000   133.000000   \n",
       "max    3241.000000  185.000000  325.000000   454.000000   281.000000   \n",
       "\n",
       "           Bulk 5      Bulk 6      Bulk 7  Bulk 8      Bulk 9     Bulk 10  \\\n",
       "count   77.000000  576.000000   25.000000     1.0   19.000000  176.000000   \n",
       "mean   107.025974  118.925347  305.600000    49.0   76.315789   83.284091   \n",
       "std     81.790646   72.057776  191.022904     NaN   21.720581   26.060347   \n",
       "min     11.000000   17.000000   47.000000    49.0   63.000000   24.000000   \n",
       "25%     70.000000   69.750000  155.000000    49.0   66.000000   64.000000   \n",
       "50%     86.000000  100.000000  298.000000    49.0   68.000000   86.500000   \n",
       "75%    132.000000  157.000000  406.000000    49.0   70.500000  102.000000   \n",
       "max    603.000000  503.000000  772.000000    49.0  147.000000  159.000000   \n",
       "\n",
       "          Bulk 11      Bulk 12     Bulk 13      Bulk 14      Bulk 15  \n",
       "count  177.000000  2450.000000   18.000000  2806.000000  2248.000000  \n",
       "mean    76.819209   260.471020  181.111111   170.284747   160.513345  \n",
       "std     59.655365   120.649269   46.088009    65.868652    51.765319  \n",
       "min      8.000000    53.000000  151.000000    16.000000     1.000000  \n",
       "25%     25.000000   204.000000  153.250000   119.000000   105.000000  \n",
       "50%     64.000000   208.000000  155.500000   151.000000   160.000000  \n",
       "75%    106.000000   316.000000  203.500000   205.750000   205.000000  \n",
       "max    313.000000  1849.000000  305.000000   636.000000   405.000000  "
      ]
     },
     "metadata": {},
     "output_type": "display_data"
    },
    {
     "name": "stdout",
     "output_type": "stream",
     "text": [
      "data_bulk_time\n",
      "<class 'pandas.core.frame.DataFrame'>\n",
      "RangeIndex: 3129 entries, 0 to 3128\n",
      "Data columns (total 16 columns):\n",
      "key        3129 non-null int64\n",
      "Bulk 1     252 non-null object\n",
      "Bulk 2     22 non-null object\n",
      "Bulk 3     1298 non-null object\n",
      "Bulk 4     1014 non-null object\n",
      "Bulk 5     77 non-null object\n",
      "Bulk 6     576 non-null object\n",
      "Bulk 7     25 non-null object\n",
      "Bulk 8     1 non-null object\n",
      "Bulk 9     19 non-null object\n",
      "Bulk 10    176 non-null object\n",
      "Bulk 11    177 non-null object\n",
      "Bulk 12    2450 non-null object\n",
      "Bulk 13    18 non-null object\n",
      "Bulk 14    2806 non-null object\n",
      "Bulk 15    2248 non-null object\n",
      "dtypes: int64(1), object(15)\n",
      "memory usage: 391.2+ KB\n",
      "None\n"
     ]
    },
    {
     "data": {
      "text/html": [
       "<div>\n",
       "<style scoped>\n",
       "    .dataframe tbody tr th:only-of-type {\n",
       "        vertical-align: middle;\n",
       "    }\n",
       "\n",
       "    .dataframe tbody tr th {\n",
       "        vertical-align: top;\n",
       "    }\n",
       "\n",
       "    .dataframe thead th {\n",
       "        text-align: right;\n",
       "    }\n",
       "</style>\n",
       "<table border=\"1\" class=\"dataframe\">\n",
       "  <thead>\n",
       "    <tr style=\"text-align: right;\">\n",
       "      <th></th>\n",
       "      <th>key</th>\n",
       "      <th>Bulk 1</th>\n",
       "      <th>Bulk 2</th>\n",
       "      <th>Bulk 3</th>\n",
       "      <th>Bulk 4</th>\n",
       "      <th>Bulk 5</th>\n",
       "      <th>Bulk 6</th>\n",
       "      <th>Bulk 7</th>\n",
       "      <th>Bulk 8</th>\n",
       "      <th>Bulk 9</th>\n",
       "      <th>Bulk 10</th>\n",
       "      <th>Bulk 11</th>\n",
       "      <th>Bulk 12</th>\n",
       "      <th>Bulk 13</th>\n",
       "      <th>Bulk 14</th>\n",
       "      <th>Bulk 15</th>\n",
       "    </tr>\n",
       "  </thead>\n",
       "  <tbody>\n",
       "    <tr>\n",
       "      <td>0</td>\n",
       "      <td>1</td>\n",
       "      <td>NaN</td>\n",
       "      <td>NaN</td>\n",
       "      <td>NaN</td>\n",
       "      <td>2019-05-03 11:21:30</td>\n",
       "      <td>NaN</td>\n",
       "      <td>NaN</td>\n",
       "      <td>NaN</td>\n",
       "      <td>NaN</td>\n",
       "      <td>NaN</td>\n",
       "      <td>NaN</td>\n",
       "      <td>NaN</td>\n",
       "      <td>2019-05-03 11:03:52</td>\n",
       "      <td>NaN</td>\n",
       "      <td>2019-05-03 11:03:52</td>\n",
       "      <td>2019-05-03 11:03:52</td>\n",
       "    </tr>\n",
       "    <tr>\n",
       "      <td>1</td>\n",
       "      <td>2</td>\n",
       "      <td>NaN</td>\n",
       "      <td>NaN</td>\n",
       "      <td>NaN</td>\n",
       "      <td>2019-05-03 11:46:38</td>\n",
       "      <td>NaN</td>\n",
       "      <td>NaN</td>\n",
       "      <td>NaN</td>\n",
       "      <td>NaN</td>\n",
       "      <td>NaN</td>\n",
       "      <td>NaN</td>\n",
       "      <td>NaN</td>\n",
       "      <td>2019-05-03 11:40:20</td>\n",
       "      <td>NaN</td>\n",
       "      <td>2019-05-03 11:40:20</td>\n",
       "      <td>2019-05-03 11:40:20</td>\n",
       "    </tr>\n",
       "    <tr>\n",
       "      <td>2</td>\n",
       "      <td>3</td>\n",
       "      <td>NaN</td>\n",
       "      <td>NaN</td>\n",
       "      <td>NaN</td>\n",
       "      <td>2019-05-03 12:31:06</td>\n",
       "      <td>NaN</td>\n",
       "      <td>NaN</td>\n",
       "      <td>NaN</td>\n",
       "      <td>NaN</td>\n",
       "      <td>NaN</td>\n",
       "      <td>NaN</td>\n",
       "      <td>NaN</td>\n",
       "      <td>2019-05-03 12:09:40</td>\n",
       "      <td>NaN</td>\n",
       "      <td>2019-05-03 12:09:40</td>\n",
       "      <td>2019-05-03 12:09:40</td>\n",
       "    </tr>\n",
       "    <tr>\n",
       "      <td>3</td>\n",
       "      <td>4</td>\n",
       "      <td>NaN</td>\n",
       "      <td>NaN</td>\n",
       "      <td>NaN</td>\n",
       "      <td>2019-05-03 12:48:43</td>\n",
       "      <td>NaN</td>\n",
       "      <td>NaN</td>\n",
       "      <td>NaN</td>\n",
       "      <td>NaN</td>\n",
       "      <td>NaN</td>\n",
       "      <td>NaN</td>\n",
       "      <td>NaN</td>\n",
       "      <td>2019-05-03 12:41:24</td>\n",
       "      <td>NaN</td>\n",
       "      <td>2019-05-03 12:41:24</td>\n",
       "      <td>2019-05-03 12:41:24</td>\n",
       "    </tr>\n",
       "    <tr>\n",
       "      <td>4</td>\n",
       "      <td>5</td>\n",
       "      <td>NaN</td>\n",
       "      <td>NaN</td>\n",
       "      <td>NaN</td>\n",
       "      <td>2019-05-03 13:18:50</td>\n",
       "      <td>NaN</td>\n",
       "      <td>NaN</td>\n",
       "      <td>NaN</td>\n",
       "      <td>NaN</td>\n",
       "      <td>NaN</td>\n",
       "      <td>NaN</td>\n",
       "      <td>NaN</td>\n",
       "      <td>2019-05-03 13:12:56</td>\n",
       "      <td>NaN</td>\n",
       "      <td>2019-05-03 13:12:56</td>\n",
       "      <td>2019-05-03 13:12:56</td>\n",
       "    </tr>\n",
       "    <tr>\n",
       "      <td>...</td>\n",
       "      <td>...</td>\n",
       "      <td>...</td>\n",
       "      <td>...</td>\n",
       "      <td>...</td>\n",
       "      <td>...</td>\n",
       "      <td>...</td>\n",
       "      <td>...</td>\n",
       "      <td>...</td>\n",
       "      <td>...</td>\n",
       "      <td>...</td>\n",
       "      <td>...</td>\n",
       "      <td>...</td>\n",
       "      <td>...</td>\n",
       "      <td>...</td>\n",
       "      <td>...</td>\n",
       "      <td>...</td>\n",
       "    </tr>\n",
       "    <tr>\n",
       "      <td>3124</td>\n",
       "      <td>3237</td>\n",
       "      <td>NaN</td>\n",
       "      <td>NaN</td>\n",
       "      <td>2019-08-31 22:51:28</td>\n",
       "      <td>NaN</td>\n",
       "      <td>NaN</td>\n",
       "      <td>NaN</td>\n",
       "      <td>NaN</td>\n",
       "      <td>NaN</td>\n",
       "      <td>NaN</td>\n",
       "      <td>NaN</td>\n",
       "      <td>NaN</td>\n",
       "      <td>2019-08-31 22:46:52</td>\n",
       "      <td>NaN</td>\n",
       "      <td>2019-08-31 22:46:52</td>\n",
       "      <td>2019-08-31 22:46:52</td>\n",
       "    </tr>\n",
       "    <tr>\n",
       "      <td>3125</td>\n",
       "      <td>3238</td>\n",
       "      <td>NaN</td>\n",
       "      <td>NaN</td>\n",
       "      <td>2019-08-31 23:39:11</td>\n",
       "      <td>NaN</td>\n",
       "      <td>NaN</td>\n",
       "      <td>NaN</td>\n",
       "      <td>NaN</td>\n",
       "      <td>NaN</td>\n",
       "      <td>NaN</td>\n",
       "      <td>NaN</td>\n",
       "      <td>NaN</td>\n",
       "      <td>2019-08-31 23:33:09</td>\n",
       "      <td>NaN</td>\n",
       "      <td>2019-08-31 23:33:09</td>\n",
       "      <td>2019-08-31 23:33:09</td>\n",
       "    </tr>\n",
       "    <tr>\n",
       "      <td>3126</td>\n",
       "      <td>3239</td>\n",
       "      <td>NaN</td>\n",
       "      <td>NaN</td>\n",
       "      <td>NaN</td>\n",
       "      <td>NaN</td>\n",
       "      <td>NaN</td>\n",
       "      <td>2019-09-01 01:51:58</td>\n",
       "      <td>NaN</td>\n",
       "      <td>NaN</td>\n",
       "      <td>NaN</td>\n",
       "      <td>NaN</td>\n",
       "      <td>NaN</td>\n",
       "      <td>2019-09-01 01:39:41</td>\n",
       "      <td>NaN</td>\n",
       "      <td>2019-09-01 01:33:25</td>\n",
       "      <td>2019-09-01 01:33:25</td>\n",
       "    </tr>\n",
       "    <tr>\n",
       "      <td>3127</td>\n",
       "      <td>3240</td>\n",
       "      <td>NaN</td>\n",
       "      <td>NaN</td>\n",
       "      <td>NaN</td>\n",
       "      <td>NaN</td>\n",
       "      <td>NaN</td>\n",
       "      <td>2019-09-01 03:12:40</td>\n",
       "      <td>NaN</td>\n",
       "      <td>NaN</td>\n",
       "      <td>NaN</td>\n",
       "      <td>NaN</td>\n",
       "      <td>NaN</td>\n",
       "      <td>NaN</td>\n",
       "      <td>NaN</td>\n",
       "      <td>2019-09-01 02:41:27</td>\n",
       "      <td>2019-09-01 02:41:27</td>\n",
       "    </tr>\n",
       "    <tr>\n",
       "      <td>3128</td>\n",
       "      <td>3241</td>\n",
       "      <td>NaN</td>\n",
       "      <td>NaN</td>\n",
       "      <td>NaN</td>\n",
       "      <td>NaN</td>\n",
       "      <td>NaN</td>\n",
       "      <td>NaN</td>\n",
       "      <td>NaN</td>\n",
       "      <td>NaN</td>\n",
       "      <td>NaN</td>\n",
       "      <td>NaN</td>\n",
       "      <td>NaN</td>\n",
       "      <td>NaN</td>\n",
       "      <td>NaN</td>\n",
       "      <td>2019-09-01 04:05:34</td>\n",
       "      <td>2019-09-01 04:05:34</td>\n",
       "    </tr>\n",
       "  </tbody>\n",
       "</table>\n",
       "<p>3129 rows × 16 columns</p>\n",
       "</div>"
      ],
      "text/plain": [
       "       key Bulk 1 Bulk 2               Bulk 3               Bulk 4 Bulk 5  \\\n",
       "0        1    NaN    NaN                  NaN  2019-05-03 11:21:30    NaN   \n",
       "1        2    NaN    NaN                  NaN  2019-05-03 11:46:38    NaN   \n",
       "2        3    NaN    NaN                  NaN  2019-05-03 12:31:06    NaN   \n",
       "3        4    NaN    NaN                  NaN  2019-05-03 12:48:43    NaN   \n",
       "4        5    NaN    NaN                  NaN  2019-05-03 13:18:50    NaN   \n",
       "...    ...    ...    ...                  ...                  ...    ...   \n",
       "3124  3237    NaN    NaN  2019-08-31 22:51:28                  NaN    NaN   \n",
       "3125  3238    NaN    NaN  2019-08-31 23:39:11                  NaN    NaN   \n",
       "3126  3239    NaN    NaN                  NaN                  NaN    NaN   \n",
       "3127  3240    NaN    NaN                  NaN                  NaN    NaN   \n",
       "3128  3241    NaN    NaN                  NaN                  NaN    NaN   \n",
       "\n",
       "                   Bulk 6 Bulk 7 Bulk 8 Bulk 9 Bulk 10 Bulk 11  \\\n",
       "0                     NaN    NaN    NaN    NaN     NaN     NaN   \n",
       "1                     NaN    NaN    NaN    NaN     NaN     NaN   \n",
       "2                     NaN    NaN    NaN    NaN     NaN     NaN   \n",
       "3                     NaN    NaN    NaN    NaN     NaN     NaN   \n",
       "4                     NaN    NaN    NaN    NaN     NaN     NaN   \n",
       "...                   ...    ...    ...    ...     ...     ...   \n",
       "3124                  NaN    NaN    NaN    NaN     NaN     NaN   \n",
       "3125                  NaN    NaN    NaN    NaN     NaN     NaN   \n",
       "3126  2019-09-01 01:51:58    NaN    NaN    NaN     NaN     NaN   \n",
       "3127  2019-09-01 03:12:40    NaN    NaN    NaN     NaN     NaN   \n",
       "3128                  NaN    NaN    NaN    NaN     NaN     NaN   \n",
       "\n",
       "                  Bulk 12 Bulk 13              Bulk 14              Bulk 15  \n",
       "0     2019-05-03 11:03:52     NaN  2019-05-03 11:03:52  2019-05-03 11:03:52  \n",
       "1     2019-05-03 11:40:20     NaN  2019-05-03 11:40:20  2019-05-03 11:40:20  \n",
       "2     2019-05-03 12:09:40     NaN  2019-05-03 12:09:40  2019-05-03 12:09:40  \n",
       "3     2019-05-03 12:41:24     NaN  2019-05-03 12:41:24  2019-05-03 12:41:24  \n",
       "4     2019-05-03 13:12:56     NaN  2019-05-03 13:12:56  2019-05-03 13:12:56  \n",
       "...                   ...     ...                  ...                  ...  \n",
       "3124  2019-08-31 22:46:52     NaN  2019-08-31 22:46:52  2019-08-31 22:46:52  \n",
       "3125  2019-08-31 23:33:09     NaN  2019-08-31 23:33:09  2019-08-31 23:33:09  \n",
       "3126  2019-09-01 01:39:41     NaN  2019-09-01 01:33:25  2019-09-01 01:33:25  \n",
       "3127                  NaN     NaN  2019-09-01 02:41:27  2019-09-01 02:41:27  \n",
       "3128                  NaN     NaN  2019-09-01 04:05:34  2019-09-01 04:05:34  \n",
       "\n",
       "[3129 rows x 16 columns]"
      ]
     },
     "metadata": {},
     "output_type": "display_data"
    },
    {
     "data": {
      "text/html": [
       "<div>\n",
       "<style scoped>\n",
       "    .dataframe tbody tr th:only-of-type {\n",
       "        vertical-align: middle;\n",
       "    }\n",
       "\n",
       "    .dataframe tbody tr th {\n",
       "        vertical-align: top;\n",
       "    }\n",
       "\n",
       "    .dataframe thead th {\n",
       "        text-align: right;\n",
       "    }\n",
       "</style>\n",
       "<table border=\"1\" class=\"dataframe\">\n",
       "  <thead>\n",
       "    <tr style=\"text-align: right;\">\n",
       "      <th></th>\n",
       "      <th>key</th>\n",
       "    </tr>\n",
       "  </thead>\n",
       "  <tbody>\n",
       "    <tr>\n",
       "      <td>count</td>\n",
       "      <td>3129.000000</td>\n",
       "    </tr>\n",
       "    <tr>\n",
       "      <td>mean</td>\n",
       "      <td>1624.383509</td>\n",
       "    </tr>\n",
       "    <tr>\n",
       "      <td>std</td>\n",
       "      <td>933.337642</td>\n",
       "    </tr>\n",
       "    <tr>\n",
       "      <td>min</td>\n",
       "      <td>1.000000</td>\n",
       "    </tr>\n",
       "    <tr>\n",
       "      <td>25%</td>\n",
       "      <td>816.000000</td>\n",
       "    </tr>\n",
       "    <tr>\n",
       "      <td>50%</td>\n",
       "      <td>1622.000000</td>\n",
       "    </tr>\n",
       "    <tr>\n",
       "      <td>75%</td>\n",
       "      <td>2431.000000</td>\n",
       "    </tr>\n",
       "    <tr>\n",
       "      <td>max</td>\n",
       "      <td>3241.000000</td>\n",
       "    </tr>\n",
       "  </tbody>\n",
       "</table>\n",
       "</div>"
      ],
      "text/plain": [
       "               key\n",
       "count  3129.000000\n",
       "mean   1624.383509\n",
       "std     933.337642\n",
       "min       1.000000\n",
       "25%     816.000000\n",
       "50%    1622.000000\n",
       "75%    2431.000000\n",
       "max    3241.000000"
      ]
     },
     "metadata": {},
     "output_type": "display_data"
    },
    {
     "name": "stdout",
     "output_type": "stream",
     "text": [
      "data_gas\n",
      "<class 'pandas.core.frame.DataFrame'>\n",
      "RangeIndex: 3239 entries, 0 to 3238\n",
      "Data columns (total 2 columns):\n",
      "key      3239 non-null int64\n",
      "Газ 1    3239 non-null float64\n",
      "dtypes: float64(1), int64(1)\n",
      "memory usage: 50.7 KB\n",
      "None\n"
     ]
    },
    {
     "data": {
      "text/html": [
       "<div>\n",
       "<style scoped>\n",
       "    .dataframe tbody tr th:only-of-type {\n",
       "        vertical-align: middle;\n",
       "    }\n",
       "\n",
       "    .dataframe tbody tr th {\n",
       "        vertical-align: top;\n",
       "    }\n",
       "\n",
       "    .dataframe thead th {\n",
       "        text-align: right;\n",
       "    }\n",
       "</style>\n",
       "<table border=\"1\" class=\"dataframe\">\n",
       "  <thead>\n",
       "    <tr style=\"text-align: right;\">\n",
       "      <th></th>\n",
       "      <th>key</th>\n",
       "      <th>Газ 1</th>\n",
       "    </tr>\n",
       "  </thead>\n",
       "  <tbody>\n",
       "    <tr>\n",
       "      <td>0</td>\n",
       "      <td>1</td>\n",
       "      <td>29.749986</td>\n",
       "    </tr>\n",
       "    <tr>\n",
       "      <td>1</td>\n",
       "      <td>2</td>\n",
       "      <td>12.555561</td>\n",
       "    </tr>\n",
       "    <tr>\n",
       "      <td>2</td>\n",
       "      <td>3</td>\n",
       "      <td>28.554793</td>\n",
       "    </tr>\n",
       "    <tr>\n",
       "      <td>3</td>\n",
       "      <td>4</td>\n",
       "      <td>18.841219</td>\n",
       "    </tr>\n",
       "    <tr>\n",
       "      <td>4</td>\n",
       "      <td>5</td>\n",
       "      <td>5.413692</td>\n",
       "    </tr>\n",
       "    <tr>\n",
       "      <td>...</td>\n",
       "      <td>...</td>\n",
       "      <td>...</td>\n",
       "    </tr>\n",
       "    <tr>\n",
       "      <td>3234</td>\n",
       "      <td>3237</td>\n",
       "      <td>5.543905</td>\n",
       "    </tr>\n",
       "    <tr>\n",
       "      <td>3235</td>\n",
       "      <td>3238</td>\n",
       "      <td>6.745669</td>\n",
       "    </tr>\n",
       "    <tr>\n",
       "      <td>3236</td>\n",
       "      <td>3239</td>\n",
       "      <td>16.023518</td>\n",
       "    </tr>\n",
       "    <tr>\n",
       "      <td>3237</td>\n",
       "      <td>3240</td>\n",
       "      <td>11.863103</td>\n",
       "    </tr>\n",
       "    <tr>\n",
       "      <td>3238</td>\n",
       "      <td>3241</td>\n",
       "      <td>12.680959</td>\n",
       "    </tr>\n",
       "  </tbody>\n",
       "</table>\n",
       "<p>3239 rows × 2 columns</p>\n",
       "</div>"
      ],
      "text/plain": [
       "       key      Газ 1\n",
       "0        1  29.749986\n",
       "1        2  12.555561\n",
       "2        3  28.554793\n",
       "3        4  18.841219\n",
       "4        5   5.413692\n",
       "...    ...        ...\n",
       "3234  3237   5.543905\n",
       "3235  3238   6.745669\n",
       "3236  3239  16.023518\n",
       "3237  3240  11.863103\n",
       "3238  3241  12.680959\n",
       "\n",
       "[3239 rows x 2 columns]"
      ]
     },
     "metadata": {},
     "output_type": "display_data"
    },
    {
     "data": {
      "text/html": [
       "<div>\n",
       "<style scoped>\n",
       "    .dataframe tbody tr th:only-of-type {\n",
       "        vertical-align: middle;\n",
       "    }\n",
       "\n",
       "    .dataframe tbody tr th {\n",
       "        vertical-align: top;\n",
       "    }\n",
       "\n",
       "    .dataframe thead th {\n",
       "        text-align: right;\n",
       "    }\n",
       "</style>\n",
       "<table border=\"1\" class=\"dataframe\">\n",
       "  <thead>\n",
       "    <tr style=\"text-align: right;\">\n",
       "      <th></th>\n",
       "      <th>key</th>\n",
       "      <th>Газ 1</th>\n",
       "    </tr>\n",
       "  </thead>\n",
       "  <tbody>\n",
       "    <tr>\n",
       "      <td>count</td>\n",
       "      <td>3239.000000</td>\n",
       "      <td>3239.000000</td>\n",
       "    </tr>\n",
       "    <tr>\n",
       "      <td>mean</td>\n",
       "      <td>1621.861377</td>\n",
       "      <td>11.002062</td>\n",
       "    </tr>\n",
       "    <tr>\n",
       "      <td>std</td>\n",
       "      <td>935.386334</td>\n",
       "      <td>6.220327</td>\n",
       "    </tr>\n",
       "    <tr>\n",
       "      <td>min</td>\n",
       "      <td>1.000000</td>\n",
       "      <td>0.008399</td>\n",
       "    </tr>\n",
       "    <tr>\n",
       "      <td>25%</td>\n",
       "      <td>812.500000</td>\n",
       "      <td>7.043089</td>\n",
       "    </tr>\n",
       "    <tr>\n",
       "      <td>50%</td>\n",
       "      <td>1622.000000</td>\n",
       "      <td>9.836267</td>\n",
       "    </tr>\n",
       "    <tr>\n",
       "      <td>75%</td>\n",
       "      <td>2431.500000</td>\n",
       "      <td>13.769915</td>\n",
       "    </tr>\n",
       "    <tr>\n",
       "      <td>max</td>\n",
       "      <td>3241.000000</td>\n",
       "      <td>77.995040</td>\n",
       "    </tr>\n",
       "  </tbody>\n",
       "</table>\n",
       "</div>"
      ],
      "text/plain": [
       "               key        Газ 1\n",
       "count  3239.000000  3239.000000\n",
       "mean   1621.861377    11.002062\n",
       "std     935.386334     6.220327\n",
       "min       1.000000     0.008399\n",
       "25%     812.500000     7.043089\n",
       "50%    1622.000000     9.836267\n",
       "75%    2431.500000    13.769915\n",
       "max    3241.000000    77.995040"
      ]
     },
     "metadata": {},
     "output_type": "display_data"
    },
    {
     "name": "stdout",
     "output_type": "stream",
     "text": [
      "data_temp\n",
      "<class 'pandas.core.frame.DataFrame'>\n",
      "RangeIndex: 15907 entries, 0 to 15906\n",
      "Data columns (total 3 columns):\n",
      "key             15907 non-null int64\n",
      "Время замера    15907 non-null object\n",
      "Температура     13006 non-null float64\n",
      "dtypes: float64(1), int64(1), object(1)\n",
      "memory usage: 372.9+ KB\n",
      "None\n"
     ]
    },
    {
     "data": {
      "text/html": [
       "<div>\n",
       "<style scoped>\n",
       "    .dataframe tbody tr th:only-of-type {\n",
       "        vertical-align: middle;\n",
       "    }\n",
       "\n",
       "    .dataframe tbody tr th {\n",
       "        vertical-align: top;\n",
       "    }\n",
       "\n",
       "    .dataframe thead th {\n",
       "        text-align: right;\n",
       "    }\n",
       "</style>\n",
       "<table border=\"1\" class=\"dataframe\">\n",
       "  <thead>\n",
       "    <tr style=\"text-align: right;\">\n",
       "      <th></th>\n",
       "      <th>key</th>\n",
       "      <th>Время замера</th>\n",
       "      <th>Температура</th>\n",
       "    </tr>\n",
       "  </thead>\n",
       "  <tbody>\n",
       "    <tr>\n",
       "      <td>0</td>\n",
       "      <td>1</td>\n",
       "      <td>2019-05-03 11:16:18</td>\n",
       "      <td>1571.0</td>\n",
       "    </tr>\n",
       "    <tr>\n",
       "      <td>1</td>\n",
       "      <td>1</td>\n",
       "      <td>2019-05-03 11:25:53</td>\n",
       "      <td>1604.0</td>\n",
       "    </tr>\n",
       "    <tr>\n",
       "      <td>2</td>\n",
       "      <td>1</td>\n",
       "      <td>2019-05-03 11:29:11</td>\n",
       "      <td>1618.0</td>\n",
       "    </tr>\n",
       "    <tr>\n",
       "      <td>3</td>\n",
       "      <td>1</td>\n",
       "      <td>2019-05-03 11:30:01</td>\n",
       "      <td>1601.0</td>\n",
       "    </tr>\n",
       "    <tr>\n",
       "      <td>4</td>\n",
       "      <td>1</td>\n",
       "      <td>2019-05-03 11:30:39</td>\n",
       "      <td>1613.0</td>\n",
       "    </tr>\n",
       "    <tr>\n",
       "      <td>...</td>\n",
       "      <td>...</td>\n",
       "      <td>...</td>\n",
       "      <td>...</td>\n",
       "    </tr>\n",
       "    <tr>\n",
       "      <td>15902</td>\n",
       "      <td>3241</td>\n",
       "      <td>2019-09-01 04:03:30</td>\n",
       "      <td>1586.0</td>\n",
       "    </tr>\n",
       "    <tr>\n",
       "      <td>15903</td>\n",
       "      <td>3241</td>\n",
       "      <td>2019-09-01 04:16:12</td>\n",
       "      <td>NaN</td>\n",
       "    </tr>\n",
       "    <tr>\n",
       "      <td>15904</td>\n",
       "      <td>3241</td>\n",
       "      <td>2019-09-01 04:22:39</td>\n",
       "      <td>NaN</td>\n",
       "    </tr>\n",
       "    <tr>\n",
       "      <td>15905</td>\n",
       "      <td>3241</td>\n",
       "      <td>2019-09-01 04:33:42</td>\n",
       "      <td>NaN</td>\n",
       "    </tr>\n",
       "    <tr>\n",
       "      <td>15906</td>\n",
       "      <td>3241</td>\n",
       "      <td>2019-09-01 04:38:08</td>\n",
       "      <td>NaN</td>\n",
       "    </tr>\n",
       "  </tbody>\n",
       "</table>\n",
       "<p>15907 rows × 3 columns</p>\n",
       "</div>"
      ],
      "text/plain": [
       "        key         Время замера  Температура\n",
       "0         1  2019-05-03 11:16:18       1571.0\n",
       "1         1  2019-05-03 11:25:53       1604.0\n",
       "2         1  2019-05-03 11:29:11       1618.0\n",
       "3         1  2019-05-03 11:30:01       1601.0\n",
       "4         1  2019-05-03 11:30:39       1613.0\n",
       "...     ...                  ...          ...\n",
       "15902  3241  2019-09-01 04:03:30       1586.0\n",
       "15903  3241  2019-09-01 04:16:12          NaN\n",
       "15904  3241  2019-09-01 04:22:39          NaN\n",
       "15905  3241  2019-09-01 04:33:42          NaN\n",
       "15906  3241  2019-09-01 04:38:08          NaN\n",
       "\n",
       "[15907 rows x 3 columns]"
      ]
     },
     "metadata": {},
     "output_type": "display_data"
    },
    {
     "data": {
      "text/html": [
       "<div>\n",
       "<style scoped>\n",
       "    .dataframe tbody tr th:only-of-type {\n",
       "        vertical-align: middle;\n",
       "    }\n",
       "\n",
       "    .dataframe tbody tr th {\n",
       "        vertical-align: top;\n",
       "    }\n",
       "\n",
       "    .dataframe thead th {\n",
       "        text-align: right;\n",
       "    }\n",
       "</style>\n",
       "<table border=\"1\" class=\"dataframe\">\n",
       "  <thead>\n",
       "    <tr style=\"text-align: right;\">\n",
       "      <th></th>\n",
       "      <th>key</th>\n",
       "      <th>Температура</th>\n",
       "    </tr>\n",
       "  </thead>\n",
       "  <tbody>\n",
       "    <tr>\n",
       "      <td>count</td>\n",
       "      <td>15907.000000</td>\n",
       "      <td>13006.000000</td>\n",
       "    </tr>\n",
       "    <tr>\n",
       "      <td>mean</td>\n",
       "      <td>1607.880870</td>\n",
       "      <td>1591.840920</td>\n",
       "    </tr>\n",
       "    <tr>\n",
       "      <td>std</td>\n",
       "      <td>942.212073</td>\n",
       "      <td>21.375851</td>\n",
       "    </tr>\n",
       "    <tr>\n",
       "      <td>min</td>\n",
       "      <td>1.000000</td>\n",
       "      <td>1191.000000</td>\n",
       "    </tr>\n",
       "    <tr>\n",
       "      <td>25%</td>\n",
       "      <td>790.000000</td>\n",
       "      <td>1581.000000</td>\n",
       "    </tr>\n",
       "    <tr>\n",
       "      <td>50%</td>\n",
       "      <td>1618.000000</td>\n",
       "      <td>1591.000000</td>\n",
       "    </tr>\n",
       "    <tr>\n",
       "      <td>75%</td>\n",
       "      <td>2427.000000</td>\n",
       "      <td>1601.000000</td>\n",
       "    </tr>\n",
       "    <tr>\n",
       "      <td>max</td>\n",
       "      <td>3241.000000</td>\n",
       "      <td>1705.000000</td>\n",
       "    </tr>\n",
       "  </tbody>\n",
       "</table>\n",
       "</div>"
      ],
      "text/plain": [
       "                key   Температура\n",
       "count  15907.000000  13006.000000\n",
       "mean    1607.880870   1591.840920\n",
       "std      942.212073     21.375851\n",
       "min        1.000000   1191.000000\n",
       "25%      790.000000   1581.000000\n",
       "50%     1618.000000   1591.000000\n",
       "75%     2427.000000   1601.000000\n",
       "max     3241.000000   1705.000000"
      ]
     },
     "metadata": {},
     "output_type": "display_data"
    },
    {
     "name": "stdout",
     "output_type": "stream",
     "text": [
      "data_wire\n",
      "<class 'pandas.core.frame.DataFrame'>\n",
      "RangeIndex: 3081 entries, 0 to 3080\n",
      "Data columns (total 10 columns):\n",
      "key       3081 non-null int64\n",
      "Wire 1    3055 non-null float64\n",
      "Wire 2    1079 non-null float64\n",
      "Wire 3    63 non-null float64\n",
      "Wire 4    14 non-null float64\n",
      "Wire 5    1 non-null float64\n",
      "Wire 6    73 non-null float64\n",
      "Wire 7    11 non-null float64\n",
      "Wire 8    19 non-null float64\n",
      "Wire 9    29 non-null float64\n",
      "dtypes: float64(9), int64(1)\n",
      "memory usage: 240.8 KB\n",
      "None\n"
     ]
    },
    {
     "data": {
      "text/html": [
       "<div>\n",
       "<style scoped>\n",
       "    .dataframe tbody tr th:only-of-type {\n",
       "        vertical-align: middle;\n",
       "    }\n",
       "\n",
       "    .dataframe tbody tr th {\n",
       "        vertical-align: top;\n",
       "    }\n",
       "\n",
       "    .dataframe thead th {\n",
       "        text-align: right;\n",
       "    }\n",
       "</style>\n",
       "<table border=\"1\" class=\"dataframe\">\n",
       "  <thead>\n",
       "    <tr style=\"text-align: right;\">\n",
       "      <th></th>\n",
       "      <th>key</th>\n",
       "      <th>Wire 1</th>\n",
       "      <th>Wire 2</th>\n",
       "      <th>Wire 3</th>\n",
       "      <th>Wire 4</th>\n",
       "      <th>Wire 5</th>\n",
       "      <th>Wire 6</th>\n",
       "      <th>Wire 7</th>\n",
       "      <th>Wire 8</th>\n",
       "      <th>Wire 9</th>\n",
       "    </tr>\n",
       "  </thead>\n",
       "  <tbody>\n",
       "    <tr>\n",
       "      <td>0</td>\n",
       "      <td>1</td>\n",
       "      <td>60.059998</td>\n",
       "      <td>NaN</td>\n",
       "      <td>NaN</td>\n",
       "      <td>NaN</td>\n",
       "      <td>NaN</td>\n",
       "      <td>NaN</td>\n",
       "      <td>NaN</td>\n",
       "      <td>NaN</td>\n",
       "      <td>NaN</td>\n",
       "    </tr>\n",
       "    <tr>\n",
       "      <td>1</td>\n",
       "      <td>2</td>\n",
       "      <td>96.052315</td>\n",
       "      <td>NaN</td>\n",
       "      <td>NaN</td>\n",
       "      <td>NaN</td>\n",
       "      <td>NaN</td>\n",
       "      <td>NaN</td>\n",
       "      <td>NaN</td>\n",
       "      <td>NaN</td>\n",
       "      <td>NaN</td>\n",
       "    </tr>\n",
       "    <tr>\n",
       "      <td>2</td>\n",
       "      <td>3</td>\n",
       "      <td>91.160157</td>\n",
       "      <td>NaN</td>\n",
       "      <td>NaN</td>\n",
       "      <td>NaN</td>\n",
       "      <td>NaN</td>\n",
       "      <td>NaN</td>\n",
       "      <td>NaN</td>\n",
       "      <td>NaN</td>\n",
       "      <td>NaN</td>\n",
       "    </tr>\n",
       "    <tr>\n",
       "      <td>3</td>\n",
       "      <td>4</td>\n",
       "      <td>89.063515</td>\n",
       "      <td>NaN</td>\n",
       "      <td>NaN</td>\n",
       "      <td>NaN</td>\n",
       "      <td>NaN</td>\n",
       "      <td>NaN</td>\n",
       "      <td>NaN</td>\n",
       "      <td>NaN</td>\n",
       "      <td>NaN</td>\n",
       "    </tr>\n",
       "    <tr>\n",
       "      <td>4</td>\n",
       "      <td>5</td>\n",
       "      <td>89.238236</td>\n",
       "      <td>9.11456</td>\n",
       "      <td>NaN</td>\n",
       "      <td>NaN</td>\n",
       "      <td>NaN</td>\n",
       "      <td>NaN</td>\n",
       "      <td>NaN</td>\n",
       "      <td>NaN</td>\n",
       "      <td>NaN</td>\n",
       "    </tr>\n",
       "    <tr>\n",
       "      <td>...</td>\n",
       "      <td>...</td>\n",
       "      <td>...</td>\n",
       "      <td>...</td>\n",
       "      <td>...</td>\n",
       "      <td>...</td>\n",
       "      <td>...</td>\n",
       "      <td>...</td>\n",
       "      <td>...</td>\n",
       "      <td>...</td>\n",
       "      <td>...</td>\n",
       "    </tr>\n",
       "    <tr>\n",
       "      <td>3076</td>\n",
       "      <td>3237</td>\n",
       "      <td>38.088959</td>\n",
       "      <td>NaN</td>\n",
       "      <td>NaN</td>\n",
       "      <td>NaN</td>\n",
       "      <td>NaN</td>\n",
       "      <td>NaN</td>\n",
       "      <td>NaN</td>\n",
       "      <td>NaN</td>\n",
       "      <td>NaN</td>\n",
       "    </tr>\n",
       "    <tr>\n",
       "      <td>3077</td>\n",
       "      <td>3238</td>\n",
       "      <td>56.128799</td>\n",
       "      <td>NaN</td>\n",
       "      <td>NaN</td>\n",
       "      <td>NaN</td>\n",
       "      <td>NaN</td>\n",
       "      <td>NaN</td>\n",
       "      <td>NaN</td>\n",
       "      <td>NaN</td>\n",
       "      <td>NaN</td>\n",
       "    </tr>\n",
       "    <tr>\n",
       "      <td>3078</td>\n",
       "      <td>3239</td>\n",
       "      <td>143.357761</td>\n",
       "      <td>NaN</td>\n",
       "      <td>NaN</td>\n",
       "      <td>NaN</td>\n",
       "      <td>NaN</td>\n",
       "      <td>NaN</td>\n",
       "      <td>NaN</td>\n",
       "      <td>NaN</td>\n",
       "      <td>NaN</td>\n",
       "    </tr>\n",
       "    <tr>\n",
       "      <td>3079</td>\n",
       "      <td>3240</td>\n",
       "      <td>34.070400</td>\n",
       "      <td>NaN</td>\n",
       "      <td>NaN</td>\n",
       "      <td>NaN</td>\n",
       "      <td>NaN</td>\n",
       "      <td>NaN</td>\n",
       "      <td>NaN</td>\n",
       "      <td>NaN</td>\n",
       "      <td>NaN</td>\n",
       "    </tr>\n",
       "    <tr>\n",
       "      <td>3080</td>\n",
       "      <td>3241</td>\n",
       "      <td>63.117595</td>\n",
       "      <td>NaN</td>\n",
       "      <td>NaN</td>\n",
       "      <td>NaN</td>\n",
       "      <td>NaN</td>\n",
       "      <td>NaN</td>\n",
       "      <td>NaN</td>\n",
       "      <td>NaN</td>\n",
       "      <td>NaN</td>\n",
       "    </tr>\n",
       "  </tbody>\n",
       "</table>\n",
       "<p>3081 rows × 10 columns</p>\n",
       "</div>"
      ],
      "text/plain": [
       "       key      Wire 1   Wire 2  Wire 3  Wire 4  Wire 5  Wire 6  Wire 7  \\\n",
       "0        1   60.059998      NaN     NaN     NaN     NaN     NaN     NaN   \n",
       "1        2   96.052315      NaN     NaN     NaN     NaN     NaN     NaN   \n",
       "2        3   91.160157      NaN     NaN     NaN     NaN     NaN     NaN   \n",
       "3        4   89.063515      NaN     NaN     NaN     NaN     NaN     NaN   \n",
       "4        5   89.238236  9.11456     NaN     NaN     NaN     NaN     NaN   \n",
       "...    ...         ...      ...     ...     ...     ...     ...     ...   \n",
       "3076  3237   38.088959      NaN     NaN     NaN     NaN     NaN     NaN   \n",
       "3077  3238   56.128799      NaN     NaN     NaN     NaN     NaN     NaN   \n",
       "3078  3239  143.357761      NaN     NaN     NaN     NaN     NaN     NaN   \n",
       "3079  3240   34.070400      NaN     NaN     NaN     NaN     NaN     NaN   \n",
       "3080  3241   63.117595      NaN     NaN     NaN     NaN     NaN     NaN   \n",
       "\n",
       "      Wire 8  Wire 9  \n",
       "0        NaN     NaN  \n",
       "1        NaN     NaN  \n",
       "2        NaN     NaN  \n",
       "3        NaN     NaN  \n",
       "4        NaN     NaN  \n",
       "...      ...     ...  \n",
       "3076     NaN     NaN  \n",
       "3077     NaN     NaN  \n",
       "3078     NaN     NaN  \n",
       "3079     NaN     NaN  \n",
       "3080     NaN     NaN  \n",
       "\n",
       "[3081 rows x 10 columns]"
      ]
     },
     "metadata": {},
     "output_type": "display_data"
    },
    {
     "data": {
      "text/html": [
       "<div>\n",
       "<style scoped>\n",
       "    .dataframe tbody tr th:only-of-type {\n",
       "        vertical-align: middle;\n",
       "    }\n",
       "\n",
       "    .dataframe tbody tr th {\n",
       "        vertical-align: top;\n",
       "    }\n",
       "\n",
       "    .dataframe thead th {\n",
       "        text-align: right;\n",
       "    }\n",
       "</style>\n",
       "<table border=\"1\" class=\"dataframe\">\n",
       "  <thead>\n",
       "    <tr style=\"text-align: right;\">\n",
       "      <th></th>\n",
       "      <th>key</th>\n",
       "      <th>Wire 1</th>\n",
       "      <th>Wire 2</th>\n",
       "      <th>Wire 3</th>\n",
       "      <th>Wire 4</th>\n",
       "      <th>Wire 5</th>\n",
       "      <th>Wire 6</th>\n",
       "      <th>Wire 7</th>\n",
       "      <th>Wire 8</th>\n",
       "      <th>Wire 9</th>\n",
       "    </tr>\n",
       "  </thead>\n",
       "  <tbody>\n",
       "    <tr>\n",
       "      <td>count</td>\n",
       "      <td>3081.000000</td>\n",
       "      <td>3055.000000</td>\n",
       "      <td>1079.000000</td>\n",
       "      <td>63.000000</td>\n",
       "      <td>14.000000</td>\n",
       "      <td>1.000</td>\n",
       "      <td>73.000000</td>\n",
       "      <td>11.000000</td>\n",
       "      <td>19.000000</td>\n",
       "      <td>29.000000</td>\n",
       "    </tr>\n",
       "    <tr>\n",
       "      <td>mean</td>\n",
       "      <td>1623.426485</td>\n",
       "      <td>100.895853</td>\n",
       "      <td>50.577323</td>\n",
       "      <td>189.482681</td>\n",
       "      <td>57.442841</td>\n",
       "      <td>15.132</td>\n",
       "      <td>48.016974</td>\n",
       "      <td>10.039007</td>\n",
       "      <td>53.625193</td>\n",
       "      <td>34.155752</td>\n",
       "    </tr>\n",
       "    <tr>\n",
       "      <td>std</td>\n",
       "      <td>932.996726</td>\n",
       "      <td>42.012518</td>\n",
       "      <td>39.320216</td>\n",
       "      <td>99.513444</td>\n",
       "      <td>28.824667</td>\n",
       "      <td>NaN</td>\n",
       "      <td>33.919845</td>\n",
       "      <td>8.610584</td>\n",
       "      <td>16.881728</td>\n",
       "      <td>19.931616</td>\n",
       "    </tr>\n",
       "    <tr>\n",
       "      <td>min</td>\n",
       "      <td>1.000000</td>\n",
       "      <td>1.918800</td>\n",
       "      <td>0.030160</td>\n",
       "      <td>0.144144</td>\n",
       "      <td>24.148801</td>\n",
       "      <td>15.132</td>\n",
       "      <td>0.034320</td>\n",
       "      <td>0.234208</td>\n",
       "      <td>45.076721</td>\n",
       "      <td>4.622800</td>\n",
       "    </tr>\n",
       "    <tr>\n",
       "      <td>25%</td>\n",
       "      <td>823.000000</td>\n",
       "      <td>72.115684</td>\n",
       "      <td>20.193680</td>\n",
       "      <td>95.135044</td>\n",
       "      <td>40.807002</td>\n",
       "      <td>15.132</td>\n",
       "      <td>25.053600</td>\n",
       "      <td>6.762756</td>\n",
       "      <td>46.094879</td>\n",
       "      <td>22.058401</td>\n",
       "    </tr>\n",
       "    <tr>\n",
       "      <td>50%</td>\n",
       "      <td>1619.000000</td>\n",
       "      <td>100.158234</td>\n",
       "      <td>40.142956</td>\n",
       "      <td>235.194977</td>\n",
       "      <td>45.234282</td>\n",
       "      <td>15.132</td>\n",
       "      <td>42.076324</td>\n",
       "      <td>9.017009</td>\n",
       "      <td>46.279999</td>\n",
       "      <td>30.066399</td>\n",
       "    </tr>\n",
       "    <tr>\n",
       "      <td>75%</td>\n",
       "      <td>2434.000000</td>\n",
       "      <td>126.060484</td>\n",
       "      <td>70.227558</td>\n",
       "      <td>276.252014</td>\n",
       "      <td>76.124619</td>\n",
       "      <td>15.132</td>\n",
       "      <td>64.212723</td>\n",
       "      <td>11.886057</td>\n",
       "      <td>48.089603</td>\n",
       "      <td>43.862003</td>\n",
       "    </tr>\n",
       "    <tr>\n",
       "      <td>max</td>\n",
       "      <td>3241.000000</td>\n",
       "      <td>330.314424</td>\n",
       "      <td>282.780152</td>\n",
       "      <td>385.008668</td>\n",
       "      <td>113.231044</td>\n",
       "      <td>15.132</td>\n",
       "      <td>180.454575</td>\n",
       "      <td>32.847674</td>\n",
       "      <td>102.762401</td>\n",
       "      <td>90.053604</td>\n",
       "    </tr>\n",
       "  </tbody>\n",
       "</table>\n",
       "</div>"
      ],
      "text/plain": [
       "               key       Wire 1       Wire 2      Wire 3      Wire 4  Wire 5  \\\n",
       "count  3081.000000  3055.000000  1079.000000   63.000000   14.000000   1.000   \n",
       "mean   1623.426485   100.895853    50.577323  189.482681   57.442841  15.132   \n",
       "std     932.996726    42.012518    39.320216   99.513444   28.824667     NaN   \n",
       "min       1.000000     1.918800     0.030160    0.144144   24.148801  15.132   \n",
       "25%     823.000000    72.115684    20.193680   95.135044   40.807002  15.132   \n",
       "50%    1619.000000   100.158234    40.142956  235.194977   45.234282  15.132   \n",
       "75%    2434.000000   126.060484    70.227558  276.252014   76.124619  15.132   \n",
       "max    3241.000000   330.314424   282.780152  385.008668  113.231044  15.132   \n",
       "\n",
       "           Wire 6     Wire 7      Wire 8     Wire 9  \n",
       "count   73.000000  11.000000   19.000000  29.000000  \n",
       "mean    48.016974  10.039007   53.625193  34.155752  \n",
       "std     33.919845   8.610584   16.881728  19.931616  \n",
       "min      0.034320   0.234208   45.076721   4.622800  \n",
       "25%     25.053600   6.762756   46.094879  22.058401  \n",
       "50%     42.076324   9.017009   46.279999  30.066399  \n",
       "75%     64.212723  11.886057   48.089603  43.862003  \n",
       "max    180.454575  32.847674  102.762401  90.053604  "
      ]
     },
     "metadata": {},
     "output_type": "display_data"
    },
    {
     "name": "stdout",
     "output_type": "stream",
     "text": [
      "data_wire_time\n",
      "<class 'pandas.core.frame.DataFrame'>\n",
      "RangeIndex: 3081 entries, 0 to 3080\n",
      "Data columns (total 10 columns):\n",
      "key       3081 non-null int64\n",
      "Wire 1    3055 non-null object\n",
      "Wire 2    1079 non-null object\n",
      "Wire 3    63 non-null object\n",
      "Wire 4    14 non-null object\n",
      "Wire 5    1 non-null object\n",
      "Wire 6    73 non-null object\n",
      "Wire 7    11 non-null object\n",
      "Wire 8    19 non-null object\n",
      "Wire 9    29 non-null object\n",
      "dtypes: int64(1), object(9)\n",
      "memory usage: 240.8+ KB\n",
      "None\n"
     ]
    },
    {
     "data": {
      "text/html": [
       "<div>\n",
       "<style scoped>\n",
       "    .dataframe tbody tr th:only-of-type {\n",
       "        vertical-align: middle;\n",
       "    }\n",
       "\n",
       "    .dataframe tbody tr th {\n",
       "        vertical-align: top;\n",
       "    }\n",
       "\n",
       "    .dataframe thead th {\n",
       "        text-align: right;\n",
       "    }\n",
       "</style>\n",
       "<table border=\"1\" class=\"dataframe\">\n",
       "  <thead>\n",
       "    <tr style=\"text-align: right;\">\n",
       "      <th></th>\n",
       "      <th>key</th>\n",
       "      <th>Wire 1</th>\n",
       "      <th>Wire 2</th>\n",
       "      <th>Wire 3</th>\n",
       "      <th>Wire 4</th>\n",
       "      <th>Wire 5</th>\n",
       "      <th>Wire 6</th>\n",
       "      <th>Wire 7</th>\n",
       "      <th>Wire 8</th>\n",
       "      <th>Wire 9</th>\n",
       "    </tr>\n",
       "  </thead>\n",
       "  <tbody>\n",
       "    <tr>\n",
       "      <td>0</td>\n",
       "      <td>1</td>\n",
       "      <td>2019-05-03 11:11:41</td>\n",
       "      <td>NaN</td>\n",
       "      <td>NaN</td>\n",
       "      <td>NaN</td>\n",
       "      <td>NaN</td>\n",
       "      <td>NaN</td>\n",
       "      <td>NaN</td>\n",
       "      <td>NaN</td>\n",
       "      <td>NaN</td>\n",
       "    </tr>\n",
       "    <tr>\n",
       "      <td>1</td>\n",
       "      <td>2</td>\n",
       "      <td>2019-05-03 11:46:10</td>\n",
       "      <td>NaN</td>\n",
       "      <td>NaN</td>\n",
       "      <td>NaN</td>\n",
       "      <td>NaN</td>\n",
       "      <td>NaN</td>\n",
       "      <td>NaN</td>\n",
       "      <td>NaN</td>\n",
       "      <td>NaN</td>\n",
       "    </tr>\n",
       "    <tr>\n",
       "      <td>2</td>\n",
       "      <td>3</td>\n",
       "      <td>2019-05-03 12:13:47</td>\n",
       "      <td>NaN</td>\n",
       "      <td>NaN</td>\n",
       "      <td>NaN</td>\n",
       "      <td>NaN</td>\n",
       "      <td>NaN</td>\n",
       "      <td>NaN</td>\n",
       "      <td>NaN</td>\n",
       "      <td>NaN</td>\n",
       "    </tr>\n",
       "    <tr>\n",
       "      <td>3</td>\n",
       "      <td>4</td>\n",
       "      <td>2019-05-03 12:48:05</td>\n",
       "      <td>NaN</td>\n",
       "      <td>NaN</td>\n",
       "      <td>NaN</td>\n",
       "      <td>NaN</td>\n",
       "      <td>NaN</td>\n",
       "      <td>NaN</td>\n",
       "      <td>NaN</td>\n",
       "      <td>NaN</td>\n",
       "    </tr>\n",
       "    <tr>\n",
       "      <td>4</td>\n",
       "      <td>5</td>\n",
       "      <td>2019-05-03 13:18:15</td>\n",
       "      <td>2019-05-03 13:32:06</td>\n",
       "      <td>NaN</td>\n",
       "      <td>NaN</td>\n",
       "      <td>NaN</td>\n",
       "      <td>NaN</td>\n",
       "      <td>NaN</td>\n",
       "      <td>NaN</td>\n",
       "      <td>NaN</td>\n",
       "    </tr>\n",
       "    <tr>\n",
       "      <td>...</td>\n",
       "      <td>...</td>\n",
       "      <td>...</td>\n",
       "      <td>...</td>\n",
       "      <td>...</td>\n",
       "      <td>...</td>\n",
       "      <td>...</td>\n",
       "      <td>...</td>\n",
       "      <td>...</td>\n",
       "      <td>...</td>\n",
       "      <td>...</td>\n",
       "    </tr>\n",
       "    <tr>\n",
       "      <td>3076</td>\n",
       "      <td>3237</td>\n",
       "      <td>2019-08-31 22:50:20</td>\n",
       "      <td>NaN</td>\n",
       "      <td>NaN</td>\n",
       "      <td>NaN</td>\n",
       "      <td>NaN</td>\n",
       "      <td>NaN</td>\n",
       "      <td>NaN</td>\n",
       "      <td>NaN</td>\n",
       "      <td>NaN</td>\n",
       "    </tr>\n",
       "    <tr>\n",
       "      <td>3077</td>\n",
       "      <td>3238</td>\n",
       "      <td>2019-08-31 23:38:24</td>\n",
       "      <td>NaN</td>\n",
       "      <td>NaN</td>\n",
       "      <td>NaN</td>\n",
       "      <td>NaN</td>\n",
       "      <td>NaN</td>\n",
       "      <td>NaN</td>\n",
       "      <td>NaN</td>\n",
       "      <td>NaN</td>\n",
       "    </tr>\n",
       "    <tr>\n",
       "      <td>3078</td>\n",
       "      <td>3239</td>\n",
       "      <td>2019-09-01 01:50:43</td>\n",
       "      <td>NaN</td>\n",
       "      <td>NaN</td>\n",
       "      <td>NaN</td>\n",
       "      <td>NaN</td>\n",
       "      <td>NaN</td>\n",
       "      <td>NaN</td>\n",
       "      <td>NaN</td>\n",
       "      <td>NaN</td>\n",
       "    </tr>\n",
       "    <tr>\n",
       "      <td>3079</td>\n",
       "      <td>3240</td>\n",
       "      <td>2019-09-01 03:12:02</td>\n",
       "      <td>NaN</td>\n",
       "      <td>NaN</td>\n",
       "      <td>NaN</td>\n",
       "      <td>NaN</td>\n",
       "      <td>NaN</td>\n",
       "      <td>NaN</td>\n",
       "      <td>NaN</td>\n",
       "      <td>NaN</td>\n",
       "    </tr>\n",
       "    <tr>\n",
       "      <td>3080</td>\n",
       "      <td>3241</td>\n",
       "      <td>2019-09-01 04:16:01</td>\n",
       "      <td>NaN</td>\n",
       "      <td>NaN</td>\n",
       "      <td>NaN</td>\n",
       "      <td>NaN</td>\n",
       "      <td>NaN</td>\n",
       "      <td>NaN</td>\n",
       "      <td>NaN</td>\n",
       "      <td>NaN</td>\n",
       "    </tr>\n",
       "  </tbody>\n",
       "</table>\n",
       "<p>3081 rows × 10 columns</p>\n",
       "</div>"
      ],
      "text/plain": [
       "       key               Wire 1               Wire 2 Wire 3 Wire 4 Wire 5  \\\n",
       "0        1  2019-05-03 11:11:41                  NaN    NaN    NaN    NaN   \n",
       "1        2  2019-05-03 11:46:10                  NaN    NaN    NaN    NaN   \n",
       "2        3  2019-05-03 12:13:47                  NaN    NaN    NaN    NaN   \n",
       "3        4  2019-05-03 12:48:05                  NaN    NaN    NaN    NaN   \n",
       "4        5  2019-05-03 13:18:15  2019-05-03 13:32:06    NaN    NaN    NaN   \n",
       "...    ...                  ...                  ...    ...    ...    ...   \n",
       "3076  3237  2019-08-31 22:50:20                  NaN    NaN    NaN    NaN   \n",
       "3077  3238  2019-08-31 23:38:24                  NaN    NaN    NaN    NaN   \n",
       "3078  3239  2019-09-01 01:50:43                  NaN    NaN    NaN    NaN   \n",
       "3079  3240  2019-09-01 03:12:02                  NaN    NaN    NaN    NaN   \n",
       "3080  3241  2019-09-01 04:16:01                  NaN    NaN    NaN    NaN   \n",
       "\n",
       "     Wire 6 Wire 7 Wire 8 Wire 9  \n",
       "0       NaN    NaN    NaN    NaN  \n",
       "1       NaN    NaN    NaN    NaN  \n",
       "2       NaN    NaN    NaN    NaN  \n",
       "3       NaN    NaN    NaN    NaN  \n",
       "4       NaN    NaN    NaN    NaN  \n",
       "...     ...    ...    ...    ...  \n",
       "3076    NaN    NaN    NaN    NaN  \n",
       "3077    NaN    NaN    NaN    NaN  \n",
       "3078    NaN    NaN    NaN    NaN  \n",
       "3079    NaN    NaN    NaN    NaN  \n",
       "3080    NaN    NaN    NaN    NaN  \n",
       "\n",
       "[3081 rows x 10 columns]"
      ]
     },
     "metadata": {},
     "output_type": "display_data"
    },
    {
     "data": {
      "text/html": [
       "<div>\n",
       "<style scoped>\n",
       "    .dataframe tbody tr th:only-of-type {\n",
       "        vertical-align: middle;\n",
       "    }\n",
       "\n",
       "    .dataframe tbody tr th {\n",
       "        vertical-align: top;\n",
       "    }\n",
       "\n",
       "    .dataframe thead th {\n",
       "        text-align: right;\n",
       "    }\n",
       "</style>\n",
       "<table border=\"1\" class=\"dataframe\">\n",
       "  <thead>\n",
       "    <tr style=\"text-align: right;\">\n",
       "      <th></th>\n",
       "      <th>key</th>\n",
       "    </tr>\n",
       "  </thead>\n",
       "  <tbody>\n",
       "    <tr>\n",
       "      <td>count</td>\n",
       "      <td>3081.000000</td>\n",
       "    </tr>\n",
       "    <tr>\n",
       "      <td>mean</td>\n",
       "      <td>1623.426485</td>\n",
       "    </tr>\n",
       "    <tr>\n",
       "      <td>std</td>\n",
       "      <td>932.996726</td>\n",
       "    </tr>\n",
       "    <tr>\n",
       "      <td>min</td>\n",
       "      <td>1.000000</td>\n",
       "    </tr>\n",
       "    <tr>\n",
       "      <td>25%</td>\n",
       "      <td>823.000000</td>\n",
       "    </tr>\n",
       "    <tr>\n",
       "      <td>50%</td>\n",
       "      <td>1619.000000</td>\n",
       "    </tr>\n",
       "    <tr>\n",
       "      <td>75%</td>\n",
       "      <td>2434.000000</td>\n",
       "    </tr>\n",
       "    <tr>\n",
       "      <td>max</td>\n",
       "      <td>3241.000000</td>\n",
       "    </tr>\n",
       "  </tbody>\n",
       "</table>\n",
       "</div>"
      ],
      "text/plain": [
       "               key\n",
       "count  3081.000000\n",
       "mean   1623.426485\n",
       "std     932.996726\n",
       "min       1.000000\n",
       "25%     823.000000\n",
       "50%    1619.000000\n",
       "75%    2434.000000\n",
       "max    3241.000000"
      ]
     },
     "metadata": {},
     "output_type": "display_data"
    }
   ],
   "source": [
    "for df in df_dict:\n",
    "    print(df)\n",
    "    print(df_dict[df].info())\n",
    "    display(df_dict[df])\n",
    "    display(df_dict[df].describe())"
   ]
  },
  {
   "cell_type": "markdown",
   "metadata": {},
   "source": [
    "* Данные представляют из себя 7 таблиц:\n",
    "    1. Данные об электродах: 5 столбцов 14876 строк\n",
    "        * Пропусков нет\n",
    "        * Начало и конец нагрева можно перевести в дату. Остальные типы соответствуют\n",
    "        * Реактивная мощность есть отрицательные значения\n",
    "    2. Данные о подаче сыпучих материалов (объём): 16 столбцов 3129 строк\n",
    "        * Пропуски во всех столбцах, кроме `key`. В 8м ковше вообще только одно значение\n",
    "        * 15 ковшей\n",
    "        * Согласно информации от Тимлида пропуски это отсутствие подачи материала. Значит их можно заменить нулями\n",
    "    3. Данные о подаче сыпучих материалов (время): 16 столбцов 3129 строк\n",
    "        * Пропуски полностью совпадают с предыдущей таблицей\n",
    "    4. Данные о продувке сплава газом: 2 столбца 3239 строк\n",
    "        * Пропусков нет\n",
    "    5. Результаты измерения температуры: 3 стобца 15907 строк\n",
    "        * Пропуски в столбце Температура (13006 непустых). Цифры в порядке\n",
    "        * Согласно данным от Тимлида пропуски в конце партии - это данные, которые заказчик будет использовать в качестве теста. Видимо придется исключить такие партии\n",
    "    6. Данные о проволочных материалах (объём): 10 столбцов 3081 строка\n",
    "        * Пропуски везде, кроме `key`\n",
    "        * 9 проволок\n",
    "        * Судя по пропускам в основном используют 1й и 2й материалы\n",
    "        * Также как и для второй таблицы можно воспользоваться инфо от Тимлида и заменить пропуски на нули\n",
    "    7. Данные о проволочных материалах (время): 10 столбцов 3081 строка\n",
    "        * Тут всё логично соответствует предыдущей таблице с объемами"
   ]
  },
  {
   "cell_type": "markdown",
   "metadata": {},
   "source": [
    "<div style=\"background: #cceeaa; padding: 5px; border: 1px solid green; border-radius: 5px;\">\n",
    "    <font color='green'> <b><u>КОММЕНТАРИЙ РЕВЬЮЕРА</u></b>\n",
    "</font>\n",
    "<font color='green'><br>ОК, данные на базе) Судя по выводам - внимательно апросмотрены.\n",
    "    </div>"
   ]
  },
  {
   "cell_type": "markdown",
   "metadata": {},
   "source": [
    "### Предобработка данных"
   ]
  },
  {
   "cell_type": "code",
   "execution_count": 4,
   "metadata": {
    "scrolled": true
   },
   "outputs": [
    {
     "data": {
      "image/png": "[encoded data removed]",
      "text/plain": [
       "<Figure size 792x432 with 1 Axes>"
      ]
     },
     "metadata": {
      "needs_background": "light"
     },
     "output_type": "display_data"
    },
    {
     "name": "stdout",
     "output_type": "stream",
     "text": [
      "2116\n"
     ]
    },
    {
     "data": {
      "image/png": "[encoded data removed]",
      "text/plain": [
       "<Figure size 792x432 with 1 Axes>"
      ]
     },
     "metadata": {
      "needs_background": "light"
     },
     "output_type": "display_data"
    }
   ],
   "source": [
    "data_arc = df_dict['data_arc'].copy()\n",
    "data_arc['Активная мощность'].plot(kind='kde',label='Активная мощность')\n",
    "data_arc['Реактивная мощность'].plot(kind='kde',\n",
    "                                                title=\"данные об электродах\",\n",
    "                                                label='Реактивная мощность',\n",
    "                                                figsize=(11,6))\n",
    "plt.legend(loc=\"upper right\")\n",
    "plt.xlim(-5,5)\n",
    "plt.show()\n",
    "\n",
    "key_anomal = data_arc[data_arc['Реактивная мощность']<0]\n",
    "print(key_anomal.values[0][0])\n",
    "data_arc.drop(data_arc[data_arc['key']==key_anomal.values[0][0]].index, inplace=True)\n",
    "\n",
    "data_arc['Активная мощность'].plot(kind='kde',label='Активная мощность')\n",
    "data_arc['Реактивная мощность'].plot(kind='kde',\n",
    "                                                title=\"данные об электродах без отрицательных значений\",\n",
    "                                                label='Реактивная мощность',\n",
    "                                                figsize=(11,6))\n",
    "plt.legend(loc=\"upper right\")\n",
    "plt.xlim(-5,5)\n",
    "plt.show()\n"
   ]
  },
  {
   "cell_type": "markdown",
   "metadata": {},
   "source": [
    "* Для активной мощности распределение почти нормальное, смещенное влево\n",
    "* Для реактивной впринципе тоже, но есть сильно выбивающееся отрицательное значение. Т.к. оно одно лучше его убрать, вместе со всей партией (меньше одного процента данных)\n",
    "* Действительно без отрицательных значений данные выглядят нормально"
   ]
  },
  {
   "cell_type": "markdown",
   "metadata": {},
   "source": [
    "<div style=\"background: #cceeaa; padding: 5px; border: 1px solid green; border-radius: 5px;\">\n",
    "    <font color='green'> <b><u>КОММЕНТАРИЙ РЕВЬЮЕРА</u></b>\n",
    "</font>\n",
    "<font color='green'><br>да, в реактивной - однозначно выброс)\n",
    "    </div>"
   ]
  },
  {
   "cell_type": "code",
   "execution_count": 5,
   "metadata": {
    "scrolled": true
   },
   "outputs": [
    {
     "data": {
      "image/png": "[encoded data removed]",
      "text/plain": [
       "<Figure size 792x432 with 1 Axes>"
      ]
     },
     "metadata": {
      "needs_background": "light"
     },
     "output_type": "display_data"
    },
    {
     "data": {
      "image/png": "[encoded data removed]",
      "text/plain": [
       "<Figure size 792x432 with 1 Axes>"
      ]
     },
     "metadata": {
      "needs_background": "light"
     },
     "output_type": "display_data"
    },
    {
     "data": {
      "text/html": [
       "<div>\n",
       "<style scoped>\n",
       "    .dataframe tbody tr th:only-of-type {\n",
       "        vertical-align: middle;\n",
       "    }\n",
       "\n",
       "    .dataframe tbody tr th {\n",
       "        vertical-align: top;\n",
       "    }\n",
       "\n",
       "    .dataframe thead th {\n",
       "        text-align: right;\n",
       "    }\n",
       "</style>\n",
       "<table border=\"1\" class=\"dataframe\">\n",
       "  <thead>\n",
       "    <tr style=\"text-align: right;\">\n",
       "      <th></th>\n",
       "      <th>key</th>\n",
       "      <th>Bulk 1</th>\n",
       "      <th>Bulk 2</th>\n",
       "      <th>Bulk 3</th>\n",
       "      <th>Bulk 4</th>\n",
       "      <th>Bulk 5</th>\n",
       "      <th>Bulk 6</th>\n",
       "      <th>Bulk 7</th>\n",
       "      <th>Bulk 8</th>\n",
       "      <th>Bulk 9</th>\n",
       "      <th>Bulk 10</th>\n",
       "      <th>Bulk 11</th>\n",
       "      <th>Bulk 12</th>\n",
       "      <th>Bulk 13</th>\n",
       "      <th>Bulk 14</th>\n",
       "      <th>Bulk 15</th>\n",
       "    </tr>\n",
       "  </thead>\n",
       "  <tbody>\n",
       "    <tr>\n",
       "      <td>1725</td>\n",
       "      <td>1786</td>\n",
       "      <td>NaN</td>\n",
       "      <td>NaN</td>\n",
       "      <td>123.0</td>\n",
       "      <td>NaN</td>\n",
       "      <td>NaN</td>\n",
       "      <td>NaN</td>\n",
       "      <td>NaN</td>\n",
       "      <td>49.0</td>\n",
       "      <td>147.0</td>\n",
       "      <td>NaN</td>\n",
       "      <td>NaN</td>\n",
       "      <td>NaN</td>\n",
       "      <td>NaN</td>\n",
       "      <td>NaN</td>\n",
       "      <td>NaN</td>\n",
       "    </tr>\n",
       "  </tbody>\n",
       "</table>\n",
       "</div>"
      ],
      "text/plain": [
       "       key  Bulk 1  Bulk 2  Bulk 3  Bulk 4  Bulk 5  Bulk 6  Bulk 7  Bulk 8  \\\n",
       "1725  1786     NaN     NaN   123.0     NaN     NaN     NaN     NaN    49.0   \n",
       "\n",
       "      Bulk 9  Bulk 10  Bulk 11  Bulk 12  Bulk 13  Bulk 14  Bulk 15  \n",
       "1725   147.0      NaN      NaN      NaN      NaN      NaN      NaN  "
      ]
     },
     "metadata": {},
     "output_type": "display_data"
    }
   ],
   "source": [
    "data_bulk = df_dict['data_bulk'].copy()\n",
    "plt.rcParams[\"figure.figsize\"] = (11,6)\n",
    "for bulk_ind in range(1,9):\n",
    "    if data_bulk['Bulk '+str(bulk_ind)].notna().sum() > 1:\n",
    "        data_bulk['Bulk '+str(bulk_ind)].plot(kind='kde',label='Bulk '+str(bulk_ind))\n",
    "\n",
    "plt.legend(loc=\"upper right\", prop={'size': 10}, fontsize=10)\n",
    "plt.xlim(-200,800)\n",
    "plt.show()\n",
    "for bulk_ind in range(9,16):\n",
    "    if data_bulk['Bulk '+str(bulk_ind)].notna().sum() > 1:\n",
    "        data_bulk['Bulk '+str(bulk_ind)].plot(kind='kde',label='Bulk '+str(bulk_ind))\n",
    "\n",
    "plt.legend(loc=\"upper right\", prop={'size': 10}, fontsize=10)\n",
    "plt.xlim(-100,600)\n",
    "plt.show()\n",
    "key_anomal = data_bulk[data_bulk['Bulk 8'].notna()]\n",
    "display(key_anomal)\n",
    "data_bulk.drop(data_bulk[data_bulk['key']==key_anomal.values[0][0]].index, inplace=True)"
   ]
  },
  {
   "cell_type": "markdown",
   "metadata": {},
   "source": [
    "* По `Bulk8` всего лишь одно значение. Такую партию можно считать аномальной и избавиться от нее а заодно и от целого столбца (меньше одного процента)\n",
    "* По большинству материалов данные выглядят нормально. Есть бимодальные распределения (яркие примеры 14 и 15)"
   ]
  },
  {
   "cell_type": "markdown",
   "metadata": {},
   "source": [
    "<div style=\"background: #cceeaa; padding: 5px; border: 1px solid green; border-radius: 5px;\">\n",
    "    <font color='green'> <b><u>КОММЕНТАРИЙ РЕВЬЮЕРА</u></b>\n",
    "</font>\n",
    "<font color='green'><br>ок\n",
    "    </div>"
   ]
  },
  {
   "cell_type": "code",
   "execution_count": 6,
   "metadata": {
    "scrolled": true
   },
   "outputs": [
    {
     "data": {
      "image/png": "[encoded data removed]",
      "text/plain": [
       "<Figure size 792x432 with 1 Axes>"
      ]
     },
     "metadata": {
      "needs_background": "light"
     },
     "output_type": "display_data"
    },
    {
     "data": {
      "text/html": [
       "<div>\n",
       "<style scoped>\n",
       "    .dataframe tbody tr th:only-of-type {\n",
       "        vertical-align: middle;\n",
       "    }\n",
       "\n",
       "    .dataframe tbody tr th {\n",
       "        vertical-align: top;\n",
       "    }\n",
       "\n",
       "    .dataframe thead th {\n",
       "        text-align: right;\n",
       "    }\n",
       "</style>\n",
       "<table border=\"1\" class=\"dataframe\">\n",
       "  <thead>\n",
       "    <tr style=\"text-align: right;\">\n",
       "      <th></th>\n",
       "      <th>key</th>\n",
       "      <th>Wire 1</th>\n",
       "      <th>Wire 2</th>\n",
       "      <th>Wire 3</th>\n",
       "      <th>Wire 4</th>\n",
       "      <th>Wire 5</th>\n",
       "      <th>Wire 6</th>\n",
       "      <th>Wire 7</th>\n",
       "      <th>Wire 8</th>\n",
       "      <th>Wire 9</th>\n",
       "    </tr>\n",
       "  </thead>\n",
       "  <tbody>\n",
       "    <tr>\n",
       "      <td>2440</td>\n",
       "      <td>2567</td>\n",
       "      <td>18.30192</td>\n",
       "      <td>NaN</td>\n",
       "      <td>96.288193</td>\n",
       "      <td>NaN</td>\n",
       "      <td>15.132</td>\n",
       "      <td>73.307526</td>\n",
       "      <td>NaN</td>\n",
       "      <td>NaN</td>\n",
       "      <td>NaN</td>\n",
       "    </tr>\n",
       "  </tbody>\n",
       "</table>\n",
       "</div>"
      ],
      "text/plain": [
       "       key    Wire 1  Wire 2     Wire 3  Wire 4  Wire 5     Wire 6  Wire 7  \\\n",
       "2440  2567  18.30192     NaN  96.288193     NaN  15.132  73.307526     NaN   \n",
       "\n",
       "      Wire 8  Wire 9  \n",
       "2440     NaN     NaN  "
      ]
     },
     "metadata": {},
     "output_type": "display_data"
    }
   ],
   "source": [
    "data_wire = df_dict['data_wire'].copy()\n",
    "plt.rcParams[\"figure.figsize\"] = (11,6)\n",
    "for wire_ind in range(1,10):\n",
    "    if data_wire['Wire '+str(wire_ind)].notna().sum() > 1:\n",
    "        data_wire['Wire '+str(wire_ind)].plot(kind='kde',label='Wire '+str(wire_ind))\n",
    "\n",
    "plt.legend(loc=\"upper right\", prop={'size': 10}, fontsize=10)\n",
    "plt.xlim(-100,400)\n",
    "plt.show()\n",
    "key_anomal = data_wire[data_wire['Wire 5'].notna()]\n",
    "display(key_anomal)\n",
    "data_wire.drop(data_wire[data_wire['key']==key_anomal.values[0][0]].index, inplace=True)"
   ]
  },
  {
   "cell_type": "markdown",
   "metadata": {},
   "source": [
    "* По `Wire 5` всего лишь одно значение. Такая же история как с `Bulk 8 `, считаем аномалией и избавляемся\n",
    "* Данные выглядят нормально. Есть бимодальные, но не так явно как для сыпучих материалов"
   ]
  },
  {
   "cell_type": "markdown",
   "metadata": {},
   "source": [
    "### Формирование таблицы для обучения модели"
   ]
  },
  {
   "cell_type": "markdown",
   "metadata": {},
   "source": [
    "Сформируем таблицу с начальной и конечной температурой для каждой партии, предварительно исквлючив партии с пропусками по температуре"
   ]
  },
  {
   "cell_type": "code",
   "execution_count": 7,
   "metadata": {},
   "outputs": [],
   "source": [
    "df_temp_count = df_dict['data_temp'].groupby('key').count()\n",
    "df_temp_count.drop(df_temp_count[df_temp_count['Время замера'] != df_temp_count['Температура']].index, inplace=True)\n",
    "keys_list = df_temp_count.index.to_list()\n",
    "df_first_last_temp = pd.pivot_table(df_dict['data_temp'], \n",
    "                              values='Температура', \n",
    "                              index='key', \n",
    "                              aggfunc=['first', 'last'])\n",
    "df_first_last_temp = df_first_last_temp[df_first_last_temp.index.isin(keys_list)]\n",
    "df_first_last_temp.columns = ['temp_first', 'temp_last']"
   ]
  },
  {
   "cell_type": "markdown",
   "metadata": {},
   "source": [
    "Теперь вычислим полную мощность, подведенную энергию и посчитаем энергию дя каждоу партии"
   ]
  },
  {
   "cell_type": "code",
   "execution_count": 8,
   "metadata": {},
   "outputs": [],
   "source": [
    "data_arc['full_cap'] = (data_arc['Активная мощность'] ** 2 + data_arc['Реактивная мощность'] ** 2) ** 0.5\n",
    "data_arc['Конец нагрева дугой'] = pd.to_datetime(data_arc['Конец нагрева дугой'], \n",
    "                                                 format='%Y%m%d %H:%M:%S')\n",
    "data_arc['Начало нагрева дугой'] = pd.to_datetime(data_arc['Начало нагрева дугой'], \n",
    "                                                  format='%Y%m%d %H:%M:%S')\n",
    "data_arc['heat_time'] = data_arc['Конец нагрева дугой'] - data_arc['Начало нагрева дугой']\n",
    "data_arc['energy'] = data_arc['full_cap'] * data_arc['heat_time'].dt.total_seconds()\n",
    "data_energy_total = pd.pivot_table(data_arc, index='key', values='energy', aggfunc=np.sum)"
   ]
  },
  {
   "cell_type": "markdown",
   "metadata": {},
   "source": [
    "<div style=\"background: #cceeaa; padding: 5px; border: 1px solid green; border-radius: 5px;\">\n",
    "    <font color='green'> <b><u>КОММЕНТАРИЙ РЕВЬЮЕРА</u></b>\n",
    "</font>\n",
    "<font color='green'><br>С поной мощностью - ОК) \n",
    "    </div>"
   ]
  },
  {
   "cell_type": "markdown",
   "metadata": {},
   "source": [
    "Осталось обработать данные по материалам и соединить всё в одну таблицу"
   ]
  },
  {
   "cell_type": "code",
   "execution_count": 9,
   "metadata": {
    "scrolled": true
   },
   "outputs": [
    {
     "data": {
      "text/html": [
       "<div>\n",
       "<style scoped>\n",
       "    .dataframe tbody tr th:only-of-type {\n",
       "        vertical-align: middle;\n",
       "    }\n",
       "\n",
       "    .dataframe tbody tr th {\n",
       "        vertical-align: top;\n",
       "    }\n",
       "\n",
       "    .dataframe thead th {\n",
       "        text-align: right;\n",
       "    }\n",
       "</style>\n",
       "<table border=\"1\" class=\"dataframe\">\n",
       "  <thead>\n",
       "    <tr style=\"text-align: right;\">\n",
       "      <th></th>\n",
       "      <th>temp_first</th>\n",
       "      <th>temp_last</th>\n",
       "      <th>energy</th>\n",
       "      <th>key</th>\n",
       "      <th>Bulk 1</th>\n",
       "      <th>Bulk 2</th>\n",
       "      <th>Bulk 3</th>\n",
       "      <th>Bulk 4</th>\n",
       "      <th>Bulk 5</th>\n",
       "      <th>Bulk 6</th>\n",
       "      <th>...</th>\n",
       "      <th>Bulk 15</th>\n",
       "      <th>Wire 1</th>\n",
       "      <th>Wire 2</th>\n",
       "      <th>Wire 3</th>\n",
       "      <th>Wire 4</th>\n",
       "      <th>Wire 5</th>\n",
       "      <th>Wire 6</th>\n",
       "      <th>Wire 7</th>\n",
       "      <th>Wire 8</th>\n",
       "      <th>Wire 9</th>\n",
       "    </tr>\n",
       "  </thead>\n",
       "  <tbody>\n",
       "    <tr>\n",
       "      <td>0</td>\n",
       "      <td>1571.0</td>\n",
       "      <td>1613.0</td>\n",
       "      <td>1442.377754</td>\n",
       "      <td>1</td>\n",
       "      <td>0.0</td>\n",
       "      <td>0.0</td>\n",
       "      <td>0.0</td>\n",
       "      <td>43.0</td>\n",
       "      <td>0.0</td>\n",
       "      <td>0.0</td>\n",
       "      <td>...</td>\n",
       "      <td>154.0</td>\n",
       "      <td>60.059998</td>\n",
       "      <td>0.00000</td>\n",
       "      <td>0.0</td>\n",
       "      <td>0.0</td>\n",
       "      <td>0.0</td>\n",
       "      <td>0.0</td>\n",
       "      <td>0.0</td>\n",
       "      <td>0.0</td>\n",
       "      <td>0.0</td>\n",
       "    </tr>\n",
       "    <tr>\n",
       "      <td>1</td>\n",
       "      <td>1581.0</td>\n",
       "      <td>1602.0</td>\n",
       "      <td>881.233565</td>\n",
       "      <td>2</td>\n",
       "      <td>0.0</td>\n",
       "      <td>0.0</td>\n",
       "      <td>0.0</td>\n",
       "      <td>73.0</td>\n",
       "      <td>0.0</td>\n",
       "      <td>0.0</td>\n",
       "      <td>...</td>\n",
       "      <td>154.0</td>\n",
       "      <td>96.052315</td>\n",
       "      <td>0.00000</td>\n",
       "      <td>0.0</td>\n",
       "      <td>0.0</td>\n",
       "      <td>0.0</td>\n",
       "      <td>0.0</td>\n",
       "      <td>0.0</td>\n",
       "      <td>0.0</td>\n",
       "      <td>0.0</td>\n",
       "    </tr>\n",
       "    <tr>\n",
       "      <td>2</td>\n",
       "      <td>1596.0</td>\n",
       "      <td>1599.0</td>\n",
       "      <td>525.066777</td>\n",
       "      <td>3</td>\n",
       "      <td>0.0</td>\n",
       "      <td>0.0</td>\n",
       "      <td>0.0</td>\n",
       "      <td>34.0</td>\n",
       "      <td>0.0</td>\n",
       "      <td>0.0</td>\n",
       "      <td>...</td>\n",
       "      <td>153.0</td>\n",
       "      <td>91.160157</td>\n",
       "      <td>0.00000</td>\n",
       "      <td>0.0</td>\n",
       "      <td>0.0</td>\n",
       "      <td>0.0</td>\n",
       "      <td>0.0</td>\n",
       "      <td>0.0</td>\n",
       "      <td>0.0</td>\n",
       "      <td>0.0</td>\n",
       "    </tr>\n",
       "    <tr>\n",
       "      <td>3</td>\n",
       "      <td>1601.0</td>\n",
       "      <td>1625.0</td>\n",
       "      <td>796.911309</td>\n",
       "      <td>4</td>\n",
       "      <td>0.0</td>\n",
       "      <td>0.0</td>\n",
       "      <td>0.0</td>\n",
       "      <td>81.0</td>\n",
       "      <td>0.0</td>\n",
       "      <td>0.0</td>\n",
       "      <td>...</td>\n",
       "      <td>154.0</td>\n",
       "      <td>89.063515</td>\n",
       "      <td>0.00000</td>\n",
       "      <td>0.0</td>\n",
       "      <td>0.0</td>\n",
       "      <td>0.0</td>\n",
       "      <td>0.0</td>\n",
       "      <td>0.0</td>\n",
       "      <td>0.0</td>\n",
       "      <td>0.0</td>\n",
       "    </tr>\n",
       "    <tr>\n",
       "      <td>4</td>\n",
       "      <td>1576.0</td>\n",
       "      <td>1602.0</td>\n",
       "      <td>1199.137958</td>\n",
       "      <td>5</td>\n",
       "      <td>0.0</td>\n",
       "      <td>0.0</td>\n",
       "      <td>0.0</td>\n",
       "      <td>78.0</td>\n",
       "      <td>0.0</td>\n",
       "      <td>0.0</td>\n",
       "      <td>...</td>\n",
       "      <td>152.0</td>\n",
       "      <td>89.238236</td>\n",
       "      <td>9.11456</td>\n",
       "      <td>0.0</td>\n",
       "      <td>0.0</td>\n",
       "      <td>0.0</td>\n",
       "      <td>0.0</td>\n",
       "      <td>0.0</td>\n",
       "      <td>0.0</td>\n",
       "      <td>0.0</td>\n",
       "    </tr>\n",
       "    <tr>\n",
       "      <td>...</td>\n",
       "      <td>...</td>\n",
       "      <td>...</td>\n",
       "      <td>...</td>\n",
       "      <td>...</td>\n",
       "      <td>...</td>\n",
       "      <td>...</td>\n",
       "      <td>...</td>\n",
       "      <td>...</td>\n",
       "      <td>...</td>\n",
       "      <td>...</td>\n",
       "      <td>...</td>\n",
       "      <td>...</td>\n",
       "      <td>...</td>\n",
       "      <td>...</td>\n",
       "      <td>...</td>\n",
       "      <td>...</td>\n",
       "      <td>...</td>\n",
       "      <td>...</td>\n",
       "      <td>...</td>\n",
       "      <td>...</td>\n",
       "      <td>...</td>\n",
       "    </tr>\n",
       "    <tr>\n",
       "      <td>2324</td>\n",
       "      <td>1570.0</td>\n",
       "      <td>1591.0</td>\n",
       "      <td>778.818234</td>\n",
       "      <td>2495</td>\n",
       "      <td>0.0</td>\n",
       "      <td>0.0</td>\n",
       "      <td>21.0</td>\n",
       "      <td>0.0</td>\n",
       "      <td>0.0</td>\n",
       "      <td>0.0</td>\n",
       "      <td>...</td>\n",
       "      <td>223.0</td>\n",
       "      <td>89.150879</td>\n",
       "      <td>0.00000</td>\n",
       "      <td>0.0</td>\n",
       "      <td>0.0</td>\n",
       "      <td>0.0</td>\n",
       "      <td>0.0</td>\n",
       "      <td>0.0</td>\n",
       "      <td>0.0</td>\n",
       "      <td>0.0</td>\n",
       "    </tr>\n",
       "    <tr>\n",
       "      <td>2325</td>\n",
       "      <td>1554.0</td>\n",
       "      <td>1591.0</td>\n",
       "      <td>875.261419</td>\n",
       "      <td>2496</td>\n",
       "      <td>0.0</td>\n",
       "      <td>0.0</td>\n",
       "      <td>0.0</td>\n",
       "      <td>63.0</td>\n",
       "      <td>0.0</td>\n",
       "      <td>0.0</td>\n",
       "      <td>...</td>\n",
       "      <td>226.0</td>\n",
       "      <td>114.179527</td>\n",
       "      <td>0.00000</td>\n",
       "      <td>0.0</td>\n",
       "      <td>0.0</td>\n",
       "      <td>0.0</td>\n",
       "      <td>0.0</td>\n",
       "      <td>0.0</td>\n",
       "      <td>0.0</td>\n",
       "      <td>0.0</td>\n",
       "    </tr>\n",
       "    <tr>\n",
       "      <td>2326</td>\n",
       "      <td>1571.0</td>\n",
       "      <td>1589.0</td>\n",
       "      <td>556.930349</td>\n",
       "      <td>2497</td>\n",
       "      <td>0.0</td>\n",
       "      <td>0.0</td>\n",
       "      <td>0.0</td>\n",
       "      <td>85.0</td>\n",
       "      <td>0.0</td>\n",
       "      <td>0.0</td>\n",
       "      <td>...</td>\n",
       "      <td>226.0</td>\n",
       "      <td>94.086723</td>\n",
       "      <td>9.04800</td>\n",
       "      <td>0.0</td>\n",
       "      <td>0.0</td>\n",
       "      <td>0.0</td>\n",
       "      <td>0.0</td>\n",
       "      <td>0.0</td>\n",
       "      <td>0.0</td>\n",
       "      <td>0.0</td>\n",
       "    </tr>\n",
       "    <tr>\n",
       "      <td>2327</td>\n",
       "      <td>1591.0</td>\n",
       "      <td>1594.0</td>\n",
       "      <td>767.817794</td>\n",
       "      <td>2498</td>\n",
       "      <td>0.0</td>\n",
       "      <td>0.0</td>\n",
       "      <td>90.0</td>\n",
       "      <td>0.0</td>\n",
       "      <td>0.0</td>\n",
       "      <td>0.0</td>\n",
       "      <td>...</td>\n",
       "      <td>207.0</td>\n",
       "      <td>118.110717</td>\n",
       "      <td>0.00000</td>\n",
       "      <td>0.0</td>\n",
       "      <td>0.0</td>\n",
       "      <td>0.0</td>\n",
       "      <td>0.0</td>\n",
       "      <td>0.0</td>\n",
       "      <td>0.0</td>\n",
       "      <td>0.0</td>\n",
       "    </tr>\n",
       "    <tr>\n",
       "      <td>2328</td>\n",
       "      <td>1569.0</td>\n",
       "      <td>1603.0</td>\n",
       "      <td>1301.828445</td>\n",
       "      <td>2499</td>\n",
       "      <td>0.0</td>\n",
       "      <td>0.0</td>\n",
       "      <td>47.0</td>\n",
       "      <td>0.0</td>\n",
       "      <td>0.0</td>\n",
       "      <td>0.0</td>\n",
       "      <td>...</td>\n",
       "      <td>227.0</td>\n",
       "      <td>110.160958</td>\n",
       "      <td>50.00528</td>\n",
       "      <td>0.0</td>\n",
       "      <td>0.0</td>\n",
       "      <td>0.0</td>\n",
       "      <td>0.0</td>\n",
       "      <td>0.0</td>\n",
       "      <td>0.0</td>\n",
       "      <td>0.0</td>\n",
       "    </tr>\n",
       "  </tbody>\n",
       "</table>\n",
       "<p>2329 rows × 28 columns</p>\n",
       "</div>"
      ],
      "text/plain": [
       "      temp_first  temp_last       energy   key  Bulk 1  Bulk 2  Bulk 3  \\\n",
       "0         1571.0     1613.0  1442.377754     1     0.0     0.0     0.0   \n",
       "1         1581.0     1602.0   881.233565     2     0.0     0.0     0.0   \n",
       "2         1596.0     1599.0   525.066777     3     0.0     0.0     0.0   \n",
       "3         1601.0     1625.0   796.911309     4     0.0     0.0     0.0   \n",
       "4         1576.0     1602.0  1199.137958     5     0.0     0.0     0.0   \n",
       "...          ...        ...          ...   ...     ...     ...     ...   \n",
       "2324      1570.0     1591.0   778.818234  2495     0.0     0.0    21.0   \n",
       "2325      1554.0     1591.0   875.261419  2496     0.0     0.0     0.0   \n",
       "2326      1571.0     1589.0   556.930349  2497     0.0     0.0     0.0   \n",
       "2327      1591.0     1594.0   767.817794  2498     0.0     0.0    90.0   \n",
       "2328      1569.0     1603.0  1301.828445  2499     0.0     0.0    47.0   \n",
       "\n",
       "      Bulk 4  Bulk 5  Bulk 6  ...  Bulk 15      Wire 1    Wire 2  Wire 3  \\\n",
       "0       43.0     0.0     0.0  ...    154.0   60.059998   0.00000     0.0   \n",
       "1       73.0     0.0     0.0  ...    154.0   96.052315   0.00000     0.0   \n",
       "2       34.0     0.0     0.0  ...    153.0   91.160157   0.00000     0.0   \n",
       "3       81.0     0.0     0.0  ...    154.0   89.063515   0.00000     0.0   \n",
       "4       78.0     0.0     0.0  ...    152.0   89.238236   9.11456     0.0   \n",
       "...      ...     ...     ...  ...      ...         ...       ...     ...   \n",
       "2324     0.0     0.0     0.0  ...    223.0   89.150879   0.00000     0.0   \n",
       "2325    63.0     0.0     0.0  ...    226.0  114.179527   0.00000     0.0   \n",
       "2326    85.0     0.0     0.0  ...    226.0   94.086723   9.04800     0.0   \n",
       "2327     0.0     0.0     0.0  ...    207.0  118.110717   0.00000     0.0   \n",
       "2328     0.0     0.0     0.0  ...    227.0  110.160958  50.00528     0.0   \n",
       "\n",
       "      Wire 4  Wire 5  Wire 6  Wire 7  Wire 8  Wire 9  \n",
       "0        0.0     0.0     0.0     0.0     0.0     0.0  \n",
       "1        0.0     0.0     0.0     0.0     0.0     0.0  \n",
       "2        0.0     0.0     0.0     0.0     0.0     0.0  \n",
       "3        0.0     0.0     0.0     0.0     0.0     0.0  \n",
       "4        0.0     0.0     0.0     0.0     0.0     0.0  \n",
       "...      ...     ...     ...     ...     ...     ...  \n",
       "2324     0.0     0.0     0.0     0.0     0.0     0.0  \n",
       "2325     0.0     0.0     0.0     0.0     0.0     0.0  \n",
       "2326     0.0     0.0     0.0     0.0     0.0     0.0  \n",
       "2327     0.0     0.0     0.0     0.0     0.0     0.0  \n",
       "2328     0.0     0.0     0.0     0.0     0.0     0.0  \n",
       "\n",
       "[2329 rows x 28 columns]"
      ]
     },
     "metadata": {},
     "output_type": "display_data"
    }
   ],
   "source": [
    "df_bulk = data_bulk.fillna(0)\n",
    "df_wire = data_wire.fillna(0)\n",
    "\n",
    "df_total = pd.merge(df_first_last_temp, data_energy_total, left_index=True, right_index=True)\n",
    "df_total = pd.merge(df_total, df_bulk, left_index=True, right_on='key')\n",
    "df_total = pd.merge(df_total, df_wire, left_on='key', right_on='key')\n",
    "display(df_total)"
   ]
  },
  {
   "cell_type": "markdown",
   "metadata": {},
   "source": [
    "<div style=\"background: #cceeaa; padding: 5px; border: 1px solid green; border-radius: 5px;\">\n",
    "    <font color='green'> <b><u>КОММЕНТАРИЙ РЕВЬЮЕРА</u></b>\n",
    "</font>\n",
    "<font color='green'><br>И верно - нужно исключать партии, где есть пропуск в целевой) Это важный момент проекта. И ты сделал его!\n",
    "    </div>"
   ]
  },
  {
   "cell_type": "markdown",
   "metadata": {},
   "source": [
    "## Модель"
   ]
  },
  {
   "cell_type": "markdown",
   "metadata": {},
   "source": [
    "### Проверка на мультиколинеарность"
   ]
  },
  {
   "cell_type": "code",
   "execution_count": 10,
   "metadata": {
    "scrolled": true
   },
   "outputs": [
    {
     "data": {
      "image/png": "[encoded data removed]",
      "text/plain": [
       "<Figure size 1008x432 with 2 Axes>"
      ]
     },
     "metadata": {
      "needs_background": "light"
     },
     "output_type": "display_data"
    }
   ],
   "source": [
    "plt.rcParams[\"figure.figsize\"] = (14,6)\n",
    "sns.heatmap(df_total.corr().round(1), vmin=-1, vmax=1, center= 0, cmap= 'coolwarm', annot=True)\n",
    "plt.show()"
   ]
  },
  {
   "cell_type": "markdown",
   "metadata": {},
   "source": [
    "* Всё что ниже 0,8 по модулю не будем отбрасывать. Из таких только пара `Bulk 9` - `Wire 8`\n",
    "* Какая-то корреляция прослеживается для `Wire 4` с `Bulk 2`, `Bulk 7` и `Wire 7`;\n",
    "* `Bulk 2` и `Bulk 7`; `Wire 6` и `Bulk 2`"
   ]
  },
  {
   "cell_type": "markdown",
   "metadata": {},
   "source": [
    "<div style=\"background: #cceeaa; padding: 5px; border: 1px solid green; border-radius: 5px;\">\n",
    "    <font color='green'> <b><u>КОММЕНТАРИЙ РЕВЬЮЕРА</u></b>\n",
    "</font>\n",
    "<font color='green'><br>да!!! Хорошо, что изучаешь эту проблематику)\n",
    "    </div>"
   ]
  },
  {
   "cell_type": "markdown",
   "metadata": {},
   "source": [
    "### Подготовка признаков"
   ]
  },
  {
   "cell_type": "markdown",
   "metadata": {},
   "source": [
    "* Как описано выше целевой признак конечная температура партии\n",
    "* Для фичей нужно исключить `Wire 5`, `Wire 8`, `Bulk 8`"
   ]
  },
  {
   "cell_type": "code",
   "execution_count": 53,
   "metadata": {},
   "outputs": [],
   "source": [
    "features = df_total.drop(columns=['temp_last', 'Wire 5', 'Wire 8', 'Bulk 8', 'key'])\n",
    "target = df_total['temp_last']\n",
    "features_train, features_test, target_train, target_test = train_test_split(\n",
    "        features, target, test_size=0.25, random_state=12345)"
   ]
  },
  {
   "cell_type": "markdown",
   "metadata": {},
   "source": [
    "### Обучение моделей"
   ]
  },
  {
   "cell_type": "markdown",
   "metadata": {},
   "source": [
    "Здесь сначала попробуем простые модели - LogisticRegression, LinearRegression"
   ]
  },
  {
   "cell_type": "code",
   "execution_count": 54,
   "metadata": {
    "scrolled": false
   },
   "outputs": [
    {
     "name": "stderr",
     "output_type": "stream",
     "text": [
      "/opt/conda/lib/python3.7/site-packages/sklearn/linear_model/logistic.py:432: FutureWarning: Default solver will be changed to 'lbfgs' in 0.22. Specify a solver to silence this warning.\n",
      "  FutureWarning)\n",
      "/opt/conda/lib/python3.7/site-packages/sklearn/linear_model/logistic.py:469: FutureWarning: Default multi_class will be changed to 'auto' in 0.22. Specify the multi_class option to silence this warning.\n",
      "  \"this warning.\", FutureWarning)\n"
     ]
    },
    {
     "name": "stdout",
     "output_type": "stream",
     "text": [
      "MAE_LogR = 8.307032590051458\n"
     ]
    }
   ],
   "source": [
    "model = LogisticRegression(random_state=12345)\n",
    "model.fit(features_train, target_train)\n",
    "predictions_test = model.predict(features_test)\n",
    "print('MAE_LogR =', MAE(predictions_test, target_test))"
   ]
  },
  {
   "cell_type": "code",
   "execution_count": 55,
   "metadata": {},
   "outputs": [
    {
     "name": "stdout",
     "output_type": "stream",
     "text": [
      "MAE_LinR = 6.837669693421694\n"
     ]
    }
   ],
   "source": [
    "model = LinearRegression()\n",
    "model.fit(features_train, target_train)\n",
    "predictions_test = model.predict(features_test)\n",
    "print('MAE_LinR =',MAE(predictions_test, target_test))"
   ]
  },
  {
   "cell_type": "markdown",
   "metadata": {},
   "source": [
    "* Уже неплохо. МАЕ < 6.8\n",
    "* Теперь ансамблевый метод RandomForestRegressor"
   ]
  },
  {
   "cell_type": "code",
   "execution_count": 22,
   "metadata": {},
   "outputs": [
    {
     "name": "stdout",
     "output_type": "stream",
     "text": [
      "best_depth = 12 best_est = 120 MAE_RFR = 6.51099551036953\n"
     ]
    }
   ],
   "source": [
    "MAE_best_RFR = 999\n",
    "for depth in range(1, 16, 1):\n",
    "    for est in range(10, 150, 10):\n",
    "        model = RandomForestRegressor(n_estimators=est, max_depth=depth, random_state=12345)\n",
    "        model.fit(features_train, target_train)\n",
    "        predictions_test = model.predict(features_test)\n",
    "        MAE_RFR = MAE(predictions_test, target_test)\n",
    "        if MAE_RFR < MAE_best_RFR:\n",
    "            MAE_best_RFR = MAE_RFR\n",
    "            best_depth = depth\n",
    "            best_est = est\n",
    "print('best_depth =', best_depth, 'best_est =', best_est,'MAE_RFR =', MAE_best_RFR)"
   ]
  },
  {
   "cell_type": "markdown",
   "metadata": {},
   "source": [
    "* Напоследок грдиентный бустинг"
   ]
  },
  {
   "cell_type": "code",
   "execution_count": 56,
   "metadata": {
    "scrolled": true
   },
   "outputs": [
    {
     "name": "stdout",
     "output_type": "stream",
     "text": [
      "0:\tlearn: 7.8390838\ttotal: 3.71ms\tremaining: 18.6s\n",
      "500:\tlearn: 6.0378232\ttotal: 11.9s\tremaining: 1m 47s\n",
      "1000:\tlearn: 5.3768168\ttotal: 23.8s\tremaining: 1m 35s\n",
      "1500:\tlearn: 5.0204491\ttotal: 35.4s\tremaining: 1m 22s\n",
      "2000:\tlearn: 4.7811531\ttotal: 47.1s\tremaining: 1m 10s\n",
      "2500:\tlearn: 4.5706617\ttotal: 58.8s\tremaining: 58.7s\n",
      "3000:\tlearn: 4.3823530\ttotal: 1m 10s\tremaining: 47.2s\n",
      "3500:\tlearn: 4.2125992\ttotal: 1m 22s\tremaining: 35.3s\n",
      "4000:\tlearn: 4.0615218\ttotal: 1m 33s\tremaining: 23.4s\n",
      "4500:\tlearn: 3.9325935\ttotal: 1m 45s\tremaining: 11.7s\n",
      "4999:\tlearn: 3.8177581\ttotal: 1m 57s\tremaining: 0us\n",
      "MAE_CBR = 6.268901943213445\n",
      "CPU times: user 1min 45s, sys: 13.4 s, total: 1min 58s\n",
      "Wall time: 2min 1s\n"
     ]
    }
   ],
   "source": [
    "%%time\n",
    "model_CBR = CatBoostRegressor(iterations=5000, depth=7, loss_function=\"MAE\", learning_rate=0.003)\n",
    "model_CBR.fit(features_train, target_train, verbose=500)\n",
    "predictions_test = model_CBR.predict(features_test)\n",
    "print('MAE_CBR =', MAE(predictions_test, target_test))"
   ]
  },
  {
   "cell_type": "markdown",
   "metadata": {},
   "source": [
    "### Проверка на дамми модели"
   ]
  },
  {
   "cell_type": "markdown",
   "metadata": {},
   "source": [
    "* В качестве глупой модели можно взять конечную среднюю температуру\n",
    "* Второй вариант - начальная температура"
   ]
  },
  {
   "cell_type": "code",
   "execution_count": 16,
   "metadata": {
    "scrolled": true
   },
   "outputs": [
    {
     "name": "stdout",
     "output_type": "stream",
     "text": [
      "MAE_dummy_mean 8.599825237062689\n",
      "MAE_dummy_first 19.879931389365353\n"
     ]
    }
   ],
   "source": [
    "predictions_dummy_mean = np.ones(target_test.shape[0]) * target_test.mean()\n",
    "print('MAE_dummy_mean', MAE(target_test, predictions_dummy_mean))\n",
    "print('MAE_dummy_first', MAE(target_test, features_test['temp_first']))"
   ]
  },
  {
   "cell_type": "markdown",
   "metadata": {},
   "source": [
    "<a id='2-bullet'></a>"
   ]
  },
  {
   "cell_type": "markdown",
   "metadata": {},
   "source": [
    "### Значимость признаков"
   ]
  },
  {
   "cell_type": "code",
   "execution_count": 57,
   "metadata": {
    "scrolled": false
   },
   "outputs": [
    {
     "data": {
      "image/png": "[encoded data removed]",
      "text/plain": [
       "<Figure size 720x576 with 1 Axes>"
      ]
     },
     "metadata": {
      "needs_background": "light"
     },
     "output_type": "display_data"
    }
   ],
   "source": [
    "def plot_feature_importance(importance,names,model_type):\n",
    "\n",
    "    feature_importance = np.array(importance)\n",
    "    feature_names = np.array(names)\n",
    "\n",
    "    data={'feature_names':feature_names,'feature_importance':feature_importance}\n",
    "    fi_df = pd.DataFrame(data)\n",
    "\n",
    "    fi_df.sort_values(by=['feature_importance'], ascending=False,inplace=True)\n",
    "\n",
    "    plt.figure(figsize=(10,8))\n",
    "\n",
    "    sns.barplot(x=fi_df['feature_importance'], y=fi_df['feature_names'])\n",
    "\n",
    "    plt.title(model_type + 'FEATURE IMPORTANCE')\n",
    "    plt.xlabel('FEATURE IMPORTANCE')\n",
    "    plt.ylabel('FEATURE NAMES')\n",
    "\n",
    "plot_feature_importance(model_CBR.get_feature_importance(),features_train.columns,'CATBOOST')"
   ]
  },
  {
   "cell_type": "markdown",
   "metadata": {},
   "source": [
    "<div class=\"alert alert-info\">\n",
    "    \n",
    "* По энергии и температуре вопросов нет, они действительно кажутся самыми важными\n",
    "* С материалами интереснее: сыпучие 2, 7, 9 добавляются в больших количествах, судя по гистограммам выше, но на температуру почти не влияют\n",
    "* Также заметил, что в признаки попал номер партии. Пришлось убрать, поэтому результаты немного поменялись\n",
    "</div>"
   ]
  },
  {
   "cell_type": "markdown",
   "metadata": {},
   "source": [
    "<div class=\"alert alert-info\">\n",
    "    \n",
    "Николай, еще раз спасибо за помощь! \n",
    "    \n",
    "Надеюсь на работе получится внедрить ML, у меня даже задача похожая...\n",
    "    \n",
    "</div>"
   ]
  },
  {
   "cell_type": "markdown",
   "metadata": {},
   "source": [
    "<div style=\"background: #cceeaa; padding: 5px; border: 1px solid green; border-radius: 5px;\">\n",
    "    <font color='green'> <b><u>КОММЕНТАРИЙ РЕВЬЮЕРА 2</u></b>\n",
    "</font>\n",
    "<font color='green'><br>\n",
    "Привет, Дмитрий. ОК с доработками, теперь можно сказать, что весь алгоритм применён при моделировании - от постановки проблематики до аналитики силы влияния фаткоров.<br>\n",
    "Про кей - однозначно удалять. Видимо пропустил в прошлый раз, извини. Здорово, что сам увидел)<br>\n",
    " \n",
    "Всегда стараюсь на этом проекте сказать всем вот ещё что: цель заказчика - экономия энергоресурсов.<br>\n",
    "И в этом проекте искали как раз способ точно предсказывать температуру. И круто использовали для этого весь арсенал<br>\n",
    "А если рассудать с позиции такой: а что нужно сделать, чтобы снизить энергопотребление?<br>\n",
    "Судя по модели, самым важным фактором является первая температура. Это значит, что управляя ею, мы сможем управлять энергозатратами. Вывод понятен. Теперь надо разработать мероприятия для этого решения. И тут вопрос возникает скм собой: а это так точно? мы можем управлять первой температурой? В общем, наша модель - только начало работы над энергоэффективностью.<br>\n",
    "    \n",
    "Так же есть ещё одна идея, которую хотел предложить тебе на обсуждение.<br>\n",
    "Возможно, покажется интересным<br><br> \n",
    "\n",
    "Дело касается принципиально иного подхода к поиску решения для снижения энергопотребления на производстве<br>\n",
    "Смотри, Создание данной модели (таково было задание) двигалось по пути \"угадывания\" температуры<br>\n",
    "Но мы же знаем жизнь)) лёгкие колебания температур (как и нашего настроения, нашего веса.....)<br>\n",
    "есть всегда. Более того - будут вегда! И нам что, стараться угадывать их?<br>\n",
    "Не угонимся, \"пупок\" развяжется))))) <br>\n",
    "Предложу для подобных проектов подумать вот в какую сторону<br>\n",
    "    \n",
    "Итак, разброс в измерениях - есть, был и будет!! (т.к. этому благоприятствует разнообразие факторов самого проиозводства)<br>\n",
    "    Тогда задачу можно поставить так: <u>надо уменьшить разброс в измерениях</u>. В данном случае в температуре.<br>\n",
    "Один из подходов такой: Наверняка есть границы, в пределах которых колебания температур - дело нормальное.<br>\n",
    "А что, если фикировать случаи, когда температура выходит за эти границы?<br>\n",
    "Скажем, как \"1\". И тогда для таких моментов времени собирать инфо по производству: <br>\n",
    "а что был за материал (химия материала), что был за газ (химический состав газа), какая бригада работала, <br>\n",
    "что там было с электродами, ограничения только в фантазиях ну и в знаниях самого производства..... <br>\n",
    "И вот тут можем реально находить причины (через корреляции, проверки гипотез, разные модельки...), фиксировать эти причины. <br>\n",
    "Ну и разрабатывать энергосберегательные мероприятия.<br><br>\n",
    "Успешного решения твоей задачи!<br> \n",
    "<font color='green'>\n",
    "\n",
    "Спасибо за этот труд и за совместную работу на других проектах)<br>\n",
    "Искренне желаю покорить ещё не один аналитический Эверест)\n",
    "    </div>"
   ]
  },
  {
   "cell_type": "markdown",
   "metadata": {},
   "source": [
    "## Общий вывод"
   ]
  },
  {
   "cell_type": "markdown",
   "metadata": {},
   "source": [
    "* В предобработке пришлось избавиться от трех партий: отрицательная реактивная мощность, редкие сыпучая и проволочная присадка. В сумме меньше одного процента данных\n",
    "* Данные в целом распределены нормально, но есть сильные бимодальные исключения\n",
    "* По мультиколинеарности отвалился столбец `Wire 8`\n",
    "* Логистическая регрессия дает МАЕ = 8.3\n",
    "* Линейная регрессия дает МАЕ = 6.8\n",
    "* Случайный лес с параметрами глубина-12 и деревья-120 дает МАЕ 6.5\n",
    "* CatBoostRegressor дает МАЕ - 6.3 - лучший результат\n",
    "* Глупые модели дают результат хуже - 8.6\n",
    "* Цель по МАЕ <= 6.3 достигнута"
   ]
  },
  {
   "cell_type": "markdown",
   "metadata": {},
   "source": [
    "<div style=\"background: #cceeaa; padding: 5px; border: 1px solid green; border-radius: 5px;\">\n",
    "    <font color='green'> <b><u>КОММЕНТАРИЙ РЕВЬЮЕРА</u></b>\n",
    "</font>\n",
    "<font color='green'><br>\n",
    "Дмитрий, скажу, что уверенная работа, на мой взгляд)<br>\n",
    "Обработка данных, модельная работа, конечные результаты - многое удалось как надо<br> Очень здорово, что сразу ищешь новые фичи, думаешь над ними, анализируешь. Это тот самый подход, который нужен, чтобы искать ту саму модель для заказчика)<br> Осталось лишь несколько вопросов с моей стороны))<br>\n",
    "   \n",
    "При моделировании существует проблематика мультиколлинеарности.(когда количественные факторы модели имеют сильную корреляцию друг с другом - больше 0.8).Есть ли она у нас?  Если есть - надо  решать по понятиям:) - удалить лишнее. И ты это делаешь! Но есть ещё важный инструмент в нашей профессии, который нам помогает:<br><br>\n",
    "<font color='red'>     \n",
    "Попробуй с помощью команды feature_importances_ выводить график важности факторов. Отличная вещь будет: высока яметрика + график рейтинаг факторов по силе влияния на целевой признак). Важнейшая часть любого модельного финала.\n",
    "Если видно, что часть факторов - слабозначимые для модели. Т.е. не значительно влияют на целевую переменную, то их смело можно убирать из модели. Ну и для бизнеса доносить: так мол и так - на эти факторы надо обращать внимание, а эти не влияют.<br>\n",
    "    \n",
    "<font color='green'>\n",
    "<font color='green'>\n",
    "Однозначно видно, что ты технически сделал хорошую работу.<br>\n",
    "Осталось не много)<br>\n",
    "\n",
    "Спасибо)<br>\n",
    "БУДУ ЖДАТЬ КОММЕНТАРИЕВ.\n",
    "    </div>"
   ]
  },
  {
   "cell_type": "markdown",
   "metadata": {},
   "source": [
    "## Отчет о работе"
   ]
  },
  {
   "cell_type": "markdown",
   "metadata": {},
   "source": [
    "Вопросы для отчета:\n",
    "* Какие пункты плана были выполнены, а какие — нет (поясните почему)?\n",
    "* Какие трудности возникли и как вы их преодолели?\n",
    "* Какие ключевые шаги в решении задачи выделили?\n",
    "* Какая ваша итоговая модель и какое у неё качество?"
   ]
  },
  {
   "cell_type": "markdown",
   "metadata": {},
   "source": [
    "* Почти все пункты плана были выполнены. Не строил ящик с усами, т.к. хватило гистограмм плотности распределения. Дополнительно к плану рассмотрел модель градиентного бустинга catboost. Также добавил важность признаков, благодаря подсказке ревьюера\n",
    "* Честно говоря, значительных трудностей не возникло во многом благодаря плану. Т.е. по порядку выполнил все действия и сразу добился нужного значения метрики. Подсматривал в предыдущие работы и конечно stackoverflow.\n",
    "* Ключевых шага два: анализ и подготовка данных, моделирование. При подготовке сформировал таблицу с признаками, что позволило не возвращаться к данным, а сосредоточиться на моделях\n",
    "* Итоговая модель градиентного бустинга CatBoostRegressor с глубиной 7 и МАЕ-6.3"
   ]
  },
  {
   "cell_type": "markdown",
   "metadata": {},
   "source": [
    "Отчет для заказчика:\n",
    "* В данных было одно отрицательное значение реактивной мощности, которое сильно выбивалось из распределения. Эту партию исключили из дальнейшего рассмотрения. Также были исключены партии с использованием `Bulk 8` и `Wire 5`, т.к. их всего две и они были определены как аномальные, т.е. очень редкие\n",
    "* Анализ влияния параметров на конечную температуру показал, что наибольшее значение имеют энергия и начальная температра (что не вызывает удивления). Дальше по степени важности идут проволочные 1, 2 и сыпучие 14, 12, 15. Почти никакого влияния на конечную температуру не имеют проволочные 4, 9, 7 и сыпучие 7, 2, 13, 9\n",
    "* Лучшая модель градиентного бустинга показала среднюю абсолютную ошибку по конечной температуре - 6.3 (наверное градусов цельсия)"
   ]
  },
  {
   "cell_type": "code",
   "execution_count": null,
   "metadata": {},
   "outputs": [],
   "source": []
  }
 ],
 "metadata": {
  "ExecuteTimeLog": [
   {
    "duration": 769,
    "start_time": "2021-07-29T14:55:11.805Z"
   },
   {
    "duration": 56,
    "start_time": "2021-07-29T14:58:15.889Z"
   },
   {
    "duration": 1244,
    "start_time": "2021-07-29T15:02:59.549Z"
   },
   {
    "duration": 5,
    "start_time": "2021-07-29T15:03:10.711Z"
   },
   {
    "duration": 7,
    "start_time": "2021-07-29T15:04:04.957Z"
   },
   {
    "duration": 244,
    "start_time": "2021-07-29T15:05:06.711Z"
   },
   {
    "duration": 53,
    "start_time": "2021-07-29T15:05:22.019Z"
   },
   {
    "duration": 218,
    "start_time": "2021-07-29T15:06:00.444Z"
   },
   {
    "duration": 53,
    "start_time": "2021-07-29T15:06:03.547Z"
   },
   {
    "duration": 10,
    "start_time": "2021-07-29T15:06:51.347Z"
   },
   {
    "duration": 442,
    "start_time": "2021-07-29T15:08:34.369Z"
   },
   {
    "duration": 402,
    "start_time": "2021-07-29T15:08:59.063Z"
   },
   {
    "duration": 133,
    "start_time": "2021-07-29T15:09:06.827Z"
   },
   {
    "duration": 410,
    "start_time": "2021-07-29T15:09:15.838Z"
   },
   {
    "duration": 400,
    "start_time": "2021-07-29T15:09:22.328Z"
   },
   {
    "duration": 127,
    "start_time": "2021-07-29T16:40:33.813Z"
   },
   {
    "duration": 3,
    "start_time": "2021-07-29T16:41:14.745Z"
   },
   {
    "duration": 212,
    "start_time": "2021-07-29T16:41:15.290Z"
   },
   {
    "duration": 421,
    "start_time": "2021-07-29T16:41:16.081Z"
   },
   {
    "duration": 209,
    "start_time": "2021-07-31T06:26:59.130Z"
   },
   {
    "duration": 549,
    "start_time": "2021-07-31T06:27:04.297Z"
   },
   {
    "duration": 204,
    "start_time": "2021-07-31T06:27:04.848Z"
   },
   {
    "duration": 253,
    "start_time": "2021-07-31T06:27:05.733Z"
   },
   {
    "duration": 200,
    "start_time": "2021-07-31T06:27:09.696Z"
   },
   {
    "duration": 12,
    "start_time": "2021-07-31T06:27:20.610Z"
   },
   {
    "duration": 19,
    "start_time": "2021-07-31T06:29:27.395Z"
   },
   {
    "duration": 9,
    "start_time": "2021-07-31T06:30:51.100Z"
   },
   {
    "duration": 11,
    "start_time": "2021-07-31T06:31:08.262Z"
   },
   {
    "duration": 6,
    "start_time": "2021-07-31T06:33:30.159Z"
   },
   {
    "duration": 13,
    "start_time": "2021-07-31T06:33:37.426Z"
   },
   {
    "duration": 13,
    "start_time": "2021-07-31T06:35:29.480Z"
   },
   {
    "duration": 12,
    "start_time": "2021-07-31T06:35:42.849Z"
   },
   {
    "duration": 12,
    "start_time": "2021-07-31T06:35:46.169Z"
   },
   {
    "duration": 13,
    "start_time": "2021-07-31T06:35:50.368Z"
   },
   {
    "duration": 15,
    "start_time": "2021-07-31T06:38:52.771Z"
   },
   {
    "duration": 4713,
    "start_time": "2021-07-31T06:43:43.004Z"
   },
   {
    "duration": 9,
    "start_time": "2021-07-31T06:44:25.944Z"
   },
   {
    "duration": 4357,
    "start_time": "2021-07-31T06:44:35.288Z"
   },
   {
    "duration": 4316,
    "start_time": "2021-07-31T06:44:54.403Z"
   },
   {
    "duration": 10,
    "start_time": "2021-07-31T06:45:04.191Z"
   },
   {
    "duration": 11,
    "start_time": "2021-07-31T06:45:24.081Z"
   },
   {
    "duration": 11,
    "start_time": "2021-07-31T06:46:23.497Z"
   },
   {
    "duration": 22,
    "start_time": "2021-07-31T06:46:30.240Z"
   },
   {
    "duration": 9,
    "start_time": "2021-07-31T06:47:12.119Z"
   },
   {
    "duration": 12,
    "start_time": "2021-07-31T06:47:25.107Z"
   },
   {
    "duration": 11,
    "start_time": "2021-07-31T06:48:33.507Z"
   },
   {
    "duration": 13,
    "start_time": "2021-07-31T06:48:46.143Z"
   },
   {
    "duration": 13,
    "start_time": "2021-07-31T06:48:52.375Z"
   },
   {
    "duration": 15,
    "start_time": "2021-07-31T06:48:57.467Z"
   },
   {
    "duration": 4411,
    "start_time": "2021-07-31T06:51:16.521Z"
   },
   {
    "duration": 226,
    "start_time": "2021-07-31T06:51:31.062Z"
   },
   {
    "duration": 11,
    "start_time": "2021-07-31T06:51:35.494Z"
   },
   {
    "duration": 612,
    "start_time": "2021-07-31T06:51:38.243Z"
   },
   {
    "duration": 20,
    "start_time": "2021-07-31T06:53:24.081Z"
   },
   {
    "duration": 6,
    "start_time": "2021-07-31T07:02:20.961Z"
   },
   {
    "duration": 190,
    "start_time": "2021-07-31T07:03:24.890Z"
   },
   {
    "duration": 183,
    "start_time": "2021-07-31T07:06:36.260Z"
   },
   {
    "duration": 15,
    "start_time": "2021-07-31T07:07:03.231Z"
   },
   {
    "duration": 16,
    "start_time": "2021-07-31T07:07:12.203Z"
   },
   {
    "duration": 13,
    "start_time": "2021-07-31T07:10:58.099Z"
   },
   {
    "duration": 28,
    "start_time": "2021-07-31T07:11:13.369Z"
   },
   {
    "duration": 16,
    "start_time": "2021-07-31T07:11:38.290Z"
   },
   {
    "duration": 195,
    "start_time": "2021-07-31T07:14:01.621Z"
   },
   {
    "duration": 182,
    "start_time": "2021-07-31T07:14:37.707Z"
   },
   {
    "duration": 184,
    "start_time": "2021-07-31T07:15:41.538Z"
   },
   {
    "duration": 17,
    "start_time": "2021-07-31T07:15:58.467Z"
   },
   {
    "duration": 185,
    "start_time": "2021-07-31T07:18:09.817Z"
   },
   {
    "duration": 3,
    "start_time": "2021-07-31T07:18:23.403Z"
   },
   {
    "duration": 190,
    "start_time": "2021-07-31T07:18:34.458Z"
   },
   {
    "duration": 25,
    "start_time": "2021-07-31T07:18:58.333Z"
   },
   {
    "duration": 4,
    "start_time": "2021-07-31T07:27:09.906Z"
   },
   {
    "duration": 4,
    "start_time": "2021-07-31T07:27:26.163Z"
   },
   {
    "duration": 4,
    "start_time": "2021-07-31T07:27:34.152Z"
   },
   {
    "duration": 30,
    "start_time": "2021-07-31T07:32:02.030Z"
   },
   {
    "duration": 15,
    "start_time": "2021-07-31T07:32:41.833Z"
   },
   {
    "duration": 177,
    "start_time": "2021-07-31T07:33:51.366Z"
   },
   {
    "duration": 205,
    "start_time": "2021-07-31T07:33:56.166Z"
   },
   {
    "duration": 185,
    "start_time": "2021-07-31T07:34:05.366Z"
   },
   {
    "duration": 172,
    "start_time": "2021-07-31T07:34:19.109Z"
   },
   {
    "duration": 174,
    "start_time": "2021-07-31T07:34:23.369Z"
   },
   {
    "duration": 5,
    "start_time": "2021-07-31T07:34:29.622Z"
   },
   {
    "duration": 173,
    "start_time": "2021-07-31T07:35:20.780Z"
   },
   {
    "duration": 172,
    "start_time": "2021-07-31T07:35:27.379Z"
   },
   {
    "duration": 193,
    "start_time": "2021-07-31T07:36:10.939Z"
   },
   {
    "duration": 172,
    "start_time": "2021-07-31T07:36:16.323Z"
   },
   {
    "duration": 212,
    "start_time": "2021-07-31T07:36:20.779Z"
   },
   {
    "duration": 178,
    "start_time": "2021-07-31T07:36:23.844Z"
   },
   {
    "duration": 6,
    "start_time": "2021-07-31T07:36:28.643Z"
   },
   {
    "duration": 6,
    "start_time": "2021-07-31T07:36:54.768Z"
   },
   {
    "duration": 6,
    "start_time": "2021-07-31T07:37:14.900Z"
   },
   {
    "duration": 5,
    "start_time": "2021-07-31T07:37:22.080Z"
   },
   {
    "duration": 16,
    "start_time": "2021-07-31T07:42:02.148Z"
   },
   {
    "duration": 23,
    "start_time": "2021-07-31T07:42:56.077Z"
   },
   {
    "duration": 13,
    "start_time": "2021-07-31T07:43:07.480Z"
   },
   {
    "duration": 4930,
    "start_time": "2021-07-31T07:44:34.563Z"
   },
   {
    "duration": 20,
    "start_time": "2021-07-31T07:44:54.427Z"
   },
   {
    "duration": 54,
    "start_time": "2021-07-31T07:46:26.283Z"
   },
   {
    "duration": 1314,
    "start_time": "2021-07-31T07:57:35.042Z"
   },
   {
    "duration": 2,
    "start_time": "2021-07-31T07:57:50.682Z"
   },
   {
    "duration": 819,
    "start_time": "2021-07-31T07:57:56.558Z"
   },
   {
    "duration": 802,
    "start_time": "2021-07-31T07:58:18.261Z"
   },
   {
    "duration": 771,
    "start_time": "2021-07-31T07:59:24.310Z"
   },
   {
    "duration": 784,
    "start_time": "2021-07-31T07:59:28.970Z"
   },
   {
    "duration": 731,
    "start_time": "2021-07-31T07:59:44.342Z"
   },
   {
    "duration": 741,
    "start_time": "2021-07-31T08:02:38.135Z"
   },
   {
    "duration": 1004,
    "start_time": "2021-07-31T08:08:54.947Z"
   },
   {
    "duration": 1030,
    "start_time": "2021-07-31T08:09:14.367Z"
   },
   {
    "duration": 981,
    "start_time": "2021-07-31T08:09:38.463Z"
   },
   {
    "duration": 941,
    "start_time": "2021-07-31T08:10:42.736Z"
   },
   {
    "duration": 739,
    "start_time": "2021-07-31T08:11:03.725Z"
   },
   {
    "duration": 734,
    "start_time": "2021-07-31T08:11:16.541Z"
   },
   {
    "duration": 758,
    "start_time": "2021-07-31T08:11:22.629Z"
   },
   {
    "duration": 924,
    "start_time": "2021-07-31T08:11:36.336Z"
   },
   {
    "duration": 971,
    "start_time": "2021-07-31T08:12:46.883Z"
   },
   {
    "duration": 902,
    "start_time": "2021-07-31T08:13:11.640Z"
   },
   {
    "duration": 990,
    "start_time": "2021-07-31T08:13:59.896Z"
   },
   {
    "duration": 740,
    "start_time": "2021-07-31T08:14:07.832Z"
   },
   {
    "duration": 1041,
    "start_time": "2021-07-31T08:14:56.192Z"
   },
   {
    "duration": 945,
    "start_time": "2021-07-31T08:16:00.894Z"
   },
   {
    "duration": 954,
    "start_time": "2021-07-31T08:16:09.326Z"
   },
   {
    "duration": 959,
    "start_time": "2021-07-31T08:16:40.793Z"
   },
   {
    "duration": 753,
    "start_time": "2021-07-31T08:17:07.638Z"
   },
   {
    "duration": 817,
    "start_time": "2021-07-31T08:17:39.059Z"
   },
   {
    "duration": 836,
    "start_time": "2021-07-31T08:17:54.339Z"
   },
   {
    "duration": 971,
    "start_time": "2021-07-31T08:18:28.316Z"
   },
   {
    "duration": 990,
    "start_time": "2021-07-31T08:19:41.363Z"
   },
   {
    "duration": 757,
    "start_time": "2021-07-31T08:19:56.920Z"
   },
   {
    "duration": 184,
    "start_time": "2021-07-31T08:20:10.428Z"
   },
   {
    "duration": 750,
    "start_time": "2021-07-31T08:20:13.620Z"
   },
   {
    "duration": 847,
    "start_time": "2021-07-31T08:20:24.817Z"
   },
   {
    "duration": 1558,
    "start_time": "2021-07-31T08:20:35.826Z"
   },
   {
    "duration": 1563,
    "start_time": "2021-07-31T08:20:59.825Z"
   },
   {
    "duration": 1607,
    "start_time": "2021-07-31T08:23:26.058Z"
   },
   {
    "duration": 613,
    "start_time": "2021-07-31T08:23:56.194Z"
   },
   {
    "duration": 188,
    "start_time": "2021-07-31T08:23:56.809Z"
   },
   {
    "duration": 254,
    "start_time": "2021-07-31T08:23:57.362Z"
   },
   {
    "duration": 1398,
    "start_time": "2021-07-31T08:24:00.245Z"
   },
   {
    "duration": 1580,
    "start_time": "2021-07-31T08:24:22.611Z"
   },
   {
    "duration": 5225,
    "start_time": "2021-07-31T08:26:38.021Z"
   },
   {
    "duration": 485,
    "start_time": "2021-07-31T08:27:04.789Z"
   },
   {
    "duration": 512,
    "start_time": "2021-07-31T08:28:09.475Z"
   },
   {
    "duration": 185,
    "start_time": "2021-07-31T08:28:15.891Z"
   },
   {
    "duration": 198,
    "start_time": "2021-07-31T08:28:22.973Z"
   },
   {
    "duration": 7,
    "start_time": "2021-07-31T08:30:40.285Z"
   },
   {
    "duration": 29,
    "start_time": "2021-07-31T08:31:18.743Z"
   },
   {
    "duration": 214,
    "start_time": "2021-07-31T08:31:37.961Z"
   },
   {
    "duration": 178,
    "start_time": "2021-07-31T08:32:07.362Z"
   },
   {
    "duration": 16,
    "start_time": "2021-07-31T08:33:08.083Z"
   },
   {
    "duration": 297,
    "start_time": "2021-07-31T08:33:38.871Z"
   },
   {
    "duration": 471,
    "start_time": "2021-07-31T08:33:50.560Z"
   },
   {
    "duration": 11,
    "start_time": "2021-07-31T08:34:58.569Z"
   },
   {
    "duration": 196,
    "start_time": "2021-07-31T08:35:08.702Z"
   },
   {
    "duration": 10,
    "start_time": "2021-07-31T08:35:18.004Z"
   },
   {
    "duration": 10,
    "start_time": "2021-07-31T08:35:59.411Z"
   },
   {
    "duration": 10,
    "start_time": "2021-07-31T08:36:19.245Z"
   },
   {
    "duration": 9,
    "start_time": "2021-07-31T08:37:19.011Z"
   },
   {
    "duration": 485,
    "start_time": "2021-07-31T08:37:44.081Z"
   },
   {
    "duration": 494,
    "start_time": "2021-07-31T08:38:44.361Z"
   },
   {
    "duration": 478,
    "start_time": "2021-07-31T08:39:52.516Z"
   },
   {
    "duration": 343,
    "start_time": "2021-07-31T08:40:23.429Z"
   },
   {
    "duration": 328,
    "start_time": "2021-07-31T08:40:55.858Z"
   },
   {
    "duration": 506,
    "start_time": "2021-07-31T08:41:07.569Z"
   },
   {
    "duration": 368,
    "start_time": "2021-07-31T08:41:48.122Z"
   },
   {
    "duration": 358,
    "start_time": "2021-07-31T08:42:47.575Z"
   },
   {
    "duration": 369,
    "start_time": "2021-07-31T08:42:56.727Z"
   },
   {
    "duration": 444,
    "start_time": "2021-07-31T08:43:15.427Z"
   },
   {
    "duration": 388,
    "start_time": "2021-07-31T08:43:20.932Z"
   },
   {
    "duration": 547,
    "start_time": "2021-07-31T08:43:38.779Z"
   },
   {
    "duration": 342,
    "start_time": "2021-07-31T08:44:11.212Z"
   },
   {
    "duration": 728,
    "start_time": "2021-07-31T08:45:40.113Z"
   },
   {
    "duration": 24,
    "start_time": "2021-07-31T08:48:23.963Z"
   },
   {
    "duration": 26,
    "start_time": "2021-07-31T08:48:25.945Z"
   },
   {
    "duration": 36,
    "start_time": "2021-07-31T08:48:27.627Z"
   },
   {
    "duration": 82,
    "start_time": "2021-07-31T08:50:36.025Z"
   },
   {
    "duration": 371,
    "start_time": "2021-07-31T08:54:23.951Z"
   },
   {
    "duration": 418,
    "start_time": "2021-07-31T08:58:25.152Z"
   },
   {
    "duration": 350,
    "start_time": "2021-07-31T08:58:34.730Z"
   },
   {
    "duration": 193,
    "start_time": "2021-07-31T08:59:32.541Z"
   },
   {
    "duration": 7,
    "start_time": "2021-07-31T08:59:43.685Z"
   },
   {
    "duration": 3,
    "start_time": "2021-07-31T09:01:06.288Z"
   },
   {
    "duration": 1472,
    "start_time": "2021-07-31T09:01:16.728Z"
   },
   {
    "duration": 3,
    "start_time": "2021-07-31T09:02:44.266Z"
   },
   {
    "duration": 188,
    "start_time": "2021-07-31T09:02:57.947Z"
   },
   {
    "duration": 100,
    "start_time": "2021-07-31T09:03:13.689Z"
   },
   {
    "duration": 636,
    "start_time": "2021-07-31T09:04:39.649Z"
   },
   {
    "duration": 641,
    "start_time": "2021-07-31T09:05:06.018Z"
   },
   {
    "duration": 61,
    "start_time": "2021-07-31T09:12:59.460Z"
   },
   {
    "duration": 44081,
    "start_time": "2021-07-31T09:13:07.577Z"
   },
   {
    "duration": 218735,
    "start_time": "2021-07-31T09:14:13.993Z"
   },
   {
    "duration": 3,
    "start_time": "2021-07-31T09:17:52.730Z"
   },
   {
    "duration": 188,
    "start_time": "2021-07-31T09:31:50.868Z"
   },
   {
    "duration": 52,
    "start_time": "2021-07-31T09:31:57.218Z"
   },
   {
    "duration": 2906,
    "start_time": "2021-07-31T09:32:12.571Z"
   },
   {
    "duration": 2641,
    "start_time": "2021-07-31T09:32:50.004Z"
   },
   {
    "duration": 7,
    "start_time": "2021-07-31T09:33:52.805Z"
   },
   {
    "duration": 1244,
    "start_time": "2021-07-31T09:33:54.241Z"
   },
   {
    "duration": 21,
    "start_time": "2021-07-31T09:33:57.969Z"
   },
   {
    "duration": 35,
    "start_time": "2021-07-31T09:34:45.342Z"
   },
   {
    "duration": 36,
    "start_time": "2021-07-31T09:36:18.204Z"
   },
   {
    "duration": 22,
    "start_time": "2021-07-31T09:36:58.449Z"
   },
   {
    "duration": 14,
    "start_time": "2021-07-31T09:38:06.009Z"
   },
   {
    "duration": 24,
    "start_time": "2021-07-31T09:38:39.832Z"
   },
   {
    "duration": 15,
    "start_time": "2021-07-31T09:38:55.185Z"
   },
   {
    "duration": 35,
    "start_time": "2021-07-31T09:39:30.238Z"
   },
   {
    "duration": 35,
    "start_time": "2021-07-31T09:39:45.800Z"
   },
   {
    "duration": 36,
    "start_time": "2021-07-31T09:39:57.243Z"
   },
   {
    "duration": 2331,
    "start_time": "2021-07-31T09:40:16.085Z"
   },
   {
    "duration": 2416,
    "start_time": "2021-07-31T09:41:35.773Z"
   },
   {
    "duration": 2461,
    "start_time": "2021-07-31T09:41:43.764Z"
   },
   {
    "duration": 8,
    "start_time": "2021-07-31T09:43:35.345Z"
   },
   {
    "duration": 966,
    "start_time": "2021-07-31T09:43:38.121Z"
   },
   {
    "duration": 52,
    "start_time": "2021-07-31T09:43:43.133Z"
   },
   {
    "duration": 185362,
    "start_time": "2021-07-31T09:43:45.837Z"
   },
   {
    "duration": 7,
    "start_time": "2021-07-31T09:47:11.312Z"
   },
   {
    "duration": 910,
    "start_time": "2021-07-31T09:47:12.804Z"
   },
   {
    "duration": 8,
    "start_time": "2021-07-31T09:49:12.257Z"
   },
   {
    "duration": 979,
    "start_time": "2021-07-31T09:49:13.610Z"
   },
   {
    "duration": 15,
    "start_time": "2021-07-31T09:49:18.846Z"
   },
   {
    "duration": 185395,
    "start_time": "2021-07-31T09:49:23.226Z"
   },
   {
    "duration": 834,
    "start_time": "2021-07-31T09:52:28.622Z"
   },
   {
    "duration": 747,
    "start_time": "2021-07-31T09:53:41.499Z"
   },
   {
    "duration": 364,
    "start_time": "2021-07-31T09:54:18.019Z"
   },
   {
    "duration": 778585,
    "start_time": "2021-07-31T09:55:14.687Z"
   },
   {
    "duration": 1172,
    "start_time": "2021-08-01T04:45:26.681Z"
   },
   {
    "duration": 191,
    "start_time": "2021-08-01T04:45:28.658Z"
   },
   {
    "duration": 235,
    "start_time": "2021-08-01T04:45:29.427Z"
   },
   {
    "duration": 1610,
    "start_time": "2021-08-01T04:45:33.481Z"
   },
   {
    "duration": 742,
    "start_time": "2021-08-01T04:49:02.164Z"
   },
   {
    "duration": 276,
    "start_time": "2021-08-01T04:50:37.583Z"
   },
   {
    "duration": 343,
    "start_time": "2021-08-01T04:50:51.350Z"
   },
   {
    "duration": 422,
    "start_time": "2021-08-01T04:54:23.788Z"
   },
   {
    "duration": 732,
    "start_time": "2021-08-01T04:54:51.229Z"
   },
   {
    "duration": 742,
    "start_time": "2021-08-01T04:55:06.751Z"
   },
   {
    "duration": 360,
    "start_time": "2021-08-01T04:55:17.786Z"
   },
   {
    "duration": 23,
    "start_time": "2021-08-01T04:58:33.655Z"
   },
   {
    "duration": 24,
    "start_time": "2021-08-01T04:58:47.057Z"
   },
   {
    "duration": 35,
    "start_time": "2021-08-01T04:58:55.601Z"
   },
   {
    "duration": 2271,
    "start_time": "2021-08-01T05:01:03.587Z"
   },
   {
    "duration": 363,
    "start_time": "2021-08-01T05:02:48.473Z"
   },
   {
    "duration": 4266,
    "start_time": "2021-08-01T05:11:24.727Z"
   },
   {
    "duration": 14,
    "start_time": "2021-08-01T05:11:45.304Z"
   },
   {
    "duration": 14,
    "start_time": "2021-08-01T05:12:05.801Z"
   },
   {
    "duration": 177,
    "start_time": "2021-08-01T05:14:11.394Z"
   },
   {
    "duration": 7,
    "start_time": "2021-08-01T05:14:15.322Z"
   },
   {
    "duration": 1003,
    "start_time": "2021-08-01T05:14:16.785Z"
   },
   {
    "duration": 33,
    "start_time": "2021-08-01T05:14:21.052Z"
   },
   {
    "duration": 772317,
    "start_time": "2021-08-01T05:14:32.662Z"
   },
   {
    "duration": 4,
    "start_time": "2021-08-01T05:31:35.384Z"
   },
   {
    "duration": 3,
    "start_time": "2021-08-01T05:31:39.977Z"
   },
   {
    "duration": 177,
    "start_time": "2021-08-01T05:32:26.354Z"
   },
   {
    "duration": 5,
    "start_time": "2021-08-01T05:32:32.394Z"
   },
   {
    "duration": 6,
    "start_time": "2021-08-01T05:34:24.805Z"
   },
   {
    "duration": 5,
    "start_time": "2021-08-01T05:34:31.636Z"
   },
   {
    "duration": 5,
    "start_time": "2021-08-01T05:34:33.625Z"
   },
   {
    "duration": 4,
    "start_time": "2021-08-01T05:34:39.140Z"
   },
   {
    "duration": 85328,
    "start_time": "2021-08-01T05:34:46.540Z"
   },
   {
    "duration": 25,
    "start_time": "2021-08-01T05:42:42.235Z"
   },
   {
    "duration": 1020,
    "start_time": "2021-08-01T05:44:40.373Z"
   },
   {
    "duration": 1033,
    "start_time": "2021-08-01T05:44:46.553Z"
   },
   {
    "duration": 97,
    "start_time": "2021-08-01T05:45:16.690Z"
   },
   {
    "duration": 87598,
    "start_time": "2021-08-01T05:45:21.069Z"
   },
   {
    "duration": 3,
    "start_time": "2021-08-01T05:46:48.669Z"
   },
   {
    "duration": 42079,
    "start_time": "2021-08-01T05:47:02.482Z"
   },
   {
    "duration": 1140,
    "start_time": "2021-08-01T05:51:22.360Z"
   },
   {
    "duration": 2882,
    "start_time": "2021-08-01T05:51:33.425Z"
   },
   {
    "duration": 911,
    "start_time": "2021-08-01T05:51:44.790Z"
   },
   {
    "duration": 1200,
    "start_time": "2021-08-01T05:51:59.291Z"
   },
   {
    "duration": 1301,
    "start_time": "2021-08-01T05:52:05.699Z"
   },
   {
    "duration": 1161,
    "start_time": "2021-08-01T05:52:12.742Z"
   },
   {
    "duration": 30487,
    "start_time": "2021-08-01T05:52:38.154Z"
   },
   {
    "duration": 393387,
    "start_time": "2021-08-01T05:53:58.152Z"
   },
   {
    "duration": 2154,
    "start_time": "2021-08-01T06:00:54.669Z"
   },
   {
    "duration": 2888,
    "start_time": "2021-08-01T06:01:09.055Z"
   },
   {
    "duration": 3529,
    "start_time": "2021-08-01T06:01:16.358Z"
   },
   {
    "duration": 4821,
    "start_time": "2021-08-01T06:01:24.694Z"
   },
   {
    "duration": 7371,
    "start_time": "2021-08-01T06:01:41.924Z"
   },
   {
    "duration": 4718,
    "start_time": "2021-08-01T06:01:54.574Z"
   },
   {
    "duration": 6056,
    "start_time": "2021-08-01T06:02:10.543Z"
   },
   {
    "duration": 9108,
    "start_time": "2021-08-01T06:02:22.716Z"
   },
   {
    "duration": 4684,
    "start_time": "2021-08-01T06:03:04.604Z"
   },
   {
    "duration": 4747,
    "start_time": "2021-08-01T06:03:16.852Z"
   },
   {
    "duration": 4787,
    "start_time": "2021-08-01T06:03:26.992Z"
   },
   {
    "duration": 4831,
    "start_time": "2021-08-01T06:03:41.853Z"
   },
   {
    "duration": 5823,
    "start_time": "2021-08-01T06:04:07.385Z"
   },
   {
    "duration": 4948,
    "start_time": "2021-08-01T06:04:21.832Z"
   },
   {
    "duration": 4841,
    "start_time": "2021-08-01T06:04:32.755Z"
   },
   {
    "duration": 4816,
    "start_time": "2021-08-01T06:04:45.076Z"
   },
   {
    "duration": 9070,
    "start_time": "2021-08-01T06:04:59.321Z"
   },
   {
    "duration": 8847,
    "start_time": "2021-08-01T06:05:16.357Z"
   },
   {
    "duration": 8722,
    "start_time": "2021-08-01T06:05:34.954Z"
   },
   {
    "duration": 9076,
    "start_time": "2021-08-01T06:05:50.115Z"
   },
   {
    "duration": 9328,
    "start_time": "2021-08-01T06:06:26.355Z"
   },
   {
    "duration": 14101,
    "start_time": "2021-08-01T06:06:44.498Z"
   },
   {
    "duration": 10139,
    "start_time": "2021-08-01T06:07:09.844Z"
   },
   {
    "duration": 8743,
    "start_time": "2021-08-01T06:07:29.583Z"
   },
   {
    "duration": 3789,
    "start_time": "2021-08-01T06:08:44.090Z"
   },
   {
    "duration": 3347,
    "start_time": "2021-08-01T06:08:52.641Z"
   },
   {
    "duration": 2307,
    "start_time": "2021-08-01T06:09:12.329Z"
   },
   {
    "duration": 26182,
    "start_time": "2021-08-01T06:09:19.997Z"
   },
   {
    "duration": 3574,
    "start_time": "2021-08-01T06:09:51.527Z"
   },
   {
    "duration": 6327,
    "start_time": "2021-08-01T06:10:02.077Z"
   },
   {
    "duration": 8766,
    "start_time": "2021-08-01T06:10:13.065Z"
   },
   {
    "duration": 1110,
    "start_time": "2021-08-01T06:10:50.394Z"
   },
   {
    "duration": 188,
    "start_time": "2021-08-01T06:10:51.506Z"
   },
   {
    "duration": 262,
    "start_time": "2021-08-01T06:10:51.696Z"
   },
   {
    "duration": 1626,
    "start_time": "2021-08-01T06:10:51.960Z"
   },
   {
    "duration": 760,
    "start_time": "2021-08-01T06:10:53.588Z"
   },
   {
    "duration": 447,
    "start_time": "2021-08-01T06:10:54.350Z"
   },
   {
    "duration": 20,
    "start_time": "2021-08-01T06:10:54.799Z"
   },
   {
    "duration": 22,
    "start_time": "2021-08-01T06:10:54.820Z"
   },
   {
    "duration": 53,
    "start_time": "2021-08-01T06:10:54.845Z"
   },
   {
    "duration": 2207,
    "start_time": "2021-08-01T06:10:54.900Z"
   },
   {
    "duration": 7,
    "start_time": "2021-08-01T06:10:57.108Z"
   },
   {
    "duration": 977,
    "start_time": "2021-08-01T06:10:57.116Z"
   },
   {
    "duration": 293,
    "start_time": "2021-08-01T06:10:58.094Z"
   },
   {
    "duration": 85594,
    "start_time": "2021-08-01T06:10:58.389Z"
   },
   {
    "duration": 8740,
    "start_time": "2021-08-01T06:12:23.984Z"
   },
   {
    "duration": 5,
    "start_time": "2021-08-01T06:12:32.726Z"
   },
   {
    "duration": 1127,
    "start_time": "2021-08-01T13:49:03.034Z"
   },
   {
    "duration": 179,
    "start_time": "2021-08-01T13:49:04.163Z"
   },
   {
    "duration": 274,
    "start_time": "2021-08-01T13:49:05.981Z"
   },
   {
    "duration": 1596,
    "start_time": "2021-08-01T13:50:03.999Z"
   },
   {
    "duration": 809,
    "start_time": "2021-08-01T13:50:05.597Z"
   },
   {
    "duration": 429,
    "start_time": "2021-08-01T13:50:06.520Z"
   },
   {
    "duration": 21,
    "start_time": "2021-08-01T13:50:07.680Z"
   },
   {
    "duration": 32,
    "start_time": "2021-08-01T13:50:08.310Z"
   },
   {
    "duration": 36,
    "start_time": "2021-08-01T13:50:09.222Z"
   },
   {
    "duration": 1778,
    "start_time": "2021-08-01T14:27:35.497Z"
   },
   {
    "duration": 215,
    "start_time": "2021-08-01T14:27:39.619Z"
   },
   {
    "duration": 424,
    "start_time": "2021-08-01T14:27:40.643Z"
   },
   {
    "duration": 3043,
    "start_time": "2021-08-01T14:27:43.737Z"
   },
   {
    "duration": 1481,
    "start_time": "2021-08-01T14:27:46.783Z"
   },
   {
    "duration": 761,
    "start_time": "2021-08-01T14:27:48.268Z"
   },
   {
    "duration": 33,
    "start_time": "2021-08-01T14:27:49.032Z"
   },
   {
    "duration": 56,
    "start_time": "2021-08-01T14:27:49.067Z"
   },
   {
    "duration": 58,
    "start_time": "2021-08-01T14:27:49.754Z"
   },
   {
    "duration": 3552,
    "start_time": "2021-08-01T14:27:54.421Z"
   },
   {
    "duration": 10,
    "start_time": "2021-08-01T14:27:58.023Z"
   },
   {
    "duration": 2616,
    "start_time": "2021-08-01T14:27:59.180Z"
   },
   {
    "duration": 299,
    "start_time": "2021-08-01T14:28:01.888Z"
   },
   {
    "duration": 119202,
    "start_time": "2021-08-01T14:28:02.191Z"
   },
   {
    "duration": 13650,
    "start_time": "2021-08-01T14:30:01.397Z"
   },
   {
    "duration": 138,
    "start_time": "2021-08-01T14:30:15.050Z"
   },
   {
    "duration": 666,
    "start_time": "2021-08-01T14:32:07.996Z"
   },
   {
    "duration": 10,
    "start_time": "2021-08-01T14:34:08.430Z"
   },
   {
    "duration": 1092,
    "start_time": "2021-08-01T14:34:13.980Z"
   },
   {
    "duration": 2129,
    "start_time": "2021-08-01T14:34:39.058Z"
   },
   {
    "duration": 52,
    "start_time": "2021-08-01T14:34:43.835Z"
   },
   {
    "duration": 108989,
    "start_time": "2021-08-01T14:34:49.934Z"
   },
   {
    "duration": 12180,
    "start_time": "2021-08-01T14:36:38.925Z"
   },
   {
    "duration": 17118,
    "start_time": "2021-08-01T14:37:02.337Z"
   },
   {
    "duration": 9053,
    "start_time": "2021-08-01T14:37:23.702Z"
   },
   {
    "duration": 7263,
    "start_time": "2021-08-01T14:37:37.893Z"
   },
   {
    "duration": 6069,
    "start_time": "2021-08-01T14:37:50.512Z"
   },
   {
    "duration": 8818,
    "start_time": "2021-08-01T14:38:00.891Z"
   },
   {
    "duration": 4634,
    "start_time": "2021-08-01T14:38:16.330Z"
   },
   {
    "duration": 4447,
    "start_time": "2021-08-01T14:38:27.018Z"
   },
   {
    "duration": 8141,
    "start_time": "2021-08-01T14:38:44.464Z"
   },
   {
    "duration": 6495,
    "start_time": "2021-08-01T14:39:05.657Z"
   },
   {
    "duration": 5395,
    "start_time": "2021-08-01T14:39:18.795Z"
   },
   {
    "duration": 5385,
    "start_time": "2021-08-01T14:39:49.949Z"
   },
   {
    "duration": 5370,
    "start_time": "2021-08-01T14:40:04.195Z"
   },
   {
    "duration": 6470,
    "start_time": "2021-08-01T14:40:14.000Z"
   },
   {
    "duration": 5276,
    "start_time": "2021-08-01T14:40:27.192Z"
   },
   {
    "duration": 4578,
    "start_time": "2021-08-01T14:40:54.479Z"
   },
   {
    "duration": 16914,
    "start_time": "2021-08-01T14:41:04.532Z"
   },
   {
    "duration": 31739,
    "start_time": "2021-08-01T14:41:29.684Z"
   },
   {
    "duration": 39909,
    "start_time": "2021-08-01T14:42:08.054Z"
   },
   {
    "duration": 49034,
    "start_time": "2021-08-01T14:42:59.896Z"
   },
   {
    "duration": 592,
    "start_time": "2021-08-01T14:44:03.353Z"
   },
   {
    "duration": 75465,
    "start_time": "2021-08-01T14:44:22.040Z"
   },
   {
    "duration": 102091,
    "start_time": "2021-08-01T14:48:53.799Z"
   },
   {
    "duration": 59083,
    "start_time": "2021-08-01T14:50:43.039Z"
   },
   {
    "duration": 46554,
    "start_time": "2021-08-01T14:51:55.201Z"
   },
   {
    "duration": 76862,
    "start_time": "2021-08-01T14:53:19.123Z"
   },
   {
    "duration": 94256,
    "start_time": "2021-08-01T14:55:05.241Z"
   },
   {
    "duration": 29461,
    "start_time": "2021-08-01T14:57:16.419Z"
   },
   {
    "duration": 2056,
    "start_time": "2021-08-01T14:57:51.290Z"
   },
   {
    "duration": 180,
    "start_time": "2021-08-01T14:57:58.719Z"
   },
   {
    "duration": 11,
    "start_time": "2021-08-01T14:58:20.712Z"
   },
   {
    "duration": 2227,
    "start_time": "2021-08-01T14:58:24.161Z"
   },
   {
    "duration": 61,
    "start_time": "2021-08-01T14:59:00.231Z"
   },
   {
    "duration": 121186,
    "start_time": "2021-08-01T14:59:05.444Z"
   },
   {
    "duration": 708,
    "start_time": "2021-08-01T15:01:46.829Z"
   }
  ],
  "kernelspec": {
   "display_name": "Python 3 (ipykernel)",
   "language": "python",
   "name": "python3"
  },
  "language_info": {
   "codemirror_mode": {
    "name": "ipython",
    "version": 3
   },
   "file_extension": ".py",
   "mimetype": "text/x-python",
   "name": "python",
   "nbconvert_exporter": "python",
   "pygments_lexer": "ipython3",
   "version": "3.9.5"
  },
  "toc": {
   "base_numbering": 1,
   "nav_menu": {},
   "number_sections": true,
   "sideBar": true,
   "skip_h1_title": true,
   "title_cell": "Table of Contents",
   "title_sidebar": "Contents",
   "toc_cell": false,
   "toc_position": {},
   "toc_section_display": true,
   "toc_window_display": true
  }
 },
 "nbformat": 4,
 "nbformat_minor": 2
}
