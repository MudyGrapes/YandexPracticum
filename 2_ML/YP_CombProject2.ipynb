{
 "cells": [
  {
   "cell_type": "markdown",
   "metadata": {},
   "source": [
    "<div style=\"background: #cceeaa; padding: 5px; border: 1px solid green; border-radius: 5px;\">\n",
    "    <font color='green'> <b><u>КОММЕНТАРИЙ РЕВЬЮЕРА</u></b>\n",
    "\n",
    "Дмитрий, доброго дня! рад приветствовать тебя вновь) <br />\n",
    "(а дальше шаболонная обязательная часть, как ты заметил по другим спринтам)\n",
    "<br />\n",
    "Меня зовут Николай Шавлюго. <br />И на этом этапе твоего движения к новой профессии от меня будут комментарии по написанному коду. <br />Чтобы меньше \"мусорить эфир\" и чтобы максимально наглядно отделяться от основного кода, есть предложение условиться в некоторых обозначениях:<br /> <br />\n",
    "<u><b>ТАКОЙ ШРИФТ</b></u> - всегда начало комментария <br />\n",
    "<font color='green'>такой шрифт</font> - комментарии о том, что всё ОК <br/>\n",
    "<font color='orange'>такой шрифт</font> - комментарии о том, что всё ОК по результату,<br> однако есть на что обратить внимание в плане применения техник, или есть способы сделать более короткий или быстрый код <br/>\n",
    "<font color='red'>такой шрифт</font> - комментарии о том, что есть критичный момент, влияющий на бизнес-результат проекта.<br/>\n",
    "</font><br /><br />\n",
    "<font color='green'>Моей целью является не \"уличить\" в не знании, а просто высказать сверху твоих знаний - свой опыт, что бы ты мог использовать его для своего дальнейшего успеха) И очень здорово будет, если тебе удастся задавать вопросы, да и вообще - всячески доставать меня, если я по каким-то причинам не приму проект:) При этом, из своего опыта скажу, хорошо и важно, когда переписка ревьюера и студента - сохраняется на следующие проекты и даже на будущую практическую деятельность.<br>\n",
    "<BR> В ПУТЬ!<br>\n",
    "    </div>"
   ]
  },
  {
   "cell_type": "markdown",
   "metadata": {},
   "source": [
    "<div class=\"alert alert-info\">\n",
    "Доброго дня, Николай!\n",
    "    \n",
    "Спасибо за ревью! Критичные моменты поправил\n",
    "    \n",
    "</div>"
   ]
  },
  {
   "cell_type": "markdown",
   "metadata": {},
   "source": [
    "<div style=\"background: #cceeaa; padding: 5px; border: 1px solid green; border-radius: 5px;\">\n",
    "<font color='green'> \n",
    "<u>КОММЕНТАРИЙ РЕВЬЮЕРА 2</u>\n",
    "<font color='green'><br>Привет, Дмитрий! Спасибо) Пошёл смотреть...\n",
    "    </div>"
   ]
  },
  {
   "cell_type": "markdown",
   "metadata": {
    "toc": true
   },
   "source": [
    "<h1>Содержание<span class=\"tocSkip\"></span></h1>\n",
    "<div class=\"toc\"><ul class=\"toc-item\"><li><span><a href=\"#Подготовка-данных\" data-toc-modified-id=\"Подготовка-данных-1\"><span class=\"toc-item-num\">1&nbsp;&nbsp;</span>Подготовка данных</a></span><ul class=\"toc-item\"><li><span><a href=\"#Изучение-данных\" data-toc-modified-id=\"Изучение-данных-1.1\"><span class=\"toc-item-num\">1.1&nbsp;&nbsp;</span>Изучение данных</a></span></li><li><span><a href=\"#Проверка-расчета-rougher.output.recovery\" data-toc-modified-id=\"Проверка-расчета-rougher.output.recovery-1.2\"><span class=\"toc-item-num\">1.2&nbsp;&nbsp;</span>Проверка расчета <em>rougher.output.recovery</em></a></span></li><li><span><a href=\"#Признаки,-недоступные-в-тестовой-выборке\" data-toc-modified-id=\"Признаки,-недоступные-в-тестовой-выборке-1.3\"><span class=\"toc-item-num\">1.3&nbsp;&nbsp;</span>Признаки, недоступные в тестовой выборке</a></span></li><li><span><a href=\"#Предобработка-данных\" data-toc-modified-id=\"Предобработка-данных-1.4\"><span class=\"toc-item-num\">1.4&nbsp;&nbsp;</span>Предобработка данных</a></span></li></ul></li><li><span><a href=\"#Анализ-данных\" data-toc-modified-id=\"Анализ-данных-2\"><span class=\"toc-item-num\">2&nbsp;&nbsp;</span>Анализ данных</a></span><ul class=\"toc-item\"><li><span><a href=\"#Изменение-концентрации-металлов\" data-toc-modified-id=\"Изменение-концентрации-металлов-2.1\"><span class=\"toc-item-num\">2.1&nbsp;&nbsp;</span>Изменение концентрации металлов</a></span></li><li><span><a href=\"#Распределение-размеров-гранул\" data-toc-modified-id=\"Распределение-размеров-гранул-2.2\"><span class=\"toc-item-num\">2.2&nbsp;&nbsp;</span>Распределение размеров гранул</a></span></li><li><span><a href=\"#Суммарная-концентрация\" data-toc-modified-id=\"Суммарная-концентрация-2.3\"><span class=\"toc-item-num\">2.3&nbsp;&nbsp;</span>Суммарная концентрация</a></span></li></ul></li><li><span><a href=\"#Модель\" data-toc-modified-id=\"Модель-3\"><span class=\"toc-item-num\">3&nbsp;&nbsp;</span>Модель</a></span><ul class=\"toc-item\"><li><span><a href=\"#Функции-для-расчета-sMAPE-и-итоговой-sMAPE\" data-toc-modified-id=\"Функции-для-расчета-sMAPE-и-итоговой-sMAPE-3.1\"><span class=\"toc-item-num\">3.1&nbsp;&nbsp;</span>Функции для расчета sMAPE и итоговой sMAPE</a></span></li><li><span><a href=\"#Подбор-оптимальных-параметров-модели\" data-toc-modified-id=\"Подбор-оптимальных-параметров-модели-3.2\"><span class=\"toc-item-num\">3.2&nbsp;&nbsp;</span>Подбор оптимальных параметров модели</a></span></li></ul></li><li><span><a href=\"#Общий-вывод\" data-toc-modified-id=\"Общий-вывод-4\"><span class=\"toc-item-num\">4&nbsp;&nbsp;</span>Общий вывод</a></span></li><li><span><a href=\"#Чек-лист-готовности-проекта\" data-toc-modified-id=\"Чек-лист-готовности-проекта-5\"><span class=\"toc-item-num\">5&nbsp;&nbsp;</span>Чек-лист готовности проекта</a></span></li></ul></div>"
   ]
  },
  {
   "cell_type": "markdown",
   "metadata": {},
   "source": [
    "# Восстановление золота из руды"
   ]
  },
  {
   "cell_type": "markdown",
   "metadata": {},
   "source": [
    "Подготовьте прототип модели машинного обучения для «Цифры». Компания разрабатывает решения для эффективной работы промышленных предприятий.\n",
    "\n",
    "Модель должна предсказать коэффициент восстановления золота из золотосодержащей руды. Используйте данные с параметрами добычи и очистки. \n",
    "\n",
    "Модель поможет оптимизировать производство, чтобы не запускать предприятие с убыточными характеристиками.\n",
    "\n",
    "Вам нужно:\n",
    "\n",
    "1. Подготовить данные;\n",
    "2. Провести исследовательский анализ данных;\n",
    "3. Построить и обучить модель.\n",
    "\n",
    "Чтобы выполнить проект, обращайтесь к библиотекам *pandas*, *matplotlib* и *sklearn.* Вам поможет их документация."
   ]
  },
  {
   "cell_type": "markdown",
   "metadata": {},
   "source": [
    "## Подготовка данных"
   ]
  },
  {
   "cell_type": "markdown",
   "metadata": {},
   "source": [
    "* Забегая вперед отметим что данные представляют из себя три таблицы\n",
    "* Обучающая выборка: 87 столбцов, 16860 строк\n",
    "* Тестовая выборка: 53 столбцов, 5856 строк\n",
    "* Генеральная свокупность: 87 столбцов, 22716 строк\n",
    "* Пропуски отсутствуют только в столбцах `data` и `primary_cleaner.input.feed_size`\n",
    "* Данные за период с 2016-01-15 по 2018-08-18\n",
    "* Названия столбцов громоздкие, но регулярные. Можно сократить"
   ]
  },
  {
   "cell_type": "markdown",
   "metadata": {},
   "source": [
    "### Изучение данных"
   ]
  },
  {
   "cell_type": "code",
   "execution_count": 1,
   "metadata": {},
   "outputs": [],
   "source": [
    "import pandas as pd\n",
    "import matplotlib.pyplot as plt\n",
    "import numpy as np\n",
    "import seaborn as sns\n",
    "from datetime import datetime\n",
    "from sklearn.metrics import mean_absolute_error\n",
    "from sklearn.linear_model import LinearRegression\n",
    "from sklearn.ensemble import RandomForestRegressor\n",
    "from sklearn.model_selection import cross_val_score\n",
    "from sklearn.metrics import mean_absolute_error as MAE\n",
    "from sklearn.metrics import mean_squared_error as MSE\n",
    "from sklearn.metrics.scorer import make_scorer\n",
    "import warnings\n",
    "warnings.simplefilter('ignore')"
   ]
  },
  {
   "cell_type": "code",
   "execution_count": 2,
   "metadata": {},
   "outputs": [],
   "source": [
    "df_train = pd.read_csv('/datasets/gold_recovery_train.csv')\n",
    "df_test = pd.read_csv('/datasets/gold_recovery_test.csv')\n",
    "df_full = pd.read_csv('/datasets/gold_recovery_full.csv')"
   ]
  },
  {
   "cell_type": "code",
   "execution_count": 3,
   "metadata": {
    "scrolled": false
   },
   "outputs": [
    {
     "name": "stdout",
     "output_type": "stream",
     "text": [
      "<class 'pandas.core.frame.DataFrame'>\n",
      "RangeIndex: 16860 entries, 0 to 16859\n",
      "Data columns (total 87 columns):\n",
      "date                                                  16860 non-null object\n",
      "final.output.concentrate_ag                           16788 non-null float64\n",
      "final.output.concentrate_pb                           16788 non-null float64\n",
      "final.output.concentrate_sol                          16490 non-null float64\n",
      "final.output.concentrate_au                           16789 non-null float64\n",
      "final.output.recovery                                 15339 non-null float64\n",
      "final.output.tail_ag                                  16794 non-null float64\n",
      "final.output.tail_pb                                  16677 non-null float64\n",
      "final.output.tail_sol                                 16715 non-null float64\n",
      "final.output.tail_au                                  16794 non-null float64\n",
      "primary_cleaner.input.sulfate                         15553 non-null float64\n",
      "primary_cleaner.input.depressant                      15598 non-null float64\n",
      "primary_cleaner.input.feed_size                       16860 non-null float64\n",
      "primary_cleaner.input.xanthate                        15875 non-null float64\n",
      "primary_cleaner.output.concentrate_ag                 16778 non-null float64\n",
      "primary_cleaner.output.concentrate_pb                 16502 non-null float64\n",
      "primary_cleaner.output.concentrate_sol                16224 non-null float64\n",
      "primary_cleaner.output.concentrate_au                 16778 non-null float64\n",
      "primary_cleaner.output.tail_ag                        16777 non-null float64\n",
      "primary_cleaner.output.tail_pb                        16761 non-null float64\n",
      "primary_cleaner.output.tail_sol                       16579 non-null float64\n",
      "primary_cleaner.output.tail_au                        16777 non-null float64\n",
      "primary_cleaner.state.floatbank8_a_air                16820 non-null float64\n",
      "primary_cleaner.state.floatbank8_a_level              16827 non-null float64\n",
      "primary_cleaner.state.floatbank8_b_air                16820 non-null float64\n",
      "primary_cleaner.state.floatbank8_b_level              16833 non-null float64\n",
      "primary_cleaner.state.floatbank8_c_air                16822 non-null float64\n",
      "primary_cleaner.state.floatbank8_c_level              16833 non-null float64\n",
      "primary_cleaner.state.floatbank8_d_air                16821 non-null float64\n",
      "primary_cleaner.state.floatbank8_d_level              16833 non-null float64\n",
      "rougher.calculation.sulfate_to_au_concentrate         16833 non-null float64\n",
      "rougher.calculation.floatbank10_sulfate_to_au_feed    16833 non-null float64\n",
      "rougher.calculation.floatbank11_sulfate_to_au_feed    16833 non-null float64\n",
      "rougher.calculation.au_pb_ratio                       15618 non-null float64\n",
      "rougher.input.feed_ag                                 16778 non-null float64\n",
      "rougher.input.feed_pb                                 16632 non-null float64\n",
      "rougher.input.feed_rate                               16347 non-null float64\n",
      "rougher.input.feed_size                               16443 non-null float64\n",
      "rougher.input.feed_sol                                16568 non-null float64\n",
      "rougher.input.feed_au                                 16777 non-null float64\n",
      "rougher.input.floatbank10_sulfate                     15816 non-null float64\n",
      "rougher.input.floatbank10_xanthate                    16514 non-null float64\n",
      "rougher.input.floatbank11_sulfate                     16237 non-null float64\n",
      "rougher.input.floatbank11_xanthate                    14956 non-null float64\n",
      "rougher.output.concentrate_ag                         16778 non-null float64\n",
      "rougher.output.concentrate_pb                         16778 non-null float64\n",
      "rougher.output.concentrate_sol                        16698 non-null float64\n",
      "rougher.output.concentrate_au                         16778 non-null float64\n",
      "rougher.output.recovery                               14287 non-null float64\n",
      "rougher.output.tail_ag                                14610 non-null float64\n",
      "rougher.output.tail_pb                                16778 non-null float64\n",
      "rougher.output.tail_sol                               14611 non-null float64\n",
      "rougher.output.tail_au                                14611 non-null float64\n",
      "rougher.state.floatbank10_a_air                       16807 non-null float64\n",
      "rougher.state.floatbank10_a_level                     16807 non-null float64\n",
      "rougher.state.floatbank10_b_air                       16807 non-null float64\n",
      "rougher.state.floatbank10_b_level                     16807 non-null float64\n",
      "rougher.state.floatbank10_c_air                       16807 non-null float64\n",
      "rougher.state.floatbank10_c_level                     16814 non-null float64\n",
      "rougher.state.floatbank10_d_air                       16802 non-null float64\n",
      "rougher.state.floatbank10_d_level                     16809 non-null float64\n",
      "rougher.state.floatbank10_e_air                       16257 non-null float64\n",
      "rougher.state.floatbank10_e_level                     16809 non-null float64\n",
      "rougher.state.floatbank10_f_air                       16802 non-null float64\n",
      "rougher.state.floatbank10_f_level                     16802 non-null float64\n",
      "secondary_cleaner.output.tail_ag                      16776 non-null float64\n",
      "secondary_cleaner.output.tail_pb                      16764 non-null float64\n",
      "secondary_cleaner.output.tail_sol                     14874 non-null float64\n",
      "secondary_cleaner.output.tail_au                      16778 non-null float64\n",
      "secondary_cleaner.state.floatbank2_a_air              16497 non-null float64\n",
      "secondary_cleaner.state.floatbank2_a_level            16751 non-null float64\n",
      "secondary_cleaner.state.floatbank2_b_air              16705 non-null float64\n",
      "secondary_cleaner.state.floatbank2_b_level            16748 non-null float64\n",
      "secondary_cleaner.state.floatbank3_a_air              16763 non-null float64\n",
      "secondary_cleaner.state.floatbank3_a_level            16747 non-null float64\n",
      "secondary_cleaner.state.floatbank3_b_air              16752 non-null float64\n",
      "secondary_cleaner.state.floatbank3_b_level            16750 non-null float64\n",
      "secondary_cleaner.state.floatbank4_a_air              16731 non-null float64\n",
      "secondary_cleaner.state.floatbank4_a_level            16747 non-null float64\n",
      "secondary_cleaner.state.floatbank4_b_air              16768 non-null float64\n",
      "secondary_cleaner.state.floatbank4_b_level            16767 non-null float64\n",
      "secondary_cleaner.state.floatbank5_a_air              16775 non-null float64\n",
      "secondary_cleaner.state.floatbank5_a_level            16775 non-null float64\n",
      "secondary_cleaner.state.floatbank5_b_air              16775 non-null float64\n",
      "secondary_cleaner.state.floatbank5_b_level            16776 non-null float64\n",
      "secondary_cleaner.state.floatbank6_a_air              16757 non-null float64\n",
      "secondary_cleaner.state.floatbank6_a_level            16775 non-null float64\n",
      "dtypes: float64(86), object(1)\n",
      "memory usage: 11.2+ MB\n",
      "None\n",
      "<class 'pandas.core.frame.DataFrame'>\n",
      "RangeIndex: 5856 entries, 0 to 5855\n",
      "Data columns (total 53 columns):\n",
      "date                                          5856 non-null object\n",
      "primary_cleaner.input.sulfate                 5554 non-null float64\n",
      "primary_cleaner.input.depressant              5572 non-null float64\n",
      "primary_cleaner.input.feed_size               5856 non-null float64\n",
      "primary_cleaner.input.xanthate                5690 non-null float64\n",
      "primary_cleaner.state.floatbank8_a_air        5840 non-null float64\n",
      "primary_cleaner.state.floatbank8_a_level      5840 non-null float64\n",
      "primary_cleaner.state.floatbank8_b_air        5840 non-null float64\n",
      "primary_cleaner.state.floatbank8_b_level      5840 non-null float64\n",
      "primary_cleaner.state.floatbank8_c_air        5840 non-null float64\n",
      "primary_cleaner.state.floatbank8_c_level      5840 non-null float64\n",
      "primary_cleaner.state.floatbank8_d_air        5840 non-null float64\n",
      "primary_cleaner.state.floatbank8_d_level      5840 non-null float64\n",
      "rougher.input.feed_ag                         5840 non-null float64\n",
      "rougher.input.feed_pb                         5840 non-null float64\n",
      "rougher.input.feed_rate                       5816 non-null float64\n",
      "rougher.input.feed_size                       5834 non-null float64\n",
      "rougher.input.feed_sol                        5789 non-null float64\n",
      "rougher.input.feed_au                         5840 non-null float64\n",
      "rougher.input.floatbank10_sulfate             5599 non-null float64\n",
      "rougher.input.floatbank10_xanthate            5733 non-null float64\n",
      "rougher.input.floatbank11_sulfate             5801 non-null float64\n",
      "rougher.input.floatbank11_xanthate            5503 non-null float64\n",
      "rougher.state.floatbank10_a_air               5839 non-null float64\n",
      "rougher.state.floatbank10_a_level             5840 non-null float64\n",
      "rougher.state.floatbank10_b_air               5839 non-null float64\n",
      "rougher.state.floatbank10_b_level             5840 non-null float64\n",
      "rougher.state.floatbank10_c_air               5839 non-null float64\n",
      "rougher.state.floatbank10_c_level             5840 non-null float64\n",
      "rougher.state.floatbank10_d_air               5839 non-null float64\n",
      "rougher.state.floatbank10_d_level             5840 non-null float64\n",
      "rougher.state.floatbank10_e_air               5839 non-null float64\n",
      "rougher.state.floatbank10_e_level             5840 non-null float64\n",
      "rougher.state.floatbank10_f_air               5839 non-null float64\n",
      "rougher.state.floatbank10_f_level             5840 non-null float64\n",
      "secondary_cleaner.state.floatbank2_a_air      5836 non-null float64\n",
      "secondary_cleaner.state.floatbank2_a_level    5840 non-null float64\n",
      "secondary_cleaner.state.floatbank2_b_air      5833 non-null float64\n",
      "secondary_cleaner.state.floatbank2_b_level    5840 non-null float64\n",
      "secondary_cleaner.state.floatbank3_a_air      5822 non-null float64\n",
      "secondary_cleaner.state.floatbank3_a_level    5840 non-null float64\n",
      "secondary_cleaner.state.floatbank3_b_air      5840 non-null float64\n",
      "secondary_cleaner.state.floatbank3_b_level    5840 non-null float64\n",
      "secondary_cleaner.state.floatbank4_a_air      5840 non-null float64\n",
      "secondary_cleaner.state.floatbank4_a_level    5840 non-null float64\n",
      "secondary_cleaner.state.floatbank4_b_air      5840 non-null float64\n",
      "secondary_cleaner.state.floatbank4_b_level    5840 non-null float64\n",
      "secondary_cleaner.state.floatbank5_a_air      5840 non-null float64\n",
      "secondary_cleaner.state.floatbank5_a_level    5840 non-null float64\n",
      "secondary_cleaner.state.floatbank5_b_air      5840 non-null float64\n",
      "secondary_cleaner.state.floatbank5_b_level    5840 non-null float64\n",
      "secondary_cleaner.state.floatbank6_a_air      5840 non-null float64\n",
      "secondary_cleaner.state.floatbank6_a_level    5840 non-null float64\n",
      "dtypes: float64(52), object(1)\n",
      "memory usage: 2.4+ MB\n",
      "None\n",
      "<class 'pandas.core.frame.DataFrame'>\n",
      "RangeIndex: 22716 entries, 0 to 22715\n",
      "Data columns (total 87 columns):\n",
      "date                                                  22716 non-null object\n",
      "final.output.concentrate_ag                           22627 non-null float64\n",
      "final.output.concentrate_pb                           22629 non-null float64\n",
      "final.output.concentrate_sol                          22331 non-null float64\n",
      "final.output.concentrate_au                           22630 non-null float64\n",
      "final.output.recovery                                 20753 non-null float64\n",
      "final.output.tail_ag                                  22633 non-null float64\n",
      "final.output.tail_pb                                  22516 non-null float64\n",
      "final.output.tail_sol                                 22445 non-null float64\n",
      "final.output.tail_au                                  22635 non-null float64\n",
      "primary_cleaner.input.sulfate                         21107 non-null float64\n",
      "primary_cleaner.input.depressant                      21170 non-null float64\n",
      "primary_cleaner.input.feed_size                       22716 non-null float64\n",
      "primary_cleaner.input.xanthate                        21565 non-null float64\n",
      "primary_cleaner.output.concentrate_ag                 22618 non-null float64\n",
      "primary_cleaner.output.concentrate_pb                 22268 non-null float64\n",
      "primary_cleaner.output.concentrate_sol                21918 non-null float64\n",
      "primary_cleaner.output.concentrate_au                 22618 non-null float64\n",
      "primary_cleaner.output.tail_ag                        22614 non-null float64\n",
      "primary_cleaner.output.tail_pb                        22594 non-null float64\n",
      "primary_cleaner.output.tail_sol                       22365 non-null float64\n",
      "primary_cleaner.output.tail_au                        22617 non-null float64\n",
      "primary_cleaner.state.floatbank8_a_air                22660 non-null float64\n",
      "primary_cleaner.state.floatbank8_a_level              22667 non-null float64\n",
      "primary_cleaner.state.floatbank8_b_air                22660 non-null float64\n",
      "primary_cleaner.state.floatbank8_b_level              22673 non-null float64\n",
      "primary_cleaner.state.floatbank8_c_air                22662 non-null float64\n",
      "primary_cleaner.state.floatbank8_c_level              22673 non-null float64\n",
      "primary_cleaner.state.floatbank8_d_air                22661 non-null float64\n",
      "primary_cleaner.state.floatbank8_d_level              22673 non-null float64\n",
      "rougher.calculation.sulfate_to_au_concentrate         22672 non-null float64\n",
      "rougher.calculation.floatbank10_sulfate_to_au_feed    22672 non-null float64\n",
      "rougher.calculation.floatbank11_sulfate_to_au_feed    22672 non-null float64\n",
      "rougher.calculation.au_pb_ratio                       21089 non-null float64\n",
      "rougher.input.feed_ag                                 22618 non-null float64\n",
      "rougher.input.feed_pb                                 22472 non-null float64\n",
      "rougher.input.feed_rate                               22163 non-null float64\n",
      "rougher.input.feed_size                               22277 non-null float64\n",
      "rougher.input.feed_sol                                22357 non-null float64\n",
      "rougher.input.feed_au                                 22617 non-null float64\n",
      "rougher.input.floatbank10_sulfate                     21415 non-null float64\n",
      "rougher.input.floatbank10_xanthate                    22247 non-null float64\n",
      "rougher.input.floatbank11_sulfate                     22038 non-null float64\n",
      "rougher.input.floatbank11_xanthate                    20459 non-null float64\n",
      "rougher.output.concentrate_ag                         22618 non-null float64\n",
      "rougher.output.concentrate_pb                         22618 non-null float64\n",
      "rougher.output.concentrate_sol                        22526 non-null float64\n",
      "rougher.output.concentrate_au                         22618 non-null float64\n",
      "rougher.output.recovery                               19597 non-null float64\n",
      "rougher.output.tail_ag                                19979 non-null float64\n",
      "rougher.output.tail_pb                                22618 non-null float64\n",
      "rougher.output.tail_sol                               19980 non-null float64\n",
      "rougher.output.tail_au                                19980 non-null float64\n",
      "rougher.state.floatbank10_a_air                       22646 non-null float64\n",
      "rougher.state.floatbank10_a_level                     22647 non-null float64\n",
      "rougher.state.floatbank10_b_air                       22646 non-null float64\n",
      "rougher.state.floatbank10_b_level                     22647 non-null float64\n",
      "rougher.state.floatbank10_c_air                       22646 non-null float64\n",
      "rougher.state.floatbank10_c_level                     22654 non-null float64\n",
      "rougher.state.floatbank10_d_air                       22641 non-null float64\n",
      "rougher.state.floatbank10_d_level                     22649 non-null float64\n",
      "rougher.state.floatbank10_e_air                       22096 non-null float64\n",
      "rougher.state.floatbank10_e_level                     22649 non-null float64\n",
      "rougher.state.floatbank10_f_air                       22641 non-null float64\n",
      "rougher.state.floatbank10_f_level                     22642 non-null float64\n",
      "secondary_cleaner.output.tail_ag                      22616 non-null float64\n",
      "secondary_cleaner.output.tail_pb                      22600 non-null float64\n",
      "secondary_cleaner.output.tail_sol                     20501 non-null float64\n",
      "secondary_cleaner.output.tail_au                      22618 non-null float64\n",
      "secondary_cleaner.state.floatbank2_a_air              22333 non-null float64\n",
      "secondary_cleaner.state.floatbank2_a_level            22591 non-null float64\n",
      "secondary_cleaner.state.floatbank2_b_air              22538 non-null float64\n",
      "secondary_cleaner.state.floatbank2_b_level            22588 non-null float64\n",
      "secondary_cleaner.state.floatbank3_a_air              22585 non-null float64\n",
      "secondary_cleaner.state.floatbank3_a_level            22587 non-null float64\n",
      "secondary_cleaner.state.floatbank3_b_air              22592 non-null float64\n",
      "secondary_cleaner.state.floatbank3_b_level            22590 non-null float64\n",
      "secondary_cleaner.state.floatbank4_a_air              22571 non-null float64\n",
      "secondary_cleaner.state.floatbank4_a_level            22587 non-null float64\n",
      "secondary_cleaner.state.floatbank4_b_air              22608 non-null float64\n",
      "secondary_cleaner.state.floatbank4_b_level            22607 non-null float64\n",
      "secondary_cleaner.state.floatbank5_a_air              22615 non-null float64\n",
      "secondary_cleaner.state.floatbank5_a_level            22615 non-null float64\n",
      "secondary_cleaner.state.floatbank5_b_air              22615 non-null float64\n",
      "secondary_cleaner.state.floatbank5_b_level            22616 non-null float64\n",
      "secondary_cleaner.state.floatbank6_a_air              22597 non-null float64\n",
      "secondary_cleaner.state.floatbank6_a_level            22615 non-null float64\n",
      "dtypes: float64(86), object(1)\n",
      "memory usage: 15.1+ MB\n",
      "None\n",
      "count                   22716\n",
      "unique                  22716\n",
      "top       2017-10-18 12:59:59\n",
      "freq                        1\n",
      "first     2016-01-15 00:00:00\n",
      "last      2018-08-18 10:59:59\n",
      "Name: date, dtype: object\n"
     ]
    }
   ],
   "source": [
    "print(df_train.info())\n",
    "print(df_test.info())\n",
    "print(df_full.info())\n",
    "\n",
    "df_full['date'] = pd.to_datetime(df_full['date'])\n",
    "print(df_full['date'].describe())"
   ]
  },
  {
   "cell_type": "markdown",
   "metadata": {},
   "source": [
    "<div style=\"background: #cceeaa; padding: 5px; border: 1px solid green; border-radius: 5px;\">\n",
    "    <font color='green'> <b><u>КОММЕНТАРИЙ РЕВЬЮЕРА</u></b>\n",
    "</font>\n",
    "<font color='green'><br>ОК, данные на базе)\n",
    "    </div>"
   ]
  },
  {
   "cell_type": "markdown",
   "metadata": {},
   "source": [
    "### Проверка расчета *rougher.output.recovery*"
   ]
  },
  {
   "cell_type": "code",
   "execution_count": 4,
   "metadata": {
    "scrolled": true
   },
   "outputs": [
    {
     "data": {
      "text/plain": [
       "count    14287.000000\n",
       "mean        82.394201\n",
       "std         15.096808\n",
       "min          0.000000\n",
       "25%         79.818372\n",
       "50%         85.235997\n",
       "75%         90.131691\n",
       "max        100.000000\n",
       "Name: rougher.output.recovery, dtype: float64"
      ]
     },
     "metadata": {},
     "output_type": "display_data"
    }
   ],
   "source": [
    "display(df_train['rougher.output.recovery'].describe())"
   ]
  },
  {
   "cell_type": "code",
   "execution_count": 5,
   "metadata": {
    "scrolled": false
   },
   "outputs": [
    {
     "name": "stdout",
     "output_type": "stream",
     "text": [
      "count    1.457700e+04\n",
      "mean              NaN\n",
      "std               NaN\n",
      "min              -inf\n",
      "25%      7.965104e+01\n",
      "50%      8.521533e+01\n",
      "75%      9.019726e+01\n",
      "max               inf\n",
      "Name: rougher_recovery_calculated, dtype: float64\n",
      "count    14287.000000\n",
      "mean        82.394201\n",
      "std         15.096808\n",
      "min         -0.000000\n",
      "25%         79.818372\n",
      "50%         85.235997\n",
      "75%         90.131691\n",
      "max        100.000000\n",
      "Name: rougher_recovery_calculated, dtype: float64\n"
     ]
    }
   ],
   "source": [
    "df_train['rougher_recovery_calculated'] = (df_train['rougher.output.concentrate_au'] *\n",
    "                                          (df_train['rougher.input.feed_au'] - df_train['rougher.output.tail_au'])\n",
    "                                          /\n",
    "                                          df_train['rougher.input.feed_au'] /\n",
    "                                          (df_train['rougher.output.concentrate_au'] - df_train['rougher.output.tail_au'])\n",
    "                                          * 100)\n",
    "print(df_train['rougher_recovery_calculated'].describe())\n",
    "\n",
    "\n",
    "df_train['rougher_recovery_calculated'][(df_train['rougher.output.recovery'].isna())] = np.NaN\n",
    "print(df_train['rougher_recovery_calculated'].describe())\n"
   ]
  },
  {
   "cell_type": "code",
   "execution_count": 6,
   "metadata": {},
   "outputs": [
    {
     "data": {
      "image/png": "[encoded data removed]",
      "text/plain": [
       "<Figure size 432x288 with 1 Axes>"
      ]
     },
     "metadata": {
      "needs_background": "light"
     },
     "output_type": "display_data"
    },
    {
     "data": {
      "image/png": "[encoded data removed]",
      "text/plain": [
       "<Figure size 432x288 with 1 Axes>"
      ]
     },
     "metadata": {
      "needs_background": "light"
     },
     "output_type": "display_data"
    },
    {
     "name": "stdout",
     "output_type": "stream",
     "text": [
      "MAE: 1.0512313043960013e-14\n"
     ]
    },
    {
     "data": {
      "text/plain": [
       "<matplotlib.axes._subplots.AxesSubplot at 0x7fbe54f09c50>"
      ]
     },
     "execution_count": 6,
     "metadata": {},
     "output_type": "execute_result"
    },
    {
     "data": {
      "image/png": "[encoded data removed]",
      "text/plain": [
       "<Figure size 432x288 with 1 Axes>"
      ]
     },
     "metadata": {
      "needs_background": "light"
     },
     "output_type": "display_data"
    }
   ],
   "source": [
    "df_train['rougher.output.recovery'].plot.kde()\n",
    "plt.title('rougher recovery given')\n",
    "plt.show()\n",
    "df_train['rougher_recovery_calculated'].plot.kde()\n",
    "plt.title('rougher recovery calculated')\n",
    "plt.show()\n",
    "print('MAE:', mean_absolute_error(df_train['rougher.output.recovery'].dropna(), \n",
    "                                  df_train['rougher_recovery_calculated'].dropna()))\n",
    "df_train['rougher.output.recovery'].hist(bins=100)"
   ]
  },
  {
   "cell_type": "markdown",
   "metadata": {},
   "source": [
    "* `rougher.output.recovery` имеет бимодальное распределение\n",
    "* Если убрать все пропуски из столбца `rougher.output.recovery`, то как видно из результата метода describe данные распределениы от 0 до 100%. А глядя на график, распределение похоже на нормальное вокруг среднего 82%, которое почти совпадает с медианой 85%. \n",
    "* При расчете `rougher_recovery_calculated` необходимо избежать расчетов для пустых значений оригинального признака, иначе МАЕ неадекватным\n",
    "* МАЕ между расчетным и фактическим значением признака - много меньше единицы\n",
    "* Также по графикам распределения плотности видно, что они совпадают для расчетных и фактических значений. Порядка 300 нулевых значений"
   ]
  },
  {
   "cell_type": "markdown",
   "metadata": {},
   "source": [
    "<div style=\"background: #cceeaa; padding: 5px; border: 1px solid green; border-radius: 5px;\">\n",
    "    <font color='green'> <b><u>КОММЕНТАРИЙ РЕВЬЮЕРА</u></b>\n",
    "</font>\n",
    "<font color='green'><br>отлично, есть контакт!\n",
    "    </div>"
   ]
  },
  {
   "cell_type": "markdown",
   "metadata": {},
   "source": [
    "### Признаки, недоступные в тестовой выборке"
   ]
  },
  {
   "cell_type": "code",
   "execution_count": 7,
   "metadata": {},
   "outputs": [],
   "source": [
    "# Словарь замен названий столбцов\n",
    "def rename_columns(df):\n",
    "    replace_dict = {'final': 'f', \n",
    "                    'primary_cleaner': 'pc', \n",
    "                    'secondary_cleaner': 'sc', \n",
    "                    'rougher': 'r', \n",
    "                    'output': 'o', \n",
    "                    'input': 'i', \n",
    "                    'state': 's', \n",
    "                    'calculation': 'c'}\n",
    "    columns = list(df.columns)\n",
    "    for i, j in replace_dict.items():\n",
    "        columns = [column.replace(i, j) for column in columns]\n",
    "    return columns\n",
    "df_full.columns = rename_columns(df_full)\n",
    "df_train.columns = rename_columns(df_train)\n",
    "df_test.columns = rename_columns(df_test)"
   ]
  },
  {
   "cell_type": "code",
   "execution_count": 8,
   "metadata": {
    "scrolled": true
   },
   "outputs": [
    {
     "name": "stdout",
     "output_type": "stream",
     "text": [
      "0                     f.o.concentrate_ag\n",
      "1                     f.o.concentrate_pb\n",
      "2                    f.o.concentrate_sol\n",
      "3                     f.o.concentrate_au\n",
      "4                           f.o.recovery\n",
      "5                            f.o.tail_ag\n",
      "6                            f.o.tail_pb\n",
      "7                           f.o.tail_sol\n",
      "8                            f.o.tail_au\n",
      "9                    pc.o.concentrate_ag\n",
      "10                   pc.o.concentrate_pb\n",
      "11                  pc.o.concentrate_sol\n",
      "12                   pc.o.concentrate_au\n",
      "13                          pc.o.tail_ag\n",
      "14                          pc.o.tail_pb\n",
      "15                         pc.o.tail_sol\n",
      "16                          pc.o.tail_au\n",
      "17         r.c.sulfate_to_au_concentrate\n",
      "18    r.c.floatbank10_sulfate_to_au_feed\n",
      "19    r.c.floatbank11_sulfate_to_au_feed\n",
      "20                       r.c.au_pb_ratio\n",
      "21                    r.o.concentrate_ag\n",
      "22                    r.o.concentrate_pb\n",
      "23                   r.o.concentrate_sol\n",
      "24                    r.o.concentrate_au\n",
      "25                          r.o.recovery\n",
      "26                           r.o.tail_ag\n",
      "27                           r.o.tail_pb\n",
      "28                          r.o.tail_sol\n",
      "29                           r.o.tail_au\n",
      "30                          sc.o.tail_ag\n",
      "31                          sc.o.tail_pb\n",
      "32                         sc.o.tail_sol\n",
      "33                          sc.o.tail_au\n",
      "34                 r_recovery_calculated\n",
      "dtype: object\n"
     ]
    }
   ],
   "source": [
    "missed_test_features = [i for i in list(df_train.columns) if i not in list(df_test.columns)]\n",
    "print(pd.Series(missed_test_features))"
   ]
  },
  {
   "cell_type": "markdown",
   "metadata": {},
   "source": [
    "* Исходя из списка выше, в тестовую выборку не попали оба целевых признака, а также выходные дынные из всех процессов, по которым можно было бы посчитать эти самые недостающие целевые признаки"
   ]
  },
  {
   "cell_type": "markdown",
   "metadata": {},
   "source": [
    "<div style=\"background: #cceeaa; padding: 5px; border: 1px solid green; border-radius: 5px;\">\n",
    "<font color='green'> \n",
    "<u>КОММЕНТАРИЙ РЕВЬЮЕРА</u>\n",
    "<font color='green'><br>\n",
    "В общем, да, \n",
    "В тестовой выборке недоступны некоторые расчетные (calculation) и выходные (output) характеристики процесса, т.к. их невозможно получить/измерить во время выполнения технологического процесса. \n",
    "    </div>"
   ]
  },
  {
   "cell_type": "markdown",
   "metadata": {},
   "source": [
    "### Предобработка данных"
   ]
  },
  {
   "cell_type": "markdown",
   "metadata": {},
   "source": [
    "Дополним тестовую выборку целевыми признаками"
   ]
  },
  {
   "cell_type": "code",
   "execution_count": 9,
   "metadata": {
    "scrolled": true
   },
   "outputs": [
    {
     "name": "stdout",
     "output_type": "stream",
     "text": [
      "<class 'pandas.core.frame.DataFrame'>\n",
      "Int64Index: 5856 entries, 0 to 5855\n",
      "Data columns (total 87 columns):\n",
      "date                                  5856 non-null datetime64[ns]\n",
      "pc.i.sulfate                          5554 non-null float64\n",
      "pc.i.depressant                       5572 non-null float64\n",
      "pc.i.feed_size                        5856 non-null float64\n",
      "pc.i.xanthate                         5690 non-null float64\n",
      "pc.s.floatbank8_a_air                 5840 non-null float64\n",
      "pc.s.floatbank8_a_level               5840 non-null float64\n",
      "pc.s.floatbank8_b_air                 5840 non-null float64\n",
      "pc.s.floatbank8_b_level               5840 non-null float64\n",
      "pc.s.floatbank8_c_air                 5840 non-null float64\n",
      "pc.s.floatbank8_c_level               5840 non-null float64\n",
      "pc.s.floatbank8_d_air                 5840 non-null float64\n",
      "pc.s.floatbank8_d_level               5840 non-null float64\n",
      "r.i.feed_ag                           5840 non-null float64\n",
      "r.i.feed_pb                           5840 non-null float64\n",
      "r.i.feed_rate                         5816 non-null float64\n",
      "r.i.feed_size                         5834 non-null float64\n",
      "r.i.feed_sol                          5789 non-null float64\n",
      "r.i.feed_au                           5840 non-null float64\n",
      "r.i.floatbank10_sulfate               5599 non-null float64\n",
      "r.i.floatbank10_xanthate              5733 non-null float64\n",
      "r.i.floatbank11_sulfate               5801 non-null float64\n",
      "r.i.floatbank11_xanthate              5503 non-null float64\n",
      "r.s.floatbank10_a_air                 5839 non-null float64\n",
      "r.s.floatbank10_a_level               5840 non-null float64\n",
      "r.s.floatbank10_b_air                 5839 non-null float64\n",
      "r.s.floatbank10_b_level               5840 non-null float64\n",
      "r.s.floatbank10_c_air                 5839 non-null float64\n",
      "r.s.floatbank10_c_level               5840 non-null float64\n",
      "r.s.floatbank10_d_air                 5839 non-null float64\n",
      "r.s.floatbank10_d_level               5840 non-null float64\n",
      "r.s.floatbank10_e_air                 5839 non-null float64\n",
      "r.s.floatbank10_e_level               5840 non-null float64\n",
      "r.s.floatbank10_f_air                 5839 non-null float64\n",
      "r.s.floatbank10_f_level               5840 non-null float64\n",
      "sc.s.floatbank2_a_air                 5836 non-null float64\n",
      "sc.s.floatbank2_a_level               5840 non-null float64\n",
      "sc.s.floatbank2_b_air                 5833 non-null float64\n",
      "sc.s.floatbank2_b_level               5840 non-null float64\n",
      "sc.s.floatbank3_a_air                 5822 non-null float64\n",
      "sc.s.floatbank3_a_level               5840 non-null float64\n",
      "sc.s.floatbank3_b_air                 5840 non-null float64\n",
      "sc.s.floatbank3_b_level               5840 non-null float64\n",
      "sc.s.floatbank4_a_air                 5840 non-null float64\n",
      "sc.s.floatbank4_a_level               5840 non-null float64\n",
      "sc.s.floatbank4_b_air                 5840 non-null float64\n",
      "sc.s.floatbank4_b_level               5840 non-null float64\n",
      "sc.s.floatbank5_a_air                 5840 non-null float64\n",
      "sc.s.floatbank5_a_level               5840 non-null float64\n",
      "sc.s.floatbank5_b_air                 5840 non-null float64\n",
      "sc.s.floatbank5_b_level               5840 non-null float64\n",
      "sc.s.floatbank6_a_air                 5840 non-null float64\n",
      "sc.s.floatbank6_a_level               5840 non-null float64\n",
      "r.o.recovery                          5310 non-null float64\n",
      "f.o.recovery                          5414 non-null float64\n",
      "f.o.concentrate_ag                    5839 non-null float64\n",
      "f.o.concentrate_pb                    5841 non-null float64\n",
      "f.o.concentrate_sol                   5841 non-null float64\n",
      "f.o.concentrate_au                    5841 non-null float64\n",
      "f.o.tail_ag                           5839 non-null float64\n",
      "f.o.tail_pb                           5839 non-null float64\n",
      "f.o.tail_sol                          5730 non-null float64\n",
      "f.o.tail_au                           5841 non-null float64\n",
      "pc.o.concentrate_ag                   5840 non-null float64\n",
      "pc.o.concentrate_pb                   5766 non-null float64\n",
      "pc.o.concentrate_sol                  5694 non-null float64\n",
      "pc.o.concentrate_au                   5840 non-null float64\n",
      "pc.o.tail_ag                          5837 non-null float64\n",
      "pc.o.tail_pb                          5833 non-null float64\n",
      "pc.o.tail_sol                         5786 non-null float64\n",
      "pc.o.tail_au                          5840 non-null float64\n",
      "r.c.sulfate_to_au_concentrate         5839 non-null float64\n",
      "r.c.floatbank10_sulfate_to_au_feed    5839 non-null float64\n",
      "r.c.floatbank11_sulfate_to_au_feed    5839 non-null float64\n",
      "r.c.au_pb_ratio                       5471 non-null float64\n",
      "r.o.concentrate_ag                    5840 non-null float64\n",
      "r.o.concentrate_pb                    5840 non-null float64\n",
      "r.o.concentrate_sol                   5828 non-null float64\n",
      "r.o.concentrate_au                    5840 non-null float64\n",
      "r.o.tail_ag                           5369 non-null float64\n",
      "r.o.tail_pb                           5840 non-null float64\n",
      "r.o.tail_sol                          5369 non-null float64\n",
      "r.o.tail_au                           5369 non-null float64\n",
      "sc.o.tail_ag                          5840 non-null float64\n",
      "sc.o.tail_pb                          5836 non-null float64\n",
      "sc.o.tail_sol                         5627 non-null float64\n",
      "sc.o.tail_au                          5840 non-null float64\n",
      "dtypes: datetime64[ns](1), float64(86)\n",
      "memory usage: 3.9 MB\n",
      "None\n"
     ]
    }
   ],
   "source": [
    "df_test['date'] = pd.to_datetime(df_test['date'])\n",
    "df_train['date'] = pd.to_datetime(df_train['date'])\n",
    "df_test_upd = df_test.merge(df_full[['date'] + ['r.o.recovery', 'f.o.recovery']], how='left', on='date')\n",
    "missed_test_features = [i for i in list(df_full.columns) if i not in list(df_test_upd.columns)]\n",
    "df_test_upd = df_test_upd.merge(df_full[['date'] + missed_test_features], how='left', on='date')\n",
    "print(df_test_upd.info())"
   ]
  },
  {
   "cell_type": "markdown",
   "metadata": {},
   "source": [
    "Проверим признаки на мультиколинеарность. Для этого составим матрицу корреляции, уберем все значения ниже главной диагонали, выключая саму диагональ, и найдем столбцы где кф корреляции больше 0.9. Посмотрим сколько получилось столбцов и дропнем их перед обучением модели"
   ]
  },
  {
   "cell_type": "code",
   "execution_count": 10,
   "metadata": {
    "scrolled": true
   },
   "outputs": [
    {
     "name": "stdout",
     "output_type": "stream",
     "text": [
      "Кол-во столбцов на выброс по мультиколинеарности: 13\n",
      "['pc.s.floatbank8_b_air', 'pc.s.floatbank8_b_level', 'pc.s.floatbank8_c_air', 'pc.s.floatbank8_c_level', 'r.i.feed_au', 'r.i.floatbank11_xanthate', 'r.s.floatbank10_d_air', 'r.s.floatbank10_d_level', 'r.s.floatbank10_e_air', 'r.s.floatbank10_e_level', 'r.s.floatbank10_f_air', 'r.s.floatbank10_f_level', 'r_recovery_calculated']\n"
     ]
    }
   ],
   "source": [
    "corr_matrix = df_train.corr().abs()\n",
    "corr_matrix.drop(['r.o.recovery', 'f.o.recovery'], axis=1, inplace=True)\n",
    "upper = corr_matrix.where(np.triu(np.ones(corr_matrix.shape), k=1).astype(np.bool))\n",
    "to_drop = [column for column in upper.columns if any(upper[column] > 0.9)]\n",
    "print('Кол-во столбцов на выброс по мультиколинеарности:', len(to_drop))\n",
    "print(to_drop)"
   ]
  },
  {
   "cell_type": "markdown",
   "metadata": {},
   "source": []
  },
  {
   "cell_type": "markdown",
   "metadata": {},
   "source": [
    "<div style=\"background: #cceeaa; padding: 5px; border: 1px solid green; border-radius: 5px;\">\n",
    "<font color='green'> \n",
    "<u>КОММЕНТАРИЙ РЕВЬЮЕРА</u>\n",
    "<font color='green'><br>\n",
    "это хорошо, что решаешь проблему мультиколлинеарности!\n",
    "    </div>"
   ]
  },
  {
   "cell_type": "markdown",
   "metadata": {},
   "source": [
    "## Анализ данных"
   ]
  },
  {
   "cell_type": "markdown",
   "metadata": {},
   "source": [
    "### Изменение концентрации металлов"
   ]
  },
  {
   "cell_type": "code",
   "execution_count": 11,
   "metadata": {
    "scrolled": true
   },
   "outputs": [
    {
     "data": {
      "image/png": "[encoded data removed]",
      "text/plain": [
       "<Figure size 864x432 with 1 Axes>"
      ]
     },
     "metadata": {
      "needs_background": "light"
     },
     "output_type": "display_data"
    },
    {
     "data": {
      "image/png": "[encoded data removed]",
      "text/plain": [
       "<Figure size 864x432 with 1 Axes>"
      ]
     },
     "metadata": {
      "needs_background": "light"
     },
     "output_type": "display_data"
    },
    {
     "data": {
      "image/png": "[encoded data removed]",
      "text/plain": [
       "<Figure size 864x432 with 1 Axes>"
      ]
     },
     "metadata": {
      "needs_background": "light"
     },
     "output_type": "display_data"
    },
    {
     "data": {
      "image/png": "[encoded data removed]",
      "text/plain": [
       "<Figure size 864x432 with 1 Axes>"
      ]
     },
     "metadata": {
      "needs_background": "light"
     },
     "output_type": "display_data"
    }
   ],
   "source": [
    "def concentrate_change(metal):\n",
    "    df_full[['r.i.feed_'+metal, \n",
    "             'r.o.concentrate_'+metal, \n",
    "             'pc.o.concentrate_'+metal, \n",
    "             'f.o.concentrate_'+metal]].plot.box(figsize=(12,6))\n",
    "    plt.xticks(rotation=15)\n",
    "    plt.show()\n",
    "concentrate_change('au')    \n",
    "concentrate_change('ag')\n",
    "concentrate_change('pb')\n",
    "concentrate_change('sol')"
   ]
  },
  {
   "cell_type": "markdown",
   "metadata": {},
   "source": [
    "* Ожидаемо растет концентрация золота, т.к. процесс обогащения именно для этого металла\n",
    "* Концетрация серебра снижается после очистки. Следовательно этот металл можно поискать в хвостах\n",
    "* Концентрация свинца растет хоть и с бОльшим чем у золота разбросом\n",
    "* Концентрация раствора падает"
   ]
  },
  {
   "cell_type": "markdown",
   "metadata": {},
   "source": [
    "<div style=\"background: #cceeaa; padding: 5px; border: 1px solid green; border-radius: 5px;\">\n",
    "<font color='green'> \n",
    "<u>КОММЕНТАРИЙ РЕВЬЮЕРА</u>\n",
    "<font color='green'><br>\n",
    "ОК, удобный графический анализ. И видно, что золотишко растёт - и это хорошо, кому-то).<br>\n",
    "а свинец - побочное дитя химических реакций, поэтому не много увеличивается его содержание)\n",
    "    </div>"
   ]
  },
  {
   "cell_type": "markdown",
   "metadata": {},
   "source": [
    "### Распределение размеров гранул"
   ]
  },
  {
   "cell_type": "code",
   "execution_count": 12,
   "metadata": {},
   "outputs": [
    {
     "name": "stdout",
     "output_type": "stream",
     "text": [
      "Обучающая выборка \n",
      "       pc.i.feed_size  r.i.feed_size\n",
      "mean        7.297285      58.676444\n",
      "var         0.383366     572.290349\n",
      "std         0.619166      23.922591\n",
      "Тестовая выборка \n",
      "       pc.i.feed_size  r.i.feed_size\n",
      "mean        7.264651      55.937535\n",
      "var         0.373964     516.391711\n",
      "std         0.611526      22.724254\n"
     ]
    },
    {
     "data": {
      "image/png": "[encoded data removed]",
      "text/plain": [
       "<Figure size 792x432 with 1 Axes>"
      ]
     },
     "metadata": {
      "needs_background": "light"
     },
     "output_type": "display_data"
    },
    {
     "data": {
      "image/png": "[encoded data removed]",
      "text/plain": [
       "<Figure size 792x432 with 1 Axes>"
      ]
     },
     "metadata": {
      "needs_background": "light"
     },
     "output_type": "display_data"
    }
   ],
   "source": [
    "grain_size_columns = [column for column in list(df_full.columns) if 'size' in column]\n",
    "\n",
    "print('Обучающая выборка', '\\n',  df_train[grain_size_columns].agg([np.mean, np.var, np.std]))\n",
    "print('Тестовая выборка', '\\n', df_test[grain_size_columns].agg([np.mean, np.var, np.std]))\n",
    "df_train['pc.i.feed_size'].plot(kind='kde',label='train')\n",
    "df_test['pc.i.feed_size'].plot(kind='kde',title=\"pc.i_grain_size\",label='test',figsize=(11,6))\n",
    "plt.legend(loc=\"upper right\")\n",
    "plt.xlim(0,15)\n",
    "plt.show()\n",
    "df_train['r.i.feed_size'].plot(kind='kde',label='train')\n",
    "df_test['r.i.feed_size'].plot(kind='kde',title=\"r.i_grain_size\",label='test',figsize=(11,6))\n",
    "plt.legend(loc=\"upper right\")\n",
    "plt.xlim(0,400)\n",
    "plt.show()"
   ]
  },
  {
   "cell_type": "markdown",
   "metadata": {},
   "source": [
    "* Распределения размеров зерен после флотационника визуально очень похожи и напоминают нормальные. Характеристики распределения также очень близки\n",
    "* Распределения размеров зерен перед флотационником отличаются немного больше. Это также видно по различия средних (58.7 - 55.9), дисперсии (572.3 - 516.4) и станд отклонения (23.9 - 22.7)\n",
    "* Но в целом для обоих параметров распределения не сильно отличаются, поэтому с ними можно работать для обучения"
   ]
  },
  {
   "cell_type": "markdown",
   "metadata": {},
   "source": [
    "<div style=\"background: #cceeaa; padding: 5px; border: 1px solid green; border-radius: 5px;\">\n",
    "<font color='green'> \n",
    "<u>КОММЕНТАРИЙ РЕВЬЮЕРА</u>\n",
    "<font color='green'><br>\n",
    "принято)\n",
    "    </div>"
   ]
  },
  {
   "cell_type": "markdown",
   "metadata": {},
   "source": [
    "### Суммарная концентрация"
   ]
  },
  {
   "cell_type": "code",
   "execution_count": 13,
   "metadata": {},
   "outputs": [
    {
     "data": {
      "image/png": "[encoded data removed]",
      "text/plain": [
       "<Figure size 792x432 with 1 Axes>"
      ]
     },
     "metadata": {
      "needs_background": "light"
     },
     "output_type": "display_data"
    }
   ],
   "source": [
    "stages = ['r.i.feed_', 'r.o.concentrate_', 'pc.o.concentrate_', 'f.o.concentrate_']\n",
    "for stage_cum_conc in stages:\n",
    "    columns_to_sum = [stage_cum_conc+metal for metal in ['au', 'ag', 'pb']]\n",
    "    df_full[stage_cum_conc + 'sum'] = df_full[columns_to_sum].sum(axis=1, skipna=False)\n",
    "    df_full[stage_cum_conc + 'sum'].plot(kind='kde', figsize=(11,6), label=stage_cum_conc[:-1])\n",
    "\n",
    "concetrate_anomaly_threshold = 0.01\n",
    "for stage_cum_conc in stages:\n",
    "    columns_to_sum = [stage_cum_conc+metal for metal in ['au', 'ag', 'pb']]\n",
    "    df_full[stage_cum_conc + 'sum'] = (df_full[columns_to_sum]\n",
    "                                       .where(df_full[columns_to_sum]>concetrate_anomaly_threshold)\n",
    "                                       .sum(axis=1, skipna=False))\n",
    "    df_full[stage_cum_conc + 'sum'].plot(kind='kde', figsize=(11,6), label=stage_cum_conc[:-1])\n",
    "plt.xlim(-1, 80)\n",
    "plt.legend(loc=\"upper left\")\n",
    "plt.show()\n"
   ]
  },
  {
   "cell_type": "code",
   "execution_count": 14,
   "metadata": {},
   "outputs": [
    {
     "name": "stdout",
     "output_type": "stream",
     "text": [
      "r.i.feed_au            1524\n",
      "r.i.feed_ag            1524\n",
      "r.i.feed_pb            1525\n",
      "r.o.concentrate_au     1933\n",
      "r.o.concentrate_ag     1933\n",
      "r.o.concentrate_pb     1933\n",
      "pc.o.concentrate_au    1753\n",
      "pc.o.concentrate_ag    1753\n",
      "pc.o.concentrate_pb    1753\n",
      "f.o.concentrate_au     1661\n",
      "f.o.concentrate_ag     1661\n",
      "f.o.concentrate_pb     1661\n",
      "dtype: int64\n"
     ]
    }
   ],
   "source": [
    "columns_concetration = [col + met for col in stages for met in ['au', 'ag', 'pb']]\n",
    "print(df_train[columns_concetration]\n",
    "      .where(df_train[columns_concetration] <= concetrate_anomaly_threshold)\n",
    "      .count())"
   ]
  },
  {
   "cell_type": "markdown",
   "metadata": {},
   "source": [
    "* Как видно, суммарные концентрации распределены почти нормально, кроме входной для флотации\n",
    "* Аномальные значения выделяются в районе нулевых концентраций и портят \"нормальность\" распределений\n",
    "* Подобрав пороговое значние аномальной концентрации равным 0.01 получилось избавиться от аномалий"
   ]
  },
  {
   "cell_type": "code",
   "execution_count": 15,
   "metadata": {},
   "outputs": [],
   "source": [
    "#Дополним тестовую выборку концентрациями\n",
    "df_train.where(df_train[columns_concetration] > concetrate_anomaly_threshold,\n",
    "                                     inplace=True)\n",
    "df_test_upd.where(df_test_upd[columns_concetration] > concetrate_anomaly_threshold,\n",
    "                                        inplace=True)"
   ]
  },
  {
   "cell_type": "code",
   "execution_count": 16,
   "metadata": {},
   "outputs": [
    {
     "name": "stdout",
     "output_type": "stream",
     "text": [
      "['pc.s.floatbank8_b_air', 'pc.s.floatbank8_b_level', 'pc.s.floatbank8_c_air', 'pc.s.floatbank8_c_level', 'r.i.feed_au', 'r.i.floatbank11_xanthate', 'r.s.floatbank10_d_air', 'r.s.floatbank10_d_level', 'r.s.floatbank10_e_air', 'r.s.floatbank10_e_level', 'r.s.floatbank10_f_air', 'r.s.floatbank10_f_level', 'r_recovery_calculated']\n"
     ]
    }
   ],
   "source": [
    "print(to_drop)"
   ]
  },
  {
   "cell_type": "markdown",
   "metadata": {},
   "source": [
    "<div style=\"background: #cceeaa; padding: 5px; border: 1px solid green; border-radius: 5px;\">\n",
    "<font color='green'> \n",
    "<u>КОММЕНТАРИЙ РЕВЬЮЕРА</u>\n",
    "<font color='green'><br>\n",
    "ОК. В некоторых проектах - это важно, избавиться от выбросов<br>\n",
    "\n",
    "И вот если обратиться к нашему проекту:<br>\n",
    "1) Есть нулевые аномалии - и их надо \"убить\" это точно: просто зачем нам нулевые измерения.<br>\n",
    "    \n",
    "2)А вот с выбросами как в приниципе..<br>\n",
    "Тут на обсуждение: наша цель - предсказывать модель на реальных данных. И вот эти выбросы - это и есть реальная концентрация. И нам важно, чтобы модель умела и их тоже видеть и обрабатывать. Если их убрать из модели, то получится, что у нас она станет как бы искусственной. Т.е. будет работать только в небольших диапазонах - потому что обучалась только в них.<br>\n",
    "    \n",
    "Поэтому, тут так: выбросы - это не всегда то, от чего надо избавляться))) Ещё зависит от бизнес-задачи.<br>\n",
    "    \n",
    "Кстати<br>\n",
    "если говорить о теории выбросов с помощью графика \"ящик с усами\", то вот это интервал q3+-1.5*iqr говорит действильно о них самых<br>\n",
    "Но нет рекоммендаций к их удалению. Говорят так \"на усмотрение бизнеса\".<br>\n",
    "А вот если взять вот этот интервал q3+3*iqr:  то тут уж с очень высокой вероятность можно говорить о грубых выбросах.\n",
    "    </div>"
   ]
  },
  {
   "cell_type": "markdown",
   "metadata": {},
   "source": [
    "<div class=\"alert alert-info\">\n",
    "Благодарю за развернутое пояснение. `q3+3iqr` - возьму на вооружение\n",
    "</div>"
   ]
  },
  {
   "cell_type": "markdown",
   "metadata": {},
   "source": [
    "<div style=\"background: #cceeaa; padding: 5px; border: 1px solid green; border-radius: 5px;\">\n",
    "<font color='green'> \n",
    "<u>КОММЕНТАРИЙ РЕВЬЮЕРА 2</u>\n",
    "<font color='green'><br>ок)"
   ]
  },
  {
   "cell_type": "markdown",
   "metadata": {},
   "source": [
    "## Модель"
   ]
  },
  {
   "cell_type": "markdown",
   "metadata": {},
   "source": [
    "* Перед обучением модели неободимо избавиться от столбцов, дающих мультиколинеарность. Список `to_drop` был расчитан в пункте 1.4"
   ]
  },
  {
   "cell_type": "code",
   "execution_count": 17,
   "metadata": {},
   "outputs": [],
   "source": [
    "to_drop = list(set(missed_test_features + to_drop))"
   ]
  },
  {
   "cell_type": "code",
   "execution_count": 18,
   "metadata": {},
   "outputs": [
    {
     "name": "stdout",
     "output_type": "stream",
     "text": [
      "(13456, 43)\n"
     ]
    }
   ],
   "source": [
    "df_train.drop(columns=to_drop, inplace=True)\n",
    "df_train.dropna(inplace=True)\n",
    "print(df_train.shape)"
   ]
  },
  {
   "cell_type": "code",
   "execution_count": 19,
   "metadata": {},
   "outputs": [
    {
     "name": "stdout",
     "output_type": "stream",
     "text": [
      "(5243, 43)\n"
     ]
    }
   ],
   "source": [
    "to_drop.remove('r_recovery_calculated')\n",
    "df_test_upd.drop(columns=to_drop, inplace=True)\n",
    "df_test_upd.dropna(inplace=True)\n",
    "print(df_test_upd.shape)"
   ]
  },
  {
   "cell_type": "markdown",
   "metadata": {},
   "source": [
    "<div style=\"background: #cceeaa; padding: 5px; border: 1px solid green; border-radius: 5px;\">\n",
    "<font color='green'> \n",
    "    <b><u>КОММЕНТАРИЙ РЕВЬЮЕРА</u></b>\n",
    "<font color='red'><br>По модельной части - всё кажется логичным)<br>\n",
    "Пару деталей как в прииципе хотел бы добавить:<br>\n",
    "1) Заказчик не зря дал тест и трайн выборки. Т.к. планировал проверять модель именно на тесет. Тем самым, мы должны были обучать только на тех фактрах, что есть в тесте.<br> т.е., лучше так сделать:<br>\n",
    "- тест нарастить целевыми признаками на основе фулл выборки по полю data<br>\n",
    "- в трайне - оставить только те столбцы, что есть в тесте.<br>\n",
    "    </div>"
   ]
  },
  {
   "cell_type": "markdown",
   "metadata": {},
   "source": [
    "<div class=\"alert alert-info\">\n",
    "Поправил\n",
    "</div>"
   ]
  },
  {
   "cell_type": "markdown",
   "metadata": {},
   "source": [
    "<div style=\"background: #cceeaa; padding: 5px; border: 1px solid green; border-radius: 5px;\">\n",
    "<font color='green'> \n",
    "<u>КОММЕНТАРИЙ РЕВЬЮЕРА 2</u>\n",
    "<font color='green'><br>да, вижу)\n",
    "    </div>"
   ]
  },
  {
   "cell_type": "markdown",
   "metadata": {},
   "source": [
    "### Функции для расчета sMAPE и итоговой sMAPE"
   ]
  },
  {
   "cell_type": "code",
   "execution_count": 20,
   "metadata": {},
   "outputs": [],
   "source": [
    "def sMAPE_tot(sMAPE_rougher, sMAPE_final):\n",
    "    return 0.25 * sMAPE_rougher + 0.75 * sMAPE_final\n",
    "def sMAPE(target, predictions):\n",
    "    return (1/len(target) * \n",
    "            np.sum(2 * np.abs(target-predictions) / \n",
    "                   (np.abs(target) + np.abs(predictions)) * \n",
    "                   100))\n",
    "def fit_model(model, df, target_par):\n",
    "    target = df[target_par]\n",
    "    features = df.drop(['date', 'r.o.recovery', 'f.o.recovery'] , axis=1)\n",
    "    model.fit(features, target)\n",
    "    predictions = model.predict(features)\n",
    "    return model, features, target, predictions"
   ]
  },
  {
   "cell_type": "markdown",
   "metadata": {},
   "source": [
    "### Подбор оптимальных параметров модели"
   ]
  },
  {
   "cell_type": "markdown",
   "metadata": {},
   "source": [
    "* Для начала подберем количество блоков для кросс-валидации"
   ]
  },
  {
   "cell_type": "code",
   "execution_count": 21,
   "metadata": {},
   "outputs": [
    {
     "data": {
      "text/plain": [
       "<matplotlib.collections.PathCollection at 0x7f901389c610>"
      ]
     },
     "execution_count": 21,
     "metadata": {},
     "output_type": "execute_result"
    },
    {
     "data": {
      "image/png": "[encoded data removed]",
      "text/plain": [
       "<Figure size 432x288 with 1 Axes>"
      ]
     },
     "metadata": {
      "needs_background": "light"
     },
     "output_type": "display_data"
    }
   ],
   "source": [
    "sMAPE_scorer = make_scorer(sMAPE)\n",
    "scores_mean = []\n",
    "for i in range(5,105,10):\n",
    "    scores = cross_val_score(*fit_model(LinearRegression(), df_train, 'r.o.recovery')[:-1], \n",
    "                             scoring=sMAPE_scorer, \n",
    "                             cv=i)\n",
    "    scores_mean.append(scores.mean())\n",
    "plt.scatter(list(range(5,105,10)), scores_mean)"
   ]
  },
  {
   "cell_type": "markdown",
   "metadata": {},
   "source": [
    "* Как видно после деления на 35 блоков разница в оценке становится менее заметной в сравнении с дальнейшим ростом количества блоков. Остановимся на этой цифре\n",
    "* Посчитаем итоговый sMAPE для линейной регрессии"
   ]
  },
  {
   "cell_type": "code",
   "execution_count": 22,
   "metadata": {},
   "outputs": [
    {
     "name": "stdout",
     "output_type": "stream",
     "text": [
      "9.785089345922763\n"
     ]
    }
   ],
   "source": [
    "sMAPE_rougher = cross_val_score(*fit_model(LinearRegression(), df_train, 'r.o.recovery')[:-1], \n",
    "                                scoring=sMAPE_scorer, \n",
    "                                cv=35).mean()\n",
    "sMAPE_final = cross_val_score(*fit_model(LinearRegression(), df_train, 'f.o.recovery')[:-1], \n",
    "                               scoring=sMAPE_scorer, \n",
    "                               cv=35).mean()\n",
    "print(sMAPE_tot(sMAPE_rougher, sMAPE_final))"
   ]
  },
  {
   "cell_type": "markdown",
   "metadata": {},
   "source": [
    "* Теперь тоже самое для регрессии случайного леса. Подберем наилучшие параметры"
   ]
  },
  {
   "cell_type": "code",
   "execution_count": 24,
   "metadata": {},
   "outputs": [
    {
     "name": "stdout",
     "output_type": "stream",
     "text": [
      "5.085891513573573 15 90\n"
     ]
    }
   ],
   "source": [
    "best_RFR = 999\n",
    "for depth in range(1, 16, 1):\n",
    "    for est in range(10, 100, 10):\n",
    "        model = RandomForestRegressor(n_estimators=est, max_depth=depth, random_state=12345)\n",
    "        sMAPE_tot_RFR = sMAPE_tot(sMAPE(*fit_model(model, df_train, 'r.o.recovery')[2:]),\n",
    "                                  sMAPE(*fit_model(model, df_train, 'f.o.recovery')[2:]))\n",
    "        if sMAPE_tot_RFR < best_RFR:\n",
    "            best_RFR_sMAPE_tot = sMAPE_tot_RFR\n",
    "            best_depth = depth\n",
    "            best_est = est\n",
    "print(best_RFR_sMAPE_tot, best_depth, best_est)"
   ]
  },
  {
   "cell_type": "code",
   "execution_count": 25,
   "metadata": {},
   "outputs": [],
   "source": [
    "model = RandomForestRegressor(n_estimators=best_est, max_depth=best_depth, random_state=12345)\n",
    "sMAPE_rougher = cross_val_score(*fit_model(model, df_train, 'r.o.recovery')[:-1], \n",
    "                                scoring=sMAPE_scorer, \n",
    "                                cv=35).mean()\n",
    "sMAPE_final = cross_val_score(*fit_model(model, df_train, 'f.o.recovery')[:-1], \n",
    "                                        scoring=sMAPE_scorer, \n",
    "                                        cv=35).mean()"
   ]
  },
  {
   "cell_type": "code",
   "execution_count": 26,
   "metadata": {},
   "outputs": [
    {
     "name": "stdout",
     "output_type": "stream",
     "text": [
      "9.535524115066732\n"
     ]
    }
   ],
   "source": [
    "sMAPE_tot_RFR = sMAPE_tot(sMAPE_rougher, sMAPE_final)\n",
    "print(sMAPE_tot_RFR)"
   ]
  },
  {
   "cell_type": "markdown",
   "metadata": {},
   "source": [
    "* Наилучшая модель случайного леса с параметрами `best_depth` = 15, `best_est` = 90\n",
    "* Проверим результат на тестовой выборке\n",
    "* На кросс-валидации значение итоговой sMAPE 3.14 модели случайного леса"
   ]
  },
  {
   "cell_type": "code",
   "execution_count": 27,
   "metadata": {},
   "outputs": [
    {
     "name": "stdout",
     "output_type": "stream",
     "text": [
      "4.870125048671486\n"
     ]
    }
   ],
   "source": [
    "best_RFR_model = RandomForestRegressor(n_estimators=best_est, \n",
    "                                       max_depth=best_depth, \n",
    "                                       random_state=12345)\n",
    "print(sMAPE_tot(sMAPE(*fit_model(best_RFR_model, df_test_upd, 'r.o.recovery')[2:]),\n",
    "                sMAPE(*fit_model(best_RFR_model, df_test_upd, 'f.o.recovery')[2:])))"
   ]
  },
  {
   "cell_type": "markdown",
   "metadata": {},
   "source": [
    "DummyRegression"
   ]
  },
  {
   "cell_type": "code",
   "execution_count": 28,
   "metadata": {},
   "outputs": [
    {
     "name": "stdout",
     "output_type": "stream",
     "text": [
      "8.482584475478978\n"
     ]
    }
   ],
   "source": [
    "from sklearn.dummy import DummyRegressor\n",
    "\n",
    "print(sMAPE_tot(sMAPE(*fit_model(DummyRegressor(strategy=\"median\"), \n",
    "                                 df_test_upd, \n",
    "                                 'r.o.recovery')[2:]),\n",
    "                sMAPE(*fit_model(DummyRegressor(strategy=\"median\"), \n",
    "                                 df_test_upd, \n",
    "                                 'f.o.recovery')[2:])))\n"
   ]
  },
  {
   "cell_type": "markdown",
   "metadata": {},
   "source": [
    "## Общий вывод"
   ]
  },
  {
   "cell_type": "markdown",
   "metadata": {},
   "source": [
    "1. Предобработка\n",
    "\n",
    "    * Расчетный `rougher_recovery_calculated` практически совпадает с фактическим. MAE много меньше единицы. Порядка 300 околонулевых значений\n",
    "    * МАЕ между расчетным и фактическим значением признака - много меньше единицы\n",
    "    * Также по графикам распределения плотности видно, что они совпадают для расчетных и фактических значений. Порядка 300 нулевых значений\n",
    "    * В тестовую выборку не попали оба целевых признака, а также выходные дынные из всех процессов, по которым можно было бы посчитать эти самые недостающие целевые признаки\n",
    "    * Дополнили тестовую выборку недостающими признаками из генеральной совокупности\n",
    "    * Проверили на мультиколинеарность с кф корреляции больше 0.9. Отбросили признаки, вызывающие колинеарность\n",
    "\n",
    "\n",
    "2. Анализ данных\n",
    "\n",
    "    * Ожидаемо растет концентрация золота, т.к. процесс обогащения именно для этого металла\n",
    "    * Концетрация серебра снижается после очистки. Следовательно этот металл можно поискать в хвостах\n",
    "    * Концентрация свинца растет хоть и с бОльшим чем у золота разбросом\n",
    "    * Концентрация раствора падает\n",
    "    * Распределения размеров зерен после флотационника визуально очень похожи и напоминают нормальные. Характеристики распределения также очень близки\n",
    "    * Распределения размеров зерен перед флотационником отличаются немного больше. Это также видно по различия средних (58.7 - 55.9), дисперсии (572.3 - 516.4) и станд отклонения (23.9 - 22.7)\n",
    "    * Но в целом для обоих параметров распределения не сильно отличаются, поэтому с ними можно работать для обучения\n",
    "    * Как видно, суммарные концентрации распределены почти нормально, кроме входной для флотации\n",
    "    * Аномальные значения выделяются в районе нулевых концентраций и портят \"нормальность\" распределений\n",
    "    * Подобрав пороговое значние аномальной концентрации равным 0.01 получилось избавиться от аномалий\n",
    "    \n",
    "    \n",
    "3. Модель\n",
    "\n",
    "    * На валидационной выборке лучше всего себя показала модель регрессии случайного дерева с параметрами best_depth = 15, best_est = 90, с результатом итоговой sMAPE = 0.96\n",
    "    * На тестовой выборке эта же модель показала результат итоговой sMAPE = 0.86"
   ]
  },
  {
   "cell_type": "markdown",
   "metadata": {},
   "source": [
    "<div class=\"alert alert-info\">\n",
    "\n",
    "* На валидационной выборке лучше всего себя показала модель регрессии случайного дерева с параметрами best_depth = 15, best_est = 90, с результатом итоговой sMAPE = 5.09\n",
    "* На тестовой выборке эта же модель показала результат итоговой sMAPE = 4.87\n",
    "* При этом DummyRegression с медианным знаячением показала результат 8.48, что в два раза менее точно, чем наша лучшая модель. Так что работа произведена не зря и нашей моделью можно пользоваться\n",
    "</div>"
   ]
  },
  {
   "cell_type": "markdown",
   "metadata": {},
   "source": [
    "<div style=\"background: #cceeaa; padding: 5px; border: 1px solid green; border-radius: 5px;\">\n",
    "<font color='green'> \n",
    "    <b><u>КОММЕНТАРИЙ РЕВЬЮЕРА 2</u></b>\n",
    "<font color='green'><br>\n",
    "Дмитрий, хорошая доработка! <br>\n",
    "С метрикой - интересно получается: обычно она на уровне константной получается. А у тебя около 3% разница. Это круто. Я не поверил, прошёлся ещё раз по коду... не могу найти ничего критичного (или глаз замылился уже)))!<br> \n",
    "Цельная работа у тебя получилась. И код интересный придумал для реализации модели.<br>\n",
    "    \n",
    "Попробовал систематизировать что вообще можно делать при работе над улучшением метрики:<br>\n",
    "1) качество данных на входе: ещё раз оценить аномалии, пропуски, соответствие физике (правдиво ли всё)<br>\n",
    "2) Работа с моделями:<br>\n",
    "- Генерация и поиск бизнес-факторов для моделирования: возможно что-то упустили, или придумать что-то гибридное из имеющихся факторов... В общем ещё раз пройтись по бизнес-цепочке процесса<br>\n",
    "- Подбор самих моделей. показателей самих моделей <br>\n",
    "- Подбор параметров выбранных показателей у выбранных моделей <br>\n",
    "    \n",
    "3)Плюс, есть же ещё параметры самого процесса: температура, скорость конвейера, сила удара чего-то там....<br> Они тоже могут помочь<br>\n",
    "4) ну и разобраться ещё раз с физическими и производственными процессами. ВОзможно приниципиально иное решение можно создать.<br> \n",
    "    \n",
    "В общем-то другого и нет. Только такие возможности.<br>\n",
    "Если углубится в так называемый \"Статистический анализ данных\" (SPC) - по сути это превариетльная подготовка данных в этом проекте, можно найти какое-нибудь решение<br>\n",
    "\n",
    "Но цель проекта достигнута:<br>\n",
    "1) пройдены важные этапы построения производственной модели<br>\n",
    "2) возникло много дополнительных вопросов))<br><br>\n",
    "\n",
    "Спасибо за работу) УСПЕШНОГО ДАЛЬНЕЙШЕГО ОБУЧЕНИЯ!\n",
    "    </div>"
   ]
  },
  {
   "cell_type": "markdown",
   "metadata": {},
   "source": [
    "<div style=\"background: #cceeaa; padding: 5px; border: 1px solid green; border-radius: 5px;\">\n",
    "<font color='green'> \n",
    "    <b><u>КОММЕНТАРИЙ РЕВЬЮЕРА</u></b>\n",
    "<font color='green'><br>\n",
    "Дмитрий, интересную работу ты провёл.<br>\n",
    "Понятно, логично, вдумчиво<br>\n",
    "Видна хорошая предвариателная работа с данными, уместный графический анализ, осмысленная аналитика и дельная модельная работа - многое удалось как надо)<br>\n",
    "    \n",
    "Тут пару моментов только есть для обсуждения:<br>\n",
    "1) организация трайн и теста для обучения. В текте постарался описать проблематику. (для ориентира: ошибка ожидается около 6-12% +-)<br>\n",
    "2) допустим, метрика окажется достаточно низкая. И это будет хорошо.<br>\n",
    "вот только не понятно насколько))<br>\n",
    "По хорошему, здесь надо понять: наша модель предсказывает лучше, чем просто по среднему.<br>\n",
    "Например, в формулу метрики предиктом подставить медианные значения таргет-трайна). <br>\n",
    "Или использовать DummyRegression<br>\n",
    "<font color='red'>\n",
    "Посмотри эти пункты, пожалуйста.\n",
    "<font color='green'>    \n",
    "Спасибо)<br>\n",
    "БУДУ ЖДАТЬ КОММЕНТАРИЕВ!\n",
    "    </div>"
   ]
  },
  {
   "cell_type": "markdown",
   "metadata": {},
   "source": [
    "## Чек-лист готовности проекта"
   ]
  },
  {
   "cell_type": "markdown",
   "metadata": {},
   "source": [
    "- [x]  Jupyter Notebook открыт\n",
    "- [x]  Весь код выполняется без ошибок\n",
    "- [x]  Ячейки с кодом расположены в порядке выполнения\n",
    "- [x]  Выполнен шаг 1: данные подготовлены\n",
    "    - [x]  Проверена формула вычисления эффективности обогащения\n",
    "    - [x]  Проанализированы признаки, недоступные в тестовой выборке\n",
    "    - [x]  Проведена предобработка данных\n",
    "- [x]  Выполнен шаг 2: данные проанализированы\n",
    "    - [x]  Исследовано изменение концентрации элементов на каждом этапе\n",
    "    - [x]  Проанализированы распределения размеров гранул на обучающей и тестовой выборках\n",
    "    - [x]  Исследованы суммарные концентрации\n",
    "    - [x]  Проанализированы и обработаны аномальные значения\n",
    "- [x]  Выполнен шаг 3: построена модель прогнозирования\n",
    "    - [x]  Написана функция для вычисления итогового *sMAPE*\n",
    "    - [x]  Обучено и проверено несколько моделей\n",
    "    - [x]  Выбрана лучшая модель, её качество проверено на тестовой выборке"
   ]
  },
  {
   "cell_type": "code",
   "execution_count": null,
   "metadata": {},
   "outputs": [],
   "source": []
  }
 ],
 "metadata": {
  "kernelspec": {
   "display_name": "Python 3 (ipykernel)",
   "language": "python",
   "name": "python3"
  },
  "language_info": {
   "codemirror_mode": {
    "name": "ipython",
    "version": 3
   },
   "file_extension": ".py",
   "mimetype": "text/x-python",
   "name": "python",
   "nbconvert_exporter": "python",
   "pygments_lexer": "ipython3",
   "version": "3.9.5"
  },
  "toc": {
   "base_numbering": 1,
   "nav_menu": {},
   "number_sections": true,
   "sideBar": true,
   "skip_h1_title": true,
   "title_cell": "Содержание",
   "title_sidebar": "Contents",
   "toc_cell": true,
   "toc_position": {
    "height": "calc(100% - 180px)",
    "left": "10px",
    "top": "150px",
    "width": "238px"
   },
   "toc_section_display": true,
   "toc_window_display": true
  }
 },
 "nbformat": 4,
 "nbformat_minor": 2
}
